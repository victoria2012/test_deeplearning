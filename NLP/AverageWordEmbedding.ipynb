{
  "nbformat": 4,
  "nbformat_minor": 0,
  "metadata": {
    "colab": {
      "name": "AverageWordEmbedding.ipynb",
      "provenance": [],
      "collapsed_sections": [],
      "authorship_tag": "ABX9TyOiqcEHq0cdq0b4TCz/D5BV",
      "include_colab_link": true
    },
    "kernelspec": {
      "name": "python3",
      "display_name": "Python 3"
    },
    "language_info": {
      "name": "python"
    }
  },
  "cells": [
    {
      "cell_type": "markdown",
      "metadata": {
        "id": "view-in-github",
        "colab_type": "text"
      },
      "source": [
        "<a href=\"https://colab.research.google.com/github/victoria2012/test_deeplearning/blob/master/NLP/AverageWordEmbedding.ipynb\" target=\"_parent\"><img src=\"https://colab.research.google.com/assets/colab-badge.svg\" alt=\"Open In Colab\"/></a>"
      ]
    },
    {
      "cell_type": "code",
      "metadata": {
        "id": "jukuuF5W8aFx"
      },
      "source": [
        "from tensorflow.keras.datasets import imdb"
      ],
      "execution_count": 1,
      "outputs": []
    },
    {
      "cell_type": "code",
      "metadata": {
        "colab": {
          "base_uri": "https://localhost:8080/"
        },
        "id": "dSFPW4_Z9EEo",
        "outputId": "35290268-c3ea-43d5-bcbe-101994a52e1c"
      },
      "source": [
        "vocab_size = 2000\n",
        "(x_train, y_train), (x_test, y_test) = imdb.load_data(num_words=vocab_size)\n",
        "x_train.shape, y_train.shape, x_test.shape, y_test.shape"
      ],
      "execution_count": 3,
      "outputs": [
        {
          "output_type": "stream",
          "text": [
            "Downloading data from https://storage.googleapis.com/tensorflow/tf-keras-datasets/imdb.npz\n",
            "17465344/17464789 [==============================] - 0s 0us/step\n",
            "17473536/17464789 [==============================] - 0s 0us/step\n"
          ],
          "name": "stdout"
        },
        {
          "output_type": "execute_result",
          "data": {
            "text/plain": [
              "((25000,), (25000,), (25000,), (25000,))"
            ]
          },
          "metadata": {},
          "execution_count": 3
        }
      ]
    },
    {
      "cell_type": "code",
      "metadata": {
        "colab": {
          "base_uri": "https://localhost:8080/"
        },
        "id": "jd5fCeBB9Nqg",
        "outputId": "59b163c3-6cd7-476f-fa58-ce46c1c15bc1"
      },
      "source": [
        "print(x_train[1])"
      ],
      "execution_count": 5,
      "outputs": [
        {
          "output_type": "stream",
          "text": [
            "[1, 194, 1153, 194, 2, 78, 228, 5, 6, 1463, 2, 2, 134, 26, 4, 715, 8, 118, 1634, 14, 394, 20, 13, 119, 954, 189, 102, 5, 207, 110, 2, 21, 14, 69, 188, 8, 30, 23, 7, 4, 249, 126, 93, 4, 114, 9, 2, 1523, 5, 647, 4, 116, 9, 35, 2, 4, 229, 9, 340, 1322, 4, 118, 9, 4, 130, 2, 19, 4, 1002, 5, 89, 29, 952, 46, 37, 4, 455, 9, 45, 43, 38, 1543, 1905, 398, 4, 1649, 26, 2, 5, 163, 11, 2, 2, 4, 1153, 9, 194, 775, 7, 2, 2, 349, 2, 148, 605, 2, 2, 15, 123, 125, 68, 2, 2, 15, 349, 165, 2, 98, 5, 4, 228, 9, 43, 2, 1157, 15, 299, 120, 5, 120, 174, 11, 220, 175, 136, 50, 9, 2, 228, 2, 5, 2, 656, 245, 2, 5, 4, 2, 131, 152, 491, 18, 2, 32, 2, 1212, 14, 9, 6, 371, 78, 22, 625, 64, 1382, 9, 8, 168, 145, 23, 4, 1690, 15, 16, 4, 1355, 5, 28, 6, 52, 154, 462, 33, 89, 78, 285, 16, 145, 95]\n"
          ],
          "name": "stdout"
        }
      ]
    },
    {
      "cell_type": "code",
      "metadata": {
        "colab": {
          "base_uri": "https://localhost:8080/"
        },
        "id": "FGwKSBQs9wrA",
        "outputId": "496d16d7-be52-4c5a-f7eb-3711b6790461"
      },
      "source": [
        "len(x_train[1]), len(x_train[200])"
      ],
      "execution_count": 7,
      "outputs": [
        {
          "output_type": "execute_result",
          "data": {
            "text/plain": [
              "(189, 160)"
            ]
          },
          "metadata": {},
          "execution_count": 7
        }
      ]
    },
    {
      "cell_type": "code",
      "metadata": {
        "colab": {
          "base_uri": "https://localhost:8080/"
        },
        "id": "4n7ZTaxw_4v6",
        "outputId": "242ef6e0-7259-4cd1-cf14-437d2c8e789d"
      },
      "source": [
        "import numpy as np\n",
        "np.unique(y_train)"
      ],
      "execution_count": 11,
      "outputs": [
        {
          "output_type": "execute_result",
          "data": {
            "text/plain": [
              "array([0, 1])"
            ]
          },
          "metadata": {},
          "execution_count": 11
        }
      ]
    },
    {
      "cell_type": "code",
      "metadata": {
        "id": "oRAPwF4l-MIo"
      },
      "source": [
        "from tensorflow.keras.preprocessing.sequence import pad_sequences"
      ],
      "execution_count": 8,
      "outputs": []
    },
    {
      "cell_type": "code",
      "metadata": {
        "id": "iYB4-AJy-exv"
      },
      "source": [
        "X_train = pad_sequences(x_train, maxlen=300)\n",
        "X_test = pad_sequences(x_test, maxlen=300)"
      ],
      "execution_count": 9,
      "outputs": []
    },
    {
      "cell_type": "code",
      "metadata": {
        "id": "q5EOGihS-wBm"
      },
      "source": [
        "import tensorflow as tf"
      ],
      "execution_count": 10,
      "outputs": []
    },
    {
      "cell_type": "code",
      "metadata": {
        "id": "dhzfExyb-5vX"
      },
      "source": [
        "model = tf.keras.models.Sequential()\n",
        "\n",
        "model.add(tf.keras.layers.Embedding(input_dim=vocab_size, output_dim=50, input_length=300))  # input \n",
        "model.add(tf.keras.layers.GlobalAveragePooling1D())  # hidden\n",
        "model.add(tf.keras.layers.Dense(1, activation='sigmoid'))  # output\n",
        "\n",
        "model.compile(optimizer='adam', loss='binary_crossentropy')         "
      ],
      "execution_count": 17,
      "outputs": []
    },
    {
      "cell_type": "code",
      "metadata": {
        "colab": {
          "base_uri": "https://localhost:8080/"
        },
        "id": "EYJe2mTKA7LX",
        "outputId": "723a7992-f21e-4457-a1fc-f503bdb92418"
      },
      "source": [
        "hist = model.fit(X_train, y_train, epochs=10, batch_size=128, validation_split=0.2)"
      ],
      "execution_count": 20,
      "outputs": [
        {
          "output_type": "stream",
          "text": [
            "Epoch 1/10\n",
            "157/157 [==============================] - 2s 10ms/step - loss: 0.3136 - val_loss: 0.3366\n",
            "Epoch 2/10\n",
            "157/157 [==============================] - 1s 10ms/step - loss: 0.3045 - val_loss: 0.3299\n",
            "Epoch 3/10\n",
            "157/157 [==============================] - 1s 9ms/step - loss: 0.2971 - val_loss: 0.3263\n",
            "Epoch 4/10\n",
            "157/157 [==============================] - 2s 10ms/step - loss: 0.2902 - val_loss: 0.3219\n",
            "Epoch 5/10\n",
            "157/157 [==============================] - 1s 10ms/step - loss: 0.2841 - val_loss: 0.3194\n",
            "Epoch 6/10\n",
            "157/157 [==============================] - 1s 9ms/step - loss: 0.2792 - val_loss: 0.3171\n",
            "Epoch 7/10\n",
            "157/157 [==============================] - 2s 10ms/step - loss: 0.2744 - val_loss: 0.3155\n",
            "Epoch 8/10\n",
            "157/157 [==============================] - 2s 10ms/step - loss: 0.2702 - val_loss: 0.3150\n",
            "Epoch 9/10\n",
            "157/157 [==============================] - 2s 10ms/step - loss: 0.2667 - val_loss: 0.3122\n",
            "Epoch 10/10\n",
            "157/157 [==============================] - 2s 10ms/step - loss: 0.2632 - val_loss: 0.3111\n"
          ],
          "name": "stdout"
        }
      ]
    },
    {
      "cell_type": "code",
      "metadata": {
        "colab": {
          "base_uri": "https://localhost:8080/"
        },
        "id": "kkE_SnW6BNS-",
        "outputId": "72c31db5-3ad7-45a8-a887-4cb2985f9105"
      },
      "source": [
        "model.predict(X_train[5:6])"
      ],
      "execution_count": 19,
      "outputs": [
        {
          "output_type": "execute_result",
          "data": {
            "text/plain": [
              "array([[0.41260606]], dtype=float32)"
            ]
          },
          "metadata": {},
          "execution_count": 19
        }
      ]
    },
    {
      "cell_type": "markdown",
      "metadata": {
        "id": "UfWwhvgbDDOf"
      },
      "source": [
        "## Callback EarlyStopping"
      ]
    },
    {
      "cell_type": "code",
      "metadata": {
        "colab": {
          "base_uri": "https://localhost:8080/"
        },
        "id": "HLcRMAY_Bg-G",
        "outputId": "87c54186-5249-4b95-fb9e-057e1f704ff4"
      },
      "source": [
        "es = tf.keras.callbacks.EarlyStopping(monitor='val_loss', patience=4, mode='min', verbose=1)\n",
        "es"
      ],
      "execution_count": 22,
      "outputs": [
        {
          "output_type": "execute_result",
          "data": {
            "text/plain": [
              "<keras.callbacks.EarlyStopping at 0x7f21b07b4890>"
            ]
          },
          "metadata": {},
          "execution_count": 22
        }
      ]
    },
    {
      "cell_type": "code",
      "metadata": {
        "colab": {
          "base_uri": "https://localhost:8080/"
        },
        "id": "-57aSZi9EHDf",
        "outputId": "3713b892-9384-4886-b7d7-f35026098ef4"
      },
      "source": [
        "hist = model.fit(X_train, y_train, epochs=20, batch_size=128, validation_split=0.2, callbacks=[es])"
      ],
      "execution_count": 23,
      "outputs": [
        {
          "output_type": "stream",
          "text": [
            "Epoch 1/20\n",
            "157/157 [==============================] - 2s 10ms/step - loss: 0.2603 - val_loss: 0.3117\n",
            "Epoch 2/20\n",
            "157/157 [==============================] - 2s 10ms/step - loss: 0.2575 - val_loss: 0.3107\n",
            "Epoch 3/20\n",
            "157/157 [==============================] - 2s 10ms/step - loss: 0.2550 - val_loss: 0.3100\n",
            "Epoch 4/20\n",
            "157/157 [==============================] - 2s 10ms/step - loss: 0.2526 - val_loss: 0.3118\n",
            "Epoch 5/20\n",
            "157/157 [==============================] - 2s 10ms/step - loss: 0.2508 - val_loss: 0.3101\n",
            "Epoch 6/20\n",
            "157/157 [==============================] - 1s 9ms/step - loss: 0.2487 - val_loss: 0.3113\n",
            "Epoch 7/20\n",
            "157/157 [==============================] - 1s 9ms/step - loss: 0.2470 - val_loss: 0.3127\n",
            "Epoch 00007: early stopping\n"
          ],
          "name": "stdout"
        }
      ]
    },
    {
      "cell_type": "code",
      "metadata": {
        "id": "Gjk0USskEaLe"
      },
      "source": [
        ""
      ],
      "execution_count": null,
      "outputs": []
    }
  ]
}