{
  "nbformat": 4,
  "nbformat_minor": 0,
  "metadata": {
    "colab": {
      "name": "seq2seq.ipynb",
      "provenance": [],
      "collapsed_sections": [],
      "authorship_tag": "ABX9TyMPA8YKcb5vNb8h1lD9AI+q"
    },
    "kernelspec": {
      "name": "python3",
      "display_name": "Python 3"
    },
    "language_info": {
      "name": "python"
    }
  },
  "cells": [
    {
      "cell_type": "code",
      "metadata": {
        "id": "vYyFIGcMXJuE"
      },
      "source": [
        "import numpy as np"
      ],
      "execution_count": 1,
      "outputs": []
    },
    {
      "cell_type": "code",
      "metadata": {
        "colab": {
          "base_uri": "https://localhost:8080/"
        },
        "id": "rYnC0GmNXa7T",
        "outputId": "41eb9b93-6a7a-489d-fae5-753923520547"
      },
      "source": [
        "idx_inputs = np.load(open('./train_inputs.npy', 'rb'))\n",
        "idx_outputs = np.load(open('./train_outputs.npy', 'rb'))\n",
        "idx_targets = np.load(open('./train_targets.npy', 'rb'))\n",
        "type(idx_inputs), type(idx_outputs), type(idx_targets)"
      ],
      "execution_count": 5,
      "outputs": [
        {
          "output_type": "execute_result",
          "data": {
            "text/plain": [
              "(numpy.ndarray, numpy.ndarray, numpy.ndarray)"
            ]
          },
          "metadata": {},
          "execution_count": 5
        }
      ]
    },
    {
      "cell_type": "code",
      "metadata": {
        "colab": {
          "base_uri": "https://localhost:8080/"
        },
        "id": "Ux1ISusaXro6",
        "outputId": "95204053-9820-4134-a79d-f98b47762832"
      },
      "source": [
        "idx_inputs[3:5]"
      ],
      "execution_count": 6,
      "outputs": [
        {
          "output_type": "execute_result",
          "data": {
            "text/plain": [
              "array([[ 20,  30, 107,   0,   0,   0,   0,   0,   0,   0,   0,   0,   0,\n",
              "          0,   0,   0,   0,   0,   0,   0,   0,   0,   0,   0,   0],\n",
              "       [ 93,   7,  79,   0,   0,   0,   0,   0,   0,   0,   0,   0,   0,\n",
              "          0,   0,   0,   0,   0,   0,   0,   0,   0,   0,   0,   0]])"
            ]
          },
          "metadata": {},
          "execution_count": 6
        }
      ]
    },
    {
      "cell_type": "code",
      "metadata": {
        "colab": {
          "base_uri": "https://localhost:8080/"
        },
        "id": "WgmKtR-1prHl",
        "outputId": "56676316-0f02-4614-9ad1-cc5484996c90"
      },
      "source": [
        "!python -m pip install konlpy"
      ],
      "execution_count": 7,
      "outputs": [
        {
          "output_type": "stream",
          "text": [
            "Collecting konlpy\n",
            "  Downloading konlpy-0.5.2-py2.py3-none-any.whl (19.4 MB)\n",
            "\u001b[K     |████████████████████████████████| 19.4 MB 1.2 MB/s \n",
            "\u001b[?25hRequirement already satisfied: lxml>=4.1.0 in /usr/local/lib/python3.7/dist-packages (from konlpy) (4.2.6)\n",
            "Collecting JPype1>=0.7.0\n",
            "  Downloading JPype1-1.3.0-cp37-cp37m-manylinux_2_5_x86_64.manylinux1_x86_64.whl (448 kB)\n",
            "\u001b[K     |████████████████████████████████| 448 kB 68.6 MB/s \n",
            "\u001b[?25hRequirement already satisfied: tweepy>=3.7.0 in /usr/local/lib/python3.7/dist-packages (from konlpy) (3.10.0)\n",
            "Collecting beautifulsoup4==4.6.0\n",
            "  Downloading beautifulsoup4-4.6.0-py3-none-any.whl (86 kB)\n",
            "\u001b[K     |████████████████████████████████| 86 kB 4.5 MB/s \n",
            "\u001b[?25hRequirement already satisfied: numpy>=1.6 in /usr/local/lib/python3.7/dist-packages (from konlpy) (1.19.5)\n",
            "Collecting colorama\n",
            "  Downloading colorama-0.4.4-py2.py3-none-any.whl (16 kB)\n",
            "Requirement already satisfied: typing-extensions in /usr/local/lib/python3.7/dist-packages (from JPype1>=0.7.0->konlpy) (3.7.4.3)\n",
            "Requirement already satisfied: requests[socks]>=2.11.1 in /usr/local/lib/python3.7/dist-packages (from tweepy>=3.7.0->konlpy) (2.23.0)\n",
            "Requirement already satisfied: requests-oauthlib>=0.7.0 in /usr/local/lib/python3.7/dist-packages (from tweepy>=3.7.0->konlpy) (1.3.0)\n",
            "Requirement already satisfied: six>=1.10.0 in /usr/local/lib/python3.7/dist-packages (from tweepy>=3.7.0->konlpy) (1.15.0)\n",
            "Requirement already satisfied: oauthlib>=3.0.0 in /usr/local/lib/python3.7/dist-packages (from requests-oauthlib>=0.7.0->tweepy>=3.7.0->konlpy) (3.1.1)\n",
            "Requirement already satisfied: urllib3!=1.25.0,!=1.25.1,<1.26,>=1.21.1 in /usr/local/lib/python3.7/dist-packages (from requests[socks]>=2.11.1->tweepy>=3.7.0->konlpy) (1.24.3)\n",
            "Requirement already satisfied: chardet<4,>=3.0.2 in /usr/local/lib/python3.7/dist-packages (from requests[socks]>=2.11.1->tweepy>=3.7.0->konlpy) (3.0.4)\n",
            "Requirement already satisfied: certifi>=2017.4.17 in /usr/local/lib/python3.7/dist-packages (from requests[socks]>=2.11.1->tweepy>=3.7.0->konlpy) (2021.5.30)\n",
            "Requirement already satisfied: idna<3,>=2.5 in /usr/local/lib/python3.7/dist-packages (from requests[socks]>=2.11.1->tweepy>=3.7.0->konlpy) (2.10)\n",
            "Requirement already satisfied: PySocks!=1.5.7,>=1.5.6 in /usr/local/lib/python3.7/dist-packages (from requests[socks]>=2.11.1->tweepy>=3.7.0->konlpy) (1.7.1)\n",
            "Installing collected packages: JPype1, colorama, beautifulsoup4, konlpy\n",
            "  Attempting uninstall: beautifulsoup4\n",
            "    Found existing installation: beautifulsoup4 4.6.3\n",
            "    Uninstalling beautifulsoup4-4.6.3:\n",
            "      Successfully uninstalled beautifulsoup4-4.6.3\n",
            "Successfully installed JPype1-1.3.0 beautifulsoup4-4.6.0 colorama-0.4.4 konlpy-0.5.2\n"
          ],
          "name": "stdout"
        }
      ]
    },
    {
      "cell_type": "code",
      "metadata": {
        "id": "szSXB1KBXuWK"
      },
      "source": [
        "import preprocess as pp"
      ],
      "execution_count": 8,
      "outputs": []
    },
    {
      "cell_type": "code",
      "metadata": {
        "colab": {
          "base_uri": "https://localhost:8080/"
        },
        "id": "k9FcarBQpzIE",
        "outputId": "8eaa8cec-1727-4e6f-9021-11f973f4049f"
      },
      "source": [
        "prepro_configs = pp.json.load(open('./data_configs.json', 'r'))\n",
        "type(prepro_configs)"
      ],
      "execution_count": 10,
      "outputs": [
        {
          "output_type": "execute_result",
          "data": {
            "text/plain": [
              "dict"
            ]
          },
          "metadata": {},
          "execution_count": 10
        }
      ]
    },
    {
      "cell_type": "code",
      "metadata": {
        "colab": {
          "base_uri": "https://localhost:8080/"
        },
        "id": "GDQHl1RQp_-E",
        "outputId": "507121be-5b12-4ad2-8c05-615a7e29dbf6"
      },
      "source": [
        "prepro_configs.keys()"
      ],
      "execution_count": 13,
      "outputs": [
        {
          "output_type": "execute_result",
          "data": {
            "text/plain": [
              "dict_keys(['char2idx', 'idx2char', 'vocab_size', 'pad_symbol', 'std_symbol', 'end_symbol', 'unk_symbol'])"
            ]
          },
          "metadata": {},
          "execution_count": 13
        }
      ]
    },
    {
      "cell_type": "markdown",
      "metadata": {
        "id": "hUyyIi7Wqhf-"
      },
      "source": [
        "## Make model(모델 만들기)"
      ]
    },
    {
      "cell_type": "code",
      "metadata": {
        "id": "d6ATtT13qKwU"
      },
      "source": [
        "import tensorflow as tf"
      ],
      "execution_count": 14,
      "outputs": []
    },
    {
      "cell_type": "markdown",
      "metadata": {
        "id": "b6RG0kvKtqJi"
      },
      "source": [
        "## encode model"
      ]
    },
    {
      "cell_type": "code",
      "metadata": {
        "id": "GXtOD-OmuLCw"
      },
      "source": [
        "vocab_size = prepro_configs['vocab_size']\n",
        "latent_dim = 60"
      ],
      "execution_count": 16,
      "outputs": []
    },
    {
      "cell_type": "code",
      "metadata": {
        "id": "6J8glriWqyK7"
      },
      "source": [
        "encode_input = tf.keras.Input(shape=(None,))\n",
        "encode_hidden = tf.keras.layers.Embedding(input_dim=vocab_size, output_dim=latent_dim)(encode_input)\n",
        "encode_output, state_h, state_c = tf.keras.layers.LSTM(50, return_state=True)(encode_hidden)\n",
        "encode_states = [state_h, state_c]"
      ],
      "execution_count": 17,
      "outputs": []
    },
    {
      "cell_type": "markdown",
      "metadata": {
        "id": "wY53sQVWv3SK"
      },
      "source": [
        "## decode model"
      ]
    },
    {
      "cell_type": "code",
      "metadata": {
        "id": "VNx7tbHIvxSM"
      },
      "source": [
        "decode_input = tf.keras.Input(shape=(None,))\n",
        "decode_hidden = tf.keras.layers.Embedding(input_dim=vocab_size, output_dim=latent_dim)(decode_input)\n",
        "decode_lstm, _, _ = tf.keras.layers.LSTM(50, return_state=True, return_sequences=True)(decode_hidden, initial_state=encode_states)\n",
        "decode_output = tf.keras.layers.Dense(vocab_size, activation='softmax')(decode_lstm)"
      ],
      "execution_count": 18,
      "outputs": []
    },
    {
      "cell_type": "code",
      "metadata": {
        "id": "9SKZnF15zMan"
      },
      "source": [
        "model = tf.keras.models.Model(inputs=[encode_input, decode_input], outputs=decode_output)"
      ],
      "execution_count": 20,
      "outputs": []
    },
    {
      "cell_type": "code",
      "metadata": {
        "colab": {
          "base_uri": "https://localhost:8080/",
          "height": 466
        },
        "id": "3uUQan110Qgf",
        "outputId": "a8a9fbf5-5e74-4948-fe33-e4faddc95f7d"
      },
      "source": [
        "tf.keras.utils.plot_model(model)"
      ],
      "execution_count": 21,
      "outputs": [
        {
          "output_type": "execute_result",
          "data": {
            "image/png": "[encoded data removed]",
            "text/plain": [
              "<IPython.core.display.Image object>"
            ]
          },
          "metadata": {},
          "execution_count": 21
        }
      ]
    },
    {
      "cell_type": "code",
      "metadata": {
        "id": "w1cSLB0E0c9p"
      },
      "source": [
        "model.compile(optimizer='adam', loss='sparse_categorical_crossentropy', metrics=['acc'])"
      ],
      "execution_count": 22,
      "outputs": []
    },
    {
      "cell_type": "markdown",
      "metadata": {
        "id": "DUEp8vj534iw"
      },
      "source": [
        "## fit"
      ]
    },
    {
      "cell_type": "code",
      "metadata": {
        "colab": {
          "base_uri": "https://localhost:8080/"
        },
        "id": "Jfw_Qwws4Tkl",
        "outputId": "473b7fe5-c5f8-4cbb-e1be-94b1f757e6ec"
      },
      "source": [
        "model.fit(x=[idx_inputs, idx_outputs],y=idx_targets, batch_size=128, epochs=100)"
      ],
      "execution_count": 24,
      "outputs": [
        {
          "output_type": "stream",
          "text": [
            "Epoch 1/100\n",
            "1/1 [==============================] - 0s 23ms/step - loss: 0.8762 - acc: 0.8180\n",
            "Epoch 2/100\n",
            "1/1 [==============================] - 0s 23ms/step - loss: 0.8693 - acc: 0.8180\n",
            "Epoch 3/100\n",
            "1/1 [==============================] - 0s 23ms/step - loss: 0.8634 - acc: 0.8180\n",
            "Epoch 4/100\n",
            "1/1 [==============================] - 0s 24ms/step - loss: 0.8579 - acc: 0.8180\n",
            "Epoch 5/100\n",
            "1/1 [==============================] - 0s 22ms/step - loss: 0.8521 - acc: 0.8180\n",
            "Epoch 6/100\n",
            "1/1 [==============================] - 0s 21ms/step - loss: 0.8458 - acc: 0.8180\n",
            "Epoch 7/100\n",
            "1/1 [==============================] - 0s 21ms/step - loss: 0.8392 - acc: 0.8180\n",
            "Epoch 8/100\n",
            "1/1 [==============================] - 0s 26ms/step - loss: 0.8326 - acc: 0.8180\n",
            "Epoch 9/100\n",
            "1/1 [==============================] - 0s 25ms/step - loss: 0.8264 - acc: 0.8180\n",
            "Epoch 10/100\n",
            "1/1 [==============================] - 0s 28ms/step - loss: 0.8207 - acc: 0.8180\n",
            "Epoch 11/100\n",
            "1/1 [==============================] - 0s 25ms/step - loss: 0.8158 - acc: 0.8180\n",
            "Epoch 12/100\n",
            "1/1 [==============================] - 0s 27ms/step - loss: 0.8116 - acc: 0.8180\n",
            "Epoch 13/100\n",
            "1/1 [==============================] - 0s 26ms/step - loss: 0.8079 - acc: 0.8180\n",
            "Epoch 14/100\n",
            "1/1 [==============================] - 0s 26ms/step - loss: 0.8044 - acc: 0.8180\n",
            "Epoch 15/100\n",
            "1/1 [==============================] - 0s 28ms/step - loss: 0.8009 - acc: 0.8180\n",
            "Epoch 16/100\n",
            "1/1 [==============================] - 0s 25ms/step - loss: 0.7973 - acc: 0.8180\n",
            "Epoch 17/100\n",
            "1/1 [==============================] - 0s 26ms/step - loss: 0.7936 - acc: 0.8240\n",
            "Epoch 18/100\n",
            "1/1 [==============================] - 0s 26ms/step - loss: 0.7899 - acc: 0.8240\n",
            "Epoch 19/100\n",
            "1/1 [==============================] - 0s 25ms/step - loss: 0.7862 - acc: 0.8240\n",
            "Epoch 20/100\n",
            "1/1 [==============================] - 0s 28ms/step - loss: 0.7828 - acc: 0.8240\n",
            "Epoch 21/100\n",
            "1/1 [==============================] - 0s 26ms/step - loss: 0.7796 - acc: 0.8240\n",
            "Epoch 22/100\n",
            "1/1 [==============================] - 0s 28ms/step - loss: 0.7768 - acc: 0.8240\n",
            "Epoch 23/100\n",
            "1/1 [==============================] - 0s 30ms/step - loss: 0.7741 - acc: 0.8240\n",
            "Epoch 24/100\n",
            "1/1 [==============================] - 0s 28ms/step - loss: 0.7715 - acc: 0.8240\n",
            "Epoch 25/100\n",
            "1/1 [==============================] - 0s 27ms/step - loss: 0.7688 - acc: 0.8240\n",
            "Epoch 26/100\n",
            "1/1 [==============================] - 0s 25ms/step - loss: 0.7660 - acc: 0.8240\n",
            "Epoch 27/100\n",
            "1/1 [==============================] - 0s 27ms/step - loss: 0.7632 - acc: 0.8240\n",
            "Epoch 28/100\n",
            "1/1 [==============================] - 0s 34ms/step - loss: 0.7604 - acc: 0.8240\n",
            "Epoch 29/100\n",
            "1/1 [==============================] - 0s 30ms/step - loss: 0.7577 - acc: 0.8240\n",
            "Epoch 30/100\n",
            "1/1 [==============================] - 0s 25ms/step - loss: 0.7552 - acc: 0.8240\n",
            "Epoch 31/100\n",
            "1/1 [==============================] - 0s 24ms/step - loss: 0.7528 - acc: 0.8240\n",
            "Epoch 32/100\n",
            "1/1 [==============================] - 0s 25ms/step - loss: 0.7505 - acc: 0.8240\n",
            "Epoch 33/100\n",
            "1/1 [==============================] - 0s 24ms/step - loss: 0.7482 - acc: 0.8240\n",
            "Epoch 34/100\n",
            "1/1 [==============================] - 0s 28ms/step - loss: 0.7459 - acc: 0.8240\n",
            "Epoch 35/100\n",
            "1/1 [==============================] - 0s 23ms/step - loss: 0.7437 - acc: 0.8240\n",
            "Epoch 36/100\n",
            "1/1 [==============================] - 0s 20ms/step - loss: 0.7414 - acc: 0.8240\n",
            "Epoch 37/100\n",
            "1/1 [==============================] - 0s 24ms/step - loss: 0.7392 - acc: 0.8240\n",
            "Epoch 38/100\n",
            "1/1 [==============================] - 0s 24ms/step - loss: 0.7370 - acc: 0.8240\n",
            "Epoch 39/100\n",
            "1/1 [==============================] - 0s 22ms/step - loss: 0.7349 - acc: 0.8240\n",
            "Epoch 40/100\n",
            "1/1 [==============================] - 0s 29ms/step - loss: 0.7328 - acc: 0.8240\n",
            "Epoch 41/100\n",
            "1/1 [==============================] - 0s 25ms/step - loss: 0.7308 - acc: 0.8240\n",
            "Epoch 42/100\n",
            "1/1 [==============================] - 0s 23ms/step - loss: 0.7288 - acc: 0.8260\n",
            "Epoch 43/100\n",
            "1/1 [==============================] - 0s 29ms/step - loss: 0.7268 - acc: 0.8260\n",
            "Epoch 44/100\n",
            "1/1 [==============================] - 0s 29ms/step - loss: 0.7248 - acc: 0.8260\n",
            "Epoch 45/100\n",
            "1/1 [==============================] - 0s 28ms/step - loss: 0.7228 - acc: 0.8240\n",
            "Epoch 46/100\n",
            "1/1 [==============================] - 0s 27ms/step - loss: 0.7208 - acc: 0.8240\n",
            "Epoch 47/100\n",
            "1/1 [==============================] - 0s 29ms/step - loss: 0.7189 - acc: 0.8240\n",
            "Epoch 48/100\n",
            "1/1 [==============================] - 0s 24ms/step - loss: 0.7170 - acc: 0.8240\n",
            "Epoch 49/100\n",
            "1/1 [==============================] - 0s 30ms/step - loss: 0.7152 - acc: 0.8240\n",
            "Epoch 50/100\n",
            "1/1 [==============================] - 0s 24ms/step - loss: 0.7133 - acc: 0.8240\n",
            "Epoch 51/100\n",
            "1/1 [==============================] - 0s 29ms/step - loss: 0.7115 - acc: 0.8240\n",
            "Epoch 52/100\n",
            "1/1 [==============================] - 0s 24ms/step - loss: 0.7096 - acc: 0.8240\n",
            "Epoch 53/100\n",
            "1/1 [==============================] - 0s 27ms/step - loss: 0.7078 - acc: 0.8240\n",
            "Epoch 54/100\n",
            "1/1 [==============================] - 0s 26ms/step - loss: 0.7059 - acc: 0.8240\n",
            "Epoch 55/100\n",
            "1/1 [==============================] - 0s 23ms/step - loss: 0.7041 - acc: 0.8260\n",
            "Epoch 56/100\n",
            "1/1 [==============================] - 0s 28ms/step - loss: 0.7023 - acc: 0.8280\n",
            "Epoch 57/100\n",
            "1/1 [==============================] - 0s 25ms/step - loss: 0.7005 - acc: 0.8280\n",
            "Epoch 58/100\n",
            "1/1 [==============================] - 0s 22ms/step - loss: 0.6988 - acc: 0.8300\n",
            "Epoch 59/100\n",
            "1/1 [==============================] - 0s 25ms/step - loss: 0.6970 - acc: 0.8300\n",
            "Epoch 60/100\n",
            "1/1 [==============================] - 0s 23ms/step - loss: 0.6952 - acc: 0.8300\n",
            "Epoch 61/100\n",
            "1/1 [==============================] - 0s 22ms/step - loss: 0.6934 - acc: 0.8300\n",
            "Epoch 62/100\n",
            "1/1 [==============================] - 0s 24ms/step - loss: 0.6917 - acc: 0.8280\n",
            "Epoch 63/100\n",
            "1/1 [==============================] - 0s 27ms/step - loss: 0.6900 - acc: 0.8280\n",
            "Epoch 64/100\n",
            "1/1 [==============================] - 0s 27ms/step - loss: 0.6882 - acc: 0.8280\n",
            "Epoch 65/100\n",
            "1/1 [==============================] - 0s 26ms/step - loss: 0.6865 - acc: 0.8280\n",
            "Epoch 66/100\n",
            "1/1 [==============================] - 0s 26ms/step - loss: 0.6848 - acc: 0.8280\n",
            "Epoch 67/100\n",
            "1/1 [==============================] - 0s 23ms/step - loss: 0.6831 - acc: 0.8300\n",
            "Epoch 68/100\n",
            "1/1 [==============================] - 0s 25ms/step - loss: 0.6814 - acc: 0.8300\n",
            "Epoch 69/100\n",
            "1/1 [==============================] - 0s 27ms/step - loss: 0.6797 - acc: 0.8320\n",
            "Epoch 70/100\n",
            "1/1 [==============================] - 0s 25ms/step - loss: 0.6780 - acc: 0.8340\n",
            "Epoch 71/100\n",
            "1/1 [==============================] - 0s 25ms/step - loss: 0.6763 - acc: 0.8340\n",
            "Epoch 72/100\n",
            "1/1 [==============================] - 0s 27ms/step - loss: 0.6747 - acc: 0.8340\n",
            "Epoch 73/100\n",
            "1/1 [==============================] - 0s 21ms/step - loss: 0.6730 - acc: 0.8340\n",
            "Epoch 74/100\n",
            "1/1 [==============================] - 0s 25ms/step - loss: 0.6714 - acc: 0.8340\n",
            "Epoch 75/100\n",
            "1/1 [==============================] - 0s 28ms/step - loss: 0.6698 - acc: 0.8320\n",
            "Epoch 76/100\n",
            "1/1 [==============================] - 0s 26ms/step - loss: 0.6682 - acc: 0.8300\n",
            "Epoch 77/100\n",
            "1/1 [==============================] - 0s 31ms/step - loss: 0.6666 - acc: 0.8280\n",
            "Epoch 78/100\n",
            "1/1 [==============================] - 0s 24ms/step - loss: 0.6650 - acc: 0.8280\n",
            "Epoch 79/100\n",
            "1/1 [==============================] - 0s 24ms/step - loss: 0.6635 - acc: 0.8280\n",
            "Epoch 80/100\n",
            "1/1 [==============================] - 0s 27ms/step - loss: 0.6619 - acc: 0.8280\n",
            "Epoch 81/100\n",
            "1/1 [==============================] - 0s 23ms/step - loss: 0.6604 - acc: 0.8300\n",
            "Epoch 82/100\n",
            "1/1 [==============================] - 0s 30ms/step - loss: 0.6589 - acc: 0.8320\n",
            "Epoch 83/100\n",
            "1/1 [==============================] - 0s 26ms/step - loss: 0.6574 - acc: 0.8320\n",
            "Epoch 84/100\n",
            "1/1 [==============================] - 0s 22ms/step - loss: 0.6559 - acc: 0.8320\n",
            "Epoch 85/100\n",
            "1/1 [==============================] - 0s 26ms/step - loss: 0.6545 - acc: 0.8320\n",
            "Epoch 86/100\n",
            "1/1 [==============================] - 0s 19ms/step - loss: 0.6530 - acc: 0.8340\n",
            "Epoch 87/100\n",
            "1/1 [==============================] - 0s 27ms/step - loss: 0.6516 - acc: 0.8320\n",
            "Epoch 88/100\n",
            "1/1 [==============================] - 0s 24ms/step - loss: 0.6502 - acc: 0.8320\n",
            "Epoch 89/100\n",
            "1/1 [==============================] - 0s 31ms/step - loss: 0.6488 - acc: 0.8320\n",
            "Epoch 90/100\n",
            "1/1 [==============================] - 0s 26ms/step - loss: 0.6475 - acc: 0.8340\n",
            "Epoch 91/100\n",
            "1/1 [==============================] - 0s 25ms/step - loss: 0.6461 - acc: 0.8340\n",
            "Epoch 92/100\n",
            "1/1 [==============================] - 0s 26ms/step - loss: 0.6448 - acc: 0.8380\n",
            "Epoch 93/100\n",
            "1/1 [==============================] - 0s 29ms/step - loss: 0.6435 - acc: 0.8380\n",
            "Epoch 94/100\n",
            "1/1 [==============================] - 0s 26ms/step - loss: 0.6422 - acc: 0.8380\n",
            "Epoch 95/100\n",
            "1/1 [==============================] - 0s 32ms/step - loss: 0.6409 - acc: 0.8400\n",
            "Epoch 96/100\n",
            "1/1 [==============================] - 0s 28ms/step - loss: 0.6397 - acc: 0.8400\n",
            "Epoch 97/100\n",
            "1/1 [==============================] - 0s 26ms/step - loss: 0.6384 - acc: 0.8420\n",
            "Epoch 98/100\n",
            "1/1 [==============================] - 0s 28ms/step - loss: 0.6372 - acc: 0.8460\n",
            "Epoch 99/100\n",
            "1/1 [==============================] - 0s 29ms/step - loss: 0.6360 - acc: 0.8500\n",
            "Epoch 100/100\n",
            "1/1 [==============================] - 0s 30ms/step - loss: 0.6348 - acc: 0.8500\n"
          ],
          "name": "stdout"
        },
        {
          "output_type": "execute_result",
          "data": {
            "text/plain": [
              "<keras.callbacks.History at 0x7f15171e2790>"
            ]
          },
          "metadata": {},
          "execution_count": 24
        }
      ]
    },
    {
      "cell_type": "markdown",
      "metadata": {
        "id": "M6iTCSTG5ZJB"
      },
      "source": [
        "### 참고 : https://github.com/NLP-kr/tensorflow-ml-nlp-tf2/blob/master/6.CHATBOT/6.4.seq2seq.ipynb"
      ]
    },
    {
      "cell_type": "code",
      "metadata": {
        "id": "TYwTLqHN4-gV"
      },
      "source": [
        ""
      ],
      "execution_count": null,
      "outputs": []
    }
  ]
}