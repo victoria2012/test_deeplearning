{
  "nbformat": 4,
  "nbformat_minor": 0,
  "metadata": {
    "colab": {
      "name": "seq2seq_preprocess.ipynb",
      "provenance": [],
      "collapsed_sections": [],
      "authorship_tag": "ABX9TyMnTvXTIH0MP0NEabCO25Zq"
    },
    "kernelspec": {
      "name": "python3",
      "display_name": "Python 3"
    },
    "language_info": {
      "name": "python"
    }
  },
  "cells": [
    {
      "cell_type": "code",
      "metadata": {
        "colab": {
          "base_uri": "https://localhost:8080/"
        },
        "id": "iqJ5LRVqEJkg",
        "outputId": "c65426c7-bf78-4f2a-fa1b-64bd254787cf"
      },
      "source": [
        "!python -m pip install konlpy"
      ],
      "execution_count": 1,
      "outputs": [
        {
          "output_type": "stream",
          "text": [
            "Requirement already satisfied: konlpy in /usr/local/lib/python3.7/dist-packages (0.5.2)\n",
            "Requirement already satisfied: tweepy>=3.7.0 in /usr/local/lib/python3.7/dist-packages (from konlpy) (3.10.0)\n",
            "Requirement already satisfied: JPype1>=0.7.0 in /usr/local/lib/python3.7/dist-packages (from konlpy) (1.3.0)\n",
            "Requirement already satisfied: numpy>=1.6 in /usr/local/lib/python3.7/dist-packages (from konlpy) (1.19.5)\n",
            "Requirement already satisfied: colorama in /usr/local/lib/python3.7/dist-packages (from konlpy) (0.4.4)\n",
            "Requirement already satisfied: lxml>=4.1.0 in /usr/local/lib/python3.7/dist-packages (from konlpy) (4.2.6)\n",
            "Requirement already satisfied: beautifulsoup4==4.6.0 in /usr/local/lib/python3.7/dist-packages (from konlpy) (4.6.0)\n",
            "Requirement already satisfied: typing-extensions in /usr/local/lib/python3.7/dist-packages (from JPype1>=0.7.0->konlpy) (3.7.4.3)\n",
            "Requirement already satisfied: six>=1.10.0 in /usr/local/lib/python3.7/dist-packages (from tweepy>=3.7.0->konlpy) (1.15.0)\n",
            "Requirement already satisfied: requests[socks]>=2.11.1 in /usr/local/lib/python3.7/dist-packages (from tweepy>=3.7.0->konlpy) (2.23.0)\n",
            "Requirement already satisfied: requests-oauthlib>=0.7.0 in /usr/local/lib/python3.7/dist-packages (from tweepy>=3.7.0->konlpy) (1.3.0)\n",
            "Requirement already satisfied: oauthlib>=3.0.0 in /usr/local/lib/python3.7/dist-packages (from requests-oauthlib>=0.7.0->tweepy>=3.7.0->konlpy) (3.1.1)\n",
            "Requirement already satisfied: idna<3,>=2.5 in /usr/local/lib/python3.7/dist-packages (from requests[socks]>=2.11.1->tweepy>=3.7.0->konlpy) (2.10)\n",
            "Requirement already satisfied: chardet<4,>=3.0.2 in /usr/local/lib/python3.7/dist-packages (from requests[socks]>=2.11.1->tweepy>=3.7.0->konlpy) (3.0.4)\n",
            "Requirement already satisfied: urllib3!=1.25.0,!=1.25.1,<1.26,>=1.21.1 in /usr/local/lib/python3.7/dist-packages (from requests[socks]>=2.11.1->tweepy>=3.7.0->konlpy) (1.24.3)\n",
            "Requirement already satisfied: certifi>=2017.4.17 in /usr/local/lib/python3.7/dist-packages (from requests[socks]>=2.11.1->tweepy>=3.7.0->konlpy) (2021.5.30)\n",
            "Requirement already satisfied: PySocks!=1.5.7,>=1.5.6 in /usr/local/lib/python3.7/dist-packages (from requests[socks]>=2.11.1->tweepy>=3.7.0->konlpy) (1.7.1)\n"
          ],
          "name": "stdout"
        }
      ]
    },
    {
      "cell_type": "code",
      "metadata": {
        "id": "W24rkhZPFdAa"
      },
      "source": [
        "# from preprocess import *\n",
        "import preprocess as pp"
      ],
      "execution_count": 2,
      "outputs": []
    },
    {
      "cell_type": "code",
      "metadata": {
        "colab": {
          "base_uri": "https://localhost:8080/"
        },
        "id": "oLiA52z_NpfO",
        "outputId": "ab8d1d0b-295c-433b-b547-0d00ee9a3661"
      },
      "source": [
        "path_csv = './ChatBotData.csv_short'\n",
        "inputs, outputs = pp.load_data(path_csv)\n",
        "type(inputs), type(outputs)"
      ],
      "execution_count": 3,
      "outputs": [
        {
          "output_type": "execute_result",
          "data": {
            "text/plain": [
              "(list, list)"
            ]
          },
          "metadata": {},
          "execution_count": 3
        }
      ]
    },
    {
      "cell_type": "code",
      "metadata": {
        "colab": {
          "base_uri": "https://localhost:8080/"
        },
        "id": "KQi3id_mN7wd",
        "outputId": "39293c5a-f720-475f-e513-436e8f403ec5"
      },
      "source": [
        "inputs[7], outputs[7]"
      ],
      "execution_count": 4,
      "outputs": [
        {
          "output_type": "execute_result",
          "data": {
            "text/plain": [
              "('가스불 켜놓고 나온거 같아', '빨리 집에 돌아가서 끄고 나오세요.')"
            ]
          },
          "metadata": {},
          "execution_count": 4
        }
      ]
    },
    {
      "cell_type": "code",
      "metadata": {
        "colab": {
          "base_uri": "https://localhost:8080/"
        },
        "id": "efj-W80kOT9W",
        "outputId": "17b7a517-7626-4a41-ec57-185338a935ab"
      },
      "source": [
        "inputs[10], outputs[10], len(inputs), len(outputs)"
      ],
      "execution_count": 5,
      "outputs": [
        {
          "output_type": "execute_result",
          "data": {
            "text/plain": [
              "('남자친구 교회 데려가고 싶어', '마음을 열 때까지 설득해보세요.', 20, 20)"
            ]
          },
          "metadata": {},
          "execution_count": 5
        }
      ]
    },
    {
      "cell_type": "code",
      "metadata": {
        "colab": {
          "base_uri": "https://localhost:8080/"
        },
        "id": "zplck31NOh9t",
        "outputId": "346922c4-d925-47be-c3d4-f8335aad1653"
      },
      "source": [
        "path_vocab = './vocabulary.txt'\n",
        "char2idx, idx2char, vocab_size = pp.load_vocabulary(path_csv, path_vocab)\n",
        "type(char2idx), type(idx2char), type(vocab_size)"
      ],
      "execution_count": 6,
      "outputs": [
        {
          "output_type": "execute_result",
          "data": {
            "text/plain": [
              "(dict, dict, int)"
            ]
          },
          "metadata": {},
          "execution_count": 6
        }
      ]
    },
    {
      "cell_type": "code",
      "metadata": {
        "colab": {
          "base_uri": "https://localhost:8080/"
        },
        "id": "pRvWYfPuO-WO",
        "outputId": "01e94a54-5128-414a-d49c-5b57d552eb13"
      },
      "source": [
        "print(char2idx)"
      ],
      "execution_count": 7,
      "outputs": [
        {
          "output_type": "stream",
          "text": [
            "{'<PAD>': 0, '<SOS>': 1, '<END>': 2, '<UNK>': 3, '운동': 4, '가상화폐': 5, '나온거': 6, '있어도': 7, '적당히': 8, '오늘': 9, '것': 10, '좋을': 11, '돈은': 12, '운동만': 13, '걸리겠어': 14, '훈훈해': 15, '달에는': 16, '빨리': 17, '전생에': 18, '데려가고': 19, '가난한': 20, '혼자를': 21, '생일인데': 22, '너무': 23, '쫄딱': 24, '때까지': 25, '같아': 26, '뭐가': 27, '생각해보세요': 28, '켜놓고': 29, '자의': 30, '좀': 31, '거예요': 32, '잘생겼어': 33, '운동을': 34, '좋다': 35, '구하셨나요': 36, '그': 37, '사세요': 38, '빠를수록': 39, '선물로': 40, '가끔': 41, '필요했던': 42, '같아요': 43, '사람도': 44, '갔어': 45, '평소에': 46, '마세요': 47, '식혀주세요': 48, '새출발': 49, '해보세요': 50, '즐기세요': 51, '따라': 52, '끄고': 53, '좋을까': 54, '승진': 55, '결단은': 56, '어서': 57, '들어올': 58, '나갔어': 59, '바빠': 60, '열': 61, '망함': 62, '궁금해': 63, '거짓말': 64, '남자친구가': 65, '땀을': 66, '가스불': 67, '돌아가서': 68, '게': 69, '남자친구': 70, '비싼데': 71, '나오세요': 72, '따뜻하게': 73, '나': 74, '좋아요': 75, '많이': 76, '가스비': 77, '집착하지': 78, '땀난다': 79, '뭐하는지': 80, '다시': 81, '더': 82, '해': 83, '보인다': 84, '하세요': 85, '나라를': 86, '필요한': 87, '마음을': 88, '나왔다': 89, '잊고': 90, '안': 91, '믿어줘': 92, '가만': 93, '켜고': 94, '혼자인게': 95, '감기': 96, '집에': 97, '가끔은': 98, '절약해봐요': 99, '다음': 100, '설득해보세요': 101, '질린다': 102, '싶어': 103, '줄까': 104, '함께': 105, '또': 106, '설움': 107, '뭘': 108, '그럴': 109, '교회': 110}\n"
          ],
          "name": "stdout"
        }
      ]
    },
    {
      "cell_type": "code",
      "metadata": {
        "colab": {
          "base_uri": "https://localhost:8080/"
        },
        "id": "ehUeG2IWPufz",
        "outputId": "ab83f057-d9e4-45dd-e50d-82d3a6fdad6a"
      },
      "source": [
        "print(idx2char)"
      ],
      "execution_count": 8,
      "outputs": [
        {
          "output_type": "stream",
          "text": [
            "{0: '<PAD>', 1: '<SOS>', 2: '<END>', 3: '<UNK>', 4: '운동', 5: '가상화폐', 6: '나온거', 7: '있어도', 8: '적당히', 9: '오늘', 10: '것', 11: '좋을', 12: '돈은', 13: '운동만', 14: '걸리겠어', 15: '훈훈해', 16: '달에는', 17: '빨리', 18: '전생에', 19: '데려가고', 20: '가난한', 21: '혼자를', 22: '생일인데', 23: '너무', 24: '쫄딱', 25: '때까지', 26: '같아', 27: '뭐가', 28: '생각해보세요', 29: '켜놓고', 30: '자의', 31: '좀', 32: '거예요', 33: '잘생겼어', 34: '운동을', 35: '좋다', 36: '구하셨나요', 37: '그', 38: '사세요', 39: '빠를수록', 40: '선물로', 41: '가끔', 42: '필요했던', 43: '같아요', 44: '사람도', 45: '갔어', 46: '평소에', 47: '마세요', 48: '식혀주세요', 49: '새출발', 50: '해보세요', 51: '즐기세요', 52: '따라', 53: '끄고', 54: '좋을까', 55: '승진', 56: '결단은', 57: '어서', 58: '들어올', 59: '나갔어', 60: '바빠', 61: '열', 62: '망함', 63: '궁금해', 64: '거짓말', 65: '남자친구가', 66: '땀을', 67: '가스불', 68: '돌아가서', 69: '게', 70: '남자친구', 71: '비싼데', 72: '나오세요', 73: '따뜻하게', 74: '나', 75: '좋아요', 76: '많이', 77: '가스비', 78: '집착하지', 79: '땀난다', 80: '뭐하는지', 81: '다시', 82: '더', 83: '해', 84: '보인다', 85: '하세요', 86: '나라를', 87: '필요한', 88: '마음을', 89: '나왔다', 90: '잊고', 91: '안', 92: '믿어줘', 93: '가만', 94: '켜고', 95: '혼자인게', 96: '감기', 97: '집에', 98: '가끔은', 99: '절약해봐요', 100: '다음', 101: '설득해보세요', 102: '질린다', 103: '싶어', 104: '줄까', 105: '함께', 106: '또', 107: '설움', 108: '뭘', 109: '그럴', 110: '교회'}\n"
          ],
          "name": "stdout"
        }
      ]
    },
    {
      "cell_type": "code",
      "metadata": {
        "colab": {
          "base_uri": "https://localhost:8080/"
        },
        "id": "Ts1dhPVGP2jF",
        "outputId": "164590ff-71a2-46c8-e2b3-a27901b76981"
      },
      "source": [
        "print(vocab_size)"
      ],
      "execution_count": 9,
      "outputs": [
        {
          "output_type": "stream",
          "text": [
            "111\n"
          ],
          "name": "stdout"
        }
      ]
    },
    {
      "cell_type": "code",
      "metadata": {
        "colab": {
          "base_uri": "https://localhost:8080/"
        },
        "id": "z3i-DlwlP4XW",
        "outputId": "1441cb8d-3a31-48c0-ebc8-e476c633c2e5"
      },
      "source": [
        "idx_inputs, inputs_seq_len = pp.enc_processing(inputs, char2idx)\n",
        "type(idx_inputs), len(inputs_seq_len), inputs_seq_len"
      ],
      "execution_count": 12,
      "outputs": [
        {
          "output_type": "execute_result",
          "data": {
            "text/plain": [
              "(numpy.ndarray,\n",
              " 20,\n",
              " [2, 3, 3, 3, 3, 3, 3, 4, 4, 4, 4, 4, 4, 5, 5, 4, 4, 3, 4, 3])"
            ]
          },
          "metadata": {},
          "execution_count": 12
        }
      ]
    },
    {
      "cell_type": "code",
      "metadata": {
        "colab": {
          "base_uri": "https://localhost:8080/"
        },
        "id": "aCr1IxXuRJQ-",
        "outputId": "b1bddf6c-7e7a-4430-8f99-d6a4673e016a"
      },
      "source": [
        "idx_inputs[3:5]   # 0으로 채워져 있는 것으로 보아 패딩 시퀀스까지 다 되었음을 볼 수 있다. "
      ],
      "execution_count": 13,
      "outputs": [
        {
          "output_type": "execute_result",
          "data": {
            "text/plain": [
              "array([[ 20,  30, 107,   0,   0,   0,   0,   0,   0,   0,   0,   0,   0,\n",
              "          0,   0,   0,   0,   0,   0,   0,   0,   0,   0,   0,   0],\n",
              "       [ 93,   7,  79,   0,   0,   0,   0,   0,   0,   0,   0,   0,   0,\n",
              "          0,   0,   0,   0,   0,   0,   0,   0,   0,   0,   0,   0]])"
            ]
          },
          "metadata": {},
          "execution_count": 13
        }
      ]
    },
    {
      "cell_type": "code",
      "metadata": {
        "colab": {
          "base_uri": "https://localhost:8080/"
        },
        "id": "kWM039dcRYzU",
        "outputId": "4de4d98c-e8cc-44c3-d6cb-bf7f97c51d5e"
      },
      "source": [
        "idx_outputs, outputs_seq_len = pp.dec_output_processing(outputs, char2idx)\n",
        "type(idx_outputs), len(outputs_seq_len)"
      ],
      "execution_count": 14,
      "outputs": [
        {
          "output_type": "execute_result",
          "data": {
            "text/plain": [
              "(numpy.ndarray, 20)"
            ]
          },
          "metadata": {},
          "execution_count": 14
        }
      ]
    },
    {
      "cell_type": "code",
      "metadata": {
        "colab": {
          "base_uri": "https://localhost:8080/"
        },
        "id": "41_Wy9URR5Cd",
        "outputId": "bdb95426-d872-442e-d191-03d06597ef03"
      },
      "source": [
        "idx_outputs[3:5]"
      ],
      "execution_count": 15,
      "outputs": [
        {
          "output_type": "execute_result",
          "data": {
            "text/plain": [
              "array([[ 1, 12, 81, 58, 32,  0,  0,  0,  0,  0,  0,  0,  0,  0,  0,  0,\n",
              "         0,  0,  0,  0,  0,  0,  0,  0,  0],\n",
              "       [ 1, 66, 48,  0,  0,  0,  0,  0,  0,  0,  0,  0,  0,  0,  0,  0,\n",
              "         0,  0,  0,  0,  0,  0,  0,  0,  0]])"
            ]
          },
          "metadata": {},
          "execution_count": 15
        }
      ]
    },
    {
      "cell_type": "code",
      "metadata": {
        "colab": {
          "base_uri": "https://localhost:8080/"
        },
        "id": "trRzCLo3SAxU",
        "outputId": "9cf6a748-d5a1-42af-a7f6-eb22974c1bba"
      },
      "source": [
        "idx_targets = pp.dec_target_processing(outputs, char2idx)\n",
        "type(idx_targets), len(idx_targets)"
      ],
      "execution_count": 16,
      "outputs": [
        {
          "output_type": "execute_result",
          "data": {
            "text/plain": [
              "(numpy.ndarray, 20)"
            ]
          },
          "metadata": {},
          "execution_count": 16
        }
      ]
    },
    {
      "cell_type": "code",
      "metadata": {
        "colab": {
          "base_uri": "https://localhost:8080/"
        },
        "id": "Vbz5b6SBSY8k",
        "outputId": "43c7eb56-5cbd-487f-8f71-c5865cd11420"
      },
      "source": [
        "idx_targets[3:5]"
      ],
      "execution_count": 17,
      "outputs": [
        {
          "output_type": "execute_result",
          "data": {
            "text/plain": [
              "array([[12, 81, 58, 32,  2,  0,  0,  0,  0,  0,  0,  0,  0,  0,  0,  0,\n",
              "         0,  0,  0,  0,  0,  0,  0,  0,  0],\n",
              "       [66, 48,  2,  0,  0,  0,  0,  0,  0,  0,  0,  0,  0,  0,  0,  0,\n",
              "         0,  0,  0,  0,  0,  0,  0,  0,  0]])"
            ]
          },
          "metadata": {},
          "execution_count": 17
        }
      ]
    },
    {
      "cell_type": "markdown",
      "metadata": {
        "id": "VjTAniD6S3q0"
      },
      "source": [
        "### 넘파이로 저장하여 사용한다. (숫자만 들어간 데이터일 경우 넘파이가 좋다)"
      ]
    },
    {
      "cell_type": "code",
      "metadata": {
        "id": "ncg9ItumT5F0"
      },
      "source": [
        "import numpy as np"
      ],
      "execution_count": 20,
      "outputs": []
    },
    {
      "cell_type": "code",
      "metadata": {
        "id": "Or5O5Rv-UEEr"
      },
      "source": [
        "np.save(open('./train_inputs.npy', 'wb'), idx_inputs)"
      ],
      "execution_count": 21,
      "outputs": []
    },
    {
      "cell_type": "code",
      "metadata": {
        "id": "sfgjvmbAUtUz"
      },
      "source": [
        "np.save(open('./train_outputs.npy', 'wb'), idx_outputs)"
      ],
      "execution_count": 24,
      "outputs": []
    },
    {
      "cell_type": "code",
      "metadata": {
        "id": "dSQiVUKXVPA6"
      },
      "source": [
        "np.save(open('./train_targets.npy', 'wb'), idx_targets)"
      ],
      "execution_count": 25,
      "outputs": []
    },
    {
      "cell_type": "code",
      "metadata": {
        "id": "5VNYPQirSekU"
      },
      "source": [
        "data_configs = dict()"
      ],
      "execution_count": 18,
      "outputs": []
    },
    {
      "cell_type": "code",
      "metadata": {
        "id": "BCLabKzoTa6L"
      },
      "source": [
        "data_configs['char2idx'] = char2idx\n",
        "data_configs['idx2char'] = idx2char\n",
        "data_configs['vocab_size'] = vocab_size\n",
        "\n",
        "data_configs['pad_symbol'] = '<PAD>'\n",
        "data_configs['std_symbol'] = '<STD>'\n",
        "data_configs['end_symbol'] = '<END>'\n",
        "data_configs['unk_symbol'] = '<UNK>'"
      ],
      "execution_count": 27,
      "outputs": []
    },
    {
      "cell_type": "code",
      "metadata": {
        "id": "nniJ2wU4VVGq"
      },
      "source": [
        "pp.json.dump(data_configs, open('./data_configs.json', 'w'))"
      ],
      "execution_count": 28,
      "outputs": []
    },
    {
      "cell_type": "code",
      "metadata": {
        "id": "25E12QShWwWw"
      },
      "source": [
        ""
      ],
      "execution_count": null,
      "outputs": []
    }
  ]
}