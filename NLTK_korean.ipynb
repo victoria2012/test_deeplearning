{
  "nbformat": 4,
  "nbformat_minor": 0,
  "metadata": {
    "colab": {
      "name": "NLTK_korean.ipynb",
      "provenance": [],
      "collapsed_sections": [],
      "mount_file_id": "1TFPcXDpy_8Cs7e_GLsXxfYoXZ59MaGSd",
      "authorship_tag": "ABX9TyOdL1Bok81nxBNacGtJih9+",
      "include_colab_link": true
    },
    "kernelspec": {
      "name": "python3",
      "display_name": "Python 3"
    },
    "language_info": {
      "name": "python"
    }
  },
  "cells": [
    {
      "cell_type": "markdown",
      "metadata": {
        "id": "view-in-github",
        "colab_type": "text"
      },
      "source": [
        "<a href=\"https://colab.research.google.com/github/victoria2012/test_deeplearning/blob/master/NLTK_korean.ipynb\" target=\"_parent\"><img src=\"https://colab.research.google.com/assets/colab-badge.svg\" alt=\"Open In Colab\"/></a>"
      ]
    },
    {
      "cell_type": "code",
      "metadata": {
        "id": "PbVmF1y_Yil2"
      },
      "source": [
        "import pandas as pd"
      ],
      "execution_count": 1,
      "outputs": []
    },
    {
      "cell_type": "code",
      "metadata": {
        "colab": {
          "base_uri": "https://localhost:8080/",
          "height": 306
        },
        "id": "LF18fEmuZG6X",
        "outputId": "0b93921d-7253-4aa4-d705-80d8752c6855"
      },
      "source": [
        "df = pd.read_csv('./drive/MyDrive/Test/smtph_total.csv')\n",
        "df.head(5)"
      ],
      "execution_count": 3,
      "outputs": [
        {
          "output_type": "execute_result",
          "data": {
            "text/html": [
              "<div>\n",
              "<style scoped>\n",
              "    .dataframe tbody tr th:only-of-type {\n",
              "        vertical-align: middle;\n",
              "    }\n",
              "\n",
              "    .dataframe tbody tr th {\n",
              "        vertical-align: top;\n",
              "    }\n",
              "\n",
              "    .dataframe thead th {\n",
              "        text-align: right;\n",
              "    }\n",
              "</style>\n",
              "<table border=\"1\" class=\"dataframe\">\n",
              "  <thead>\n",
              "    <tr style=\"text-align: right;\">\n",
              "      <th></th>\n",
              "      <th>Title</th>\n",
              "      <th>Link</th>\n",
              "      <th>Description</th>\n",
              "      <th>Blogger Name</th>\n",
              "      <th>Blogger Link</th>\n",
              "      <th>Post Date</th>\n",
              "      <th>Post Contents</th>\n",
              "    </tr>\n",
              "  </thead>\n",
              "  <tbody>\n",
              "    <tr>\n",
              "      <th>0</th>\n",
              "      <td>갤럭시 Z 플립과 한 달, 접는 스마트폰의 가치만 남다</td>\n",
              "      <td>https://chitsol.com/entry/galaxy_z_flip_review/</td>\n",
              "      <td>반으로 접을 수 있는 갤럭시 Z 플립이 접지 않는 스마트폰과 얼마나 다른 경험인가를...</td>\n",
              "      <td>https://chitsol.com/</td>\n",
              "      <td>https://chitsol.com/</td>\n",
              "      <td>20210712</td>\n",
              "      <td>NaN</td>\n",
              "    </tr>\n",
              "    <tr>\n",
              "      <th>1</th>\n",
              "      <td>스마트폰 삼각대 추천 내돈내산 리뷰</td>\n",
              "      <td>https://blog.naver.com/kimhw1020?Redirect=Log&amp;...</td>\n",
              "      <td>그래서 스마트폰 삼각대 추천 하는 제품을 구매하게 된 것 같아요. 2018년 4월 ...</td>\n",
              "      <td>진돗개 솜이랑 언니랑</td>\n",
              "      <td>https://blog.naver.com/kimhw1020</td>\n",
              "      <td>20210720</td>\n",
              "      <td>\\n\\n\\n\\n\\n\\n\\n솜이언니 일상\\n\\n\\n\\n\\n스마트폰 삼각대 추천 내돈내...</td>\n",
              "    </tr>\n",
              "    <tr>\n",
              "      <th>2</th>\n",
              "      <td>차 키를 스마트폰으로! 카버샵 더컵 실사용 후기</td>\n",
              "      <td>https://blog.naver.com/three_letter?Redirect=L...</td>\n",
              "      <td>오늘은 스마트폰으로 차 키를 대체할 수 있는 카버샵의 더컵이라는 제품을 리뷰해보겠습...</td>\n",
              "      <td>이상향(理想鄕)</td>\n",
              "      <td>https://blog.naver.com/three_letter</td>\n",
              "      <td>20210708</td>\n",
              "      <td>\\n\\n\\n\\n\\n\\n\\n상품 리뷰\\n\\n\\n\\n\\n차 키를 스마트폰으로! 카버샵 ...</td>\n",
              "    </tr>\n",
              "    <tr>\n",
              "      <th>3</th>\n",
              "      <td>대전스마트폰복구 삭제나 고장도 걱정없이</td>\n",
              "      <td>https://blog.naver.com/jcy0207?Redirect=Log&amp;lo...</td>\n",
              "      <td>바쁜 현대인들의 곁에서 어디서든 일상을 함께하는 스마트폰은 한순간도 뗄레야 뗄 수 ...</td>\n",
              "      <td>모아의 교육정보 모아모아</td>\n",
              "      <td>https://blog.naver.com/jcy0207</td>\n",
              "      <td>20210609</td>\n",
              "      <td>\\n\\n안녕하세요 모아입니다.바쁜 현대인들의 곁에서어디서든 일상을 함께하는 스마트폰...</td>\n",
              "    </tr>\n",
              "    <tr>\n",
              "      <th>4</th>\n",
              "      <td>삼성 갤럭시노트10 가격 2021년에도 매력적인 스마트폰</td>\n",
              "      <td>https://blog.naver.com/lucky_box7?Redirect=Log...</td>\n",
              "      <td>일상에서 스마트폰 사용량은 점점 늘어나고 있습니다. 카카오톡, 라인 같은 기본적인 ...</td>\n",
              "      <td>Cwon's Life</td>\n",
              "      <td>https://blog.naver.com/lucky_box7</td>\n",
              "      <td>20210623</td>\n",
              "      <td>\\n\\n\\n\\n\\n\\n\\n모바일/태블릿\\n\\n\\n\\n\\n삼성 갤럭시노트10 가격 2...</td>\n",
              "    </tr>\n",
              "  </tbody>\n",
              "</table>\n",
              "</div>"
            ],
            "text/plain": [
              "                             Title  ...                                      Post Contents\n",
              "0   갤럭시 Z 플립과 한 달, 접는 스마트폰의 가치만 남다  ...                                                NaN\n",
              "1              스마트폰 삼각대 추천 내돈내산 리뷰  ...  \\n\\n\\n\\n\\n\\n\\n솜이언니 일상\\n\\n\\n\\n\\n스마트폰 삼각대 추천 내돈내...\n",
              "2       차 키를 스마트폰으로! 카버샵 더컵 실사용 후기  ...  \\n\\n\\n\\n\\n\\n\\n상품 리뷰\\n\\n\\n\\n\\n차 키를 스마트폰으로! 카버샵 ...\n",
              "3            대전스마트폰복구 삭제나 고장도 걱정없이  ...  \\n\\n안녕하세요 모아입니다.바쁜 현대인들의 곁에서어디서든 일상을 함께하는 스마트폰...\n",
              "4  삼성 갤럭시노트10 가격 2021년에도 매력적인 스마트폰  ...  \\n\\n\\n\\n\\n\\n\\n모바일/태블릿\\n\\n\\n\\n\\n삼성 갤럭시노트10 가격 2...\n",
              "\n",
              "[5 rows x 7 columns]"
            ]
          },
          "metadata": {
            "tags": []
          },
          "execution_count": 3
        }
      ]
    },
    {
      "cell_type": "code",
      "metadata": {
        "id": "mMUO1PmmZocB"
      },
      "source": [
        "posts = df['Description']"
      ],
      "execution_count": 4,
      "outputs": []
    },
    {
      "cell_type": "code",
      "metadata": {
        "colab": {
          "base_uri": "https://localhost:8080/",
          "height": 35
        },
        "id": "-zKPo3jHaJMW",
        "outputId": "1728b11b-9f44-48e2-89b0-f7c4f76dde69"
      },
      "source": [
        "posts[0]"
      ],
      "execution_count": 5,
      "outputs": [
        {
          "output_type": "execute_result",
          "data": {
            "application/vnd.google.colaboratory.intrinsic+json": {
              "type": "string"
            },
            "text/plain": [
              "'반으로 접을 수 있는 갤럭시 Z 플립이 접지 않는 스마트폰과 얼마나 다른 경험인가를… 여기에는 조금 복잡한 관점이 들어 있다. 기존 스마트폰의 기능성을 유지하면서 접은 것인지, 그냥 접는 의미만 살린... '"
            ]
          },
          "metadata": {
            "tags": []
          },
          "execution_count": 5
        }
      ]
    },
    {
      "cell_type": "code",
      "metadata": {
        "id": "bcbXopzEayb9"
      },
      "source": [
        "!python -m pip install konlpy"
      ],
      "execution_count": null,
      "outputs": []
    },
    {
      "cell_type": "code",
      "metadata": {
        "colab": {
          "base_uri": "https://localhost:8080/"
        },
        "id": "yT62XUa3a-Te",
        "outputId": "2afeb7e6-1738-4776-fc3c-49a8d192ea68"
      },
      "source": [
        "!python -m pip install eunjeon"
      ],
      "execution_count": 9,
      "outputs": [
        {
          "output_type": "stream",
          "text": [
            "Collecting eunjeon\n",
            "  Downloading eunjeon-0.4.0.tar.gz (34.7 MB)\n",
            "\u001b[K     |████████████████████████████████| 34.7 MB 68 kB/s \n",
            "\u001b[33mWARNING: Discarding https://files.pythonhosted.org/packages/68/90/3232725f974abf6d38f1e2cfd7a6b958337133b3fdc5b3e8994e03d7c2d3/eunjeon-0.4.0.tar.gz#sha256=60865fbe28537e820ab864cd135467ea277c8182908e2bc364e83e5fd29ef07f (from https://pypi.org/simple/eunjeon/). Command errored out with exit status 1: python setup.py egg_info Check the logs for full command output.\u001b[0m\n",
            "\u001b[?25h  Downloading eunjeon-0.3.9.6.tar.gz (34.7 MB)\n",
            "\u001b[K     |████████████████████████████████| 34.7 MB 53 kB/s \n",
            "\u001b[33mWARNING: Discarding https://files.pythonhosted.org/packages/64/d3/743807b1ec82a99872ad785c5c244a6806ecbc3ba369cf09fdc1c4767509/eunjeon-0.3.9.6.tar.gz#sha256=d088714a537d999e16afb1cd3c1375c81fd1f03a169c47c95250ee5b704e1bd5 (from https://pypi.org/simple/eunjeon/). Command errored out with exit status 1: python setup.py egg_info Check the logs for full command output.\u001b[0m\n",
            "\u001b[?25h  Downloading eunjeon-0.3.9.5.tar.gz (34.1 MB)\n",
            "\u001b[K     |████████████████████████████████| 34.1 MB 75 kB/s \n",
            "\u001b[33mWARNING: Discarding https://files.pythonhosted.org/packages/aa/8e/909ee5bdb2e6e4255f5f9c80a8cf180adcc002bd319bde1aa9141416cf6e/eunjeon-0.3.9.5.tar.gz#sha256=556d99ce96f39dedd3e0f2470e6c45343740ba85a27ef34c2b6d8c61f57c7388 (from https://pypi.org/simple/eunjeon/). Command errored out with exit status 1: python setup.py egg_info Check the logs for full command output.\u001b[0m\n",
            "\u001b[?25h  Downloading eunjeon-0.3.9.4.tar.gz (33.2 MB)\n",
            "\u001b[K     |████████████████████████████████| 33.2 MB 44 kB/s \n",
            "\u001b[33mWARNING: Discarding https://files.pythonhosted.org/packages/16/d1/804f0322c6b2715ddb0c5f47d78c03e5fcdbe252a0d5c4f4b0936c2bdf46/eunjeon-0.3.9.4.tar.gz#sha256=9032fe0860fb4d4edec4113a4258f2599fea5df46e0e86413d7ffdf8c6adbee9 (from https://pypi.org/simple/eunjeon/). Command errored out with exit status 1: python setup.py egg_info Check the logs for full command output.\u001b[0m\n",
            "\u001b[?25h  Downloading eunjeon-0.3.9.3.tar.gz (33.2 MB)\n",
            "\u001b[K     |████████████████████████████████| 33.2 MB 72 kB/s \n",
            "\u001b[33mWARNING: Discarding https://files.pythonhosted.org/packages/e3/24/c1c6bf9d0adfcf5a49ed1adb3d3a45fd014c6d9621b5ac7bec1fde4d4666/eunjeon-0.3.9.3.tar.gz#sha256=4004da49581b44b14746521e20a69e1a08acec1778a1ccfa59b7442c16a86490 (from https://pypi.org/simple/eunjeon/). Command errored out with exit status 1: python setup.py egg_info Check the logs for full command output.\u001b[0m\n",
            "\u001b[?25h  Downloading eunjeon-0.3.9.0.tar.gz (33.2 MB)\n",
            "\u001b[K     |████████████████████████████████| 33.2 MB 34 kB/s \n",
            "\u001b[33mWARNING: Discarding https://files.pythonhosted.org/packages/08/df/7981c91ccea41cbabded1a28cb36442b8ff75a355aa77a2ef65272fa1472/eunjeon-0.3.9.0.tar.gz#sha256=46c96b1797211e179e3e61d90c7a1aa86a34cdba825a0979b8f83480a90adf21 (from https://pypi.org/simple/eunjeon/). Command errored out with exit status 1: python setup.py egg_info Check the logs for full command output.\u001b[0m\n",
            "\u001b[31mERROR: Could not find a version that satisfies the requirement eunjeon (from versions: 0.3.9.0, 0.3.9.3, 0.3.9.4, 0.3.9.5, 0.3.9.6, 0.4.0)\u001b[0m\n",
            "\u001b[31mERROR: No matching distribution found for eunjeon\u001b[0m\n",
            "\u001b[?25h"
          ],
          "name": "stdout"
        }
      ]
    },
    {
      "cell_type": "code",
      "metadata": {
        "id": "yFzvMe0Jal9O"
      },
      "source": [
        "from konlpy.tag import Mecab\n",
        "tagger = mecab()"
      ],
      "execution_count": null,
      "outputs": []
    },
    {
      "cell_type": "code",
      "metadata": {
        "id": "Ms1JzSACaRJO"
      },
      "source": [
        "for in "
      ],
      "execution_count": null,
      "outputs": []
    }
  ]
}