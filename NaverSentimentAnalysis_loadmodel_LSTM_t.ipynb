{
  "nbformat": 4,
  "nbformat_minor": 0,
  "metadata": {
    "colab": {
      "name": "NaverSentimentAnalysis_loadmodel_LSTM_t.ipynb",
      "provenance": [],
      "collapsed_sections": [],
      "authorship_tag": "ABX9TyPUNZ5jxJO8Biq70oAn3O2m",
      "include_colab_link": true
    },
    "kernelspec": {
      "name": "python3",
      "display_name": "Python 3"
    },
    "language_info": {
      "name": "python"
    }
  },
  "cells": [
    {
      "cell_type": "markdown",
      "metadata": {
        "id": "view-in-github",
        "colab_type": "text"
      },
      "source": [
        "<a href=\"https://colab.research.google.com/github/victoria2012/test_deeplearning/blob/master/NaverSentimentAnalysis_loadmodel_LSTM_t.ipynb\" target=\"_parent\"><img src=\"https://colab.research.google.com/assets/colab-badge.svg\" alt=\"Open In Colab\"/></a>"
      ]
    },
    {
      "cell_type": "code",
      "metadata": {
        "id": "xR_shKZXdJQY"
      },
      "source": [
        "import tensorflow as tf"
      ],
      "execution_count": 1,
      "outputs": []
    },
    {
      "cell_type": "code",
      "metadata": {
        "colab": {
          "base_uri": "https://localhost:8080/"
        },
        "id": "tNu0SJ9jd793",
        "outputId": "1d8c7e90-6a73-460b-ff5a-92c000088a3f"
      },
      "source": [
        "loaded_model = tf.keras.models.load_model('./NaverSentimentAnalysis_LSTM_t.h5')\n",
        "loaded_model"
      ],
      "execution_count": 2,
      "outputs": [
        {
          "output_type": "execute_result",
          "data": {
            "text/plain": [
              "<tensorflow.python.keras.engine.sequential.Sequential at 0x7fbb16a03f10>"
            ]
          },
          "metadata": {
            "tags": []
          },
          "execution_count": 2
        }
      ]
    },
    {
      "cell_type": "markdown",
      "metadata": {
        "id": "cZ7-WI9Mfwce"
      },
      "source": [
        "##### 과정 : 분류기 --> 불용어 제거(stopwords) --> 사전을 근거로 숫자화 --> padding --> predict"
      ]
    },
    {
      "cell_type": "code",
      "metadata": {
        "colab": {
          "base_uri": "https://localhost:8080/"
        },
        "id": "SMejGshjgdKD",
        "outputId": "150d761d-01c2-4718-c3c8-deafdc0f6c74"
      },
      "source": [
        "!python -m pip install konlpy"
      ],
      "execution_count": 4,
      "outputs": [
        {
          "output_type": "stream",
          "text": [
            "Collecting konlpy\n",
            "  Downloading konlpy-0.5.2-py2.py3-none-any.whl (19.4 MB)\n",
            "\u001b[K     |████████████████████████████████| 19.4 MB 5.3 MB/s \n",
            "\u001b[?25hRequirement already satisfied: numpy>=1.6 in /usr/local/lib/python3.7/dist-packages (from konlpy) (1.19.5)\n",
            "Requirement already satisfied: lxml>=4.1.0 in /usr/local/lib/python3.7/dist-packages (from konlpy) (4.2.6)\n",
            "Collecting JPype1>=0.7.0\n",
            "  Downloading JPype1-1.3.0-cp37-cp37m-manylinux_2_5_x86_64.manylinux1_x86_64.whl (448 kB)\n",
            "\u001b[K     |████████████████████████████████| 448 kB 59.4 MB/s \n",
            "\u001b[?25hCollecting beautifulsoup4==4.6.0\n",
            "  Downloading beautifulsoup4-4.6.0-py3-none-any.whl (86 kB)\n",
            "\u001b[K     |████████████████████████████████| 86 kB 5.2 MB/s \n",
            "\u001b[?25hRequirement already satisfied: tweepy>=3.7.0 in /usr/local/lib/python3.7/dist-packages (from konlpy) (3.10.0)\n",
            "Collecting colorama\n",
            "  Downloading colorama-0.4.4-py2.py3-none-any.whl (16 kB)\n",
            "Requirement already satisfied: typing-extensions in /usr/local/lib/python3.7/dist-packages (from JPype1>=0.7.0->konlpy) (3.7.4.3)\n",
            "Requirement already satisfied: requests-oauthlib>=0.7.0 in /usr/local/lib/python3.7/dist-packages (from tweepy>=3.7.0->konlpy) (1.3.0)\n",
            "Requirement already satisfied: requests[socks]>=2.11.1 in /usr/local/lib/python3.7/dist-packages (from tweepy>=3.7.0->konlpy) (2.23.0)\n",
            "Requirement already satisfied: six>=1.10.0 in /usr/local/lib/python3.7/dist-packages (from tweepy>=3.7.0->konlpy) (1.15.0)\n",
            "Requirement already satisfied: oauthlib>=3.0.0 in /usr/local/lib/python3.7/dist-packages (from requests-oauthlib>=0.7.0->tweepy>=3.7.0->konlpy) (3.1.1)\n",
            "Requirement already satisfied: chardet<4,>=3.0.2 in /usr/local/lib/python3.7/dist-packages (from requests[socks]>=2.11.1->tweepy>=3.7.0->konlpy) (3.0.4)\n",
            "Requirement already satisfied: idna<3,>=2.5 in /usr/local/lib/python3.7/dist-packages (from requests[socks]>=2.11.1->tweepy>=3.7.0->konlpy) (2.10)\n",
            "Requirement already satisfied: urllib3!=1.25.0,!=1.25.1,<1.26,>=1.21.1 in /usr/local/lib/python3.7/dist-packages (from requests[socks]>=2.11.1->tweepy>=3.7.0->konlpy) (1.24.3)\n",
            "Requirement already satisfied: certifi>=2017.4.17 in /usr/local/lib/python3.7/dist-packages (from requests[socks]>=2.11.1->tweepy>=3.7.0->konlpy) (2021.5.30)\n",
            "Requirement already satisfied: PySocks!=1.5.7,>=1.5.6 in /usr/local/lib/python3.7/dist-packages (from requests[socks]>=2.11.1->tweepy>=3.7.0->konlpy) (1.7.1)\n",
            "Installing collected packages: JPype1, colorama, beautifulsoup4, konlpy\n",
            "  Attempting uninstall: beautifulsoup4\n",
            "    Found existing installation: beautifulsoup4 4.6.3\n",
            "    Uninstalling beautifulsoup4-4.6.3:\n",
            "      Successfully uninstalled beautifulsoup4-4.6.3\n",
            "Successfully installed JPype1-1.3.0 beautifulsoup4-4.6.0 colorama-0.4.4 konlpy-0.5.2\n"
          ],
          "name": "stdout"
        }
      ]
    },
    {
      "cell_type": "code",
      "metadata": {
        "id": "fxYhYFCEfKPW"
      },
      "source": [
        "import konlpy"
      ],
      "execution_count": 5,
      "outputs": []
    },
    {
      "cell_type": "code",
      "metadata": {
        "id": "deo3aDStgk_F"
      },
      "source": [
        "okt = konlpy.tag.Okt()    # 태그 분류기 초기화"
      ],
      "execution_count": 6,
      "outputs": []
    },
    {
      "cell_type": "code",
      "metadata": {
        "id": "Sl4JFXQknj_M"
      },
      "source": [
        "import pickle"
      ],
      "execution_count": 9,
      "outputs": []
    },
    {
      "cell_type": "code",
      "metadata": {
        "colab": {
          "base_uri": "https://localhost:8080/"
        },
        "id": "pX1B-h1Jnm-p",
        "outputId": "4f60cf8f-3602-4809-fbb6-702a0953aa3a"
      },
      "source": [
        "stopwords = pickle.load(open('./stopwords.pkl','rb'))\n",
        "print(stopwords)"
      ],
      "execution_count": 10,
      "outputs": [
        {
          "output_type": "stream",
          "text": [
            "['의', '가', '이', '은', '들', '는', '좀', '잘', '걍', '과', '도', '를', '으로', '자', '에', '와', '한', '하다']\n"
          ],
          "name": "stdout"
        }
      ]
    },
    {
      "cell_type": "code",
      "metadata": {
        "id": "eV-miVDbhYLl"
      },
      "source": [
        "# 불용어 처리의 다른 방법을 사용해 보자 \n",
        "# words = list()\n",
        "# for tok in temp_x:\n",
        "#   if tok not in stopwords:\n",
        "#     words.append(tok)"
      ],
      "execution_count": null,
      "outputs": []
    },
    {
      "cell_type": "code",
      "metadata": {
        "colab": {
          "base_uri": "https://localhost:8080/"
        },
        "id": "7ve_-wOYg2pc",
        "outputId": "3625a681-cd43-4288-f04a-ffbc0cf9caad"
      },
      "source": [
        "# 감독이 예술이네. --> 웹 사용자 입력한 문자는 컴퓨터가 바로 해석할 수 없기 때문에 숫자로 바꿔서 넣어줘야 함. 긍정인지 부정인지 확인. \n",
        "new_sentence = okt.morphs('감독이 예술이네.', stem=True)   # 단어를 분류하고 원형을 찾아주는 작업. 딥러닝의 상태와 똑같이 만들어주기 위해 stem=True 넣어줌\n",
        "new_sentence = [tok for tok in new_sentence if tok not in stopwords]   # 리스트를 의미하는 대괄호[] 안에 for문과 if문을 넣어주고 맨 왼쪽에는 저장할 값을 지정\n",
        "new_sentence"
      ],
      "execution_count": 17,
      "outputs": [
        {
          "output_type": "execute_result",
          "data": {
            "text/plain": [
              "['감독', '예술', '이네', '.']"
            ]
          },
          "metadata": {
            "tags": []
          },
          "execution_count": 17
        }
      ]
    },
    {
      "cell_type": "code",
      "metadata": {
        "colab": {
          "base_uri": "https://localhost:8080/"
        },
        "id": "RXSG3IVcmQ68",
        "outputId": "a679b485-1a51-4aed-d8e7-6d755613b3b9"
      },
      "source": [
        "# pickle을 불러와서 토큰화하는 작업 진행\n",
        "tokenizer = pickle.load(open('./tokenizer.pkl','rb'))     # rb는 read binary의 뜻\n",
        "tokenizer"
      ],
      "execution_count": 18,
      "outputs": [
        {
          "output_type": "execute_result",
          "data": {
            "text/plain": [
              "<keras_preprocessing.text.Tokenizer at 0x7fbaec59f810>"
            ]
          },
          "metadata": {
            "tags": []
          },
          "execution_count": 18
        }
      ]
    },
    {
      "cell_type": "code",
      "metadata": {
        "colab": {
          "base_uri": "https://localhost:8080/"
        },
        "id": "UK3TenXipXt1",
        "outputId": "ab407f30-6b8b-4e4b-c21d-2f7be036333a"
      },
      "source": [
        "vob_size = len(tokenizer.word_index)\n",
        "vob_size"
      ],
      "execution_count": 19,
      "outputs": [
        {
          "output_type": "execute_result",
          "data": {
            "text/plain": [
              "1572"
            ]
          },
          "metadata": {
            "tags": []
          },
          "execution_count": 19
        }
      ]
    },
    {
      "cell_type": "code",
      "metadata": {
        "colab": {
          "base_uri": "https://localhost:8080/"
        },
        "id": "sLEhG1hxp-uN",
        "outputId": "8acb7b79-df87-4942-b002-8e3e8d354985"
      },
      "source": [
        "encoded = tokenizer.texts_to_sequences([new_sentence])    # 대괄호 안에 넣어줘야 함.\n",
        "encoded"
      ],
      "execution_count": 20,
      "outputs": [
        {
          "output_type": "execute_result",
          "data": {
            "text/plain": [
              "[[92, 128, 1]]"
            ]
          },
          "metadata": {
            "tags": []
          },
          "execution_count": 20
        }
      ]
    },
    {
      "cell_type": "code",
      "metadata": {
        "colab": {
          "base_uri": "https://localhost:8080/"
        },
        "id": "lvg9U-LnqVTT",
        "outputId": "0f1cb3db-fce6-43c9-de98-4e401e9f85de"
      },
      "source": [
        "pad_new = tf.keras.preprocessing.sequence.pad_sequences(encoded, maxlen=50)\n",
        "pad_new"
      ],
      "execution_count": 23,
      "outputs": [
        {
          "output_type": "execute_result",
          "data": {
            "text/plain": [
              "array([[  0,   0,   0,   0,   0,   0,   0,   0,   0,   0,   0,   0,   0,\n",
              "          0,   0,   0,   0,   0,   0,   0,   0,   0,   0,   0,   0,   0,\n",
              "          0,   0,   0,   0,   0,   0,   0,   0,   0,   0,   0,   0,   0,\n",
              "          0,   0,   0,   0,   0,   0,   0,   0,  92, 128,   1]],\n",
              "      dtype=int32)"
            ]
          },
          "metadata": {
            "tags": []
          },
          "execution_count": 23
        }
      ]
    },
    {
      "cell_type": "code",
      "metadata": {
        "colab": {
          "base_uri": "https://localhost:8080/"
        },
        "id": "NlZmwb75eQhc",
        "outputId": "7410df56-77f3-4221-9105-9d7e1788b706"
      },
      "source": [
        "# ['감독이 예술이네.']\n",
        "score = loaded_model.predict(pad_new)    # 무엇이 무엇을 predict하는가? 영어의 문법과 연관해서 생각해 볼 것 \n",
        "score"
      ],
      "execution_count": 25,
      "outputs": [
        {
          "output_type": "execute_result",
          "data": {
            "text/plain": [
              "array([[0.49271348]], dtype=float32)"
            ]
          },
          "metadata": {
            "tags": []
          },
          "execution_count": 25
        }
      ]
    },
    {
      "cell_type": "code",
      "metadata": {
        "colab": {
          "base_uri": "https://localhost:8080/"
        },
        "id": "wqR04AS7riqc",
        "outputId": "ec82e74f-d2fa-40e6-ba2b-379cfcfce25d"
      },
      "source": [
        "if(score > 0.5):\n",
        "  print('긍정', score*100)\n",
        "else:\n",
        "  print('부정', score*100)"
      ],
      "execution_count": 27,
      "outputs": [
        {
          "output_type": "stream",
          "text": [
            "부정 [[49.271347]]\n"
          ],
          "name": "stdout"
        }
      ]
    },
    {
      "cell_type": "code",
      "metadata": {
        "id": "M47po75Zrzar"
      },
      "source": [
        "okt = konlpy.tag.Okt()\n",
        "new_sentence = okt.morphs('감독이 예술이네.', stem=True)\n",
        "new_sentence = [ tok for tok in new_sentence if tok not in stopwords ]\n",
        "encoded = tokenizer.texts_to_sequences([new_sentence])\n",
        "pad_new = tf.keras.preprocessing.sequence.pad_sequences(encoded, maxlen=50)\n",
        "score = loaded_model.predict(pad_new)"
      ],
      "execution_count": null,
      "outputs": []
    },
    {
      "cell_type": "code",
      "metadata": {
        "id": "YQfqEWe6tkgc"
      },
      "source": [
        "def sentiment_predict(sentence):\n",
        "  okt = konlpy.tag.Okt()\n",
        "  new_sentence = okt.morphs(sentence, stem=True)\n",
        "  new_sentence = [ tok for tok in new_sentence if tok not in stopwords ]\n",
        "  encoded = tokenizer.texts_to_sequences([new_sentence])\n",
        "  pad_new = tf.keras.preprocessing.sequence.pad_sequences(encoded, maxlen=50)\n",
        "  score = loaded_model.predict(pad_new)\n",
        "  return score"
      ],
      "execution_count": 28,
      "outputs": []
    },
    {
      "cell_type": "code",
      "metadata": {
        "colab": {
          "base_uri": "https://localhost:8080/"
        },
        "id": "_zZZXyUou_Aq",
        "outputId": "46a62ab7-1367-4b1a-dc5f-b1a3c3ba0b1c"
      },
      "source": [
        "words = '이 영화 꽝이네.'\n",
        "sentiment_predict(words)"
      ],
      "execution_count": 32,
      "outputs": [
        {
          "output_type": "execute_result",
          "data": {
            "text/plain": [
              "array([[0.49839693]], dtype=float32)"
            ]
          },
          "metadata": {
            "tags": []
          },
          "execution_count": 32
        }
      ]
    },
    {
      "cell_type": "code",
      "metadata": {
        "colab": {
          "base_uri": "https://localhost:8080/"
        },
        "id": "zM3VfCiRvGCi",
        "outputId": "e65c94fe-f618-4028-d093-0af9ed50e421"
      },
      "source": [
        "words = '액션도 좋고 줄거리도 재밌어요.'\n",
        "sentiment_predict(words)"
      ],
      "execution_count": 33,
      "outputs": [
        {
          "output_type": "execute_result",
          "data": {
            "text/plain": [
              "array([[0.4999679]], dtype=float32)"
            ]
          },
          "metadata": {
            "tags": []
          },
          "execution_count": 33
        }
      ]
    },
    {
      "cell_type": "code",
      "metadata": {
        "id": "0mGptroYvsYz"
      },
      "source": [
        ""
      ],
      "execution_count": null,
      "outputs": []
    }
  ]
}