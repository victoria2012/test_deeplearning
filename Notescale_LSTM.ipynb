{
  "nbformat": 4,
  "nbformat_minor": 0,
  "metadata": {
    "colab": {
      "name": "Notescale_LSTM.ipynb",
      "provenance": [],
      "collapsed_sections": [],
      "authorship_tag": "ABX9TyPsNG2qO0OjhgbdDMBk6+0w",
      "include_colab_link": true
    },
    "kernelspec": {
      "name": "python3",
      "display_name": "Python 3"
    },
    "language_info": {
      "name": "python"
    }
  },
  "cells": [
    {
      "cell_type": "markdown",
      "metadata": {
        "id": "view-in-github",
        "colab_type": "text"
      },
      "source": [
        "<a href=\"https://colab.research.google.com/github/victoria2012/test_deeplearning/blob/master/Notescale_LSTM.ipynb\" target=\"_parent\"><img src=\"https://colab.research.google.com/assets/colab-badge.svg\" alt=\"Open In Colab\"/></a>"
      ]
    },
    {
      "cell_type": "code",
      "metadata": {
        "id": "A8bISZw5lBJh"
      },
      "source": [
        "note_seq = ['g8', 'e8', 'e4', 'f8', 'd8', 'd4', 'c8', 'd8', 'e8', 'f8', 'g8', 'g8', 'g4',\n",
        "       'g8', 'e8', 'e8', 'e8', 'f8', 'd8', 'd4', 'c8', 'e8', 'g8', 'g8', 'e8', 'e8', 'e4',\n",
        "       'd8', 'd8', 'd8', 'd8', 'd8', 'e8', 'f4', 'e8', 'e8', 'e8', 'e8', 'e8', 'f8', 'g4',\n",
        "       'g8', 'e8', 'e4', 'f8', 'd8', 'd4', 'c8', 'e8', 'g8', 'g8', 'e8', 'e8', 'e4']"
      ],
      "execution_count": 86,
      "outputs": []
    },
    {
      "cell_type": "code",
      "metadata": {
        "colab": {
          "base_uri": "https://localhost:8080/"
        },
        "id": "9r_-yxATn3jV",
        "outputId": "b15cb601-f5b9-4576-92be-18c013ad6c11"
      },
      "source": [
        "note_seq[0:4], note_seq[1:5], note_seq[2:6]"
      ],
      "execution_count": 87,
      "outputs": [
        {
          "output_type": "execute_result",
          "data": {
            "text/plain": [
              "(['g8', 'e8', 'e4', 'f8'], ['e8', 'e4', 'f8', 'd8'], ['e4', 'f8', 'd8', 'd4'])"
            ]
          },
          "metadata": {
            "tags": []
          },
          "execution_count": 87
        }
      ]
    },
    {
      "cell_type": "code",
      "metadata": {
        "id": "qMyZ523rlRW4"
      },
      "source": [
        "code2idx = {'c4':0, 'd4':1, 'e4':2, 'f4':3, 'g4':4, 'a4':5, 'b4':6,\n",
        "            'c8':7, 'd8':8, 'e8':9, 'f8':10, 'g8':11, 'a8':12, 'b8':13}\n"
      ],
      "execution_count": 88,
      "outputs": []
    },
    {
      "cell_type": "code",
      "metadata": {
        "colab": {
          "base_uri": "https://localhost:8080/"
        },
        "id": "U3wDWfmwnf9X",
        "outputId": "7bfea0d8-f405-4841-d122-b48e613b60c1"
      },
      "source": [
        "len(note_seq), range(len(note_seq)-4) # [4,8,12.....]"
      ],
      "execution_count": 89,
      "outputs": [
        {
          "output_type": "execute_result",
          "data": {
            "text/plain": [
              "(54, range(0, 50))"
            ]
          },
          "metadata": {
            "tags": []
          },
          "execution_count": 89
        }
      ]
    },
    {
      "cell_type": "code",
      "metadata": {
        "colab": {
          "base_uri": "https://localhost:8080/"
        },
        "id": "dnlLcq_lTzO-",
        "outputId": "5674e014-8230-4d4b-c3e7-fe7afbdb18f6"
      },
      "source": [
        "code2idx['c4']"
      ],
      "execution_count": 90,
      "outputs": [
        {
          "output_type": "execute_result",
          "data": {
            "text/plain": [
              "0"
            ]
          },
          "metadata": {
            "tags": []
          },
          "execution_count": 90
        }
      ]
    },
    {
      "cell_type": "code",
      "metadata": {
        "colab": {
          "base_uri": "https://localhost:8080/"
        },
        "id": "wdXcglmvld5P",
        "outputId": "07536971-1a68-4657-ce37-d31c780897d1"
      },
      "source": [
        "dataset = list()\n",
        "for i in range(len(note_seq)-4):\n",
        "  subset = note_seq[i:i+4]\n",
        "  items = list()\n",
        "  # print(subset)\n",
        "  for item in subset:\n",
        "    code2idx[item]\n",
        "    # print(code2idx[item])\n",
        "    items.append(code2idx[item])\n",
        "  # print(items)\n",
        "  dataset.append(items)\n",
        "print(dataset)"
      ],
      "execution_count": 91,
      "outputs": [
        {
          "output_type": "stream",
          "text": [
            "[[11, 9, 2, 10], [9, 2, 10, 8], [2, 10, 8, 1], [10, 8, 1, 7], [8, 1, 7, 8], [1, 7, 8, 9], [7, 8, 9, 10], [8, 9, 10, 11], [9, 10, 11, 11], [10, 11, 11, 4], [11, 11, 4, 11], [11, 4, 11, 9], [4, 11, 9, 9], [11, 9, 9, 9], [9, 9, 9, 10], [9, 9, 10, 8], [9, 10, 8, 1], [10, 8, 1, 7], [8, 1, 7, 9], [1, 7, 9, 11], [7, 9, 11, 11], [9, 11, 11, 9], [11, 11, 9, 9], [11, 9, 9, 2], [9, 9, 2, 8], [9, 2, 8, 8], [2, 8, 8, 8], [8, 8, 8, 8], [8, 8, 8, 8], [8, 8, 8, 9], [8, 8, 9, 3], [8, 9, 3, 9], [9, 3, 9, 9], [3, 9, 9, 9], [9, 9, 9, 9], [9, 9, 9, 9], [9, 9, 9, 10], [9, 9, 10, 4], [9, 10, 4, 11], [10, 4, 11, 9], [4, 11, 9, 2], [11, 9, 2, 10], [9, 2, 10, 8], [2, 10, 8, 1], [10, 8, 1, 7], [8, 1, 7, 9], [1, 7, 9, 11], [7, 9, 11, 11], [9, 11, 11, 9], [11, 11, 9, 9]]\n"
          ],
          "name": "stdout"
        }
      ]
    },
    {
      "cell_type": "code",
      "metadata": {
        "id": "kMKxdC47V1BG"
      },
      "source": [
        "import numpy as np\n",
        "datasets = np.array(dataset)"
      ],
      "execution_count": 92,
      "outputs": []
    },
    {
      "cell_type": "code",
      "metadata": {
        "id": "QiEatX7hnoR2",
        "colab": {
          "base_uri": "https://localhost:8080/"
        },
        "outputId": "6c371f14-b6ea-43c3-9e41-4193f3839cd6"
      },
      "source": [
        "x_train = datasets[:,0:3]\n",
        "x_train.shape, x_train"
      ],
      "execution_count": 93,
      "outputs": [
        {
          "output_type": "execute_result",
          "data": {
            "text/plain": [
              "((50, 3), array([[11,  9,  2],\n",
              "        [ 9,  2, 10],\n",
              "        [ 2, 10,  8],\n",
              "        [10,  8,  1],\n",
              "        [ 8,  1,  7],\n",
              "        [ 1,  7,  8],\n",
              "        [ 7,  8,  9],\n",
              "        [ 8,  9, 10],\n",
              "        [ 9, 10, 11],\n",
              "        [10, 11, 11],\n",
              "        [11, 11,  4],\n",
              "        [11,  4, 11],\n",
              "        [ 4, 11,  9],\n",
              "        [11,  9,  9],\n",
              "        [ 9,  9,  9],\n",
              "        [ 9,  9, 10],\n",
              "        [ 9, 10,  8],\n",
              "        [10,  8,  1],\n",
              "        [ 8,  1,  7],\n",
              "        [ 1,  7,  9],\n",
              "        [ 7,  9, 11],\n",
              "        [ 9, 11, 11],\n",
              "        [11, 11,  9],\n",
              "        [11,  9,  9],\n",
              "        [ 9,  9,  2],\n",
              "        [ 9,  2,  8],\n",
              "        [ 2,  8,  8],\n",
              "        [ 8,  8,  8],\n",
              "        [ 8,  8,  8],\n",
              "        [ 8,  8,  8],\n",
              "        [ 8,  8,  9],\n",
              "        [ 8,  9,  3],\n",
              "        [ 9,  3,  9],\n",
              "        [ 3,  9,  9],\n",
              "        [ 9,  9,  9],\n",
              "        [ 9,  9,  9],\n",
              "        [ 9,  9,  9],\n",
              "        [ 9,  9, 10],\n",
              "        [ 9, 10,  4],\n",
              "        [10,  4, 11],\n",
              "        [ 4, 11,  9],\n",
              "        [11,  9,  2],\n",
              "        [ 9,  2, 10],\n",
              "        [ 2, 10,  8],\n",
              "        [10,  8,  1],\n",
              "        [ 8,  1,  7],\n",
              "        [ 1,  7,  9],\n",
              "        [ 7,  9, 11],\n",
              "        [ 9, 11, 11],\n",
              "        [11, 11,  9]]))"
            ]
          },
          "metadata": {
            "tags": []
          },
          "execution_count": 93
        }
      ]
    },
    {
      "cell_type": "code",
      "metadata": {
        "colab": {
          "base_uri": "https://localhost:8080/"
        },
        "id": "t5l8X7rAVypn",
        "outputId": "c56cb643-9de9-42c9-b91f-1ad9b9615380"
      },
      "source": [
        "y_train = datasets[:,3]\n",
        "y_train.shape, y_train"
      ],
      "execution_count": 94,
      "outputs": [
        {
          "output_type": "execute_result",
          "data": {
            "text/plain": [
              "((50,),\n",
              " array([10,  8,  1,  7,  8,  9, 10, 11, 11,  4, 11,  9,  9,  9, 10,  8,  1,\n",
              "         7,  9, 11, 11,  9,  9,  2,  8,  8,  8,  8,  8,  9,  3,  9,  9,  9,\n",
              "         9,  9, 10,  4, 11,  9,  2, 10,  8,  1,  7,  9, 11, 11,  9,  9]))"
            ]
          },
          "metadata": {
            "tags": []
          },
          "execution_count": 94
        }
      ]
    },
    {
      "cell_type": "code",
      "metadata": {
        "colab": {
          "base_uri": "https://localhost:8080/"
        },
        "id": "5VbBEsI8XMQv",
        "outputId": "4af9640a-d988-49a8-d370-4f8c830f6940"
      },
      "source": [
        "len(code2idx)"
      ],
      "execution_count": 95,
      "outputs": [
        {
          "output_type": "execute_result",
          "data": {
            "text/plain": [
              "14"
            ]
          },
          "metadata": {
            "tags": []
          },
          "execution_count": 95
        }
      ]
    },
    {
      "cell_type": "code",
      "metadata": {
        "colab": {
          "base_uri": "https://localhost:8080/"
        },
        "id": "XwJhaXDUWOVe",
        "outputId": "a84e2848-fe65-4809-c963-0deda38b8857"
      },
      "source": [
        "x_train = x_train / 13    # 정규화 min max 스케일링\n",
        "x_train[3]"
      ],
      "execution_count": 96,
      "outputs": [
        {
          "output_type": "execute_result",
          "data": {
            "text/plain": [
              "array([0.76923077, 0.61538462, 0.07692308])"
            ]
          },
          "metadata": {
            "tags": []
          },
          "execution_count": 96
        }
      ]
    },
    {
      "cell_type": "code",
      "metadata": {
        "id": "LRE7fl6bXlxH"
      },
      "source": [
        "# make model"
      ],
      "execution_count": 97,
      "outputs": []
    },
    {
      "cell_type": "code",
      "metadata": {
        "id": "MzKr00DfXaV_"
      },
      "source": [
        "import tensorflow as tf"
      ],
      "execution_count": 98,
      "outputs": []
    },
    {
      "cell_type": "code",
      "metadata": {
        "colab": {
          "base_uri": "https://localhost:8080/"
        },
        "id": "RgXEWVhbcuBX",
        "outputId": "bcbb3658-75e2-42e5-c63d-d6586d948768"
      },
      "source": [
        "x_train.shape, x_train[2]   # 현재는 넘파이, 스칼라 --> tensorflow type(tensor) 그러면 (50, 3, 1)로 바뀐다. "
      ],
      "execution_count": 99,
      "outputs": [
        {
          "output_type": "execute_result",
          "data": {
            "text/plain": [
              "((50, 3), array([0.15384615, 0.76923077, 0.61538462]))"
            ]
          },
          "metadata": {
            "tags": []
          },
          "execution_count": 99
        }
      ]
    },
    {
      "cell_type": "code",
      "metadata": {
        "colab": {
          "base_uri": "https://localhost:8080/"
        },
        "id": "Oo6Lo1Zid6Xu",
        "outputId": "48877552-0db7-4c61-efe8-88bab5245b6e"
      },
      "source": [
        "X_train = np.reshape(x_train, (50, 3, 1))   # reshape된 tensor의 모양, 위치값이 명확하다. \n",
        "X_train.shape, X_train[2]"
      ],
      "execution_count": 100,
      "outputs": [
        {
          "output_type": "execute_result",
          "data": {
            "text/plain": [
              "((50, 3, 1), array([[0.15384615],\n",
              "        [0.76923077],\n",
              "        [0.61538462]]))"
            ]
          },
          "metadata": {
            "tags": []
          },
          "execution_count": 100
        }
      ]
    },
    {
      "cell_type": "code",
      "metadata": {
        "colab": {
          "base_uri": "https://localhost:8080/"
        },
        "id": "KD_C9XMqgUuf",
        "outputId": "f516d2b8-8bac-4c04-dbc0-736dc0c5be75"
      },
      "source": [
        "np.unique(y_train)     # unique는 9개지만 code2idx를 봤을 때 13개의 의견이 나와야 하므로 output에 13개"
      ],
      "execution_count": 101,
      "outputs": [
        {
          "output_type": "execute_result",
          "data": {
            "text/plain": [
              "array([ 1,  2,  3,  4,  7,  8,  9, 10, 11])"
            ]
          },
          "metadata": {
            "tags": []
          },
          "execution_count": 101
        }
      ]
    },
    {
      "cell_type": "code",
      "metadata": {
        "id": "6ZfB70I3X0xh"
      },
      "source": [
        "model = tf.keras.models.Sequential()"
      ],
      "execution_count": 102,
      "outputs": []
    },
    {
      "cell_type": "code",
      "metadata": {
        "colab": {
          "base_uri": "https://localhost:8080/"
        },
        "id": "CCIN59bDX-Ff",
        "outputId": "ac4c7e80-e417-4edc-ef19-66d8fd8d5472"
      },
      "source": [
        "model.add(tf.keras.Input(shape=(3, 1))) # input layer    임베딩할 필요가 없다. 그 값을 그대로 사용하기 때문에\n",
        "model.add(tf.keras.layers.LSTM(128)) # input and hideen layer  # tensor의 모양으로 바꿔줘야 한다. (batch_size, tiemsteps, input_dim) --> (rows, cols, 1)   input_dim 한번에 처리할 수 있는 행의 갯수\n",
        "model.add(tf.keras.layers.Dense(13, activation='softmax')) # output layer\n",
        "\n",
        "model.compile(optimizer='adam', loss='sparse_categorical_crossentropy', metrics=['acc'])  # gadget"
      ],
      "execution_count": 103,
      "outputs": [
        {
          "output_type": "stream",
          "text": [
            "WARNING:tensorflow:Please add `keras.layers.InputLayer` instead of `keras.Input` to Sequential model. `keras.Input` is intended to be used by Functional model.\n"
          ],
          "name": "stdout"
        }
      ]
    },
    {
      "cell_type": "code",
      "metadata": {
        "colab": {
          "base_uri": "https://localhost:8080/"
        },
        "id": "oEJZxe7Chsdn",
        "outputId": "82870cf3-9030-4dc0-f7bf-7d52c959b2a2"
      },
      "source": [
        "hist = model.fit(X_train, y_train, epochs=2, batch_size=10)"
      ],
      "execution_count": 107,
      "outputs": [
        {
          "output_type": "stream",
          "text": [
            "Epoch 1/2\n",
            "5/5 [==============================] - 1s 6ms/step - loss: 1.9383 - acc: 0.3400\n",
            "Epoch 2/2\n",
            "5/5 [==============================] - 0s 5ms/step - loss: 1.9316 - acc: 0.3400\n"
          ],
          "name": "stdout"
        }
      ]
    },
    {
      "cell_type": "markdown",
      "metadata": {
        "id": "0OvPT28lliWG"
      },
      "source": [
        "# evaluation"
      ]
    },
    {
      "cell_type": "code",
      "metadata": {
        "colab": {
          "base_uri": "https://localhost:8080/"
        },
        "id": "gNaJClp2lFN3",
        "outputId": "c2c69d93-ad7a-4ee2-fb09-8c76401dd9d2"
      },
      "source": [
        "model.evaluate(X_train, y_train)"
      ],
      "execution_count": 108,
      "outputs": [
        {
          "output_type": "stream",
          "text": [
            "2/2 [==============================] - 0s 8ms/step - loss: 1.9268 - acc: 0.3400\n"
          ],
          "name": "stdout"
        },
        {
          "output_type": "execute_result",
          "data": {
            "text/plain": [
              "[1.926841139793396, 0.3400000035762787]"
            ]
          },
          "metadata": {
            "tags": []
          },
          "execution_count": 108
        }
      ]
    },
    {
      "cell_type": "code",
      "metadata": {
        "colab": {
          "base_uri": "https://localhost:8080/"
        },
        "id": "crc_MKv3lxC3",
        "outputId": "11a21ad3-9b99-49e6-d93d-6e25e54bcd6c"
      },
      "source": [
        "model.predict(X_train[4:5])"
      ],
      "execution_count": 109,
      "outputs": [
        {
          "output_type": "execute_result",
          "data": {
            "text/plain": [
              "array([[0.01617569, 0.06399161, 0.05124573, 0.03313773, 0.05414357,\n",
              "        0.01464881, 0.01514724, 0.06504932, 0.15325011, 0.28126413,\n",
              "        0.09270718, 0.14447176, 0.0147671 ]], dtype=float32)"
            ]
          },
          "metadata": {
            "tags": []
          },
          "execution_count": 109
        }
      ]
    },
    {
      "cell_type": "code",
      "metadata": {
        "id": "E6ne0sxYmdp3"
      },
      "source": [
        ""
      ],
      "execution_count": 106,
      "outputs": []
    }
  ]
}