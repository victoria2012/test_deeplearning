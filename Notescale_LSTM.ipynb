{
  "nbformat": 4,
  "nbformat_minor": 0,
  "metadata": {
    "colab": {
      "name": "Notescale_LSTM.ipynb",
      "provenance": [],
      "collapsed_sections": [],
      "authorship_tag": "ABX9TyOA/eLBT/H2uR0NsqOix0sj",
      "include_colab_link": true
    },
    "kernelspec": {
      "name": "python3",
      "display_name": "Python 3"
    },
    "language_info": {
      "name": "python"
    }
  },
  "cells": [
    {
      "cell_type": "markdown",
      "metadata": {
        "id": "view-in-github",
        "colab_type": "text"
      },
      "source": [
        "<a href=\"https://colab.research.google.com/github/victoria2012/test_deeplearning/blob/master/Notescale_LSTM.ipynb\" target=\"_parent\"><img src=\"https://colab.research.google.com/assets/colab-badge.svg\" alt=\"Open In Colab\"/></a>"
      ]
    },
    {
      "cell_type": "code",
      "metadata": {
        "id": "A8bISZw5lBJh"
      },
      "source": [
        "note_seq = ['g8', 'e8', 'e4', 'f8', 'd8', 'd4', 'c8', 'd8', 'e8', 'f8', 'g8', 'g8', 'g4',\n",
        "       'g8', 'e8', 'e8', 'e8', 'f8', 'd8', 'd4', 'c8', 'e8', 'g8', 'g8', 'e8', 'e8', 'e4',\n",
        "       'd8', 'd8', 'd8', 'd8', 'd8', 'e8', 'f4', 'e8', 'e8', 'e8', 'e8', 'e8', 'f8', 'g4',\n",
        "       'g8', 'e8', 'e4', 'f8', 'd8', 'd4', 'c8', 'e8', 'g8', 'g8', 'e8', 'e8', 'e4']"
      ],
      "execution_count": 2,
      "outputs": []
    },
    {
      "cell_type": "code",
      "metadata": {
        "colab": {
          "base_uri": "https://localhost:8080/"
        },
        "id": "9r_-yxATn3jV",
        "outputId": "91da0e5b-9475-4f8c-d8b3-0ab4022650eb"
      },
      "source": [
        "note_seq[0:4], note_seq[1:5], note_seq[2:6]"
      ],
      "execution_count": 6,
      "outputs": [
        {
          "output_type": "execute_result",
          "data": {
            "text/plain": [
              "(['g8', 'e8', 'e4', 'f8'], ['e8', 'e4', 'f8', 'd8'], ['e4', 'f8', 'd8', 'd4'])"
            ]
          },
          "metadata": {
            "tags": []
          },
          "execution_count": 6
        }
      ]
    },
    {
      "cell_type": "code",
      "metadata": {
        "id": "qMyZ523rlRW4"
      },
      "source": [
        "code2idx = {'c4':0, 'd4':1, 'e4':2, 'f4':3, 'g4':4, 'a4':5, 'b4':6,\n",
        "            'c8':7, 'd8':8, 'e8':9, 'f8':10, 'g8':11, 'a8':12, 'b8':13}\n"
      ],
      "execution_count": 3,
      "outputs": []
    },
    {
      "cell_type": "code",
      "metadata": {
        "colab": {
          "base_uri": "https://localhost:8080/"
        },
        "id": "U3wDWfmwnf9X",
        "outputId": "2b2db92a-feeb-44e7-9c12-8807a5958ed1"
      },
      "source": [
        "range(len(note_seq)-4) # [4,8,12.....]"
      ],
      "execution_count": 4,
      "outputs": [
        {
          "output_type": "execute_result",
          "data": {
            "text/plain": [
              "range(0, 50)"
            ]
          },
          "metadata": {
            "tags": []
          },
          "execution_count": 4
        }
      ]
    },
    {
      "cell_type": "code",
      "metadata": {
        "colab": {
          "base_uri": "https://localhost:8080/"
        },
        "id": "wdXcglmvld5P",
        "outputId": "169a3158-3d66-49c6-a3e8-6672b665aad0"
      },
      "source": [
        "for i in range(len(note_seq)-4):\n",
        "  subset = note_seq[i:i+4]\n",
        "  print(subset)\n",
        "  for item in subset:\n",
        "    code2idx[item]\n",
        "    print(code2idx[item])"
      ],
      "execution_count": 8,
      "outputs": [
        {
          "output_type": "stream",
          "text": [
            "['g8', 'e8', 'e4', 'f8']\n",
            "11\n",
            "9\n",
            "2\n",
            "10\n",
            "['e8', 'e4', 'f8', 'd8']\n",
            "9\n",
            "2\n",
            "10\n",
            "8\n",
            "['e4', 'f8', 'd8', 'd4']\n",
            "2\n",
            "10\n",
            "8\n",
            "1\n",
            "['f8', 'd8', 'd4', 'c8']\n",
            "10\n",
            "8\n",
            "1\n",
            "7\n",
            "['d8', 'd4', 'c8', 'd8']\n",
            "8\n",
            "1\n",
            "7\n",
            "8\n",
            "['d4', 'c8', 'd8', 'e8']\n",
            "1\n",
            "7\n",
            "8\n",
            "9\n",
            "['c8', 'd8', 'e8', 'f8']\n",
            "7\n",
            "8\n",
            "9\n",
            "10\n",
            "['d8', 'e8', 'f8', 'g8']\n",
            "8\n",
            "9\n",
            "10\n",
            "11\n",
            "['e8', 'f8', 'g8', 'g8']\n",
            "9\n",
            "10\n",
            "11\n",
            "11\n",
            "['f8', 'g8', 'g8', 'g4']\n",
            "10\n",
            "11\n",
            "11\n",
            "4\n",
            "['g8', 'g8', 'g4', 'g8']\n",
            "11\n",
            "11\n",
            "4\n",
            "11\n",
            "['g8', 'g4', 'g8', 'e8']\n",
            "11\n",
            "4\n",
            "11\n",
            "9\n",
            "['g4', 'g8', 'e8', 'e8']\n",
            "4\n",
            "11\n",
            "9\n",
            "9\n",
            "['g8', 'e8', 'e8', 'e8']\n",
            "11\n",
            "9\n",
            "9\n",
            "9\n",
            "['e8', 'e8', 'e8', 'f8']\n",
            "9\n",
            "9\n",
            "9\n",
            "10\n",
            "['e8', 'e8', 'f8', 'd8']\n",
            "9\n",
            "9\n",
            "10\n",
            "8\n",
            "['e8', 'f8', 'd8', 'd4']\n",
            "9\n",
            "10\n",
            "8\n",
            "1\n",
            "['f8', 'd8', 'd4', 'c8']\n",
            "10\n",
            "8\n",
            "1\n",
            "7\n",
            "['d8', 'd4', 'c8', 'e8']\n",
            "8\n",
            "1\n",
            "7\n",
            "9\n",
            "['d4', 'c8', 'e8', 'g8']\n",
            "1\n",
            "7\n",
            "9\n",
            "11\n",
            "['c8', 'e8', 'g8', 'g8']\n",
            "7\n",
            "9\n",
            "11\n",
            "11\n",
            "['e8', 'g8', 'g8', 'e8']\n",
            "9\n",
            "11\n",
            "11\n",
            "9\n",
            "['g8', 'g8', 'e8', 'e8']\n",
            "11\n",
            "11\n",
            "9\n",
            "9\n",
            "['g8', 'e8', 'e8', 'e4']\n",
            "11\n",
            "9\n",
            "9\n",
            "2\n",
            "['e8', 'e8', 'e4', 'd8']\n",
            "9\n",
            "9\n",
            "2\n",
            "8\n",
            "['e8', 'e4', 'd8', 'd8']\n",
            "9\n",
            "2\n",
            "8\n",
            "8\n",
            "['e4', 'd8', 'd8', 'd8']\n",
            "2\n",
            "8\n",
            "8\n",
            "8\n",
            "['d8', 'd8', 'd8', 'd8']\n",
            "8\n",
            "8\n",
            "8\n",
            "8\n",
            "['d8', 'd8', 'd8', 'd8']\n",
            "8\n",
            "8\n",
            "8\n",
            "8\n",
            "['d8', 'd8', 'd8', 'e8']\n",
            "8\n",
            "8\n",
            "8\n",
            "9\n",
            "['d8', 'd8', 'e8', 'f4']\n",
            "8\n",
            "8\n",
            "9\n",
            "3\n",
            "['d8', 'e8', 'f4', 'e8']\n",
            "8\n",
            "9\n",
            "3\n",
            "9\n",
            "['e8', 'f4', 'e8', 'e8']\n",
            "9\n",
            "3\n",
            "9\n",
            "9\n",
            "['f4', 'e8', 'e8', 'e8']\n",
            "3\n",
            "9\n",
            "9\n",
            "9\n",
            "['e8', 'e8', 'e8', 'e8']\n",
            "9\n",
            "9\n",
            "9\n",
            "9\n",
            "['e8', 'e8', 'e8', 'e8']\n",
            "9\n",
            "9\n",
            "9\n",
            "9\n",
            "['e8', 'e8', 'e8', 'f8']\n",
            "9\n",
            "9\n",
            "9\n",
            "10\n",
            "['e8', 'e8', 'f8', 'g4']\n",
            "9\n",
            "9\n",
            "10\n",
            "4\n",
            "['e8', 'f8', 'g4', 'g8']\n",
            "9\n",
            "10\n",
            "4\n",
            "11\n",
            "['f8', 'g4', 'g8', 'e8']\n",
            "10\n",
            "4\n",
            "11\n",
            "9\n",
            "['g4', 'g8', 'e8', 'e4']\n",
            "4\n",
            "11\n",
            "9\n",
            "2\n",
            "['g8', 'e8', 'e4', 'f8']\n",
            "11\n",
            "9\n",
            "2\n",
            "10\n",
            "['e8', 'e4', 'f8', 'd8']\n",
            "9\n",
            "2\n",
            "10\n",
            "8\n",
            "['e4', 'f8', 'd8', 'd4']\n",
            "2\n",
            "10\n",
            "8\n",
            "1\n",
            "['f8', 'd8', 'd4', 'c8']\n",
            "10\n",
            "8\n",
            "1\n",
            "7\n",
            "['d8', 'd4', 'c8', 'e8']\n",
            "8\n",
            "1\n",
            "7\n",
            "9\n",
            "['d4', 'c8', 'e8', 'g8']\n",
            "1\n",
            "7\n",
            "9\n",
            "11\n",
            "['c8', 'e8', 'g8', 'g8']\n",
            "7\n",
            "9\n",
            "11\n",
            "11\n",
            "['e8', 'g8', 'g8', 'e8']\n",
            "9\n",
            "11\n",
            "11\n",
            "9\n",
            "['g8', 'g8', 'e8', 'e8']\n",
            "11\n",
            "11\n",
            "9\n",
            "9\n"
          ],
          "name": "stdout"
        }
      ]
    },
    {
      "cell_type": "code",
      "metadata": {
        "id": "QiEatX7hnoR2"
      },
      "source": [
        ""
      ],
      "execution_count": null,
      "outputs": []
    }
  ]
}