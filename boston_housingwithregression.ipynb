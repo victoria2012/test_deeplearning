{
  "nbformat": 4,
  "nbformat_minor": 0,
  "metadata": {
    "colab": {
      "name": "boston_housingwithregression.ipynb",
      "provenance": [],
      "authorship_tag": "ABX9TyOWzvKFP0NlJVU4cHbhMUGZ"
    },
    "kernelspec": {
      "name": "python3",
      "display_name": "Python 3"
    },
    "language_info": {
      "name": "python"
    }
  },
  "cells": [
    {
      "cell_type": "code",
      "metadata": {
        "id": "YAwETSHRX3aP"
      },
      "source": [
        "import tensorflow as tf\n",
        "from tensorflow.keras.datasets.boston_housing import load_data"
      ],
      "execution_count": 1,
      "outputs": []
    },
    {
      "cell_type": "markdown",
      "metadata": {
        "id": "C65a0lSu1Cwf"
      },
      "source": [
        "# Dataset"
      ]
    },
    {
      "cell_type": "code",
      "metadata": {
        "colab": {
          "base_uri": "https://localhost:8080/"
        },
        "id": "VCfkIAgea9QJ",
        "outputId": "0b3aa4f7-6079-44ee-a4d3-cad8d35abd96"
      },
      "source": [
        "(x_train, y_train), (x_test, y_test) = load_data(path='boston_housing.npz', test_split=0.2, seed=113)             # seed는 고정시키기 위한 것. 300이하로 설정하는 것이 좋다. \n",
        "x_train.shape, y_train.shape, x_test.shape, y_test.shape, type(x_train)                                           # 넘파이 파일을 데이터베이스에 담아야 한다."
      ],
      "execution_count": 2,
      "outputs": [
        {
          "output_type": "execute_result",
          "data": {
            "text/plain": [
              "((404, 13), (404,), (102, 13), (102,), numpy.ndarray)"
            ]
          },
          "metadata": {
            "tags": []
          },
          "execution_count": 2
        }
      ]
    },
    {
      "cell_type": "markdown",
      "metadata": {
        "id": "33X38xZO1Klv"
      },
      "source": [
        "연속형이기 때문에 y값을 볼 필요는 없다. "
      ]
    },
    {
      "cell_type": "code",
      "metadata": {
        "id": "DXOp941x1G3m"
      },
      "source": [
        "import pandas as pd"
      ],
      "execution_count": 3,
      "outputs": []
    },
    {
      "cell_type": "code",
      "metadata": {
        "colab": {
          "base_uri": "https://localhost:8080/"
        },
        "id": "3FCADEAi1WGk",
        "outputId": "e6c5b6cf-dae7-46f9-a155-5a6a133e6edc"
      },
      "source": [
        "df = pd.DataFrame(x_train)\n",
        "df.info()"
      ],
      "execution_count": 4,
      "outputs": [
        {
          "output_type": "stream",
          "text": [
            "<class 'pandas.core.frame.DataFrame'>\n",
            "RangeIndex: 404 entries, 0 to 403\n",
            "Data columns (total 13 columns):\n",
            " #   Column  Non-Null Count  Dtype  \n",
            "---  ------  --------------  -----  \n",
            " 0   0       404 non-null    float64\n",
            " 1   1       404 non-null    float64\n",
            " 2   2       404 non-null    float64\n",
            " 3   3       404 non-null    float64\n",
            " 4   4       404 non-null    float64\n",
            " 5   5       404 non-null    float64\n",
            " 6   6       404 non-null    float64\n",
            " 7   7       404 non-null    float64\n",
            " 8   8       404 non-null    float64\n",
            " 9   9       404 non-null    float64\n",
            " 10  10      404 non-null    float64\n",
            " 11  11      404 non-null    float64\n",
            " 12  12      404 non-null    float64\n",
            "dtypes: float64(13)\n",
            "memory usage: 41.2 KB\n"
          ],
          "name": "stdout"
        }
      ]
    },
    {
      "cell_type": "markdown",
      "metadata": {
        "id": "ClLT_i0J2OPP"
      },
      "source": [
        "float 타입이기 때문에 숫자에 space가 없다. "
      ]
    },
    {
      "cell_type": "code",
      "metadata": {
        "colab": {
          "base_uri": "https://localhost:8080/",
          "height": 297
        },
        "id": "I5asUr221gSG",
        "outputId": "6c04ae30-9e08-49f5-83ad-cd8ad4e80fd4"
      },
      "source": [
        "df.describe()"
      ],
      "execution_count": 5,
      "outputs": [
        {
          "output_type": "execute_result",
          "data": {
            "text/html": [
              "<div>\n",
              "<style scoped>\n",
              "    .dataframe tbody tr th:only-of-type {\n",
              "        vertical-align: middle;\n",
              "    }\n",
              "\n",
              "    .dataframe tbody tr th {\n",
              "        vertical-align: top;\n",
              "    }\n",
              "\n",
              "    .dataframe thead th {\n",
              "        text-align: right;\n",
              "    }\n",
              "</style>\n",
              "<table border=\"1\" class=\"dataframe\">\n",
              "  <thead>\n",
              "    <tr style=\"text-align: right;\">\n",
              "      <th></th>\n",
              "      <th>0</th>\n",
              "      <th>1</th>\n",
              "      <th>2</th>\n",
              "      <th>3</th>\n",
              "      <th>4</th>\n",
              "      <th>5</th>\n",
              "      <th>6</th>\n",
              "      <th>7</th>\n",
              "      <th>8</th>\n",
              "      <th>9</th>\n",
              "      <th>10</th>\n",
              "      <th>11</th>\n",
              "      <th>12</th>\n",
              "    </tr>\n",
              "  </thead>\n",
              "  <tbody>\n",
              "    <tr>\n",
              "      <th>count</th>\n",
              "      <td>404.000000</td>\n",
              "      <td>404.000000</td>\n",
              "      <td>404.000000</td>\n",
              "      <td>404.000000</td>\n",
              "      <td>404.000000</td>\n",
              "      <td>404.000000</td>\n",
              "      <td>404.000000</td>\n",
              "      <td>404.000000</td>\n",
              "      <td>404.000000</td>\n",
              "      <td>404.000000</td>\n",
              "      <td>404.000000</td>\n",
              "      <td>404.000000</td>\n",
              "      <td>404.000000</td>\n",
              "    </tr>\n",
              "    <tr>\n",
              "      <th>mean</th>\n",
              "      <td>3.745111</td>\n",
              "      <td>11.480198</td>\n",
              "      <td>11.104431</td>\n",
              "      <td>0.061881</td>\n",
              "      <td>0.557356</td>\n",
              "      <td>6.267082</td>\n",
              "      <td>69.010644</td>\n",
              "      <td>3.740271</td>\n",
              "      <td>9.440594</td>\n",
              "      <td>405.898515</td>\n",
              "      <td>18.475990</td>\n",
              "      <td>354.783168</td>\n",
              "      <td>12.740817</td>\n",
              "    </tr>\n",
              "    <tr>\n",
              "      <th>std</th>\n",
              "      <td>9.240734</td>\n",
              "      <td>23.767711</td>\n",
              "      <td>6.811308</td>\n",
              "      <td>0.241238</td>\n",
              "      <td>0.117293</td>\n",
              "      <td>0.709788</td>\n",
              "      <td>27.940665</td>\n",
              "      <td>2.030215</td>\n",
              "      <td>8.698360</td>\n",
              "      <td>166.374543</td>\n",
              "      <td>2.200382</td>\n",
              "      <td>94.111148</td>\n",
              "      <td>7.254545</td>\n",
              "    </tr>\n",
              "    <tr>\n",
              "      <th>min</th>\n",
              "      <td>0.006320</td>\n",
              "      <td>0.000000</td>\n",
              "      <td>0.460000</td>\n",
              "      <td>0.000000</td>\n",
              "      <td>0.385000</td>\n",
              "      <td>3.561000</td>\n",
              "      <td>2.900000</td>\n",
              "      <td>1.129600</td>\n",
              "      <td>1.000000</td>\n",
              "      <td>188.000000</td>\n",
              "      <td>12.600000</td>\n",
              "      <td>0.320000</td>\n",
              "      <td>1.730000</td>\n",
              "    </tr>\n",
              "    <tr>\n",
              "      <th>25%</th>\n",
              "      <td>0.081437</td>\n",
              "      <td>0.000000</td>\n",
              "      <td>5.130000</td>\n",
              "      <td>0.000000</td>\n",
              "      <td>0.453000</td>\n",
              "      <td>5.874750</td>\n",
              "      <td>45.475000</td>\n",
              "      <td>2.077100</td>\n",
              "      <td>4.000000</td>\n",
              "      <td>279.000000</td>\n",
              "      <td>17.225000</td>\n",
              "      <td>374.672500</td>\n",
              "      <td>6.890000</td>\n",
              "    </tr>\n",
              "    <tr>\n",
              "      <th>50%</th>\n",
              "      <td>0.268880</td>\n",
              "      <td>0.000000</td>\n",
              "      <td>9.690000</td>\n",
              "      <td>0.000000</td>\n",
              "      <td>0.538000</td>\n",
              "      <td>6.198500</td>\n",
              "      <td>78.500000</td>\n",
              "      <td>3.142300</td>\n",
              "      <td>5.000000</td>\n",
              "      <td>330.000000</td>\n",
              "      <td>19.100000</td>\n",
              "      <td>391.250000</td>\n",
              "      <td>11.395000</td>\n",
              "    </tr>\n",
              "    <tr>\n",
              "      <th>75%</th>\n",
              "      <td>3.674808</td>\n",
              "      <td>12.500000</td>\n",
              "      <td>18.100000</td>\n",
              "      <td>0.000000</td>\n",
              "      <td>0.631000</td>\n",
              "      <td>6.609000</td>\n",
              "      <td>94.100000</td>\n",
              "      <td>5.118000</td>\n",
              "      <td>24.000000</td>\n",
              "      <td>666.000000</td>\n",
              "      <td>20.200000</td>\n",
              "      <td>396.157500</td>\n",
              "      <td>17.092500</td>\n",
              "    </tr>\n",
              "    <tr>\n",
              "      <th>max</th>\n",
              "      <td>88.976200</td>\n",
              "      <td>100.000000</td>\n",
              "      <td>27.740000</td>\n",
              "      <td>1.000000</td>\n",
              "      <td>0.871000</td>\n",
              "      <td>8.725000</td>\n",
              "      <td>100.000000</td>\n",
              "      <td>10.710300</td>\n",
              "      <td>24.000000</td>\n",
              "      <td>711.000000</td>\n",
              "      <td>22.000000</td>\n",
              "      <td>396.900000</td>\n",
              "      <td>37.970000</td>\n",
              "    </tr>\n",
              "  </tbody>\n",
              "</table>\n",
              "</div>"
            ],
            "text/plain": [
              "               0           1           2   ...          10          11          12\n",
              "count  404.000000  404.000000  404.000000  ...  404.000000  404.000000  404.000000\n",
              "mean     3.745111   11.480198   11.104431  ...   18.475990  354.783168   12.740817\n",
              "std      9.240734   23.767711    6.811308  ...    2.200382   94.111148    7.254545\n",
              "min      0.006320    0.000000    0.460000  ...   12.600000    0.320000    1.730000\n",
              "25%      0.081437    0.000000    5.130000  ...   17.225000  374.672500    6.890000\n",
              "50%      0.268880    0.000000    9.690000  ...   19.100000  391.250000   11.395000\n",
              "75%      3.674808   12.500000   18.100000  ...   20.200000  396.157500   17.092500\n",
              "max     88.976200  100.000000   27.740000  ...   22.000000  396.900000   37.970000\n",
              "\n",
              "[8 rows x 13 columns]"
            ]
          },
          "metadata": {
            "tags": []
          },
          "execution_count": 5
        }
      ]
    },
    {
      "cell_type": "markdown",
      "metadata": {
        "id": "V8msls9E2fZe"
      },
      "source": [
        "컬럼마다 데이터값이 크게 차이가 나기 때문에 스케일링을 해줘야 한다. standardscaler"
      ]
    },
    {
      "cell_type": "code",
      "metadata": {
        "id": "UzSe47YY2oJ_"
      },
      "source": [
        "from sklearn.preprocessing import StandardScaler"
      ],
      "execution_count": 6,
      "outputs": []
    },
    {
      "cell_type": "code",
      "metadata": {
        "colab": {
          "base_uri": "https://localhost:8080/"
        },
        "id": "6-i8LhbK21sm",
        "outputId": "6f298a82-195c-49bd-c63b-7172a4af5ac8"
      },
      "source": [
        "scaler = StandardScaler()\n",
        "scaler.fit(x_train)"
      ],
      "execution_count": 7,
      "outputs": [
        {
          "output_type": "execute_result",
          "data": {
            "text/plain": [
              "StandardScaler(copy=True, with_mean=True, with_std=True)"
            ]
          },
          "metadata": {
            "tags": []
          },
          "execution_count": 7
        }
      ]
    },
    {
      "cell_type": "code",
      "metadata": {
        "colab": {
          "base_uri": "https://localhost:8080/"
        },
        "id": "dlhvmVB53d6v",
        "outputId": "505551df-8ba9-497e-9d6a-68a738cbc299"
      },
      "source": [
        "x_train = scaler.transform(x_train)\n",
        "x_test = scaler.transform(x_test)\n",
        "x_train.shape, x_test.shape"
      ],
      "execution_count": 8,
      "outputs": [
        {
          "output_type": "execute_result",
          "data": {
            "text/plain": [
              "((404, 13), (102, 13))"
            ]
          },
          "metadata": {
            "tags": []
          },
          "execution_count": 8
        }
      ]
    },
    {
      "cell_type": "code",
      "metadata": {
        "colab": {
          "base_uri": "https://localhost:8080/",
          "height": 297
        },
        "id": "EB55tDFS4Eq9",
        "outputId": "ab8b81ca-41ea-472d-e269-39cd894cf2d7"
      },
      "source": [
        "df = pd.DataFrame(x_train)\n",
        "df.describe()"
      ],
      "execution_count": 9,
      "outputs": [
        {
          "output_type": "execute_result",
          "data": {
            "text/html": [
              "<div>\n",
              "<style scoped>\n",
              "    .dataframe tbody tr th:only-of-type {\n",
              "        vertical-align: middle;\n",
              "    }\n",
              "\n",
              "    .dataframe tbody tr th {\n",
              "        vertical-align: top;\n",
              "    }\n",
              "\n",
              "    .dataframe thead th {\n",
              "        text-align: right;\n",
              "    }\n",
              "</style>\n",
              "<table border=\"1\" class=\"dataframe\">\n",
              "  <thead>\n",
              "    <tr style=\"text-align: right;\">\n",
              "      <th></th>\n",
              "      <th>0</th>\n",
              "      <th>1</th>\n",
              "      <th>2</th>\n",
              "      <th>3</th>\n",
              "      <th>4</th>\n",
              "      <th>5</th>\n",
              "      <th>6</th>\n",
              "      <th>7</th>\n",
              "      <th>8</th>\n",
              "      <th>9</th>\n",
              "      <th>10</th>\n",
              "      <th>11</th>\n",
              "      <th>12</th>\n",
              "    </tr>\n",
              "  </thead>\n",
              "  <tbody>\n",
              "    <tr>\n",
              "      <th>count</th>\n",
              "      <td>4.040000e+02</td>\n",
              "      <td>4.040000e+02</td>\n",
              "      <td>4.040000e+02</td>\n",
              "      <td>4.040000e+02</td>\n",
              "      <td>4.040000e+02</td>\n",
              "      <td>4.040000e+02</td>\n",
              "      <td>4.040000e+02</td>\n",
              "      <td>4.040000e+02</td>\n",
              "      <td>4.040000e+02</td>\n",
              "      <td>4.040000e+02</td>\n",
              "      <td>4.040000e+02</td>\n",
              "      <td>4.040000e+02</td>\n",
              "      <td>4.040000e+02</td>\n",
              "    </tr>\n",
              "    <tr>\n",
              "      <th>mean</th>\n",
              "      <td>-1.015414e-16</td>\n",
              "      <td>1.099231e-17</td>\n",
              "      <td>1.743380e-15</td>\n",
              "      <td>-1.266863e-16</td>\n",
              "      <td>-5.253773e-15</td>\n",
              "      <td>6.414149e-15</td>\n",
              "      <td>2.984411e-16</td>\n",
              "      <td>4.946538e-16</td>\n",
              "      <td>1.126711e-17</td>\n",
              "      <td>-1.981363e-16</td>\n",
              "      <td>2.366864e-14</td>\n",
              "      <td>5.956800e-15</td>\n",
              "      <td>6.139204e-16</td>\n",
              "    </tr>\n",
              "    <tr>\n",
              "      <th>std</th>\n",
              "      <td>1.001240e+00</td>\n",
              "      <td>1.001240e+00</td>\n",
              "      <td>1.001240e+00</td>\n",
              "      <td>1.001240e+00</td>\n",
              "      <td>1.001240e+00</td>\n",
              "      <td>1.001240e+00</td>\n",
              "      <td>1.001240e+00</td>\n",
              "      <td>1.001240e+00</td>\n",
              "      <td>1.001240e+00</td>\n",
              "      <td>1.001240e+00</td>\n",
              "      <td>1.001240e+00</td>\n",
              "      <td>1.001240e+00</td>\n",
              "      <td>1.001240e+00</td>\n",
              "    </tr>\n",
              "    <tr>\n",
              "      <th>min</th>\n",
              "      <td>-4.051005e-01</td>\n",
              "      <td>-4.836155e-01</td>\n",
              "      <td>-1.564696e+00</td>\n",
              "      <td>-2.568327e-01</td>\n",
              "      <td>-1.471269e+00</td>\n",
              "      <td>-3.817250e+00</td>\n",
              "      <td>-2.369042e+00</td>\n",
              "      <td>-1.287503e+00</td>\n",
              "      <td>-9.715693e-01</td>\n",
              "      <td>-1.311311e+00</td>\n",
              "      <td>-2.673752e+00</td>\n",
              "      <td>-3.771101e+00</td>\n",
              "      <td>-1.519664e+00</td>\n",
              "    </tr>\n",
              "    <tr>\n",
              "      <th>25%</th>\n",
              "      <td>-3.969615e-01</td>\n",
              "      <td>-4.836155e-01</td>\n",
              "      <td>-8.782218e-01</td>\n",
              "      <td>-2.568327e-01</td>\n",
              "      <td>-8.908055e-01</td>\n",
              "      <td>-5.534305e-01</td>\n",
              "      <td>-8.433882e-01</td>\n",
              "      <td>-8.202251e-01</td>\n",
              "      <td>-6.262491e-01</td>\n",
              "      <td>-7.636737e-01</td>\n",
              "      <td>-5.692381e-01</td>\n",
              "      <td>2.116008e-01</td>\n",
              "      <td>-8.075036e-01</td>\n",
              "    </tr>\n",
              "    <tr>\n",
              "      <th>50%</th>\n",
              "      <td>-3.766520e-01</td>\n",
              "      <td>-4.836155e-01</td>\n",
              "      <td>-2.079167e-01</td>\n",
              "      <td>-2.568327e-01</td>\n",
              "      <td>-1.652266e-01</td>\n",
              "      <td>-9.674263e-02</td>\n",
              "      <td>3.400464e-01</td>\n",
              "      <td>-2.949009e-01</td>\n",
              "      <td>-5.111423e-01</td>\n",
              "      <td>-4.567563e-01</td>\n",
              "      <td>2.839433e-01</td>\n",
              "      <td>3.879673e-01</td>\n",
              "      <td>-1.857436e-01</td>\n",
              "    </tr>\n",
              "    <tr>\n",
              "      <th>75%</th>\n",
              "      <td>-7.617386e-03</td>\n",
              "      <td>4.296024e-02</td>\n",
              "      <td>1.028326e+00</td>\n",
              "      <td>-2.568327e-01</td>\n",
              "      <td>6.286420e-01</td>\n",
              "      <td>4.823165e-01</td>\n",
              "      <td>8.990647e-01</td>\n",
              "      <td>6.794540e-01</td>\n",
              "      <td>1.675886e+00</td>\n",
              "      <td>1.565287e+00</td>\n",
              "      <td>7.844764e-01</td>\n",
              "      <td>4.401777e-01</td>\n",
              "      <td>6.005999e-01</td>\n",
              "    </tr>\n",
              "    <tr>\n",
              "      <th>max</th>\n",
              "      <td>9.234847e+00</td>\n",
              "      <td>3.728990e+00</td>\n",
              "      <td>2.445374e+00</td>\n",
              "      <td>3.893584e+00</td>\n",
              "      <td>2.677335e+00</td>\n",
              "      <td>3.467186e+00</td>\n",
              "      <td>1.110488e+00</td>\n",
              "      <td>3.437406e+00</td>\n",
              "      <td>1.675886e+00</td>\n",
              "      <td>1.836097e+00</td>\n",
              "      <td>1.603531e+00</td>\n",
              "      <td>4.480771e-01</td>\n",
              "      <td>3.482019e+00</td>\n",
              "    </tr>\n",
              "  </tbody>\n",
              "</table>\n",
              "</div>"
            ],
            "text/plain": [
              "                 0             1   ...            11            12\n",
              "count  4.040000e+02  4.040000e+02  ...  4.040000e+02  4.040000e+02\n",
              "mean  -1.015414e-16  1.099231e-17  ...  5.956800e-15  6.139204e-16\n",
              "std    1.001240e+00  1.001240e+00  ...  1.001240e+00  1.001240e+00\n",
              "min   -4.051005e-01 -4.836155e-01  ... -3.771101e+00 -1.519664e+00\n",
              "25%   -3.969615e-01 -4.836155e-01  ...  2.116008e-01 -8.075036e-01\n",
              "50%   -3.766520e-01 -4.836155e-01  ...  3.879673e-01 -1.857436e-01\n",
              "75%   -7.617386e-03  4.296024e-02  ...  4.401777e-01  6.005999e-01\n",
              "max    9.234847e+00  3.728990e+00  ...  4.480771e-01  3.482019e+00\n",
              "\n",
              "[8 rows x 13 columns]"
            ]
          },
          "metadata": {
            "tags": []
          },
          "execution_count": 9
        }
      ]
    },
    {
      "cell_type": "code",
      "metadata": {
        "id": "PweH4BdCeQhe"
      },
      "source": [
        "model = tf.keras.models.Sequential()"
      ],
      "execution_count": 10,
      "outputs": []
    },
    {
      "cell_type": "markdown",
      "metadata": {
        "id": "I2KorFx8x7rH"
      },
      "source": [
        "# Model and fit"
      ]
    },
    {
      "cell_type": "code",
      "metadata": {
        "colab": {
          "base_uri": "https://localhost:8080/"
        },
        "id": "I3x2OTNkfeLX",
        "outputId": "946fc22c-98b7-4b57-bbf2-6eb0c90c4b6d"
      },
      "source": [
        "model.add(tf.keras.Input(shape=(13)) )  # input layer     # 교육시킬때와 서비스할때의 값이 동일해야 하는데 변화되는 값을 넣을 수 없기 때문에(행의 갯수는 계속 변한다) 변화되지 않는 값인 열(컬럼)의 값을 넣는다. \n",
        "\n",
        "model.add(tf.keras.layers.Dense(64, activation='sigmoid')) # 기능 layer = hidden layer  # 파라미터에서 =이 없는 것은 꼭 넣어줘야 한다. 값이 꼭 들어가야 하는 것은 파라미터의 순서에서 앞에 위치한다. None은 꼭 들어가지 않아도 되거나 사용자의 판단에 맡기는 값이다.   \n",
        "model.add(tf.keras.layers.Dense(64, activation='sigmoid'))\n",
        "model.add(tf.keras.layers.Dense(64, activation='sigmoid'))\n",
        "\n",
        "model.add(tf.keras.layers.Dense(1,)) # output layer\n",
        "\n",
        "model.compile(optimizer='sgd', loss='mse', metrics=['mae'])           # mae 연속형일때 평가방식 중 mae가 좋다. 분류형일 경우는 acc로 하는 것이 좋다. 둘 다 loss율 모두 확인해야 함. "
      ],
      "execution_count": 11,
      "outputs": [
        {
          "output_type": "stream",
          "text": [
            "WARNING:tensorflow:Please add `keras.layers.InputLayer` instead of `keras.Input` to Sequential model. `keras.Input` is intended to be used by Functional model.\n"
          ],
          "name": "stdout"
        }
      ]
    },
    {
      "cell_type": "code",
      "metadata": {
        "colab": {
          "base_uri": "https://localhost:8080/",
          "height": 533
        },
        "id": "uAVgPk45qkD9",
        "outputId": "75988b8e-e0b0-4936-907c-1ab08648592c"
      },
      "source": [
        "tf.keras.utils.plot_model(model, show_shapes=True)"
      ],
      "execution_count": 12,
      "outputs": [
        {
          "output_type": "execute_result",
          "data": {
            "image/png": "[encoded data removed]",
            "text/plain": [
              "<IPython.core.display.Image object>"
            ]
          },
          "metadata": {
            "tags": []
          },
          "execution_count": 12
        }
      ]
    },
    {
      "cell_type": "code",
      "metadata": {
        "colab": {
          "base_uri": "https://localhost:8080/"
        },
        "id": "UklfbCgHrDEF",
        "outputId": "dd3aa22a-a28e-4a45-c603-919027d967a4"
      },
      "source": [
        "model.summary()"
      ],
      "execution_count": 13,
      "outputs": [
        {
          "output_type": "stream",
          "text": [
            "Model: \"sequential\"\n",
            "_________________________________________________________________\n",
            "Layer (type)                 Output Shape              Param #   \n",
            "=================================================================\n",
            "dense (Dense)                (None, 64)                896       \n",
            "_________________________________________________________________\n",
            "dense_1 (Dense)              (None, 64)                4160      \n",
            "_________________________________________________________________\n",
            "dense_2 (Dense)              (None, 64)                4160      \n",
            "_________________________________________________________________\n",
            "dense_3 (Dense)              (None, 1)                 65        \n",
            "=================================================================\n",
            "Total params: 9,281\n",
            "Trainable params: 9,281\n",
            "Non-trainable params: 0\n",
            "_________________________________________________________________\n"
          ],
          "name": "stdout"
        }
      ]
    },
    {
      "cell_type": "code",
      "metadata": {
        "colab": {
          "base_uri": "https://localhost:8080/"
        },
        "id": "Um_WII80rNKO",
        "outputId": "1c22e2ac-fc47-4349-e5b1-1e954f063321"
      },
      "source": [
        "model.fit(x_train, y_train, epochs=100)"
      ],
      "execution_count": 14,
      "outputs": [
        {
          "output_type": "stream",
          "text": [
            "Epoch 1/100\n",
            "13/13 [==============================] - 0s 2ms/step - loss: 138.6051 - mae: 8.3635\n",
            "Epoch 2/100\n",
            "13/13 [==============================] - 0s 2ms/step - loss: 83.9796 - mae: 6.6868\n",
            "Epoch 3/100\n",
            "13/13 [==============================] - 0s 1ms/step - loss: 81.9560 - mae: 6.6282\n",
            "Epoch 4/100\n",
            "13/13 [==============================] - 0s 1ms/step - loss: 75.3679 - mae: 6.2043\n",
            "Epoch 5/100\n",
            "13/13 [==============================] - 0s 2ms/step - loss: 65.1596 - mae: 5.6853\n",
            "Epoch 6/100\n",
            "13/13 [==============================] - 0s 3ms/step - loss: 52.0397 - mae: 4.9567\n",
            "Epoch 7/100\n",
            "13/13 [==============================] - 0s 2ms/step - loss: 42.6455 - mae: 4.2966\n",
            "Epoch 8/100\n",
            "13/13 [==============================] - 0s 2ms/step - loss: 33.9455 - mae: 3.9973\n",
            "Epoch 9/100\n",
            "13/13 [==============================] - 0s 2ms/step - loss: 28.8124 - mae: 3.5730\n",
            "Epoch 10/100\n",
            "13/13 [==============================] - 0s 2ms/step - loss: 24.2549 - mae: 3.4599\n",
            "Epoch 11/100\n",
            "13/13 [==============================] - 0s 2ms/step - loss: 27.1200 - mae: 3.6763\n",
            "Epoch 12/100\n",
            "13/13 [==============================] - 0s 1ms/step - loss: 24.4100 - mae: 3.4625\n",
            "Epoch 13/100\n",
            "13/13 [==============================] - 0s 1ms/step - loss: 21.7905 - mae: 3.2578\n",
            "Epoch 14/100\n",
            "13/13 [==============================] - 0s 2ms/step - loss: 21.3873 - mae: 3.4255\n",
            "Epoch 15/100\n",
            "13/13 [==============================] - 0s 3ms/step - loss: 19.5631 - mae: 3.0798\n",
            "Epoch 16/100\n",
            "13/13 [==============================] - 0s 2ms/step - loss: 20.5769 - mae: 3.3108\n",
            "Epoch 17/100\n",
            "13/13 [==============================] - 0s 2ms/step - loss: 17.5084 - mae: 3.0079\n",
            "Epoch 18/100\n",
            "13/13 [==============================] - 0s 2ms/step - loss: 19.1366 - mae: 3.1417\n",
            "Epoch 19/100\n",
            "13/13 [==============================] - 0s 1ms/step - loss: 18.3929 - mae: 3.1899\n",
            "Epoch 20/100\n",
            "13/13 [==============================] - 0s 2ms/step - loss: 16.8672 - mae: 3.0444\n",
            "Epoch 21/100\n",
            "13/13 [==============================] - 0s 2ms/step - loss: 18.8859 - mae: 3.2119\n",
            "Epoch 22/100\n",
            "13/13 [==============================] - 0s 2ms/step - loss: 17.9880 - mae: 3.1863\n",
            "Epoch 23/100\n",
            "13/13 [==============================] - 0s 1ms/step - loss: 17.3565 - mae: 3.0527\n",
            "Epoch 24/100\n",
            "13/13 [==============================] - 0s 2ms/step - loss: 15.9983 - mae: 2.9472\n",
            "Epoch 25/100\n",
            "13/13 [==============================] - 0s 1ms/step - loss: 15.8832 - mae: 2.9466\n",
            "Epoch 26/100\n",
            "13/13 [==============================] - 0s 1ms/step - loss: 16.1490 - mae: 2.9586\n",
            "Epoch 27/100\n",
            "13/13 [==============================] - 0s 2ms/step - loss: 15.4320 - mae: 2.8289\n",
            "Epoch 28/100\n",
            "13/13 [==============================] - 0s 2ms/step - loss: 15.0874 - mae: 2.8093\n",
            "Epoch 29/100\n",
            "13/13 [==============================] - 0s 2ms/step - loss: 17.6964 - mae: 3.0877\n",
            "Epoch 30/100\n",
            "13/13 [==============================] - 0s 3ms/step - loss: 15.8162 - mae: 2.9659\n",
            "Epoch 31/100\n",
            "13/13 [==============================] - 0s 2ms/step - loss: 15.6352 - mae: 2.9282\n",
            "Epoch 32/100\n",
            "13/13 [==============================] - 0s 2ms/step - loss: 14.9551 - mae: 2.7751\n",
            "Epoch 33/100\n",
            "13/13 [==============================] - 0s 2ms/step - loss: 13.0244 - mae: 2.6503\n",
            "Epoch 34/100\n",
            "13/13 [==============================] - 0s 2ms/step - loss: 13.2353 - mae: 2.6252\n",
            "Epoch 35/100\n",
            "13/13 [==============================] - 0s 2ms/step - loss: 13.7644 - mae: 2.6364\n",
            "Epoch 36/100\n",
            "13/13 [==============================] - 0s 2ms/step - loss: 14.4380 - mae: 2.8151\n",
            "Epoch 37/100\n",
            "13/13 [==============================] - 0s 2ms/step - loss: 14.2321 - mae: 2.7281\n",
            "Epoch 38/100\n",
            "13/13 [==============================] - 0s 2ms/step - loss: 12.4590 - mae: 2.5984\n",
            "Epoch 39/100\n",
            "13/13 [==============================] - 0s 2ms/step - loss: 12.7299 - mae: 2.6352\n",
            "Epoch 40/100\n",
            "13/13 [==============================] - 0s 2ms/step - loss: 12.3905 - mae: 2.5424\n",
            "Epoch 41/100\n",
            "13/13 [==============================] - 0s 2ms/step - loss: 12.9291 - mae: 2.5997\n",
            "Epoch 42/100\n",
            "13/13 [==============================] - 0s 2ms/step - loss: 12.3035 - mae: 2.4816\n",
            "Epoch 43/100\n",
            "13/13 [==============================] - 0s 2ms/step - loss: 12.5575 - mae: 2.5879\n",
            "Epoch 44/100\n",
            "13/13 [==============================] - 0s 2ms/step - loss: 12.1480 - mae: 2.5045\n",
            "Epoch 45/100\n",
            "13/13 [==============================] - 0s 1ms/step - loss: 13.5792 - mae: 2.6948\n",
            "Epoch 46/100\n",
            "13/13 [==============================] - 0s 2ms/step - loss: 11.5281 - mae: 2.4153\n",
            "Epoch 47/100\n",
            "13/13 [==============================] - 0s 1ms/step - loss: 12.4256 - mae: 2.6142\n",
            "Epoch 48/100\n",
            "13/13 [==============================] - 0s 1ms/step - loss: 11.8367 - mae: 2.4713\n",
            "Epoch 49/100\n",
            "13/13 [==============================] - 0s 2ms/step - loss: 13.3625 - mae: 2.6522\n",
            "Epoch 50/100\n",
            "13/13 [==============================] - 0s 2ms/step - loss: 11.6422 - mae: 2.4898\n",
            "Epoch 51/100\n",
            "13/13 [==============================] - 0s 2ms/step - loss: 12.4727 - mae: 2.5178\n",
            "Epoch 52/100\n",
            "13/13 [==============================] - 0s 1ms/step - loss: 12.4044 - mae: 2.5170\n",
            "Epoch 53/100\n",
            "13/13 [==============================] - 0s 1ms/step - loss: 10.8767 - mae: 2.3712\n",
            "Epoch 54/100\n",
            "13/13 [==============================] - 0s 2ms/step - loss: 11.7736 - mae: 2.5438\n",
            "Epoch 55/100\n",
            "13/13 [==============================] - 0s 1ms/step - loss: 11.3439 - mae: 2.4445\n",
            "Epoch 56/100\n",
            "13/13 [==============================] - 0s 2ms/step - loss: 11.2697 - mae: 2.4491\n",
            "Epoch 57/100\n",
            "13/13 [==============================] - 0s 2ms/step - loss: 11.7530 - mae: 2.4805\n",
            "Epoch 58/100\n",
            "13/13 [==============================] - 0s 2ms/step - loss: 12.1511 - mae: 2.5367\n",
            "Epoch 59/100\n",
            "13/13 [==============================] - 0s 1ms/step - loss: 10.8957 - mae: 2.4062\n",
            "Epoch 60/100\n",
            "13/13 [==============================] - 0s 1ms/step - loss: 11.2066 - mae: 2.4649\n",
            "Epoch 61/100\n",
            "13/13 [==============================] - 0s 1ms/step - loss: 10.2828 - mae: 2.3336\n",
            "Epoch 62/100\n",
            "13/13 [==============================] - 0s 2ms/step - loss: 11.1193 - mae: 2.4279\n",
            "Epoch 63/100\n",
            "13/13 [==============================] - 0s 2ms/step - loss: 10.5008 - mae: 2.3807\n",
            "Epoch 64/100\n",
            "13/13 [==============================] - 0s 2ms/step - loss: 10.7704 - mae: 2.3797\n",
            "Epoch 65/100\n",
            "13/13 [==============================] - 0s 2ms/step - loss: 10.9895 - mae: 2.4453\n",
            "Epoch 66/100\n",
            "13/13 [==============================] - 0s 1ms/step - loss: 11.7290 - mae: 2.5281\n",
            "Epoch 67/100\n",
            "13/13 [==============================] - 0s 2ms/step - loss: 10.2772 - mae: 2.3525\n",
            "Epoch 68/100\n",
            "13/13 [==============================] - 0s 2ms/step - loss: 11.1716 - mae: 2.5086\n",
            "Epoch 69/100\n",
            "13/13 [==============================] - 0s 2ms/step - loss: 9.9703 - mae: 2.3348\n",
            "Epoch 70/100\n",
            "13/13 [==============================] - 0s 2ms/step - loss: 10.8664 - mae: 2.4441\n",
            "Epoch 71/100\n",
            "13/13 [==============================] - 0s 2ms/step - loss: 10.4035 - mae: 2.3540\n",
            "Epoch 72/100\n",
            "13/13 [==============================] - 0s 2ms/step - loss: 10.5748 - mae: 2.3618\n",
            "Epoch 73/100\n",
            "13/13 [==============================] - 0s 2ms/step - loss: 10.3960 - mae: 2.3697\n",
            "Epoch 74/100\n",
            "13/13 [==============================] - 0s 2ms/step - loss: 10.5175 - mae: 2.3966\n",
            "Epoch 75/100\n",
            "13/13 [==============================] - 0s 2ms/step - loss: 10.5992 - mae: 2.3748\n",
            "Epoch 76/100\n",
            "13/13 [==============================] - 0s 1ms/step - loss: 10.1664 - mae: 2.3421\n",
            "Epoch 77/100\n",
            "13/13 [==============================] - 0s 2ms/step - loss: 11.2738 - mae: 2.4265\n",
            "Epoch 78/100\n",
            "13/13 [==============================] - 0s 3ms/step - loss: 9.8906 - mae: 2.3134\n",
            "Epoch 79/100\n",
            "13/13 [==============================] - 0s 2ms/step - loss: 9.8519 - mae: 2.3053\n",
            "Epoch 80/100\n",
            "13/13 [==============================] - 0s 2ms/step - loss: 10.0407 - mae: 2.3452\n",
            "Epoch 81/100\n",
            "13/13 [==============================] - 0s 2ms/step - loss: 10.0896 - mae: 2.3090\n",
            "Epoch 82/100\n",
            "13/13 [==============================] - 0s 2ms/step - loss: 9.6898 - mae: 2.2880\n",
            "Epoch 83/100\n",
            "13/13 [==============================] - 0s 2ms/step - loss: 10.5880 - mae: 2.3684\n",
            "Epoch 84/100\n",
            "13/13 [==============================] - 0s 1ms/step - loss: 10.0368 - mae: 2.3027\n",
            "Epoch 85/100\n",
            "13/13 [==============================] - 0s 1ms/step - loss: 10.5753 - mae: 2.3952\n",
            "Epoch 86/100\n",
            "13/13 [==============================] - 0s 1ms/step - loss: 9.8640 - mae: 2.2597\n",
            "Epoch 87/100\n",
            "13/13 [==============================] - 0s 2ms/step - loss: 9.6630 - mae: 2.2906\n",
            "Epoch 88/100\n",
            "13/13 [==============================] - 0s 1ms/step - loss: 9.7668 - mae: 2.2756\n",
            "Epoch 89/100\n",
            "13/13 [==============================] - 0s 2ms/step - loss: 9.8396 - mae: 2.3040\n",
            "Epoch 90/100\n",
            "13/13 [==============================] - 0s 2ms/step - loss: 9.5760 - mae: 2.2984\n",
            "Epoch 91/100\n",
            "13/13 [==============================] - 0s 2ms/step - loss: 9.9100 - mae: 2.3566\n",
            "Epoch 92/100\n",
            "13/13 [==============================] - 0s 2ms/step - loss: 9.6249 - mae: 2.3084\n",
            "Epoch 93/100\n",
            "13/13 [==============================] - 0s 2ms/step - loss: 9.7262 - mae: 2.3035\n",
            "Epoch 94/100\n",
            "13/13 [==============================] - 0s 2ms/step - loss: 9.4323 - mae: 2.2421\n",
            "Epoch 95/100\n",
            "13/13 [==============================] - 0s 2ms/step - loss: 9.1639 - mae: 2.2138\n",
            "Epoch 96/100\n",
            "13/13 [==============================] - 0s 2ms/step - loss: 9.2670 - mae: 2.2699\n",
            "Epoch 97/100\n",
            "13/13 [==============================] - 0s 2ms/step - loss: 9.1485 - mae: 2.2422\n",
            "Epoch 98/100\n",
            "13/13 [==============================] - 0s 2ms/step - loss: 9.3683 - mae: 2.2646\n",
            "Epoch 99/100\n",
            "13/13 [==============================] - 0s 2ms/step - loss: 9.3276 - mae: 2.2398\n",
            "Epoch 100/100\n",
            "13/13 [==============================] - 0s 2ms/step - loss: 9.1039 - mae: 2.2675\n"
          ],
          "name": "stdout"
        },
        {
          "output_type": "execute_result",
          "data": {
            "text/plain": [
              "<tensorflow.python.keras.callbacks.History at 0x7f8c1a1d6b10>"
            ]
          },
          "metadata": {
            "tags": []
          },
          "execution_count": 14
        }
      ]
    },
    {
      "cell_type": "markdown",
      "metadata": {
        "id": "iz-yj3PzwT7H"
      },
      "source": [
        "# evaluation"
      ]
    },
    {
      "cell_type": "code",
      "metadata": {
        "colab": {
          "base_uri": "https://localhost:8080/"
        },
        "id": "s4JyXer6tkCO",
        "outputId": "659dacbd-4a1e-4b8a-be4d-a9ec08f1971c"
      },
      "source": [
        "model.evaluate(x_train, y_train)"
      ],
      "execution_count": 15,
      "outputs": [
        {
          "output_type": "stream",
          "text": [
            "13/13 [==============================] - 0s 1ms/step - loss: 8.5889 - mae: 2.2087\n"
          ],
          "name": "stdout"
        },
        {
          "output_type": "execute_result",
          "data": {
            "text/plain": [
              "[8.588859558105469, 2.2087457180023193]"
            ]
          },
          "metadata": {
            "tags": []
          },
          "execution_count": 15
        }
      ]
    },
    {
      "cell_type": "markdown",
      "metadata": {
        "id": "bXF0AI2FwgmP"
      },
      "source": [
        "# Service"
      ]
    },
    {
      "cell_type": "code",
      "metadata": {
        "colab": {
          "base_uri": "https://localhost:8080/"
        },
        "id": "EXCcvSWzwc0G",
        "outputId": "e3be7362-918a-4aed-b2ce-3028f3dc8f38"
      },
      "source": [
        "x_train[10]"
      ],
      "execution_count": 20,
      "outputs": [
        {
          "output_type": "execute_result",
          "data": {
            "text/plain": [
              "array([ 0.63391647, -0.48361547,  1.0283258 , -0.25683275,  1.15788777,\n",
              "        0.19313958,  1.11048828, -1.03628262,  1.67588577,  1.5652875 ,\n",
              "        0.78447637,  0.22689422,  1.04466491])"
            ]
          },
          "metadata": {
            "tags": []
          },
          "execution_count": 20
        }
      ]
    },
    {
      "cell_type": "code",
      "metadata": {
        "colab": {
          "base_uri": "https://localhost:8080/"
        },
        "id": "Joi8yisMwpJn",
        "outputId": "d28e5c9f-f56e-496b-87e4-18cbc302303b"
      },
      "source": [
        "model.predict([[ 0.63391647, -0.48361547,  1.0283258 , -0.25683275,  1.15788777,\n",
        "        0.19313958,  1.11048828, -1.03628262,  1.67588577,  1.5652875 ,\n",
        "        0.78447637,  0.22689422,  1.04466491]])"
      ],
      "execution_count": 21,
      "outputs": [
        {
          "output_type": "execute_result",
          "data": {
            "text/plain": [
              "array([[13.882275]], dtype=float32)"
            ]
          },
          "metadata": {
            "tags": []
          },
          "execution_count": 21
        }
      ]
    },
    {
      "cell_type": "code",
      "metadata": {
        "colab": {
          "base_uri": "https://localhost:8080/"
        },
        "id": "VXnvnq1fxmKO",
        "outputId": "b3213c84-2dec-4570-ad56-7296b9f1ee89"
      },
      "source": [
        "y_train[10]"
      ],
      "execution_count": 22,
      "outputs": [
        {
          "output_type": "execute_result",
          "data": {
            "text/plain": [
              "12.1"
            ]
          },
          "metadata": {
            "tags": []
          },
          "execution_count": 22
        }
      ]
    },
    {
      "cell_type": "code",
      "metadata": {
        "id": "e4G4xGTM5mW-"
      },
      "source": [
        ""
      ],
      "execution_count": null,
      "outputs": []
    }
  ]
}