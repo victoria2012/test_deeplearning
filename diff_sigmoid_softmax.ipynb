{
  "nbformat": 4,
  "nbformat_minor": 0,
  "metadata": {
    "colab": {
      "name": "diff_sigmoid_softmax.ipynb",
      "provenance": [],
      "collapsed_sections": [],
      "authorship_tag": "ABX9TyO+yBN1o+pvMVVI0P4NUOHC"
    },
    "kernelspec": {
      "name": "python3",
      "display_name": "Python 3"
    },
    "language_info": {
      "name": "python"
    }
  },
  "cells": [
    {
      "cell_type": "markdown",
      "metadata": {
        "id": "2N9TitwB4YgA"
      },
      "source": [
        "# sigmoid"
      ]
    },
    {
      "cell_type": "code",
      "metadata": {
        "id": "vf-NPF8q7D5e"
      },
      "source": [
        "import tensorflow as tf"
      ],
      "execution_count": 4,
      "outputs": []
    },
    {
      "cell_type": "code",
      "metadata": {
        "colab": {
          "base_uri": "https://localhost:8080/"
        },
        "id": "xXRqyODK3lAV",
        "outputId": "02e3bc1c-adca-4869-d6de-056e911cd015"
      },
      "source": [
        "a = tf.constant([4.0, 1.0, 3.0], dtype = tf.float32)     # 행렬이 벡터다. \n",
        "a, type(a)"
      ],
      "execution_count": 11,
      "outputs": [
        {
          "output_type": "execute_result",
          "data": {
            "text/plain": [
              "(<tf.Tensor: shape=(3,), dtype=float32, numpy=array([4., 1., 3.], dtype=float32)>,\n",
              " tensorflow.python.framework.ops.EagerTensor)"
            ]
          },
          "metadata": {
            "tags": []
          },
          "execution_count": 11
        }
      ]
    },
    {
      "cell_type": "code",
      "metadata": {
        "colab": {
          "base_uri": "https://localhost:8080/"
        },
        "id": "97hprQt74K8V",
        "outputId": "b626d7a6-e748-4865-86b7-4d002b8c5536"
      },
      "source": [
        "b = tf.keras.activations.sigmoid(a)\n",
        "b"
      ],
      "execution_count": 12,
      "outputs": [
        {
          "output_type": "execute_result",
          "data": {
            "text/plain": [
              "<tf.Tensor: shape=(3,), dtype=float32, numpy=array([0.98201376, 0.7310586 , 0.95257413], dtype=float32)>"
            ]
          },
          "metadata": {
            "tags": []
          },
          "execution_count": 12
        }
      ]
    },
    {
      "cell_type": "code",
      "metadata": {
        "colab": {
          "base_uri": "https://localhost:8080/"
        },
        "id": "42RYxlFV4Oc-",
        "outputId": "726e7ca4-0813-4014-fc59-439ddba95a06"
      },
      "source": [
        "b.numpy()"
      ],
      "execution_count": 13,
      "outputs": [
        {
          "output_type": "execute_result",
          "data": {
            "text/plain": [
              "array([0.98201376, 0.7310586 , 0.95257413], dtype=float32)"
            ]
          },
          "metadata": {
            "tags": []
          },
          "execution_count": 13
        }
      ]
    },
    {
      "cell_type": "markdown",
      "metadata": {
        "id": "bPmymGPP8YI2"
      },
      "source": [
        "# softmax"
      ]
    },
    {
      "cell_type": "code",
      "metadata": {
        "colab": {
          "base_uri": "https://localhost:8080/"
        },
        "id": "ngZBW0sL4QJd",
        "outputId": "1973bb27-0519-4eb8-fda1-066551bb6345"
      },
      "source": [
        "inputs = tf.random.normal(shape=(1, 3))\n",
        "inputs"
      ],
      "execution_count": 21,
      "outputs": [
        {
          "output_type": "execute_result",
          "data": {
            "text/plain": [
              "<tf.Tensor: shape=(1, 3), dtype=float32, numpy=array([[-0.85974294, -1.564476  ,  0.31319636]], dtype=float32)>"
            ]
          },
          "metadata": {
            "tags": []
          },
          "execution_count": 21
        }
      ]
    },
    {
      "cell_type": "code",
      "metadata": {
        "colab": {
          "base_uri": "https://localhost:8080/"
        },
        "id": "_0scoQtW8nKK",
        "outputId": "b5b9de2a-2d89-4c7c-f5a1-5f72979b3782"
      },
      "source": [
        "outputs = tf.keras.activations.softmax(inputs)\n",
        "outputs"
      ],
      "execution_count": 22,
      "outputs": [
        {
          "output_type": "execute_result",
          "data": {
            "text/plain": [
              "<tf.Tensor: shape=(1, 3), dtype=float32, numpy=array([[0.21160808, 0.10458528, 0.68380666]], dtype=float32)>"
            ]
          },
          "metadata": {
            "tags": []
          },
          "execution_count": 22
        }
      ]
    },
    {
      "cell_type": "code",
      "metadata": {
        "colab": {
          "base_uri": "https://localhost:8080/"
        },
        "id": "RB4IAY158pBv",
        "outputId": "895af981-0411-44b1-c76b-9dff135a9411"
      },
      "source": [
        "outputs.numpy()"
      ],
      "execution_count": 23,
      "outputs": [
        {
          "output_type": "execute_result",
          "data": {
            "text/plain": [
              "array([[0.21160808, 0.10458528, 0.68380666]], dtype=float32)"
            ]
          },
          "metadata": {
            "tags": []
          },
          "execution_count": 23
        }
      ]
    },
    {
      "cell_type": "markdown",
      "metadata": {
        "id": "zhANfY-k-CD5"
      },
      "source": [
        "소프트맥스는 0과 1사이의 값으로 수렴하고 합산을 하면 1이 된다. 그래서 output의 unique값이 3개 이상일 경우 softmax를 쓴다. "
      ]
    },
    {
      "cell_type": "code",
      "metadata": {
        "id": "DJfAgNgB8zlW"
      },
      "source": [
        ""
      ],
      "execution_count": null,
      "outputs": []
    }
  ]
}