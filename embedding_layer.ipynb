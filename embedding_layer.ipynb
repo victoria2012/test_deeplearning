{
  "nbformat": 4,
  "nbformat_minor": 0,
  "metadata": {
    "colab": {
      "name": " embedding_layer.ipynb",
      "provenance": [],
      "collapsed_sections": [],
      "authorship_tag": "ABX9TyOyXO/w6je3IWHE4lpSNNwg"
    },
    "kernelspec": {
      "name": "python3",
      "display_name": "Python 3"
    },
    "language_info": {
      "name": "python"
    }
  },
  "cells": [
    {
      "cell_type": "code",
      "metadata": {
        "id": "kFXb9QKlntkI"
      },
      "source": [
        "import tensorflow as tf"
      ],
      "execution_count": 2,
      "outputs": []
    },
    {
      "cell_type": "markdown",
      "metadata": {
        "id": "s65JLasSu_hD"
      },
      "source": [
        "데이터를 넘파이로 변경해줘야 한다. "
      ]
    },
    {
      "cell_type": "code",
      "metadata": {
        "id": "oaPbfQF4u73L"
      },
      "source": [
        "import numpy as np"
      ],
      "execution_count": 4,
      "outputs": []
    },
    {
      "cell_type": "code",
      "metadata": {
        "id": "nQvRucJFvHFK"
      },
      "source": [
        "x_data = np.array([[4], [20]])"
      ],
      "execution_count": 6,
      "outputs": []
    },
    {
      "cell_type": "code",
      "metadata": {
        "colab": {
          "base_uri": "https://localhost:8080/"
        },
        "id": "yNwlW0vXvUTD",
        "outputId": "82ff1322-bb05-49f0-cdc3-2fec922c387d"
      },
      "source": [
        "x_data, x_data.shape"
      ],
      "execution_count": 7,
      "outputs": [
        {
          "output_type": "execute_result",
          "data": {
            "text/plain": [
              "(array([[ 4],\n",
              "        [20]]), (2, 1))"
            ]
          },
          "metadata": {
            "tags": []
          },
          "execution_count": 7
        }
      ]
    },
    {
      "cell_type": "code",
      "metadata": {
        "id": "h-4W9d9WuFnn"
      },
      "source": [
        "model = tf.keras.Sequential()"
      ],
      "execution_count": 3,
      "outputs": []
    },
    {
      "cell_type": "markdown",
      "metadata": {
        "id": "0iEo7tMiwJbc"
      },
      "source": [
        "# Embedding"
      ]
    },
    {
      "cell_type": "code",
      "metadata": {
        "id": "ubKCpYLFt_lp"
      },
      "source": [
        "model.add(tf.keras.layers.Embedding(50, 2, input_length=1))  # input layer\n",
        "\n",
        "# model.add()  # hidden layer\n",
        "# model.add()  # output layer\n",
        "\n",
        "model.compile(optimizer='adam', loss='mse')                             # 실수형으로 나오기 때문에 mse를 써줌"
      ],
      "execution_count": 9,
      "outputs": []
    },
    {
      "cell_type": "code",
      "metadata": {
        "colab": {
          "base_uri": "https://localhost:8080/"
        },
        "id": "rYPlUdnYwOLR",
        "outputId": "318c0aa2-4942-49aa-fc2f-2d7bb99bf4af"
      },
      "source": [
        "model.predict(x_data)"
      ],
      "execution_count": 10,
      "outputs": [
        {
          "output_type": "execute_result",
          "data": {
            "text/plain": [
              "array([[[-0.01071701,  0.02427263]],\n",
              "\n",
              "       [[ 0.03436056,  0.01335931]]], dtype=float32)"
            ]
          },
          "metadata": {
            "tags": []
          },
          "execution_count": 10
        }
      ]
    },
    {
      "cell_type": "code",
      "metadata": {
        "id": "dX-71MM8x6jB"
      },
      "source": [
        ""
      ],
      "execution_count": null,
      "outputs": []
    }
  ]
}