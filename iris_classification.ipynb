{
  "nbformat": 4,
  "nbformat_minor": 0,
  "metadata": {
    "colab": {
      "name": "iris_classification.ipynb",
      "provenance": [],
      "collapsed_sections": [],
      "authorship_tag": "ABX9TyOnsrwsrO2AtIg6+G3AXMJh"
    },
    "kernelspec": {
      "name": "python3",
      "display_name": "Python 3"
    },
    "language_info": {
      "name": "python"
    }
  },
  "cells": [
    {
      "cell_type": "code",
      "metadata": {
        "id": "11N5Cp8e-0me"
      },
      "source": [
        "from sklearn import datasets"
      ],
      "execution_count": 1,
      "outputs": []
    },
    {
      "cell_type": "code",
      "metadata": {
        "id": "O-zllEht_Zol"
      },
      "source": [
        "iris = datasets.load_iris()\n",
        "iris"
      ],
      "execution_count": null,
      "outputs": []
    },
    {
      "cell_type": "code",
      "metadata": {
        "id": "CDXmK-_8_rkE"
      },
      "source": [
        "import pandas as pd"
      ],
      "execution_count": 3,
      "outputs": []
    },
    {
      "cell_type": "code",
      "metadata": {
        "colab": {
          "base_uri": "https://localhost:8080/"
        },
        "id": "vpDFAPP-AE5d",
        "outputId": "1087365c-b858-4e3d-c87c-b10849de7c93"
      },
      "source": [
        "df_iris = pd.DataFrame(iris['data'])\n",
        "df_iris.info()"
      ],
      "execution_count": 6,
      "outputs": [
        {
          "output_type": "stream",
          "text": [
            "<class 'pandas.core.frame.DataFrame'>\n",
            "RangeIndex: 150 entries, 0 to 149\n",
            "Data columns (total 4 columns):\n",
            " #   Column  Non-Null Count  Dtype  \n",
            "---  ------  --------------  -----  \n",
            " 0   0       150 non-null    float64\n",
            " 1   1       150 non-null    float64\n",
            " 2   2       150 non-null    float64\n",
            " 3   3       150 non-null    float64\n",
            "dtypes: float64(4)\n",
            "memory usage: 4.8 KB\n"
          ],
          "name": "stdout"
        }
      ]
    },
    {
      "cell_type": "markdown",
      "metadata": {
        "id": "bdhcg1gHBUG1"
      },
      "source": [
        "# DB에 넣기"
      ]
    },
    {
      "cell_type": "code",
      "metadata": {
        "id": "OlrrmTodANf8"
      },
      "source": [
        "import sqlite3"
      ],
      "execution_count": 7,
      "outputs": []
    },
    {
      "cell_type": "code",
      "metadata": {
        "id": "IwikUjSyBbZ0"
      },
      "source": [
        "connect = sqlite3.connect('./db.sqlite3')"
      ],
      "execution_count": 8,
      "outputs": []
    },
    {
      "cell_type": "code",
      "metadata": {
        "id": "DcdBxetVBpaN"
      },
      "source": [
        "df_iris.to_sql('iris_resource', connect, if_exists='append', index=False)"
      ],
      "execution_count": 10,
      "outputs": []
    },
    {
      "cell_type": "code",
      "metadata": {
        "colab": {
          "base_uri": "https://localhost:8080/",
          "height": 173
        },
        "id": "_qrIiwJbCWKD",
        "outputId": "6c07cf58-e3dd-4914-d59d-177909b4beae"
      },
      "source": [
        "df_load = pd.read_sql_query('select * from iris_resource', connect)\n",
        "df_load.head(4)"
      ],
      "execution_count": 11,
      "outputs": [
        {
          "output_type": "execute_result",
          "data": {
            "text/html": [
              "<div>\n",
              "<style scoped>\n",
              "    .dataframe tbody tr th:only-of-type {\n",
              "        vertical-align: middle;\n",
              "    }\n",
              "\n",
              "    .dataframe tbody tr th {\n",
              "        vertical-align: top;\n",
              "    }\n",
              "\n",
              "    .dataframe thead th {\n",
              "        text-align: right;\n",
              "    }\n",
              "</style>\n",
              "<table border=\"1\" class=\"dataframe\">\n",
              "  <thead>\n",
              "    <tr style=\"text-align: right;\">\n",
              "      <th></th>\n",
              "      <th>0</th>\n",
              "      <th>1</th>\n",
              "      <th>2</th>\n",
              "      <th>3</th>\n",
              "    </tr>\n",
              "  </thead>\n",
              "  <tbody>\n",
              "    <tr>\n",
              "      <th>0</th>\n",
              "      <td>5.1</td>\n",
              "      <td>3.5</td>\n",
              "      <td>1.4</td>\n",
              "      <td>0.2</td>\n",
              "    </tr>\n",
              "    <tr>\n",
              "      <th>1</th>\n",
              "      <td>4.9</td>\n",
              "      <td>3.0</td>\n",
              "      <td>1.4</td>\n",
              "      <td>0.2</td>\n",
              "    </tr>\n",
              "    <tr>\n",
              "      <th>2</th>\n",
              "      <td>4.7</td>\n",
              "      <td>3.2</td>\n",
              "      <td>1.3</td>\n",
              "      <td>0.2</td>\n",
              "    </tr>\n",
              "    <tr>\n",
              "      <th>3</th>\n",
              "      <td>4.6</td>\n",
              "      <td>3.1</td>\n",
              "      <td>1.5</td>\n",
              "      <td>0.2</td>\n",
              "    </tr>\n",
              "  </tbody>\n",
              "</table>\n",
              "</div>"
            ],
            "text/plain": [
              "     0    1    2    3\n",
              "0  5.1  3.5  1.4  0.2\n",
              "1  4.9  3.0  1.4  0.2\n",
              "2  4.7  3.2  1.3  0.2\n",
              "3  4.6  3.1  1.5  0.2"
            ]
          },
          "metadata": {
            "tags": []
          },
          "execution_count": 11
        }
      ]
    },
    {
      "cell_type": "code",
      "metadata": {
        "id": "98FNLrq-DCKj"
      },
      "source": [
        "# 이제 판다스에서 넘파이만 빼내야 한다. (판다스에서 index와 columns를 빼고 데이터만 가져온다)"
      ],
      "execution_count": 12,
      "outputs": []
    },
    {
      "cell_type": "code",
      "metadata": {
        "colab": {
          "base_uri": "https://localhost:8080/"
        },
        "id": "kxZSlMWrDNbK",
        "outputId": "27b93b12-bdc1-43bb-d318-701698d8fc3c"
      },
      "source": [
        "x_data = df_load.to_numpy()\n",
        "x_data.shape                     # 컬럼이 4개라는 것을 알 수 있다. "
      ],
      "execution_count": 14,
      "outputs": [
        {
          "output_type": "execute_result",
          "data": {
            "text/plain": [
              "(150, 4)"
            ]
          },
          "metadata": {
            "tags": []
          },
          "execution_count": 14
        }
      ]
    },
    {
      "cell_type": "code",
      "metadata": {
        "id": "WGXnHe75VuHt"
      },
      "source": [
        "import numpy as np"
      ],
      "execution_count": 20,
      "outputs": []
    },
    {
      "cell_type": "code",
      "metadata": {
        "colab": {
          "base_uri": "https://localhost:8080/"
        },
        "id": "XUXvoFpjDc4k",
        "outputId": "e578456d-713c-4d26-e567-ded829995766"
      },
      "source": [
        "y_data = iris.target\n",
        "y_data, np.unique(y_data)"
      ],
      "execution_count": 21,
      "outputs": [
        {
          "output_type": "execute_result",
          "data": {
            "text/plain": [
              "(array([0, 0, 0, 0, 0, 0, 0, 0, 0, 0, 0, 0, 0, 0, 0, 0, 0, 0, 0, 0, 0, 0,\n",
              "        0, 0, 0, 0, 0, 0, 0, 0, 0, 0, 0, 0, 0, 0, 0, 0, 0, 0, 0, 0, 0, 0,\n",
              "        0, 0, 0, 0, 0, 0, 1, 1, 1, 1, 1, 1, 1, 1, 1, 1, 1, 1, 1, 1, 1, 1,\n",
              "        1, 1, 1, 1, 1, 1, 1, 1, 1, 1, 1, 1, 1, 1, 1, 1, 1, 1, 1, 1, 1, 1,\n",
              "        1, 1, 1, 1, 1, 1, 1, 1, 1, 1, 1, 1, 2, 2, 2, 2, 2, 2, 2, 2, 2, 2,\n",
              "        2, 2, 2, 2, 2, 2, 2, 2, 2, 2, 2, 2, 2, 2, 2, 2, 2, 2, 2, 2, 2, 2,\n",
              "        2, 2, 2, 2, 2, 2, 2, 2, 2, 2, 2, 2, 2, 2, 2, 2, 2, 2]),\n",
              " array([0, 1, 2]))"
            ]
          },
          "metadata": {
            "tags": []
          },
          "execution_count": 21
        }
      ]
    },
    {
      "cell_type": "markdown",
      "metadata": {
        "id": "L71050t-D9Ol"
      },
      "source": [
        "# 교육단계"
      ]
    },
    {
      "cell_type": "code",
      "metadata": {
        "id": "_hCNxo9DDyH7"
      },
      "source": [
        "import tensorflow as tf"
      ],
      "execution_count": 16,
      "outputs": []
    },
    {
      "cell_type": "code",
      "metadata": {
        "id": "pc0lzszlECWM"
      },
      "source": [
        "model = tf.keras.Sequential()"
      ],
      "execution_count": 17,
      "outputs": []
    },
    {
      "cell_type": "code",
      "metadata": {
        "colab": {
          "base_uri": "https://localhost:8080/"
        },
        "id": "NFV6-nzUEJj8",
        "outputId": "91eb767c-3057-47c6-defe-847e290d4397"
      },
      "source": [
        "model.add(tf.keras.Input(shape=4,))  # input layer\n",
        "\n",
        "model.add(tf.keras.layers.Dense(64, activation='relu'))  # hidden layer\n",
        "model.add(tf.keras.layers.Dense(24, activation='relu'))  # hidden layer\n",
        "\n",
        "model.add(tf.keras.layers.Dense(3, activation='softmax'))  # output layer\n",
        "\n",
        "model.compile(optimizer='adam', loss='mse', metrics=['acc']) # gadget    연속형일 때 mae\n"
      ],
      "execution_count": 28,
      "outputs": [
        {
          "output_type": "stream",
          "text": [
            "WARNING:tensorflow:Please add `keras.layers.InputLayer` instead of `keras.Input` to Sequential model. `keras.Input` is intended to be used by Functional model.\n"
          ],
          "name": "stdout"
        }
      ]
    },
    {
      "cell_type": "code",
      "metadata": {
        "colab": {
          "base_uri": "https://localhost:8080/"
        },
        "id": "4DjQnDmDYjqG",
        "outputId": "d525a7c4-b4d0-4953-8d4a-7f653211bd4d"
      },
      "source": [
        "model.summary()"
      ],
      "execution_count": 29,
      "outputs": [
        {
          "output_type": "stream",
          "text": [
            "Model: \"sequential\"\n",
            "_________________________________________________________________\n",
            "Layer (type)                 Output Shape              Param #   \n",
            "=================================================================\n",
            "dense (Dense)                (None, 64)                320       \n",
            "_________________________________________________________________\n",
            "dense_1 (Dense)              (None, 24)                1560      \n",
            "_________________________________________________________________\n",
            "dense_2 (Dense)              (None, 3)                 75        \n",
            "_________________________________________________________________\n",
            "input_2 (InputLayer)         multiple                  0         \n",
            "_________________________________________________________________\n",
            "dense_3 (Dense)              (None, 64)                256       \n",
            "_________________________________________________________________\n",
            "dense_4 (Dense)              (None, 24)                1560      \n",
            "_________________________________________________________________\n",
            "dense_5 (Dense)              (None, 3)                 75        \n",
            "=================================================================\n",
            "Total params: 3,846\n",
            "Trainable params: 3,846\n",
            "Non-trainable params: 0\n",
            "_________________________________________________________________\n"
          ],
          "name": "stdout"
        }
      ]
    },
    {
      "cell_type": "code",
      "metadata": {
        "colab": {
          "base_uri": "https://localhost:8080/"
        },
        "id": "KLE9RKYrEf8a",
        "outputId": "ba1b7552-a4c2-44bf-ecd4-1c8d4df27419"
      },
      "source": [
        " model.fit(x_data, y_data, epochs=50, validation_split=0.3)  # 학습   한쪽으로 쏠리는 것을 방지하기 위해 validation_split을 쓴다. "
      ],
      "execution_count": 30,
      "outputs": [
        {
          "output_type": "stream",
          "text": [
            "Epoch 1/50\n",
            "4/4 [==============================] - 1s 55ms/step - loss: 0.3970 - acc: 0.4762 - val_loss: 2.7778 - val_acc: 0.0000e+00\n",
            "Epoch 2/50\n",
            "4/4 [==============================] - 0s 8ms/step - loss: 0.3968 - acc: 0.3429 - val_loss: 2.7778 - val_acc: 0.0000e+00\n",
            "Epoch 3/50\n",
            "4/4 [==============================] - 0s 8ms/step - loss: 0.3969 - acc: 0.4762 - val_loss: 2.7778 - val_acc: 0.0000e+00\n",
            "Epoch 4/50\n",
            "4/4 [==============================] - 0s 7ms/step - loss: 0.3968 - acc: 0.3048 - val_loss: 2.7778 - val_acc: 0.0000e+00\n",
            "Epoch 5/50\n",
            "4/4 [==============================] - 0s 9ms/step - loss: 0.3968 - acc: 0.3619 - val_loss: 2.7778 - val_acc: 0.0000e+00\n",
            "Epoch 6/50\n",
            "4/4 [==============================] - 0s 8ms/step - loss: 0.3968 - acc: 0.4762 - val_loss: 2.7778 - val_acc: 0.0000e+00\n",
            "Epoch 7/50\n",
            "4/4 [==============================] - 0s 8ms/step - loss: 0.3968 - acc: 0.4762 - val_loss: 2.7778 - val_acc: 0.0000e+00\n",
            "Epoch 8/50\n",
            "4/4 [==============================] - 0s 8ms/step - loss: 0.3968 - acc: 0.4286 - val_loss: 2.7778 - val_acc: 0.0000e+00\n",
            "Epoch 9/50\n",
            "4/4 [==============================] - 0s 12ms/step - loss: 0.3968 - acc: 0.4667 - val_loss: 2.7778 - val_acc: 0.0000e+00\n",
            "Epoch 10/50\n",
            "4/4 [==============================] - 0s 8ms/step - loss: 0.3968 - acc: 0.4667 - val_loss: 2.7778 - val_acc: 0.0222\n",
            "Epoch 11/50\n",
            "4/4 [==============================] - 0s 9ms/step - loss: 0.3968 - acc: 0.3619 - val_loss: 2.7778 - val_acc: 0.0000e+00\n",
            "Epoch 12/50\n",
            "4/4 [==============================] - 0s 10ms/step - loss: 0.3968 - acc: 0.4762 - val_loss: 2.7778 - val_acc: 0.0000e+00\n",
            "Epoch 13/50\n",
            "4/4 [==============================] - 0s 10ms/step - loss: 0.3968 - acc: 0.4095 - val_loss: 2.7778 - val_acc: 0.0444\n",
            "Epoch 14/50\n",
            "4/4 [==============================] - 0s 9ms/step - loss: 0.3968 - acc: 0.3333 - val_loss: 2.7778 - val_acc: 0.0000e+00\n",
            "Epoch 15/50\n",
            "4/4 [==============================] - 0s 9ms/step - loss: 0.3968 - acc: 0.4286 - val_loss: 2.7778 - val_acc: 0.2444\n",
            "Epoch 16/50\n",
            "4/4 [==============================] - 0s 11ms/step - loss: 0.3968 - acc: 0.1524 - val_loss: 2.7778 - val_acc: 0.0000e+00\n",
            "Epoch 17/50\n",
            "4/4 [==============================] - 0s 9ms/step - loss: 0.3968 - acc: 0.4571 - val_loss: 2.7778 - val_acc: 0.0000e+00\n",
            "Epoch 18/50\n",
            "4/4 [==============================] - 0s 10ms/step - loss: 0.3968 - acc: 0.2190 - val_loss: 2.7778 - val_acc: 0.0000e+00\n",
            "Epoch 19/50\n",
            "4/4 [==============================] - 0s 10ms/step - loss: 0.3968 - acc: 0.3238 - val_loss: 2.7778 - val_acc: 0.0444\n",
            "Epoch 20/50\n",
            "4/4 [==============================] - 0s 10ms/step - loss: 0.3968 - acc: 0.2857 - val_loss: 2.7778 - val_acc: 0.0000e+00\n",
            "Epoch 21/50\n",
            "4/4 [==============================] - 0s 9ms/step - loss: 0.3968 - acc: 0.2952 - val_loss: 2.7778 - val_acc: 0.0222\n",
            "Epoch 22/50\n",
            "4/4 [==============================] - 0s 9ms/step - loss: 0.3968 - acc: 0.2571 - val_loss: 2.7778 - val_acc: 0.0222\n",
            "Epoch 23/50\n",
            "4/4 [==============================] - 0s 10ms/step - loss: 0.3968 - acc: 0.2857 - val_loss: 2.7778 - val_acc: 0.0222\n",
            "Epoch 24/50\n",
            "4/4 [==============================] - 0s 8ms/step - loss: 0.3968 - acc: 0.3905 - val_loss: 2.7778 - val_acc: 0.2000\n",
            "Epoch 25/50\n",
            "4/4 [==============================] - 0s 8ms/step - loss: 0.3968 - acc: 0.2857 - val_loss: 2.7778 - val_acc: 0.0000e+00\n",
            "Epoch 26/50\n",
            "4/4 [==============================] - 0s 8ms/step - loss: 0.3968 - acc: 0.2857 - val_loss: 2.7778 - val_acc: 0.0222\n",
            "Epoch 27/50\n",
            "4/4 [==============================] - 0s 12ms/step - loss: 0.3968 - acc: 0.3619 - val_loss: 2.7778 - val_acc: 0.1111\n",
            "Epoch 28/50\n",
            "4/4 [==============================] - 0s 10ms/step - loss: 0.3968 - acc: 0.2381 - val_loss: 2.7778 - val_acc: 0.0000e+00\n",
            "Epoch 29/50\n",
            "4/4 [==============================] - 0s 9ms/step - loss: 0.3968 - acc: 0.4000 - val_loss: 2.7778 - val_acc: 0.2000\n",
            "Epoch 30/50\n",
            "4/4 [==============================] - 0s 10ms/step - loss: 0.3968 - acc: 0.3524 - val_loss: 2.7778 - val_acc: 0.0000e+00\n",
            "Epoch 31/50\n",
            "4/4 [==============================] - 0s 9ms/step - loss: 0.3968 - acc: 0.4476 - val_loss: 2.7778 - val_acc: 0.0667\n",
            "Epoch 32/50\n",
            "4/4 [==============================] - 0s 9ms/step - loss: 0.3968 - acc: 0.3905 - val_loss: 2.7778 - val_acc: 0.0889\n",
            "Epoch 33/50\n",
            "4/4 [==============================] - 0s 12ms/step - loss: 0.3968 - acc: 0.3238 - val_loss: 2.7778 - val_acc: 0.0000e+00\n",
            "Epoch 34/50\n",
            "4/4 [==============================] - 0s 10ms/step - loss: 0.3968 - acc: 0.4857 - val_loss: 2.7778 - val_acc: 0.1778\n",
            "Epoch 35/50\n",
            "4/4 [==============================] - 0s 10ms/step - loss: 0.3968 - acc: 0.3619 - val_loss: 2.7778 - val_acc: 0.0000e+00\n",
            "Epoch 36/50\n",
            "4/4 [==============================] - 0s 16ms/step - loss: 0.3968 - acc: 0.3524 - val_loss: 2.7778 - val_acc: 0.0000e+00\n",
            "Epoch 37/50\n",
            "4/4 [==============================] - 0s 8ms/step - loss: 0.3968 - acc: 0.4095 - val_loss: 2.7778 - val_acc: 0.0222\n",
            "Epoch 38/50\n",
            "4/4 [==============================] - 0s 8ms/step - loss: 0.3968 - acc: 0.4381 - val_loss: 2.7778 - val_acc: 0.2667\n",
            "Epoch 39/50\n",
            "4/4 [==============================] - 0s 9ms/step - loss: 0.3968 - acc: 0.3048 - val_loss: 2.7778 - val_acc: 0.0000e+00\n",
            "Epoch 40/50\n",
            "4/4 [==============================] - 0s 9ms/step - loss: 0.3968 - acc: 0.3238 - val_loss: 2.7778 - val_acc: 0.0000e+00\n",
            "Epoch 41/50\n",
            "4/4 [==============================] - 0s 10ms/step - loss: 0.3968 - acc: 0.3810 - val_loss: 2.7778 - val_acc: 0.3778\n",
            "Epoch 42/50\n",
            "4/4 [==============================] - 0s 9ms/step - loss: 0.3968 - acc: 0.4381 - val_loss: 2.7778 - val_acc: 0.0000e+00\n",
            "Epoch 43/50\n",
            "4/4 [==============================] - 0s 8ms/step - loss: 0.3968 - acc: 0.4286 - val_loss: 2.7778 - val_acc: 0.4000\n",
            "Epoch 44/50\n",
            "4/4 [==============================] - 0s 9ms/step - loss: 0.3968 - acc: 0.4286 - val_loss: 2.7778 - val_acc: 0.2889\n",
            "Epoch 45/50\n",
            "4/4 [==============================] - 0s 8ms/step - loss: 0.3968 - acc: 0.2762 - val_loss: 2.7778 - val_acc: 0.0222\n",
            "Epoch 46/50\n",
            "4/4 [==============================] - 0s 9ms/step - loss: 0.3968 - acc: 0.4381 - val_loss: 2.7778 - val_acc: 0.4222\n",
            "Epoch 47/50\n",
            "4/4 [==============================] - 0s 9ms/step - loss: 0.3968 - acc: 0.3810 - val_loss: 2.7778 - val_acc: 0.0000e+00\n",
            "Epoch 48/50\n",
            "4/4 [==============================] - 0s 10ms/step - loss: 0.3968 - acc: 0.4095 - val_loss: 2.7778 - val_acc: 0.4667\n",
            "Epoch 49/50\n",
            "4/4 [==============================] - 0s 9ms/step - loss: 0.3968 - acc: 0.3905 - val_loss: 2.7778 - val_acc: 0.0222\n",
            "Epoch 50/50\n",
            "4/4 [==============================] - 0s 10ms/step - loss: 0.3968 - acc: 0.3238 - val_loss: 2.7778 - val_acc: 0.0000e+00\n"
          ],
          "name": "stdout"
        },
        {
          "output_type": "execute_result",
          "data": {
            "text/plain": [
              "<tensorflow.python.keras.callbacks.History at 0x7f9743901510>"
            ]
          },
          "metadata": {
            "tags": []
          },
          "execution_count": 30
        }
      ]
    },
    {
      "cell_type": "markdown",
      "metadata": {
        "id": "Zr6goXVKZzFc"
      },
      "source": [
        "# evaluation"
      ]
    },
    {
      "cell_type": "code",
      "metadata": {
        "colab": {
          "base_uri": "https://localhost:8080/"
        },
        "id": "zVQjwBmxZ3W7",
        "outputId": "626f638a-dfaa-4bea-8350-a7f4bb7361d9"
      },
      "source": [
        "model.evaluate(x_data, y_data)"
      ],
      "execution_count": 31,
      "outputs": [
        {
          "output_type": "stream",
          "text": [
            "5/5 [==============================] - 0s 2ms/step - loss: 1.1111 - acc: 0.3867\n"
          ],
          "name": "stdout"
        },
        {
          "output_type": "execute_result",
          "data": {
            "text/plain": [
              "[1.111111044883728, 0.3866666555404663]"
            ]
          },
          "metadata": {
            "tags": []
          },
          "execution_count": 31
        }
      ]
    },
    {
      "cell_type": "markdown",
      "metadata": {
        "id": "4EIfC0oREZt-"
      },
      "source": [
        "# service"
      ]
    },
    {
      "cell_type": "code",
      "metadata": {
        "colab": {
          "base_uri": "https://localhost:8080/"
        },
        "id": "pzOSeAFbaWUf",
        "outputId": "ddce0a3f-48f3-43d6-d69a-ffe24703ef33"
      },
      "source": [
        "x_data[25], y_data[25]"
      ],
      "execution_count": 33,
      "outputs": [
        {
          "output_type": "execute_result",
          "data": {
            "text/plain": [
              "(array([5. , 3. , 1.6, 0.2]), 0)"
            ]
          },
          "metadata": {
            "tags": []
          },
          "execution_count": 33
        }
      ]
    },
    {
      "cell_type": "code",
      "metadata": {
        "colab": {
          "base_uri": "https://localhost:8080/"
        },
        "id": "Fvv-RmrDEmX8",
        "outputId": "7956ed29-052c-4a1d-f87b-05e5d6291cec"
      },
      "source": [
        "pred = model.predict([[5. , 3. , 1.6, 0.2]])\n",
        "pred"
      ],
      "execution_count": 36,
      "outputs": [
        {
          "output_type": "execute_result",
          "data": {
            "text/plain": [
              "array([[0.33342487, 0.3333439 , 0.33323127]], dtype=float32)"
            ]
          },
          "metadata": {
            "tags": []
          },
          "execution_count": 36
        }
      ]
    },
    {
      "cell_type": "code",
      "metadata": {
        "id": "hppKHLavaics"
      },
      "source": [
        "import numpy as np"
      ],
      "execution_count": 37,
      "outputs": []
    },
    {
      "cell_type": "code",
      "metadata": {
        "colab": {
          "base_uri": "https://localhost:8080/"
        },
        "id": "a4RtU3oOa7MD",
        "outputId": "bf92e9f3-0977-4772-85d2-a2ced6ef45d3"
      },
      "source": [
        "np.argmax(pred)"
      ],
      "execution_count": 38,
      "outputs": [
        {
          "output_type": "execute_result",
          "data": {
            "text/plain": [
              "0"
            ]
          },
          "metadata": {
            "tags": []
          },
          "execution_count": 38
        }
      ]
    },
    {
      "cell_type": "code",
      "metadata": {
        "id": "qRv-uYLda_gL"
      },
      "source": [
        ""
      ],
      "execution_count": null,
      "outputs": []
    }
  ]
}