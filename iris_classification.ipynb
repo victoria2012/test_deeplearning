{
  "nbformat": 4,
  "nbformat_minor": 0,
  "metadata": {
    "colab": {
      "name": "iris_classification.ipynb",
      "provenance": [],
      "collapsed_sections": [],
      "authorship_tag": "ABX9TyO7TxKeniegzNO4L5tMdGvC"
    },
    "kernelspec": {
      "name": "python3",
      "display_name": "Python 3"
    },
    "language_info": {
      "name": "python"
    }
  },
  "cells": [
    {
      "cell_type": "code",
      "metadata": {
        "id": "11N5Cp8e-0me"
      },
      "source": [
        "from sklearn import datasets"
      ],
      "execution_count": 1,
      "outputs": []
    },
    {
      "cell_type": "code",
      "metadata": {
        "colab": {
          "base_uri": "https://localhost:8080/"
        },
        "id": "O-zllEht_Zol",
        "outputId": "a5095ed1-464e-4ed3-c691-4cf7c484e637"
      },
      "source": [
        "iris = datasets.load_iris()\n",
        "iris, type(iris)"
      ],
      "execution_count": 2,
      "outputs": [
        {
          "output_type": "execute_result",
          "data": {
            "text/plain": [
              "({'DESCR': '.. _iris_dataset:\\n\\nIris plants dataset\\n--------------------\\n\\n**Data Set Characteristics:**\\n\\n    :Number of Instances: 150 (50 in each of three classes)\\n    :Number of Attributes: 4 numeric, predictive attributes and the class\\n    :Attribute Information:\\n        - sepal length in cm\\n        - sepal width in cm\\n        - petal length in cm\\n        - petal width in cm\\n        - class:\\n                - Iris-Setosa\\n                - Iris-Versicolour\\n                - Iris-Virginica\\n                \\n    :Summary Statistics:\\n\\n    ============== ==== ==== ======= ===== ====================\\n                    Min  Max   Mean    SD   Class Correlation\\n    ============== ==== ==== ======= ===== ====================\\n    sepal length:   4.3  7.9   5.84   0.83    0.7826\\n    sepal width:    2.0  4.4   3.05   0.43   -0.4194\\n    petal length:   1.0  6.9   3.76   1.76    0.9490  (high!)\\n    petal width:    0.1  2.5   1.20   0.76    0.9565  (high!)\\n    ============== ==== ==== ======= ===== ====================\\n\\n    :Missing Attribute Values: None\\n    :Class Distribution: 33.3% for each of 3 classes.\\n    :Creator: R.A. Fisher\\n    :Donor: Michael Marshall (MARSHALL%PLU@io.arc.nasa.gov)\\n    :Date: July, 1988\\n\\nThe famous Iris database, first used by Sir R.A. Fisher. The dataset is taken\\nfrom Fisher\\'s paper. Note that it\\'s the same as in R, but not as in the UCI\\nMachine Learning Repository, which has two wrong data points.\\n\\nThis is perhaps the best known database to be found in the\\npattern recognition literature.  Fisher\\'s paper is a classic in the field and\\nis referenced frequently to this day.  (See Duda & Hart, for example.)  The\\ndata set contains 3 classes of 50 instances each, where each class refers to a\\ntype of iris plant.  One class is linearly separable from the other 2; the\\nlatter are NOT linearly separable from each other.\\n\\n.. topic:: References\\n\\n   - Fisher, R.A. \"The use of multiple measurements in taxonomic problems\"\\n     Annual Eugenics, 7, Part II, 179-188 (1936); also in \"Contributions to\\n     Mathematical Statistics\" (John Wiley, NY, 1950).\\n   - Duda, R.O., & Hart, P.E. (1973) Pattern Classification and Scene Analysis.\\n     (Q327.D83) John Wiley & Sons.  ISBN 0-471-22361-1.  See page 218.\\n   - Dasarathy, B.V. (1980) \"Nosing Around the Neighborhood: A New System\\n     Structure and Classification Rule for Recognition in Partially Exposed\\n     Environments\".  IEEE Transactions on Pattern Analysis and Machine\\n     Intelligence, Vol. PAMI-2, No. 1, 67-71.\\n   - Gates, G.W. (1972) \"The Reduced Nearest Neighbor Rule\".  IEEE Transactions\\n     on Information Theory, May 1972, 431-433.\\n   - See also: 1988 MLC Proceedings, 54-64.  Cheeseman et al\"s AUTOCLASS II\\n     conceptual clustering system finds 3 classes in the data.\\n   - Many, many more ...',\n",
              "  'data': array([[5.1, 3.5, 1.4, 0.2],\n",
              "         [4.9, 3. , 1.4, 0.2],\n",
              "         [4.7, 3.2, 1.3, 0.2],\n",
              "         [4.6, 3.1, 1.5, 0.2],\n",
              "         [5. , 3.6, 1.4, 0.2],\n",
              "         [5.4, 3.9, 1.7, 0.4],\n",
              "         [4.6, 3.4, 1.4, 0.3],\n",
              "         [5. , 3.4, 1.5, 0.2],\n",
              "         [4.4, 2.9, 1.4, 0.2],\n",
              "         [4.9, 3.1, 1.5, 0.1],\n",
              "         [5.4, 3.7, 1.5, 0.2],\n",
              "         [4.8, 3.4, 1.6, 0.2],\n",
              "         [4.8, 3. , 1.4, 0.1],\n",
              "         [4.3, 3. , 1.1, 0.1],\n",
              "         [5.8, 4. , 1.2, 0.2],\n",
              "         [5.7, 4.4, 1.5, 0.4],\n",
              "         [5.4, 3.9, 1.3, 0.4],\n",
              "         [5.1, 3.5, 1.4, 0.3],\n",
              "         [5.7, 3.8, 1.7, 0.3],\n",
              "         [5.1, 3.8, 1.5, 0.3],\n",
              "         [5.4, 3.4, 1.7, 0.2],\n",
              "         [5.1, 3.7, 1.5, 0.4],\n",
              "         [4.6, 3.6, 1. , 0.2],\n",
              "         [5.1, 3.3, 1.7, 0.5],\n",
              "         [4.8, 3.4, 1.9, 0.2],\n",
              "         [5. , 3. , 1.6, 0.2],\n",
              "         [5. , 3.4, 1.6, 0.4],\n",
              "         [5.2, 3.5, 1.5, 0.2],\n",
              "         [5.2, 3.4, 1.4, 0.2],\n",
              "         [4.7, 3.2, 1.6, 0.2],\n",
              "         [4.8, 3.1, 1.6, 0.2],\n",
              "         [5.4, 3.4, 1.5, 0.4],\n",
              "         [5.2, 4.1, 1.5, 0.1],\n",
              "         [5.5, 4.2, 1.4, 0.2],\n",
              "         [4.9, 3.1, 1.5, 0.2],\n",
              "         [5. , 3.2, 1.2, 0.2],\n",
              "         [5.5, 3.5, 1.3, 0.2],\n",
              "         [4.9, 3.6, 1.4, 0.1],\n",
              "         [4.4, 3. , 1.3, 0.2],\n",
              "         [5.1, 3.4, 1.5, 0.2],\n",
              "         [5. , 3.5, 1.3, 0.3],\n",
              "         [4.5, 2.3, 1.3, 0.3],\n",
              "         [4.4, 3.2, 1.3, 0.2],\n",
              "         [5. , 3.5, 1.6, 0.6],\n",
              "         [5.1, 3.8, 1.9, 0.4],\n",
              "         [4.8, 3. , 1.4, 0.3],\n",
              "         [5.1, 3.8, 1.6, 0.2],\n",
              "         [4.6, 3.2, 1.4, 0.2],\n",
              "         [5.3, 3.7, 1.5, 0.2],\n",
              "         [5. , 3.3, 1.4, 0.2],\n",
              "         [7. , 3.2, 4.7, 1.4],\n",
              "         [6.4, 3.2, 4.5, 1.5],\n",
              "         [6.9, 3.1, 4.9, 1.5],\n",
              "         [5.5, 2.3, 4. , 1.3],\n",
              "         [6.5, 2.8, 4.6, 1.5],\n",
              "         [5.7, 2.8, 4.5, 1.3],\n",
              "         [6.3, 3.3, 4.7, 1.6],\n",
              "         [4.9, 2.4, 3.3, 1. ],\n",
              "         [6.6, 2.9, 4.6, 1.3],\n",
              "         [5.2, 2.7, 3.9, 1.4],\n",
              "         [5. , 2. , 3.5, 1. ],\n",
              "         [5.9, 3. , 4.2, 1.5],\n",
              "         [6. , 2.2, 4. , 1. ],\n",
              "         [6.1, 2.9, 4.7, 1.4],\n",
              "         [5.6, 2.9, 3.6, 1.3],\n",
              "         [6.7, 3.1, 4.4, 1.4],\n",
              "         [5.6, 3. , 4.5, 1.5],\n",
              "         [5.8, 2.7, 4.1, 1. ],\n",
              "         [6.2, 2.2, 4.5, 1.5],\n",
              "         [5.6, 2.5, 3.9, 1.1],\n",
              "         [5.9, 3.2, 4.8, 1.8],\n",
              "         [6.1, 2.8, 4. , 1.3],\n",
              "         [6.3, 2.5, 4.9, 1.5],\n",
              "         [6.1, 2.8, 4.7, 1.2],\n",
              "         [6.4, 2.9, 4.3, 1.3],\n",
              "         [6.6, 3. , 4.4, 1.4],\n",
              "         [6.8, 2.8, 4.8, 1.4],\n",
              "         [6.7, 3. , 5. , 1.7],\n",
              "         [6. , 2.9, 4.5, 1.5],\n",
              "         [5.7, 2.6, 3.5, 1. ],\n",
              "         [5.5, 2.4, 3.8, 1.1],\n",
              "         [5.5, 2.4, 3.7, 1. ],\n",
              "         [5.8, 2.7, 3.9, 1.2],\n",
              "         [6. , 2.7, 5.1, 1.6],\n",
              "         [5.4, 3. , 4.5, 1.5],\n",
              "         [6. , 3.4, 4.5, 1.6],\n",
              "         [6.7, 3.1, 4.7, 1.5],\n",
              "         [6.3, 2.3, 4.4, 1.3],\n",
              "         [5.6, 3. , 4.1, 1.3],\n",
              "         [5.5, 2.5, 4. , 1.3],\n",
              "         [5.5, 2.6, 4.4, 1.2],\n",
              "         [6.1, 3. , 4.6, 1.4],\n",
              "         [5.8, 2.6, 4. , 1.2],\n",
              "         [5. , 2.3, 3.3, 1. ],\n",
              "         [5.6, 2.7, 4.2, 1.3],\n",
              "         [5.7, 3. , 4.2, 1.2],\n",
              "         [5.7, 2.9, 4.2, 1.3],\n",
              "         [6.2, 2.9, 4.3, 1.3],\n",
              "         [5.1, 2.5, 3. , 1.1],\n",
              "         [5.7, 2.8, 4.1, 1.3],\n",
              "         [6.3, 3.3, 6. , 2.5],\n",
              "         [5.8, 2.7, 5.1, 1.9],\n",
              "         [7.1, 3. , 5.9, 2.1],\n",
              "         [6.3, 2.9, 5.6, 1.8],\n",
              "         [6.5, 3. , 5.8, 2.2],\n",
              "         [7.6, 3. , 6.6, 2.1],\n",
              "         [4.9, 2.5, 4.5, 1.7],\n",
              "         [7.3, 2.9, 6.3, 1.8],\n",
              "         [6.7, 2.5, 5.8, 1.8],\n",
              "         [7.2, 3.6, 6.1, 2.5],\n",
              "         [6.5, 3.2, 5.1, 2. ],\n",
              "         [6.4, 2.7, 5.3, 1.9],\n",
              "         [6.8, 3. , 5.5, 2.1],\n",
              "         [5.7, 2.5, 5. , 2. ],\n",
              "         [5.8, 2.8, 5.1, 2.4],\n",
              "         [6.4, 3.2, 5.3, 2.3],\n",
              "         [6.5, 3. , 5.5, 1.8],\n",
              "         [7.7, 3.8, 6.7, 2.2],\n",
              "         [7.7, 2.6, 6.9, 2.3],\n",
              "         [6. , 2.2, 5. , 1.5],\n",
              "         [6.9, 3.2, 5.7, 2.3],\n",
              "         [5.6, 2.8, 4.9, 2. ],\n",
              "         [7.7, 2.8, 6.7, 2. ],\n",
              "         [6.3, 2.7, 4.9, 1.8],\n",
              "         [6.7, 3.3, 5.7, 2.1],\n",
              "         [7.2, 3.2, 6. , 1.8],\n",
              "         [6.2, 2.8, 4.8, 1.8],\n",
              "         [6.1, 3. , 4.9, 1.8],\n",
              "         [6.4, 2.8, 5.6, 2.1],\n",
              "         [7.2, 3. , 5.8, 1.6],\n",
              "         [7.4, 2.8, 6.1, 1.9],\n",
              "         [7.9, 3.8, 6.4, 2. ],\n",
              "         [6.4, 2.8, 5.6, 2.2],\n",
              "         [6.3, 2.8, 5.1, 1.5],\n",
              "         [6.1, 2.6, 5.6, 1.4],\n",
              "         [7.7, 3. , 6.1, 2.3],\n",
              "         [6.3, 3.4, 5.6, 2.4],\n",
              "         [6.4, 3.1, 5.5, 1.8],\n",
              "         [6. , 3. , 4.8, 1.8],\n",
              "         [6.9, 3.1, 5.4, 2.1],\n",
              "         [6.7, 3.1, 5.6, 2.4],\n",
              "         [6.9, 3.1, 5.1, 2.3],\n",
              "         [5.8, 2.7, 5.1, 1.9],\n",
              "         [6.8, 3.2, 5.9, 2.3],\n",
              "         [6.7, 3.3, 5.7, 2.5],\n",
              "         [6.7, 3. , 5.2, 2.3],\n",
              "         [6.3, 2.5, 5. , 1.9],\n",
              "         [6.5, 3. , 5.2, 2. ],\n",
              "         [6.2, 3.4, 5.4, 2.3],\n",
              "         [5.9, 3. , 5.1, 1.8]]),\n",
              "  'feature_names': ['sepal length (cm)',\n",
              "   'sepal width (cm)',\n",
              "   'petal length (cm)',\n",
              "   'petal width (cm)'],\n",
              "  'filename': '/usr/local/lib/python3.7/dist-packages/sklearn/datasets/data/iris.csv',\n",
              "  'target': array([0, 0, 0, 0, 0, 0, 0, 0, 0, 0, 0, 0, 0, 0, 0, 0, 0, 0, 0, 0, 0, 0,\n",
              "         0, 0, 0, 0, 0, 0, 0, 0, 0, 0, 0, 0, 0, 0, 0, 0, 0, 0, 0, 0, 0, 0,\n",
              "         0, 0, 0, 0, 0, 0, 1, 1, 1, 1, 1, 1, 1, 1, 1, 1, 1, 1, 1, 1, 1, 1,\n",
              "         1, 1, 1, 1, 1, 1, 1, 1, 1, 1, 1, 1, 1, 1, 1, 1, 1, 1, 1, 1, 1, 1,\n",
              "         1, 1, 1, 1, 1, 1, 1, 1, 1, 1, 1, 1, 2, 2, 2, 2, 2, 2, 2, 2, 2, 2,\n",
              "         2, 2, 2, 2, 2, 2, 2, 2, 2, 2, 2, 2, 2, 2, 2, 2, 2, 2, 2, 2, 2, 2,\n",
              "         2, 2, 2, 2, 2, 2, 2, 2, 2, 2, 2, 2, 2, 2, 2, 2, 2, 2]),\n",
              "  'target_names': array(['setosa', 'versicolor', 'virginica'], dtype='<U10')},\n",
              " sklearn.utils.Bunch)"
            ]
          },
          "metadata": {
            "tags": []
          },
          "execution_count": 2
        }
      ]
    },
    {
      "cell_type": "code",
      "metadata": {
        "id": "CDXmK-_8_rkE"
      },
      "source": [
        "import pandas as pd"
      ],
      "execution_count": 3,
      "outputs": []
    },
    {
      "cell_type": "code",
      "metadata": {
        "colab": {
          "base_uri": "https://localhost:8080/"
        },
        "id": "vpDFAPP-AE5d",
        "outputId": "e19d7953-750a-4ed1-b691-231955d67e82"
      },
      "source": [
        "df_iris = pd.DataFrame(iris['data'])\n",
        "df_iris.info(), type(df_iris)"
      ],
      "execution_count": 4,
      "outputs": [
        {
          "output_type": "stream",
          "text": [
            "<class 'pandas.core.frame.DataFrame'>\n",
            "RangeIndex: 150 entries, 0 to 149\n",
            "Data columns (total 4 columns):\n",
            " #   Column  Non-Null Count  Dtype  \n",
            "---  ------  --------------  -----  \n",
            " 0   0       150 non-null    float64\n",
            " 1   1       150 non-null    float64\n",
            " 2   2       150 non-null    float64\n",
            " 3   3       150 non-null    float64\n",
            "dtypes: float64(4)\n",
            "memory usage: 4.8 KB\n"
          ],
          "name": "stdout"
        },
        {
          "output_type": "execute_result",
          "data": {
            "text/plain": [
              "(None, pandas.core.frame.DataFrame)"
            ]
          },
          "metadata": {
            "tags": []
          },
          "execution_count": 4
        }
      ]
    },
    {
      "cell_type": "markdown",
      "metadata": {
        "id": "bdhcg1gHBUG1"
      },
      "source": [
        "# DB에 넣기"
      ]
    },
    {
      "cell_type": "code",
      "metadata": {
        "id": "OlrrmTodANf8"
      },
      "source": [
        "import sqlite3"
      ],
      "execution_count": 5,
      "outputs": []
    },
    {
      "cell_type": "code",
      "metadata": {
        "id": "IwikUjSyBbZ0"
      },
      "source": [
        "connect = sqlite3.connect('./db.sqlite3')"
      ],
      "execution_count": 6,
      "outputs": []
    },
    {
      "cell_type": "code",
      "metadata": {
        "id": "DcdBxetVBpaN"
      },
      "source": [
        "df_iris.to_sql('iris_resource', connect, if_exists='append', index=False)"
      ],
      "execution_count": 7,
      "outputs": []
    },
    {
      "cell_type": "code",
      "metadata": {
        "colab": {
          "base_uri": "https://localhost:8080/",
          "height": 173
        },
        "id": "_qrIiwJbCWKD",
        "outputId": "9d9e9665-c09c-42fc-8659-228282f0814e"
      },
      "source": [
        "df_load = pd.read_sql_query('select * from iris_resource', connect)\n",
        "df_load.head(4)"
      ],
      "execution_count": 8,
      "outputs": [
        {
          "output_type": "execute_result",
          "data": {
            "text/html": [
              "<div>\n",
              "<style scoped>\n",
              "    .dataframe tbody tr th:only-of-type {\n",
              "        vertical-align: middle;\n",
              "    }\n",
              "\n",
              "    .dataframe tbody tr th {\n",
              "        vertical-align: top;\n",
              "    }\n",
              "\n",
              "    .dataframe thead th {\n",
              "        text-align: right;\n",
              "    }\n",
              "</style>\n",
              "<table border=\"1\" class=\"dataframe\">\n",
              "  <thead>\n",
              "    <tr style=\"text-align: right;\">\n",
              "      <th></th>\n",
              "      <th>0</th>\n",
              "      <th>1</th>\n",
              "      <th>2</th>\n",
              "      <th>3</th>\n",
              "    </tr>\n",
              "  </thead>\n",
              "  <tbody>\n",
              "    <tr>\n",
              "      <th>0</th>\n",
              "      <td>5.1</td>\n",
              "      <td>3.5</td>\n",
              "      <td>1.4</td>\n",
              "      <td>0.2</td>\n",
              "    </tr>\n",
              "    <tr>\n",
              "      <th>1</th>\n",
              "      <td>4.9</td>\n",
              "      <td>3.0</td>\n",
              "      <td>1.4</td>\n",
              "      <td>0.2</td>\n",
              "    </tr>\n",
              "    <tr>\n",
              "      <th>2</th>\n",
              "      <td>4.7</td>\n",
              "      <td>3.2</td>\n",
              "      <td>1.3</td>\n",
              "      <td>0.2</td>\n",
              "    </tr>\n",
              "    <tr>\n",
              "      <th>3</th>\n",
              "      <td>4.6</td>\n",
              "      <td>3.1</td>\n",
              "      <td>1.5</td>\n",
              "      <td>0.2</td>\n",
              "    </tr>\n",
              "  </tbody>\n",
              "</table>\n",
              "</div>"
            ],
            "text/plain": [
              "     0    1    2    3\n",
              "0  5.1  3.5  1.4  0.2\n",
              "1  4.9  3.0  1.4  0.2\n",
              "2  4.7  3.2  1.3  0.2\n",
              "3  4.6  3.1  1.5  0.2"
            ]
          },
          "metadata": {
            "tags": []
          },
          "execution_count": 8
        }
      ]
    },
    {
      "cell_type": "code",
      "metadata": {
        "id": "98FNLrq-DCKj"
      },
      "source": [
        "# 이제 판다스에서 넘파이만 빼내야 한다. (판다스에서 index와 columns를 빼고 데이터만 가져온다)"
      ],
      "execution_count": 9,
      "outputs": []
    },
    {
      "cell_type": "code",
      "metadata": {
        "colab": {
          "base_uri": "https://localhost:8080/"
        },
        "id": "kxZSlMWrDNbK",
        "outputId": "d478e5f6-0fb5-4ca9-aaca-f01c6b3d66ff"
      },
      "source": [
        "x_data = df_load.to_numpy()\n",
        "x_data.shape                     # 컬럼이 4개라는 것을 알 수 있다. "
      ],
      "execution_count": 10,
      "outputs": [
        {
          "output_type": "execute_result",
          "data": {
            "text/plain": [
              "(150, 4)"
            ]
          },
          "metadata": {
            "tags": []
          },
          "execution_count": 10
        }
      ]
    },
    {
      "cell_type": "code",
      "metadata": {
        "id": "WGXnHe75VuHt"
      },
      "source": [
        "import numpy as np"
      ],
      "execution_count": 11,
      "outputs": []
    },
    {
      "cell_type": "code",
      "metadata": {
        "colab": {
          "base_uri": "https://localhost:8080/"
        },
        "id": "XUXvoFpjDc4k",
        "outputId": "3557c76f-be79-467a-e309-d41a6e772180"
      },
      "source": [
        "y_data = iris.target\n",
        "y_data, np.unique(y_data)"
      ],
      "execution_count": 12,
      "outputs": [
        {
          "output_type": "execute_result",
          "data": {
            "text/plain": [
              "(array([0, 0, 0, 0, 0, 0, 0, 0, 0, 0, 0, 0, 0, 0, 0, 0, 0, 0, 0, 0, 0, 0,\n",
              "        0, 0, 0, 0, 0, 0, 0, 0, 0, 0, 0, 0, 0, 0, 0, 0, 0, 0, 0, 0, 0, 0,\n",
              "        0, 0, 0, 0, 0, 0, 1, 1, 1, 1, 1, 1, 1, 1, 1, 1, 1, 1, 1, 1, 1, 1,\n",
              "        1, 1, 1, 1, 1, 1, 1, 1, 1, 1, 1, 1, 1, 1, 1, 1, 1, 1, 1, 1, 1, 1,\n",
              "        1, 1, 1, 1, 1, 1, 1, 1, 1, 1, 1, 1, 2, 2, 2, 2, 2, 2, 2, 2, 2, 2,\n",
              "        2, 2, 2, 2, 2, 2, 2, 2, 2, 2, 2, 2, 2, 2, 2, 2, 2, 2, 2, 2, 2, 2,\n",
              "        2, 2, 2, 2, 2, 2, 2, 2, 2, 2, 2, 2, 2, 2, 2, 2, 2, 2]),\n",
              " array([0, 1, 2]))"
            ]
          },
          "metadata": {
            "tags": []
          },
          "execution_count": 12
        }
      ]
    },
    {
      "cell_type": "code",
      "metadata": {
        "id": "vLdgdsLlI4cV"
      },
      "source": [
        "from sklearn.model_selection import train_test_split"
      ],
      "execution_count": 13,
      "outputs": []
    },
    {
      "cell_type": "code",
      "metadata": {
        "id": "Dp6O33H7JGdV"
      },
      "source": [
        "x_train, x_val, y_train, y_val = train_test_split(x_data, y_data)"
      ],
      "execution_count": 14,
      "outputs": []
    },
    {
      "cell_type": "code",
      "metadata": {
        "colab": {
          "base_uri": "https://localhost:8080/"
        },
        "id": "9TJaDtPi1-PU",
        "outputId": "ffbdf1ae-427a-4ab8-e8ce-4293b90493d0"
      },
      "source": [
        "type(y_data)"
      ],
      "execution_count": 15,
      "outputs": [
        {
          "output_type": "execute_result",
          "data": {
            "text/plain": [
              "numpy.ndarray"
            ]
          },
          "metadata": {
            "tags": []
          },
          "execution_count": 15
        }
      ]
    },
    {
      "cell_type": "markdown",
      "metadata": {
        "id": "L71050t-D9Ol"
      },
      "source": [
        "# 교육단계"
      ]
    },
    {
      "cell_type": "code",
      "metadata": {
        "id": "_hCNxo9DDyH7"
      },
      "source": [
        "import tensorflow as tf"
      ],
      "execution_count": 16,
      "outputs": []
    },
    {
      "cell_type": "code",
      "metadata": {
        "id": "pc0lzszlECWM"
      },
      "source": [
        "model = tf.keras.Sequential()"
      ],
      "execution_count": 17,
      "outputs": []
    },
    {
      "cell_type": "code",
      "metadata": {
        "colab": {
          "base_uri": "https://localhost:8080/"
        },
        "id": "NFV6-nzUEJj8",
        "outputId": "b8d80d6d-f626-4068-eec1-34b8ccb775bb"
      },
      "source": [
        "model.add(tf.keras.Input(shape=4,))  # input layer\n",
        "\n",
        "model.add(tf.keras.layers.Dense(64, activation='relu'))  # hidden layer\n",
        "model.add(tf.keras.layers.Dense(24, activation='relu'))  # hidden layer\n",
        "\n",
        "model.add(tf.keras.layers.Dense(3, activation='softmax'))  # output layer\n",
        "\n",
        "model.compile(optimizer='adam', loss='sparse_categorical_crossentropy', metrics=['acc']) # gadget    연속형일 때 mae\n"
      ],
      "execution_count": 18,
      "outputs": [
        {
          "output_type": "stream",
          "text": [
            "WARNING:tensorflow:Please add `keras.layers.InputLayer` instead of `keras.Input` to Sequential model. `keras.Input` is intended to be used by Functional model.\n"
          ],
          "name": "stdout"
        }
      ]
    },
    {
      "cell_type": "code",
      "metadata": {
        "colab": {
          "base_uri": "https://localhost:8080/"
        },
        "id": "4DjQnDmDYjqG",
        "outputId": "7776fd4b-a16e-405c-b9c4-d5f9e15bf653"
      },
      "source": [
        "model.summary()"
      ],
      "execution_count": 19,
      "outputs": [
        {
          "output_type": "stream",
          "text": [
            "Model: \"sequential\"\n",
            "_________________________________________________________________\n",
            "Layer (type)                 Output Shape              Param #   \n",
            "=================================================================\n",
            "dense (Dense)                (None, 64)                320       \n",
            "_________________________________________________________________\n",
            "dense_1 (Dense)              (None, 24)                1560      \n",
            "_________________________________________________________________\n",
            "dense_2 (Dense)              (None, 3)                 75        \n",
            "=================================================================\n",
            "Total params: 1,955\n",
            "Trainable params: 1,955\n",
            "Non-trainable params: 0\n",
            "_________________________________________________________________\n"
          ],
          "name": "stdout"
        }
      ]
    },
    {
      "cell_type": "code",
      "metadata": {
        "colab": {
          "base_uri": "https://localhost:8080/"
        },
        "id": "KLE9RKYrEf8a",
        "outputId": "99170473-d6f1-4d31-a76a-39a785aab7e1"
      },
      "source": [
        "#  model.fit(x_data, y_data, epochs=100, validation_split=0.3)  # 학습   한쪽으로 쏠리는 것을 방지하기 위해 validation_split을 쓴다. \n",
        "model.fit(x_train, y_train, epochs=50, validation_data=(x_val,y_val))  # 학습   한쪽으로 쏠리는 것을 방지하기 위해 validation_split을 쓴다. "
      ],
      "execution_count": 20,
      "outputs": [
        {
          "output_type": "stream",
          "text": [
            "Epoch 1/50\n",
            "4/4 [==============================] - 1s 151ms/step - loss: 1.2285 - acc: 0.3482 - val_loss: 1.1809 - val_acc: 0.2895\n",
            "Epoch 2/50\n",
            "4/4 [==============================] - 0s 17ms/step - loss: 1.1022 - acc: 0.3482 - val_loss: 1.0575 - val_acc: 0.2895\n",
            "Epoch 3/50\n",
            "4/4 [==============================] - 0s 15ms/step - loss: 1.0163 - acc: 0.3482 - val_loss: 0.9665 - val_acc: 0.2632\n",
            "Epoch 4/50\n",
            "4/4 [==============================] - 0s 11ms/step - loss: 0.9449 - acc: 0.3482 - val_loss: 0.9052 - val_acc: 0.3684\n",
            "Epoch 5/50\n",
            "4/4 [==============================] - 0s 8ms/step - loss: 0.8987 - acc: 0.4286 - val_loss: 0.8505 - val_acc: 0.6842\n",
            "Epoch 6/50\n",
            "4/4 [==============================] - 0s 8ms/step - loss: 0.8469 - acc: 0.6250 - val_loss: 0.8067 - val_acc: 0.6842\n",
            "Epoch 7/50\n",
            "4/4 [==============================] - 0s 9ms/step - loss: 0.8048 - acc: 0.6161 - val_loss: 0.7700 - val_acc: 0.6579\n",
            "Epoch 8/50\n",
            "4/4 [==============================] - 0s 9ms/step - loss: 0.7645 - acc: 0.6518 - val_loss: 0.7313 - val_acc: 0.7105\n",
            "Epoch 9/50\n",
            "4/4 [==============================] - 0s 11ms/step - loss: 0.7299 - acc: 0.6518 - val_loss: 0.6978 - val_acc: 0.7105\n",
            "Epoch 10/50\n",
            "4/4 [==============================] - 0s 8ms/step - loss: 0.6970 - acc: 0.6518 - val_loss: 0.6707 - val_acc: 0.7105\n",
            "Epoch 11/50\n",
            "4/4 [==============================] - 0s 9ms/step - loss: 0.6693 - acc: 0.6518 - val_loss: 0.6460 - val_acc: 0.7105\n",
            "Epoch 12/50\n",
            "4/4 [==============================] - 0s 10ms/step - loss: 0.6449 - acc: 0.6518 - val_loss: 0.6201 - val_acc: 0.7105\n",
            "Epoch 13/50\n",
            "4/4 [==============================] - 0s 9ms/step - loss: 0.6222 - acc: 0.6518 - val_loss: 0.5965 - val_acc: 0.7105\n",
            "Epoch 14/50\n",
            "4/4 [==============================] - 0s 9ms/step - loss: 0.6037 - acc: 0.6518 - val_loss: 0.5787 - val_acc: 0.7105\n",
            "Epoch 15/50\n",
            "4/4 [==============================] - 0s 9ms/step - loss: 0.5852 - acc: 0.6518 - val_loss: 0.5599 - val_acc: 0.7105\n",
            "Epoch 16/50\n",
            "4/4 [==============================] - 0s 16ms/step - loss: 0.5701 - acc: 0.6518 - val_loss: 0.5446 - val_acc: 0.7105\n",
            "Epoch 17/50\n",
            "4/4 [==============================] - 0s 9ms/step - loss: 0.5549 - acc: 0.6518 - val_loss: 0.5317 - val_acc: 0.7368\n",
            "Epoch 18/50\n",
            "4/4 [==============================] - 0s 9ms/step - loss: 0.5392 - acc: 0.6786 - val_loss: 0.5230 - val_acc: 0.8158\n",
            "Epoch 19/50\n",
            "4/4 [==============================] - 0s 9ms/step - loss: 0.5260 - acc: 0.8036 - val_loss: 0.5139 - val_acc: 0.9211\n",
            "Epoch 20/50\n",
            "4/4 [==============================] - 0s 9ms/step - loss: 0.5133 - acc: 0.8839 - val_loss: 0.5084 - val_acc: 0.9737\n",
            "Epoch 21/50\n",
            "4/4 [==============================] - 0s 15ms/step - loss: 0.5028 - acc: 0.9732 - val_loss: 0.4990 - val_acc: 0.9737\n",
            "Epoch 22/50\n",
            "4/4 [==============================] - 0s 10ms/step - loss: 0.4910 - acc: 0.9643 - val_loss: 0.4822 - val_acc: 0.9737\n",
            "Epoch 23/50\n",
            "4/4 [==============================] - 0s 11ms/step - loss: 0.4796 - acc: 0.8929 - val_loss: 0.4670 - val_acc: 0.9211\n",
            "Epoch 24/50\n",
            "4/4 [==============================] - 0s 11ms/step - loss: 0.4709 - acc: 0.8214 - val_loss: 0.4544 - val_acc: 0.8158\n",
            "Epoch 25/50\n",
            "4/4 [==============================] - 0s 18ms/step - loss: 0.4637 - acc: 0.7946 - val_loss: 0.4445 - val_acc: 0.8158\n",
            "Epoch 26/50\n",
            "4/4 [==============================] - 0s 12ms/step - loss: 0.4553 - acc: 0.7857 - val_loss: 0.4363 - val_acc: 0.8158\n",
            "Epoch 27/50\n",
            "4/4 [==============================] - 0s 9ms/step - loss: 0.4447 - acc: 0.8214 - val_loss: 0.4334 - val_acc: 0.9737\n",
            "Epoch 28/50\n",
            "4/4 [==============================] - 0s 9ms/step - loss: 0.4331 - acc: 0.9375 - val_loss: 0.4360 - val_acc: 1.0000\n",
            "Epoch 29/50\n",
            "4/4 [==============================] - 0s 10ms/step - loss: 0.4270 - acc: 0.9643 - val_loss: 0.4385 - val_acc: 0.9211\n",
            "Epoch 30/50\n",
            "4/4 [==============================] - 0s 10ms/step - loss: 0.4218 - acc: 0.9286 - val_loss: 0.4244 - val_acc: 0.9737\n",
            "Epoch 31/50\n",
            "4/4 [==============================] - 0s 10ms/step - loss: 0.4109 - acc: 0.9464 - val_loss: 0.3967 - val_acc: 0.9474\n",
            "Epoch 32/50\n",
            "4/4 [==============================] - 0s 11ms/step - loss: 0.4023 - acc: 0.8839 - val_loss: 0.3845 - val_acc: 0.9211\n",
            "Epoch 33/50\n",
            "4/4 [==============================] - 0s 9ms/step - loss: 0.3965 - acc: 0.8571 - val_loss: 0.3790 - val_acc: 0.9474\n",
            "Epoch 34/50\n",
            "4/4 [==============================] - 0s 9ms/step - loss: 0.3879 - acc: 0.9286 - val_loss: 0.3816 - val_acc: 0.9737\n",
            "Epoch 35/50\n",
            "4/4 [==============================] - 0s 10ms/step - loss: 0.3779 - acc: 0.9732 - val_loss: 0.3774 - val_acc: 1.0000\n",
            "Epoch 36/50\n",
            "4/4 [==============================] - 0s 12ms/step - loss: 0.3713 - acc: 0.9732 - val_loss: 0.3665 - val_acc: 1.0000\n",
            "Epoch 37/50\n",
            "4/4 [==============================] - 0s 10ms/step - loss: 0.3673 - acc: 0.9375 - val_loss: 0.3490 - val_acc: 0.9737\n",
            "Epoch 38/50\n",
            "4/4 [==============================] - 0s 9ms/step - loss: 0.3587 - acc: 0.9196 - val_loss: 0.3446 - val_acc: 0.9737\n",
            "Epoch 39/50\n",
            "4/4 [==============================] - 0s 9ms/step - loss: 0.3493 - acc: 0.9732 - val_loss: 0.3538 - val_acc: 0.9737\n",
            "Epoch 40/50\n",
            "4/4 [==============================] - 0s 9ms/step - loss: 0.3432 - acc: 0.9643 - val_loss: 0.3481 - val_acc: 0.9737\n",
            "Epoch 41/50\n",
            "4/4 [==============================] - 0s 9ms/step - loss: 0.3359 - acc: 0.9821 - val_loss: 0.3299 - val_acc: 1.0000\n",
            "Epoch 42/50\n",
            "4/4 [==============================] - 0s 10ms/step - loss: 0.3292 - acc: 0.9643 - val_loss: 0.3177 - val_acc: 0.9737\n",
            "Epoch 43/50\n",
            "4/4 [==============================] - 0s 10ms/step - loss: 0.3201 - acc: 0.9643 - val_loss: 0.3184 - val_acc: 1.0000\n",
            "Epoch 44/50\n",
            "4/4 [==============================] - 0s 9ms/step - loss: 0.3162 - acc: 0.9732 - val_loss: 0.3173 - val_acc: 1.0000\n",
            "Epoch 45/50\n",
            "4/4 [==============================] - 0s 10ms/step - loss: 0.3065 - acc: 0.9732 - val_loss: 0.2976 - val_acc: 1.0000\n",
            "Epoch 46/50\n",
            "4/4 [==============================] - 0s 9ms/step - loss: 0.3004 - acc: 0.9643 - val_loss: 0.2874 - val_acc: 0.9737\n",
            "Epoch 47/50\n",
            "4/4 [==============================] - 0s 10ms/step - loss: 0.2954 - acc: 0.9643 - val_loss: 0.2847 - val_acc: 1.0000\n",
            "Epoch 48/50\n",
            "4/4 [==============================] - 0s 10ms/step - loss: 0.2875 - acc: 0.9643 - val_loss: 0.2827 - val_acc: 1.0000\n",
            "Epoch 49/50\n",
            "4/4 [==============================] - 0s 12ms/step - loss: 0.2807 - acc: 0.9732 - val_loss: 0.2776 - val_acc: 1.0000\n",
            "Epoch 50/50\n",
            "4/4 [==============================] - 0s 9ms/step - loss: 0.2753 - acc: 0.9643 - val_loss: 0.2675 - val_acc: 1.0000\n"
          ],
          "name": "stdout"
        },
        {
          "output_type": "execute_result",
          "data": {
            "text/plain": [
              "<tensorflow.python.keras.callbacks.History at 0x7f6f22b72e10>"
            ]
          },
          "metadata": {
            "tags": []
          },
          "execution_count": 20
        }
      ]
    },
    {
      "cell_type": "markdown",
      "metadata": {
        "id": "Zr6goXVKZzFc"
      },
      "source": [
        "# evaluation : 학습한 데이터와 검증데이터는 달라야 한다. "
      ]
    },
    {
      "cell_type": "code",
      "metadata": {
        "id": "zVQjwBmxZ3W7"
      },
      "source": [
        "# model.evaluate(x_data, y_data)   #  loss: 0.4340 - acc: 0.6800"
      ],
      "execution_count": 21,
      "outputs": []
    },
    {
      "cell_type": "code",
      "metadata": {
        "colab": {
          "base_uri": "https://localhost:8080/"
        },
        "id": "FrYyLF_fIuvd",
        "outputId": "9a56b09b-a4a2-47ff-9825-8801c08f7869"
      },
      "source": [
        "model.evaluate(x_data, y_data) "
      ],
      "execution_count": 22,
      "outputs": [
        {
          "output_type": "stream",
          "text": [
            "5/5 [==============================] - 0s 2ms/step - loss: 0.2694 - acc: 0.9733\n"
          ],
          "name": "stdout"
        },
        {
          "output_type": "execute_result",
          "data": {
            "text/plain": [
              "[0.2693519592285156, 0.9733333587646484]"
            ]
          },
          "metadata": {
            "tags": []
          },
          "execution_count": 22
        }
      ]
    },
    {
      "cell_type": "code",
      "metadata": {
        "id": "d8z--ekWEXKk"
      },
      "source": [
        "from sklearn.metrics import classification_report, confusion_matrix"
      ],
      "execution_count": 23,
      "outputs": []
    },
    {
      "cell_type": "code",
      "metadata": {
        "colab": {
          "base_uri": "https://localhost:8080/"
        },
        "id": "ZyNtUyOWEpGc",
        "outputId": "8dedc99d-3225-4aaf-85d9-9a112ec2d90a"
      },
      "source": [
        "y_pred = model.predict(x_data)\n",
        "y_pred.shape, y_pred[4]"
      ],
      "execution_count": 24,
      "outputs": [
        {
          "output_type": "execute_result",
          "data": {
            "text/plain": [
              "((150, 3), array([9.8040545e-01, 1.8854981e-02, 7.3958031e-04], dtype=float32))"
            ]
          },
          "metadata": {
            "tags": []
          },
          "execution_count": 24
        }
      ]
    },
    {
      "cell_type": "code",
      "metadata": {
        "id": "y-BrYy8vFGQ0"
      },
      "source": [
        "import numpy as np"
      ],
      "execution_count": 25,
      "outputs": []
    },
    {
      "cell_type": "code",
      "metadata": {
        "colab": {
          "base_uri": "https://localhost:8080/"
        },
        "id": "akvkzpYiFJL8",
        "outputId": "d83abb5f-bbb2-42e9-f45c-9bfee5424aa6"
      },
      "source": [
        "y_pred_argmax = np.argmax(y_pred, axis=1)\n",
        "y_pred_argmax.shape, y_pred_argmax[4]"
      ],
      "execution_count": 26,
      "outputs": [
        {
          "output_type": "execute_result",
          "data": {
            "text/plain": [
              "((150,), 0)"
            ]
          },
          "metadata": {
            "tags": []
          },
          "execution_count": 26
        }
      ]
    },
    {
      "cell_type": "code",
      "metadata": {
        "colab": {
          "base_uri": "https://localhost:8080/"
        },
        "id": "ijb0dfJRE39E",
        "outputId": "7527d9a3-5318-4934-8e9b-08d3dd18197e"
      },
      "source": [
        "y_data.shape, y_data[4]"
      ],
      "execution_count": 27,
      "outputs": [
        {
          "output_type": "execute_result",
          "data": {
            "text/plain": [
              "((150,), 0)"
            ]
          },
          "metadata": {
            "tags": []
          },
          "execution_count": 27
        }
      ]
    },
    {
      "cell_type": "code",
      "metadata": {
        "colab": {
          "base_uri": "https://localhost:8080/"
        },
        "id": "yn1Rgs5oE4gE",
        "outputId": "402ef7f7-6947-4c80-a064-db175e422e1f"
      },
      "source": [
        "print(classification_report(y_data, y_pred_argmax))"
      ],
      "execution_count": 28,
      "outputs": [
        {
          "output_type": "stream",
          "text": [
            "              precision    recall  f1-score   support\n",
            "\n",
            "           0       1.00      1.00      1.00        50\n",
            "           1       1.00      0.92      0.96        50\n",
            "           2       0.93      1.00      0.96        50\n",
            "\n",
            "    accuracy                           0.97       150\n",
            "   macro avg       0.98      0.97      0.97       150\n",
            "weighted avg       0.98      0.97      0.97       150\n",
            "\n"
          ],
          "name": "stdout"
        }
      ]
    },
    {
      "cell_type": "code",
      "metadata": {
        "colab": {
          "base_uri": "https://localhost:8080/"
        },
        "id": "mco8j5vEGyB9",
        "outputId": "fee2607e-cc20-4cf9-fd0f-f07d1cd78331"
      },
      "source": [
        "y_data"
      ],
      "execution_count": 38,
      "outputs": [
        {
          "output_type": "execute_result",
          "data": {
            "text/plain": [
              "array([0, 0, 0, 0, 0, 0, 0, 0, 0, 0, 0, 0, 0, 0, 0, 0, 0, 0, 0, 0, 0, 0,\n",
              "       0, 0, 0, 0, 0, 0, 0, 0, 0, 0, 0, 0, 0, 0, 0, 0, 0, 0, 0, 0, 0, 0,\n",
              "       0, 0, 0, 0, 0, 0, 1, 1, 1, 1, 1, 1, 1, 1, 1, 1, 1, 1, 1, 1, 1, 1,\n",
              "       1, 1, 1, 1, 1, 1, 1, 1, 1, 1, 1, 1, 1, 1, 1, 1, 1, 1, 1, 1, 1, 1,\n",
              "       1, 1, 1, 1, 1, 1, 1, 1, 1, 1, 1, 1, 2, 2, 2, 2, 2, 2, 2, 2, 2, 2,\n",
              "       2, 2, 2, 2, 2, 2, 2, 2, 2, 2, 2, 2, 2, 2, 2, 2, 2, 2, 2, 2, 2, 2,\n",
              "       2, 2, 2, 2, 2, 2, 2, 2, 2, 2, 2, 2, 2, 2, 2, 2, 2, 2])"
            ]
          },
          "metadata": {
            "tags": []
          },
          "execution_count": 38
        }
      ]
    },
    {
      "cell_type": "code",
      "metadata": {
        "colab": {
          "base_uri": "https://localhost:8080/"
        },
        "id": "kiI6XsWvH3Vy",
        "outputId": "0c2a0754-5ef8-46fb-8d6a-7e4501c59822"
      },
      "source": [
        "confusion_matrix(y_data, y_pred_argmax)"
      ],
      "execution_count": 30,
      "outputs": [
        {
          "output_type": "execute_result",
          "data": {
            "text/plain": [
              "array([[50,  0,  0],\n",
              "       [ 0, 46,  4],\n",
              "       [ 0,  0, 50]])"
            ]
          },
          "metadata": {
            "tags": []
          },
          "execution_count": 30
        }
      ]
    },
    {
      "cell_type": "code",
      "metadata": {
        "id": "WHHSsO8DICec"
      },
      "source": [
        "import seaborn as sns"
      ],
      "execution_count": 31,
      "outputs": []
    },
    {
      "cell_type": "code",
      "metadata": {
        "colab": {
          "base_uri": "https://localhost:8080/",
          "height": 287
        },
        "id": "DuHCsCiyIK6s",
        "outputId": "031d9316-c6c8-4b29-941d-554df593c65a"
      },
      "source": [
        "sns.heatmap(confusion_matrix(y_data, y_pred_argmax), annot=True)"
      ],
      "execution_count": 32,
      "outputs": [
        {
          "output_type": "execute_result",
          "data": {
            "text/plain": [
              "<matplotlib.axes._subplots.AxesSubplot at 0x7f6f1f2b2510>"
            ]
          },
          "metadata": {
            "tags": []
          },
          "execution_count": 32
        },
        {
          "output_type": "display_data",
          "data": {
            "image/png": "[encoded data removed]",
            "text/plain": [
              "<Figure size 432x288 with 2 Axes>"
            ]
          },
          "metadata": {
            "tags": [],
            "needs_background": "light"
          }
        }
      ]
    },
    {
      "cell_type": "markdown",
      "metadata": {
        "id": "4EIfC0oREZt-"
      },
      "source": [
        "# service"
      ]
    },
    {
      "cell_type": "code",
      "metadata": {
        "colab": {
          "base_uri": "https://localhost:8080/"
        },
        "id": "pzOSeAFbaWUf",
        "outputId": "3c659349-8eaa-4166-862c-60e1cfefedbc"
      },
      "source": [
        "x_data[25], y_data[25]"
      ],
      "execution_count": 33,
      "outputs": [
        {
          "output_type": "execute_result",
          "data": {
            "text/plain": [
              "(array([5. , 3. , 1.6, 0.2]), 0)"
            ]
          },
          "metadata": {
            "tags": []
          },
          "execution_count": 33
        }
      ]
    },
    {
      "cell_type": "code",
      "metadata": {
        "colab": {
          "base_uri": "https://localhost:8080/"
        },
        "id": "Fvv-RmrDEmX8",
        "outputId": "85afd89f-f615-43ba-933f-e01213788621"
      },
      "source": [
        "pred = model.predict([[5. , 3. , 1.6, 0.2]])\n",
        "pred"
      ],
      "execution_count": 34,
      "outputs": [
        {
          "output_type": "execute_result",
          "data": {
            "text/plain": [
              "array([[0.96444595, 0.03412138, 0.00143265]], dtype=float32)"
            ]
          },
          "metadata": {
            "tags": []
          },
          "execution_count": 34
        }
      ]
    },
    {
      "cell_type": "code",
      "metadata": {
        "id": "hppKHLavaics"
      },
      "source": [
        "import numpy as np"
      ],
      "execution_count": 35,
      "outputs": []
    },
    {
      "cell_type": "code",
      "metadata": {
        "colab": {
          "base_uri": "https://localhost:8080/"
        },
        "id": "a4RtU3oOa7MD",
        "outputId": "c8c0a566-ceee-42a6-d8db-b6ce823346a2"
      },
      "source": [
        "np.argmax(pred)"
      ],
      "execution_count": 36,
      "outputs": [
        {
          "output_type": "execute_result",
          "data": {
            "text/plain": [
              "0"
            ]
          },
          "metadata": {
            "tags": []
          },
          "execution_count": 36
        }
      ]
    },
    {
      "cell_type": "code",
      "metadata": {
        "id": "Rb99xiuzSZv8"
      },
      "source": [
        ""
      ],
      "execution_count": null,
      "outputs": []
    }
  ]
}