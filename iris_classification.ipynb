{
  "nbformat": 4,
  "nbformat_minor": 0,
  "metadata": {
    "colab": {
      "name": "iris_classification.ipynb",
      "provenance": [],
      "collapsed_sections": [],
      "authorship_tag": "ABX9TyOIlaiIrrk1NVQX5Zd/H8Hm"
    },
    "kernelspec": {
      "name": "python3",
      "display_name": "Python 3"
    },
    "language_info": {
      "name": "python"
    }
  },
  "cells": [
    {
      "cell_type": "code",
      "metadata": {
        "id": "11N5Cp8e-0me"
      },
      "source": [
        "from sklearn import datasets"
      ],
      "execution_count": 1,
      "outputs": []
    },
    {
      "cell_type": "code",
      "metadata": {
        "id": "O-zllEht_Zol"
      },
      "source": [
        "iris = datasets.load_iris()\n",
        "iris, type(iris)"
      ],
      "execution_count": null,
      "outputs": []
    },
    {
      "cell_type": "code",
      "metadata": {
        "id": "CDXmK-_8_rkE"
      },
      "source": [
        "import pandas as pd"
      ],
      "execution_count": 3,
      "outputs": []
    },
    {
      "cell_type": "code",
      "metadata": {
        "colab": {
          "base_uri": "https://localhost:8080/"
        },
        "id": "vpDFAPP-AE5d",
        "outputId": "8dcc6e0a-d793-4a28-b98b-7673a121d4e1"
      },
      "source": [
        "df_iris = pd.DataFrame(iris['data'])\n",
        "df_iris.info(), type(df_iris)"
      ],
      "execution_count": 39,
      "outputs": [
        {
          "output_type": "stream",
          "text": [
            "<class 'pandas.core.frame.DataFrame'>\n",
            "RangeIndex: 150 entries, 0 to 149\n",
            "Data columns (total 4 columns):\n",
            " #   Column  Non-Null Count  Dtype  \n",
            "---  ------  --------------  -----  \n",
            " 0   0       150 non-null    float64\n",
            " 1   1       150 non-null    float64\n",
            " 2   2       150 non-null    float64\n",
            " 3   3       150 non-null    float64\n",
            "dtypes: float64(4)\n",
            "memory usage: 4.8 KB\n"
          ],
          "name": "stdout"
        },
        {
          "output_type": "execute_result",
          "data": {
            "text/plain": [
              "(None, pandas.core.frame.DataFrame)"
            ]
          },
          "metadata": {
            "tags": []
          },
          "execution_count": 39
        }
      ]
    },
    {
      "cell_type": "markdown",
      "metadata": {
        "id": "bdhcg1gHBUG1"
      },
      "source": [
        "# DB에 넣기"
      ]
    },
    {
      "cell_type": "code",
      "metadata": {
        "id": "OlrrmTodANf8"
      },
      "source": [
        "import sqlite3"
      ],
      "execution_count": 7,
      "outputs": []
    },
    {
      "cell_type": "code",
      "metadata": {
        "id": "IwikUjSyBbZ0"
      },
      "source": [
        "connect = sqlite3.connect('./db.sqlite3')"
      ],
      "execution_count": 8,
      "outputs": []
    },
    {
      "cell_type": "code",
      "metadata": {
        "id": "DcdBxetVBpaN"
      },
      "source": [
        "df_iris.to_sql('iris_resource', connect, if_exists='append', index=False)"
      ],
      "execution_count": 10,
      "outputs": []
    },
    {
      "cell_type": "code",
      "metadata": {
        "colab": {
          "base_uri": "https://localhost:8080/",
          "height": 173
        },
        "id": "_qrIiwJbCWKD",
        "outputId": "6c07cf58-e3dd-4914-d59d-177909b4beae"
      },
      "source": [
        "df_load = pd.read_sql_query('select * from iris_resource', connect)\n",
        "df_load.head(4)"
      ],
      "execution_count": 11,
      "outputs": [
        {
          "output_type": "execute_result",
          "data": {
            "text/html": [
              "<div>\n",
              "<style scoped>\n",
              "    .dataframe tbody tr th:only-of-type {\n",
              "        vertical-align: middle;\n",
              "    }\n",
              "\n",
              "    .dataframe tbody tr th {\n",
              "        vertical-align: top;\n",
              "    }\n",
              "\n",
              "    .dataframe thead th {\n",
              "        text-align: right;\n",
              "    }\n",
              "</style>\n",
              "<table border=\"1\" class=\"dataframe\">\n",
              "  <thead>\n",
              "    <tr style=\"text-align: right;\">\n",
              "      <th></th>\n",
              "      <th>0</th>\n",
              "      <th>1</th>\n",
              "      <th>2</th>\n",
              "      <th>3</th>\n",
              "    </tr>\n",
              "  </thead>\n",
              "  <tbody>\n",
              "    <tr>\n",
              "      <th>0</th>\n",
              "      <td>5.1</td>\n",
              "      <td>3.5</td>\n",
              "      <td>1.4</td>\n",
              "      <td>0.2</td>\n",
              "    </tr>\n",
              "    <tr>\n",
              "      <th>1</th>\n",
              "      <td>4.9</td>\n",
              "      <td>3.0</td>\n",
              "      <td>1.4</td>\n",
              "      <td>0.2</td>\n",
              "    </tr>\n",
              "    <tr>\n",
              "      <th>2</th>\n",
              "      <td>4.7</td>\n",
              "      <td>3.2</td>\n",
              "      <td>1.3</td>\n",
              "      <td>0.2</td>\n",
              "    </tr>\n",
              "    <tr>\n",
              "      <th>3</th>\n",
              "      <td>4.6</td>\n",
              "      <td>3.1</td>\n",
              "      <td>1.5</td>\n",
              "      <td>0.2</td>\n",
              "    </tr>\n",
              "  </tbody>\n",
              "</table>\n",
              "</div>"
            ],
            "text/plain": [
              "     0    1    2    3\n",
              "0  5.1  3.5  1.4  0.2\n",
              "1  4.9  3.0  1.4  0.2\n",
              "2  4.7  3.2  1.3  0.2\n",
              "3  4.6  3.1  1.5  0.2"
            ]
          },
          "metadata": {
            "tags": []
          },
          "execution_count": 11
        }
      ]
    },
    {
      "cell_type": "code",
      "metadata": {
        "id": "98FNLrq-DCKj"
      },
      "source": [
        "# 이제 판다스에서 넘파이만 빼내야 한다. (판다스에서 index와 columns를 빼고 데이터만 가져온다)"
      ],
      "execution_count": 12,
      "outputs": []
    },
    {
      "cell_type": "code",
      "metadata": {
        "colab": {
          "base_uri": "https://localhost:8080/"
        },
        "id": "kxZSlMWrDNbK",
        "outputId": "27b93b12-bdc1-43bb-d318-701698d8fc3c"
      },
      "source": [
        "x_data = df_load.to_numpy()\n",
        "x_data.shape                     # 컬럼이 4개라는 것을 알 수 있다. "
      ],
      "execution_count": 14,
      "outputs": [
        {
          "output_type": "execute_result",
          "data": {
            "text/plain": [
              "(150, 4)"
            ]
          },
          "metadata": {
            "tags": []
          },
          "execution_count": 14
        }
      ]
    },
    {
      "cell_type": "code",
      "metadata": {
        "id": "WGXnHe75VuHt"
      },
      "source": [
        "import numpy as np"
      ],
      "execution_count": 20,
      "outputs": []
    },
    {
      "cell_type": "code",
      "metadata": {
        "colab": {
          "base_uri": "https://localhost:8080/"
        },
        "id": "XUXvoFpjDc4k",
        "outputId": "e578456d-713c-4d26-e567-ded829995766"
      },
      "source": [
        "y_data = iris.target\n",
        "y_data, np.unique(y_data)"
      ],
      "execution_count": 21,
      "outputs": [
        {
          "output_type": "execute_result",
          "data": {
            "text/plain": [
              "(array([0, 0, 0, 0, 0, 0, 0, 0, 0, 0, 0, 0, 0, 0, 0, 0, 0, 0, 0, 0, 0, 0,\n",
              "        0, 0, 0, 0, 0, 0, 0, 0, 0, 0, 0, 0, 0, 0, 0, 0, 0, 0, 0, 0, 0, 0,\n",
              "        0, 0, 0, 0, 0, 0, 1, 1, 1, 1, 1, 1, 1, 1, 1, 1, 1, 1, 1, 1, 1, 1,\n",
              "        1, 1, 1, 1, 1, 1, 1, 1, 1, 1, 1, 1, 1, 1, 1, 1, 1, 1, 1, 1, 1, 1,\n",
              "        1, 1, 1, 1, 1, 1, 1, 1, 1, 1, 1, 1, 2, 2, 2, 2, 2, 2, 2, 2, 2, 2,\n",
              "        2, 2, 2, 2, 2, 2, 2, 2, 2, 2, 2, 2, 2, 2, 2, 2, 2, 2, 2, 2, 2, 2,\n",
              "        2, 2, 2, 2, 2, 2, 2, 2, 2, 2, 2, 2, 2, 2, 2, 2, 2, 2]),\n",
              " array([0, 1, 2]))"
            ]
          },
          "metadata": {
            "tags": []
          },
          "execution_count": 21
        }
      ]
    },
    {
      "cell_type": "markdown",
      "metadata": {
        "id": "L71050t-D9Ol"
      },
      "source": [
        "# 교육단계"
      ]
    },
    {
      "cell_type": "code",
      "metadata": {
        "id": "_hCNxo9DDyH7"
      },
      "source": [
        "import tensorflow as tf"
      ],
      "execution_count": 41,
      "outputs": []
    },
    {
      "cell_type": "code",
      "metadata": {
        "id": "pc0lzszlECWM"
      },
      "source": [
        "model = tf.keras.Sequential()"
      ],
      "execution_count": 42,
      "outputs": []
    },
    {
      "cell_type": "code",
      "metadata": {
        "colab": {
          "base_uri": "https://localhost:8080/"
        },
        "id": "NFV6-nzUEJj8",
        "outputId": "2d42a0dd-0772-4d6f-ac56-2572949d11eb"
      },
      "source": [
        "model.add(tf.keras.Input(shape=4,))  # input layer\n",
        "\n",
        "model.add(tf.keras.layers.Dense(64, activation='relu'))  # hidden layer\n",
        "model.add(tf.keras.layers.Dense(24, activation='relu'))  # hidden layer\n",
        "\n",
        "model.add(tf.keras.layers.Dense(3, activation='softmax'))  # output layer\n",
        "\n",
        "model.compile(optimizer='adam', loss='sparse_categorical_crossentropy', metrics=['acc']) # gadget    연속형일 때 mae\n"
      ],
      "execution_count": 43,
      "outputs": [
        {
          "output_type": "stream",
          "text": [
            "WARNING:tensorflow:Please add `keras.layers.InputLayer` instead of `keras.Input` to Sequential model. `keras.Input` is intended to be used by Functional model.\n"
          ],
          "name": "stdout"
        }
      ]
    },
    {
      "cell_type": "code",
      "metadata": {
        "colab": {
          "base_uri": "https://localhost:8080/"
        },
        "id": "4DjQnDmDYjqG",
        "outputId": "201289c9-89b4-49b1-e08c-a01da7b184a2"
      },
      "source": [
        "model.summary()"
      ],
      "execution_count": 44,
      "outputs": [
        {
          "output_type": "stream",
          "text": [
            "Model: \"sequential_1\"\n",
            "_________________________________________________________________\n",
            "Layer (type)                 Output Shape              Param #   \n",
            "=================================================================\n",
            "dense_6 (Dense)              (None, 64)                320       \n",
            "_________________________________________________________________\n",
            "dense_7 (Dense)              (None, 24)                1560      \n",
            "_________________________________________________________________\n",
            "dense_8 (Dense)              (None, 3)                 75        \n",
            "=================================================================\n",
            "Total params: 1,955\n",
            "Trainable params: 1,955\n",
            "Non-trainable params: 0\n",
            "_________________________________________________________________\n"
          ],
          "name": "stdout"
        }
      ]
    },
    {
      "cell_type": "code",
      "metadata": {
        "colab": {
          "base_uri": "https://localhost:8080/"
        },
        "id": "KLE9RKYrEf8a",
        "outputId": "af25f36a-812f-43a8-a364-8dadf0907c2a"
      },
      "source": [
        " model.fit(x_data, y_data, epochs=50, validation_split=0.3)  # 학습   한쪽으로 쏠리는 것을 방지하기 위해 validation_split을 쓴다. "
      ],
      "execution_count": 45,
      "outputs": [
        {
          "output_type": "stream",
          "text": [
            "Epoch 1/50\n",
            "4/4 [==============================] - 0s 49ms/step - loss: 1.6261 - acc: 0.4762 - val_loss: 1.9844 - val_acc: 0.0000e+00\n",
            "Epoch 2/50\n",
            "4/4 [==============================] - 0s 8ms/step - loss: 1.3238 - acc: 0.4762 - val_loss: 1.8477 - val_acc: 0.0000e+00\n",
            "Epoch 3/50\n",
            "4/4 [==============================] - 0s 7ms/step - loss: 1.0919 - acc: 0.4762 - val_loss: 1.6926 - val_acc: 0.0000e+00\n",
            "Epoch 4/50\n",
            "4/4 [==============================] - 0s 8ms/step - loss: 0.9135 - acc: 0.4762 - val_loss: 1.6924 - val_acc: 0.0000e+00\n",
            "Epoch 5/50\n",
            "4/4 [==============================] - 0s 8ms/step - loss: 0.7740 - acc: 0.7524 - val_loss: 1.8663 - val_acc: 0.0000e+00\n",
            "Epoch 6/50\n",
            "4/4 [==============================] - 0s 8ms/step - loss: 0.6647 - acc: 0.9524 - val_loss: 2.1256 - val_acc: 0.0000e+00\n",
            "Epoch 7/50\n",
            "4/4 [==============================] - 0s 8ms/step - loss: 0.5833 - acc: 0.9524 - val_loss: 2.3976 - val_acc: 0.0000e+00\n",
            "Epoch 8/50\n",
            "4/4 [==============================] - 0s 8ms/step - loss: 0.5254 - acc: 0.9524 - val_loss: 2.6228 - val_acc: 0.0000e+00\n",
            "Epoch 9/50\n",
            "4/4 [==============================] - 0s 12ms/step - loss: 0.4778 - acc: 0.9524 - val_loss: 2.7940 - val_acc: 0.0000e+00\n",
            "Epoch 10/50\n",
            "4/4 [==============================] - 0s 8ms/step - loss: 0.4461 - acc: 0.9524 - val_loss: 2.9099 - val_acc: 0.0000e+00\n",
            "Epoch 11/50\n",
            "4/4 [==============================] - 0s 8ms/step - loss: 0.4189 - acc: 0.9524 - val_loss: 2.9691 - val_acc: 0.0000e+00\n",
            "Epoch 12/50\n",
            "4/4 [==============================] - 0s 9ms/step - loss: 0.3931 - acc: 0.9524 - val_loss: 2.9727 - val_acc: 0.0000e+00\n",
            "Epoch 13/50\n",
            "4/4 [==============================] - 0s 9ms/step - loss: 0.3703 - acc: 0.9524 - val_loss: 2.9601 - val_acc: 0.0000e+00\n",
            "Epoch 14/50\n",
            "4/4 [==============================] - 0s 8ms/step - loss: 0.3485 - acc: 0.9524 - val_loss: 2.8963 - val_acc: 0.0000e+00\n",
            "Epoch 15/50\n",
            "4/4 [==============================] - 0s 8ms/step - loss: 0.3282 - acc: 0.9524 - val_loss: 2.7917 - val_acc: 0.0000e+00\n",
            "Epoch 16/50\n",
            "4/4 [==============================] - 0s 9ms/step - loss: 0.3105 - acc: 0.9524 - val_loss: 2.6991 - val_acc: 0.0000e+00\n",
            "Epoch 17/50\n",
            "4/4 [==============================] - 0s 9ms/step - loss: 0.2963 - acc: 0.9524 - val_loss: 2.6342 - val_acc: 0.0000e+00\n",
            "Epoch 18/50\n",
            "4/4 [==============================] - 0s 12ms/step - loss: 0.2829 - acc: 0.9524 - val_loss: 2.6245 - val_acc: 0.0000e+00\n",
            "Epoch 19/50\n",
            "4/4 [==============================] - 0s 8ms/step - loss: 0.2703 - acc: 0.9524 - val_loss: 2.5967 - val_acc: 0.0000e+00\n",
            "Epoch 20/50\n",
            "4/4 [==============================] - 0s 15ms/step - loss: 0.2587 - acc: 0.9524 - val_loss: 2.5244 - val_acc: 0.0000e+00\n",
            "Epoch 21/50\n",
            "4/4 [==============================] - 0s 8ms/step - loss: 0.2482 - acc: 0.9524 - val_loss: 2.4483 - val_acc: 0.0000e+00\n",
            "Epoch 22/50\n",
            "4/4 [==============================] - 0s 11ms/step - loss: 0.2403 - acc: 0.9524 - val_loss: 2.2754 - val_acc: 0.0000e+00\n",
            "Epoch 23/50\n",
            "4/4 [==============================] - 0s 9ms/step - loss: 0.2304 - acc: 0.9524 - val_loss: 2.2150 - val_acc: 0.0000e+00\n",
            "Epoch 24/50\n",
            "4/4 [==============================] - 0s 9ms/step - loss: 0.2236 - acc: 0.9524 - val_loss: 2.2281 - val_acc: 0.0000e+00\n",
            "Epoch 25/50\n",
            "4/4 [==============================] - 0s 8ms/step - loss: 0.2172 - acc: 0.9524 - val_loss: 2.2422 - val_acc: 0.0000e+00\n",
            "Epoch 26/50\n",
            "4/4 [==============================] - 0s 8ms/step - loss: 0.2116 - acc: 0.9524 - val_loss: 2.1741 - val_acc: 0.0000e+00\n",
            "Epoch 27/50\n",
            "4/4 [==============================] - 0s 16ms/step - loss: 0.2059 - acc: 0.9524 - val_loss: 2.1187 - val_acc: 0.0000e+00\n",
            "Epoch 28/50\n",
            "4/4 [==============================] - 0s 9ms/step - loss: 0.2006 - acc: 0.9524 - val_loss: 2.1292 - val_acc: 0.0000e+00\n",
            "Epoch 29/50\n",
            "4/4 [==============================] - 0s 8ms/step - loss: 0.1960 - acc: 0.9524 - val_loss: 2.1853 - val_acc: 0.0000e+00\n",
            "Epoch 30/50\n",
            "4/4 [==============================] - 0s 8ms/step - loss: 0.1919 - acc: 0.9524 - val_loss: 2.2309 - val_acc: 0.0000e+00\n",
            "Epoch 31/50\n",
            "4/4 [==============================] - 0s 8ms/step - loss: 0.1885 - acc: 0.9524 - val_loss: 2.2799 - val_acc: 0.0000e+00\n",
            "Epoch 32/50\n",
            "4/4 [==============================] - 0s 10ms/step - loss: 0.1865 - acc: 0.9524 - val_loss: 2.3212 - val_acc: 0.0000e+00\n",
            "Epoch 33/50\n",
            "4/4 [==============================] - 0s 10ms/step - loss: 0.1820 - acc: 0.9524 - val_loss: 2.2440 - val_acc: 0.0000e+00\n",
            "Epoch 34/50\n",
            "4/4 [==============================] - 0s 9ms/step - loss: 0.1785 - acc: 0.9524 - val_loss: 2.2038 - val_acc: 0.0000e+00\n",
            "Epoch 35/50\n",
            "4/4 [==============================] - 0s 9ms/step - loss: 0.1762 - acc: 0.9524 - val_loss: 2.1551 - val_acc: 0.0000e+00\n",
            "Epoch 36/50\n",
            "4/4 [==============================] - 0s 9ms/step - loss: 0.1724 - acc: 0.9524 - val_loss: 2.1687 - val_acc: 0.0000e+00\n",
            "Epoch 37/50\n",
            "4/4 [==============================] - 0s 9ms/step - loss: 0.1703 - acc: 0.9524 - val_loss: 2.1763 - val_acc: 0.0000e+00\n",
            "Epoch 38/50\n",
            "4/4 [==============================] - 0s 9ms/step - loss: 0.1671 - acc: 0.9524 - val_loss: 2.0777 - val_acc: 0.0000e+00\n",
            "Epoch 39/50\n",
            "4/4 [==============================] - 0s 10ms/step - loss: 0.1653 - acc: 0.9524 - val_loss: 1.9432 - val_acc: 0.0000e+00\n",
            "Epoch 40/50\n",
            "4/4 [==============================] - 0s 10ms/step - loss: 0.1630 - acc: 0.9524 - val_loss: 1.9247 - val_acc: 0.0000e+00\n",
            "Epoch 41/50\n",
            "4/4 [==============================] - 0s 9ms/step - loss: 0.1609 - acc: 0.9524 - val_loss: 1.7672 - val_acc: 0.0000e+00\n",
            "Epoch 42/50\n",
            "4/4 [==============================] - 0s 8ms/step - loss: 0.1572 - acc: 0.9524 - val_loss: 1.6067 - val_acc: 0.0000e+00\n",
            "Epoch 43/50\n",
            "4/4 [==============================] - 0s 8ms/step - loss: 0.1574 - acc: 0.9524 - val_loss: 1.4632 - val_acc: 0.0000e+00\n",
            "Epoch 44/50\n",
            "4/4 [==============================] - 0s 10ms/step - loss: 0.1549 - acc: 0.9524 - val_loss: 1.5501 - val_acc: 0.0000e+00\n",
            "Epoch 45/50\n",
            "4/4 [==============================] - 0s 9ms/step - loss: 0.1494 - acc: 0.9524 - val_loss: 1.6527 - val_acc: 0.0000e+00\n",
            "Epoch 46/50\n",
            "4/4 [==============================] - 0s 10ms/step - loss: 0.1449 - acc: 0.9524 - val_loss: 1.8409 - val_acc: 0.0000e+00\n",
            "Epoch 47/50\n",
            "4/4 [==============================] - 0s 9ms/step - loss: 0.1422 - acc: 0.9524 - val_loss: 1.9884 - val_acc: 0.0000e+00\n",
            "Epoch 48/50\n",
            "4/4 [==============================] - 0s 12ms/step - loss: 0.1443 - acc: 0.9524 - val_loss: 2.0814 - val_acc: 0.0000e+00\n",
            "Epoch 49/50\n",
            "4/4 [==============================] - 0s 9ms/step - loss: 0.1406 - acc: 0.9524 - val_loss: 1.8922 - val_acc: 0.0000e+00\n",
            "Epoch 50/50\n",
            "4/4 [==============================] - 0s 9ms/step - loss: 0.1367 - acc: 0.9524 - val_loss: 1.7611 - val_acc: 0.0000e+00\n"
          ],
          "name": "stdout"
        },
        {
          "output_type": "execute_result",
          "data": {
            "text/plain": [
              "<tensorflow.python.keras.callbacks.History at 0x7f974394ee90>"
            ]
          },
          "metadata": {
            "tags": []
          },
          "execution_count": 45
        }
      ]
    },
    {
      "cell_type": "markdown",
      "metadata": {
        "id": "Zr6goXVKZzFc"
      },
      "source": [
        "# evaluation"
      ]
    },
    {
      "cell_type": "code",
      "metadata": {
        "colab": {
          "base_uri": "https://localhost:8080/"
        },
        "id": "zVQjwBmxZ3W7",
        "outputId": "b2fc7544-6f62-4775-88a5-42088ee0afc5"
      },
      "source": [
        "model.evaluate(x_data, y_data)"
      ],
      "execution_count": 46,
      "outputs": [
        {
          "output_type": "stream",
          "text": [
            "5/5 [==============================] - 0s 2ms/step - loss: 0.6223 - acc: 0.6667\n"
          ],
          "name": "stdout"
        },
        {
          "output_type": "execute_result",
          "data": {
            "text/plain": [
              "[0.6222662925720215, 0.6666666865348816]"
            ]
          },
          "metadata": {
            "tags": []
          },
          "execution_count": 46
        }
      ]
    },
    {
      "cell_type": "markdown",
      "metadata": {
        "id": "4EIfC0oREZt-"
      },
      "source": [
        "# service"
      ]
    },
    {
      "cell_type": "code",
      "metadata": {
        "colab": {
          "base_uri": "https://localhost:8080/"
        },
        "id": "pzOSeAFbaWUf",
        "outputId": "8317d236-c922-4344-c94c-79429950e8b1"
      },
      "source": [
        "x_data[25], y_data[25]"
      ],
      "execution_count": 47,
      "outputs": [
        {
          "output_type": "execute_result",
          "data": {
            "text/plain": [
              "(array([5. , 3. , 1.6, 0.2]), 0)"
            ]
          },
          "metadata": {
            "tags": []
          },
          "execution_count": 47
        }
      ]
    },
    {
      "cell_type": "code",
      "metadata": {
        "colab": {
          "base_uri": "https://localhost:8080/"
        },
        "id": "Fvv-RmrDEmX8",
        "outputId": "158bb215-462c-4ba4-fa72-ba0e30d80889"
      },
      "source": [
        "pred = model.predict([[5. , 3. , 1.6, 0.2]])\n",
        "pred"
      ],
      "execution_count": 48,
      "outputs": [
        {
          "output_type": "execute_result",
          "data": {
            "text/plain": [
              "array([[0.9718085 , 0.02652619, 0.00166535]], dtype=float32)"
            ]
          },
          "metadata": {
            "tags": []
          },
          "execution_count": 48
        }
      ]
    },
    {
      "cell_type": "code",
      "metadata": {
        "id": "hppKHLavaics"
      },
      "source": [
        "import numpy as np"
      ],
      "execution_count": 49,
      "outputs": []
    },
    {
      "cell_type": "code",
      "metadata": {
        "colab": {
          "base_uri": "https://localhost:8080/"
        },
        "id": "a4RtU3oOa7MD",
        "outputId": "63a75a4a-2ac8-4bf3-d4f4-1e40f8c35415"
      },
      "source": [
        "np.argmax(pred)"
      ],
      "execution_count": 50,
      "outputs": [
        {
          "output_type": "execute_result",
          "data": {
            "text/plain": [
              "0"
            ]
          },
          "metadata": {
            "tags": []
          },
          "execution_count": 50
        }
      ]
    },
    {
      "cell_type": "code",
      "metadata": {
        "id": "qRv-uYLda_gL"
      },
      "source": [
        ""
      ],
      "execution_count": 50,
      "outputs": []
    }
  ]
}