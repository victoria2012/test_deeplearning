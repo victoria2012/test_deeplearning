{
  "nbformat": 4,
  "nbformat_minor": 0,
  "metadata": {
    "colab": {
      "name": "mnist_classification.ipynb",
      "provenance": [],
      "collapsed_sections": [],
      "authorship_tag": "ABX9TyNo//jEYLJiuMQUD2xjjwEq"
    },
    "kernelspec": {
      "name": "python3",
      "display_name": "Python 3"
    },
    "language_info": {
      "name": "python"
    }
  },
  "cells": [
    {
      "cell_type": "code",
      "metadata": {
        "id": "Y1gSydibltWZ"
      },
      "source": [
        "from tensorflow.keras.datasets.mnist import load_data"
      ],
      "execution_count": 35,
      "outputs": []
    },
    {
      "cell_type": "code",
      "metadata": {
        "colab": {
          "base_uri": "https://localhost:8080/"
        },
        "id": "JFTtQHN1mqiP",
        "outputId": "3e64f923-8d97-47d8-cba4-5dcdb1edad04"
      },
      "source": [
        "(x_train, y_train), (x_test, y_test) = load_data(path='mnist.npz')\n",
        "x_train.shape, y_train.shape, x_test.shape, y_test.shape"
      ],
      "execution_count": 36,
      "outputs": [
        {
          "output_type": "execute_result",
          "data": {
            "text/plain": [
              "((60000, 28, 28), (60000,), (10000, 28, 28), (10000,))"
            ]
          },
          "metadata": {
            "tags": []
          },
          "execution_count": 36
        }
      ]
    },
    {
      "cell_type": "code",
      "metadata": {
        "colab": {
          "base_uri": "https://localhost:8080/"
        },
        "id": "Q8S36nSLsHvu",
        "outputId": "2a082143-2ed8-432e-cf20-47fc9952dffd"
      },
      "source": [
        "# y_train[4], x_train[4],\n",
        "y_train[50000], x_train[50000]"
      ],
      "execution_count": 37,
      "outputs": [
        {
          "output_type": "execute_result",
          "data": {
            "text/plain": [
              "(3, array([[  0,   0,   0,   0,   0,   0,   0,   0,   0,   0,   0,   0,   0,\n",
              "           0,   0,   0,   0,   0,   0,   0,   0,   0,   0,   0,   0,   0,\n",
              "           0,   0],\n",
              "        [  0,   0,   0,   0,   0,   0,   0,   0,   0,   0,   0,   0,   0,\n",
              "           0,   0,   0,   0,   0,   0,   0,   0,   0,   0,   0,   0,   0,\n",
              "           0,   0],\n",
              "        [  0,   0,   0,   0,   0,   0,   0,   0,   0,   0,   0,   0,   0,\n",
              "           0,   0,   0,   0,   0,   0,   0,   0,   0,   0,   0,   0,   0,\n",
              "           0,   0],\n",
              "        [  0,   0,   0,   0,   0,   0,   0,   0,   0,   0,   0,   0,   0,\n",
              "           0,   0,   0,   0,   0,   0,   0,   0,   0,   0,   0,   0,   0,\n",
              "           0,   0],\n",
              "        [  0,   0,   0,   0,   0,   0,   0,   0,   0,   0,  47, 160, 195,\n",
              "         205,  71,  86,  13,   0,   0,   0,   0,   0,   0,   0,   0,   0,\n",
              "           0,   0],\n",
              "        [  0,   0,   0,   0,   0,   0,   0,   0,   0,  12, 238, 254, 254,\n",
              "         254, 254, 254, 227,  84,   0,   0,   0,   0,   0,   0,   0,   0,\n",
              "           0,   0],\n",
              "        [  0,   0,   0,   0,   0,   0,   0,   0,   0,  13, 196, 176, 127,\n",
              "         176, 207, 236, 245, 222,  23,   0,   0,   0,   0,   0,   0,   0,\n",
              "           0,   0],\n",
              "        [  0,   0,   0,   0,   0,   0,   0,   0,   0,   0,   0,   0,   0,\n",
              "           0,   0,  20, 137, 254,  95,   0,   0,   0,   0,   0,   0,   0,\n",
              "           0,   0],\n",
              "        [  0,   0,   0,   0,   0,   0,   0,   0,   0,   0,   0,   0,   0,\n",
              "           0,   0,   0,  78, 254, 144,   0,   0,   0,   0,   0,   0,   0,\n",
              "           0,   0],\n",
              "        [  0,   0,   0,   0,   0,   0,   0,   0,   0,   0,   0,   0,   0,\n",
              "           0,   0,  17, 200, 254, 170,   0,   0,   0,   0,   0,   0,   0,\n",
              "           0,   0],\n",
              "        [  0,   0,   0,   0,   0,   0,   0,   0,   0,   0,   0,   0,   0,\n",
              "           0,  47, 218, 254, 216,  29,   0,   0,   0,   0,   0,   0,   0,\n",
              "           0,   0],\n",
              "        [  0,   0,   0,   0,   0,   0,   0,   0,   0,   0,   0,   0,   0,\n",
              "          95, 225, 254, 245,  65,   0,   0,   0,   0,   0,   0,   0,   0,\n",
              "           0,   0],\n",
              "        [  0,   0,   0,   0,   0,   0,   0,   0,   0,   0,   0,  12, 128,\n",
              "         252, 254, 236,  40,   0,   0,   0,   0,   0,   0,   0,   0,   0,\n",
              "           0,   0],\n",
              "        [  0,   0,   0,   0,   0,   0,   0,   0,   0,   0,   0, 172, 254,\n",
              "         254, 170,  58,   0,   0,   0,   0,   0,   0,   0,   0,   0,   0,\n",
              "           0,   0],\n",
              "        [  0,   0,   0,   0,   0,   0,   0,   0,   0,   0,   0, 207, 254,\n",
              "         254,  65,   0,   0,   0,   0,   0,   0,   0,   0,   0,   0,   0,\n",
              "           0,   0],\n",
              "        [  0,   0,   0,   0,   0,   0,   0,   0,   0,   0,   0, 137, 254,\n",
              "         254, 251, 146,  26,   0,   0,   0,   0,   0,   0,   0,   0,   0,\n",
              "           0,   0],\n",
              "        [  0,   0,   0,   0,   0,   0,   0,   0,   0,   0,   0,   9, 173,\n",
              "         224, 254, 254, 230,  71,   0,   0,   0,   0,   0,   0,   0,   0,\n",
              "           0,   0],\n",
              "        [  0,   0,   0,   0,   0,   0,   0,   0,   0,   0,   0,   0,   8,\n",
              "          12, 254, 254, 254, 246, 104,   0,   0,   0,   0,   0,   0,   0,\n",
              "           0,   0],\n",
              "        [  0,   0,   0,   0,   0,   0,   0,   0,   0,   0,   0,   0,   0,\n",
              "           0,  46, 189, 254, 254, 224,   0,   0,   0,   0,   0,   0,   0,\n",
              "           0,   0],\n",
              "        [  0,   0,   0,   0,   0,   0,   0,   0,   0,  10,   0,   0,   0,\n",
              "           0,   0,  17, 175, 254, 254,  25,   0,   0,   0,   0,   0,   0,\n",
              "           0,   0],\n",
              "        [  0,   0,   0,   0,   0,   0,   0,   0,  35, 231, 156, 112,  87,\n",
              "         186, 191, 218, 254, 254, 219,   0,   0,   0,   0,   0,   0,   0,\n",
              "           0,   0],\n",
              "        [  0,   0,   0,   0,   0,   0,   0,   0, 120, 255, 254, 254, 254,\n",
              "         254, 255, 254, 254, 242,  67,   0,   0,   0,   0,   0,   0,   0,\n",
              "           0,   0],\n",
              "        [  0,   0,   0,   0,   0,   0,   0,   0, 139, 255, 254, 254, 254,\n",
              "         254, 255, 171,  46,  24,   0,   0,   0,   0,   0,   0,   0,   0,\n",
              "           0,   0],\n",
              "        [  0,   0,   0,   0,   0,   0,   0,   0,   5,  71, 164, 189, 174,\n",
              "         174,  66,   4,   0,   0,   0,   0,   0,   0,   0,   0,   0,   0,\n",
              "           0,   0],\n",
              "        [  0,   0,   0,   0,   0,   0,   0,   0,   0,   0,   0,   0,   0,\n",
              "           0,   0,   0,   0,   0,   0,   0,   0,   0,   0,   0,   0,   0,\n",
              "           0,   0],\n",
              "        [  0,   0,   0,   0,   0,   0,   0,   0,   0,   0,   0,   0,   0,\n",
              "           0,   0,   0,   0,   0,   0,   0,   0,   0,   0,   0,   0,   0,\n",
              "           0,   0],\n",
              "        [  0,   0,   0,   0,   0,   0,   0,   0,   0,   0,   0,   0,   0,\n",
              "           0,   0,   0,   0,   0,   0,   0,   0,   0,   0,   0,   0,   0,\n",
              "           0,   0],\n",
              "        [  0,   0,   0,   0,   0,   0,   0,   0,   0,   0,   0,   0,   0,\n",
              "           0,   0,   0,   0,   0,   0,   0,   0,   0,   0,   0,   0,   0,\n",
              "           0,   0]], dtype=uint8))"
            ]
          },
          "metadata": {
            "tags": []
          },
          "execution_count": 37
        }
      ]
    },
    {
      "cell_type": "code",
      "metadata": {
        "colab": {
          "base_uri": "https://localhost:8080/",
          "height": 283
        },
        "id": "qrio49vTqm33",
        "outputId": "43308844-5add-4835-8d61-cc2afcedd93c"
      },
      "source": [
        "import matplotlib.pyplot as plt\n",
        "\n",
        "plt.imshow(x_train[50000])\n",
        "print(y_train[50000], type(y_train[50000]))"
      ],
      "execution_count": 38,
      "outputs": [
        {
          "output_type": "stream",
          "text": [
            "3 <class 'numpy.uint8'>\n"
          ],
          "name": "stdout"
        },
        {
          "output_type": "display_data",
          "data": {
            "image/png": "[encoded data removed]",
            "text/plain": [
              "<Figure size 432x288 with 1 Axes>"
            ]
          },
          "metadata": {
            "tags": [],
            "needs_background": "light"
          }
        }
      ]
    },
    {
      "cell_type": "code",
      "metadata": {
        "id": "2y6A7L1AtBRl"
      },
      "source": [
        "# 2차원을 1차원으로 만들어준다. "
      ],
      "execution_count": 39,
      "outputs": []
    },
    {
      "cell_type": "code",
      "metadata": {
        "colab": {
          "base_uri": "https://localhost:8080/"
        },
        "id": "caVkXeUHuWLP",
        "outputId": "1097fe62-c264-4718-8f63-06d0f125d6fc"
      },
      "source": [
        "x_train = x_train.reshape(-1,28*28 ) / 255\n",
        "x_train.shape"
      ],
      "execution_count": 40,
      "outputs": [
        {
          "output_type": "execute_result",
          "data": {
            "text/plain": [
              "(60000, 784)"
            ]
          },
          "metadata": {
            "tags": []
          },
          "execution_count": 40
        }
      ]
    },
    {
      "cell_type": "code",
      "metadata": {
        "colab": {
          "base_uri": "https://localhost:8080/"
        },
        "id": "4kel-zXQvEPe",
        "outputId": "bde37999-618a-4519-c761-f8da6083f41f"
      },
      "source": [
        "x_test = x_test.reshape(-1, 28*28) / 255\n",
        "x_test.shape"
      ],
      "execution_count": 41,
      "outputs": [
        {
          "output_type": "execute_result",
          "data": {
            "text/plain": [
              "(10000, 784)"
            ]
          },
          "metadata": {
            "tags": []
          },
          "execution_count": 41
        }
      ]
    },
    {
      "cell_type": "code",
      "metadata": {
        "colab": {
          "base_uri": "https://localhost:8080/"
        },
        "id": "Y2mGADydvPxt",
        "outputId": "906e9ce0-52ef-438c-f769-bbd26d43e18e"
      },
      "source": [
        "y_train.shape"
      ],
      "execution_count": 42,
      "outputs": [
        {
          "output_type": "execute_result",
          "data": {
            "text/plain": [
              "(60000,)"
            ]
          },
          "metadata": {
            "tags": []
          },
          "execution_count": 42
        }
      ]
    },
    {
      "cell_type": "code",
      "metadata": {
        "colab": {
          "base_uri": "https://localhost:8080/"
        },
        "id": "YSf8V_uVvgrn",
        "outputId": "77b23b3e-ee21-46bb-90a5-c00cf78502b8"
      },
      "source": [
        "y_train[2:10]"
      ],
      "execution_count": 43,
      "outputs": [
        {
          "output_type": "execute_result",
          "data": {
            "text/plain": [
              "array([4, 1, 9, 2, 1, 3, 1, 4], dtype=uint8)"
            ]
          },
          "metadata": {
            "tags": []
          },
          "execution_count": 43
        }
      ]
    },
    {
      "cell_type": "code",
      "metadata": {
        "colab": {
          "base_uri": "https://localhost:8080/"
        },
        "id": "YC-civlsxbm3",
        "outputId": "d604e5b8-225a-4c4c-8a99-89eff739c3a0"
      },
      "source": [
        "import numpy as np\n",
        "np.unique(y_train)"
      ],
      "execution_count": 44,
      "outputs": [
        {
          "output_type": "execute_result",
          "data": {
            "text/plain": [
              "array([0, 1, 2, 3, 4, 5, 6, 7, 8, 9], dtype=uint8)"
            ]
          },
          "metadata": {
            "tags": []
          },
          "execution_count": 44
        }
      ]
    },
    {
      "cell_type": "markdown",
      "metadata": {
        "id": "KtznRyEewDVs"
      },
      "source": [
        "# apply model"
      ]
    },
    {
      "cell_type": "code",
      "metadata": {
        "id": "xMY2y0aivrH2"
      },
      "source": [
        "import tensorflow as tf"
      ],
      "execution_count": 45,
      "outputs": []
    },
    {
      "cell_type": "code",
      "metadata": {
        "colab": {
          "base_uri": "https://localhost:8080/"
        },
        "id": "LGzYos8SwRH-",
        "outputId": "925fcfac-6595-483a-8ab3-ad74bd193130"
      },
      "source": [
        "model = tf.keras.models.Sequential()\n",
        "\n",
        "model.add(tf.keras.Input(shape=(784,)))   # input layer\n",
        "model.add(tf.keras.layers.Dense(64, activation='relu'))   # hidden layer\n",
        "model.add(tf.keras.layers.Dense(64, activation='relu'))    # hidden layer\n",
        "model.add(tf.keras.layers.Dense(10, activation='softmax'))   # output layer\n",
        "\n",
        "model.compile(optimizer='adam', loss='sparse_categorical_crossentropy', metrics=['acc'])\n"
      ],
      "execution_count": 46,
      "outputs": [
        {
          "output_type": "stream",
          "text": [
            "WARNING:tensorflow:Please add `keras.layers.InputLayer` instead of `keras.Input` to Sequential model. `keras.Input` is intended to be used by Functional model.\n"
          ],
          "name": "stdout"
        }
      ]
    },
    {
      "cell_type": "markdown",
      "metadata": {
        "id": "BvPEuKPN1vyW"
      },
      "source": [
        "* activation : output이 범주형인데 unique값이 3개 이상일 경우 activation은 softmax를 쓰고, 바이너리(이진, 2개)일 경우에는 sigmoid를 쓴다. : output layer\n",
        "* hidden layer에서만 쓰는 activation이 따로 있다. (relu)\n",
        "* regression ---> loss : mse\n",
        "* binary classification ---> loss : binary crossentropy\n",
        "* over 3 classification ---> loss : categorical_crossentropy(sparse_categorical_crossentropy)\n",
        "* activation에서 sigmoid를 쓸 경우 loss율 측정은 binary_crossentropy를 쓰고\n",
        "  activation에서 softmax를 쓸 경우 loss율 측정은 categorical_crossentropy를 쓴다. 이 경우 y를 onehot 인코딩을 해줘야 한다. 만약 onehot 인코딩을 해주지 않았다면 sparse_categorical_crossentropy를 쓰면 된다. "
      ]
    },
    {
      "cell_type": "code",
      "metadata": {
        "colab": {
          "base_uri": "https://localhost:8080/"
        },
        "id": "M7BSYZf7_E_O",
        "outputId": "aaca76ca-e494-4cd7-a5ef-3afaf90cd082"
      },
      "source": [
        "hist = model.fit(x_train, y_train, epochs=100, validation_split=0.3)"
      ],
      "execution_count": 47,
      "outputs": [
        {
          "output_type": "stream",
          "text": [
            "Epoch 1/100\n",
            "1313/1313 [==============================] - 4s 3ms/step - loss: 0.3152 - acc: 0.9081 - val_loss: 0.1829 - val_acc: 0.9441\n",
            "Epoch 2/100\n",
            "1313/1313 [==============================] - 3s 2ms/step - loss: 0.1375 - acc: 0.9584 - val_loss: 0.1409 - val_acc: 0.9583\n",
            "Epoch 3/100\n",
            "1313/1313 [==============================] - 3s 2ms/step - loss: 0.0982 - acc: 0.9702 - val_loss: 0.1287 - val_acc: 0.9633\n",
            "Epoch 4/100\n",
            "1313/1313 [==============================] - 3s 3ms/step - loss: 0.0767 - acc: 0.9765 - val_loss: 0.1418 - val_acc: 0.9597\n",
            "Epoch 5/100\n",
            "1313/1313 [==============================] - 3s 2ms/step - loss: 0.0608 - acc: 0.9811 - val_loss: 0.1188 - val_acc: 0.9679\n",
            "Epoch 6/100\n",
            "1313/1313 [==============================] - 3s 2ms/step - loss: 0.0510 - acc: 0.9841 - val_loss: 0.1252 - val_acc: 0.9661\n",
            "Epoch 7/100\n",
            "1313/1313 [==============================] - 3s 2ms/step - loss: 0.0454 - acc: 0.9853 - val_loss: 0.1206 - val_acc: 0.9681\n",
            "Epoch 8/100\n",
            "1313/1313 [==============================] - 3s 2ms/step - loss: 0.0353 - acc: 0.9887 - val_loss: 0.1185 - val_acc: 0.9701\n",
            "Epoch 9/100\n",
            "1313/1313 [==============================] - 3s 2ms/step - loss: 0.0300 - acc: 0.9900 - val_loss: 0.1181 - val_acc: 0.9703\n",
            "Epoch 10/100\n",
            "1313/1313 [==============================] - 3s 2ms/step - loss: 0.0276 - acc: 0.9904 - val_loss: 0.1288 - val_acc: 0.9698\n",
            "Epoch 11/100\n",
            "1313/1313 [==============================] - 3s 3ms/step - loss: 0.0221 - acc: 0.9921 - val_loss: 0.1302 - val_acc: 0.9702\n",
            "Epoch 12/100\n",
            "1313/1313 [==============================] - 3s 3ms/step - loss: 0.0221 - acc: 0.9926 - val_loss: 0.1333 - val_acc: 0.9718\n",
            "Epoch 13/100\n",
            "1313/1313 [==============================] - 3s 2ms/step - loss: 0.0175 - acc: 0.9941 - val_loss: 0.1285 - val_acc: 0.9730\n",
            "Epoch 14/100\n",
            "1313/1313 [==============================] - 3s 3ms/step - loss: 0.0157 - acc: 0.9949 - val_loss: 0.1335 - val_acc: 0.9725\n",
            "Epoch 15/100\n",
            "1313/1313 [==============================] - 3s 3ms/step - loss: 0.0156 - acc: 0.9950 - val_loss: 0.1421 - val_acc: 0.9711\n",
            "Epoch 16/100\n",
            "1313/1313 [==============================] - 3s 3ms/step - loss: 0.0158 - acc: 0.9946 - val_loss: 0.1439 - val_acc: 0.9720\n",
            "Epoch 17/100\n",
            "1313/1313 [==============================] - 3s 2ms/step - loss: 0.0125 - acc: 0.9956 - val_loss: 0.1521 - val_acc: 0.9704\n",
            "Epoch 18/100\n",
            "1313/1313 [==============================] - 3s 3ms/step - loss: 0.0113 - acc: 0.9963 - val_loss: 0.1532 - val_acc: 0.9712\n",
            "Epoch 19/100\n",
            "1313/1313 [==============================] - 3s 2ms/step - loss: 0.0110 - acc: 0.9962 - val_loss: 0.1628 - val_acc: 0.9702\n",
            "Epoch 20/100\n",
            "1313/1313 [==============================] - 3s 2ms/step - loss: 0.0124 - acc: 0.9960 - val_loss: 0.1516 - val_acc: 0.9717\n",
            "Epoch 21/100\n",
            "1313/1313 [==============================] - 3s 2ms/step - loss: 0.0055 - acc: 0.9983 - val_loss: 0.1570 - val_acc: 0.9737\n",
            "Epoch 22/100\n",
            "1313/1313 [==============================] - 3s 2ms/step - loss: 0.0115 - acc: 0.9961 - val_loss: 0.1974 - val_acc: 0.9673\n",
            "Epoch 23/100\n",
            "1313/1313 [==============================] - 3s 3ms/step - loss: 0.0123 - acc: 0.9958 - val_loss: 0.1815 - val_acc: 0.9691\n",
            "Epoch 24/100\n",
            "1313/1313 [==============================] - 3s 2ms/step - loss: 0.0098 - acc: 0.9969 - val_loss: 0.1791 - val_acc: 0.9707\n",
            "Epoch 25/100\n",
            "1313/1313 [==============================] - 3s 2ms/step - loss: 0.0118 - acc: 0.9961 - val_loss: 0.1801 - val_acc: 0.9711\n",
            "Epoch 26/100\n",
            "1313/1313 [==============================] - 3s 2ms/step - loss: 0.0069 - acc: 0.9977 - val_loss: 0.1796 - val_acc: 0.9720\n",
            "Epoch 27/100\n",
            "1313/1313 [==============================] - 3s 2ms/step - loss: 0.0105 - acc: 0.9968 - val_loss: 0.2097 - val_acc: 0.9680\n",
            "Epoch 28/100\n",
            "1313/1313 [==============================] - 3s 2ms/step - loss: 0.0084 - acc: 0.9972 - val_loss: 0.1940 - val_acc: 0.9719\n",
            "Epoch 29/100\n",
            "1313/1313 [==============================] - 3s 2ms/step - loss: 0.0078 - acc: 0.9975 - val_loss: 0.1787 - val_acc: 0.9734\n",
            "Epoch 30/100\n",
            "1313/1313 [==============================] - 3s 2ms/step - loss: 0.0068 - acc: 0.9977 - val_loss: 0.2060 - val_acc: 0.9698\n",
            "Epoch 31/100\n",
            "1313/1313 [==============================] - 3s 3ms/step - loss: 0.0093 - acc: 0.9970 - val_loss: 0.2225 - val_acc: 0.9697\n",
            "Epoch 32/100\n",
            "1313/1313 [==============================] - 3s 2ms/step - loss: 0.0074 - acc: 0.9976 - val_loss: 0.2449 - val_acc: 0.9681\n",
            "Epoch 33/100\n",
            "1313/1313 [==============================] - 3s 3ms/step - loss: 0.0077 - acc: 0.9975 - val_loss: 0.1878 - val_acc: 0.9737\n",
            "Epoch 34/100\n",
            "1313/1313 [==============================] - 3s 2ms/step - loss: 0.0106 - acc: 0.9967 - val_loss: 0.2005 - val_acc: 0.9715\n",
            "Epoch 35/100\n",
            "1313/1313 [==============================] - 3s 2ms/step - loss: 0.0073 - acc: 0.9975 - val_loss: 0.2170 - val_acc: 0.9708\n",
            "Epoch 36/100\n",
            "1313/1313 [==============================] - 3s 2ms/step - loss: 0.0087 - acc: 0.9973 - val_loss: 0.2348 - val_acc: 0.9693\n",
            "Epoch 37/100\n",
            "1313/1313 [==============================] - 3s 2ms/step - loss: 0.0083 - acc: 0.9977 - val_loss: 0.2110 - val_acc: 0.9710\n",
            "Epoch 38/100\n",
            "1313/1313 [==============================] - 3s 3ms/step - loss: 0.0055 - acc: 0.9982 - val_loss: 0.2196 - val_acc: 0.9706\n",
            "Epoch 39/100\n",
            "1313/1313 [==============================] - 3s 2ms/step - loss: 0.0074 - acc: 0.9975 - val_loss: 0.2101 - val_acc: 0.9722\n",
            "Epoch 40/100\n",
            "1313/1313 [==============================] - 3s 3ms/step - loss: 0.0068 - acc: 0.9976 - val_loss: 0.2125 - val_acc: 0.9722\n",
            "Epoch 41/100\n",
            "1313/1313 [==============================] - 3s 2ms/step - loss: 0.0065 - acc: 0.9980 - val_loss: 0.2336 - val_acc: 0.9703\n",
            "Epoch 42/100\n",
            "1313/1313 [==============================] - 3s 2ms/step - loss: 0.0074 - acc: 0.9975 - val_loss: 0.2285 - val_acc: 0.9721\n",
            "Epoch 43/100\n",
            "1313/1313 [==============================] - 3s 2ms/step - loss: 0.0045 - acc: 0.9985 - val_loss: 0.3077 - val_acc: 0.9620\n",
            "Epoch 44/100\n",
            "1313/1313 [==============================] - 3s 3ms/step - loss: 0.0096 - acc: 0.9970 - val_loss: 0.2478 - val_acc: 0.9697\n",
            "Epoch 45/100\n",
            "1313/1313 [==============================] - 3s 2ms/step - loss: 0.0048 - acc: 0.9986 - val_loss: 0.2265 - val_acc: 0.9743\n",
            "Epoch 46/100\n",
            "1313/1313 [==============================] - 3s 2ms/step - loss: 0.0081 - acc: 0.9972 - val_loss: 0.2397 - val_acc: 0.9720\n",
            "Epoch 47/100\n",
            "1313/1313 [==============================] - 3s 3ms/step - loss: 0.0058 - acc: 0.9983 - val_loss: 0.2094 - val_acc: 0.9744\n",
            "Epoch 48/100\n",
            "1313/1313 [==============================] - 3s 2ms/step - loss: 0.0048 - acc: 0.9982 - val_loss: 0.2209 - val_acc: 0.9735\n",
            "Epoch 49/100\n",
            "1313/1313 [==============================] - 3s 2ms/step - loss: 0.0058 - acc: 0.9981 - val_loss: 0.2279 - val_acc: 0.9720\n",
            "Epoch 50/100\n",
            "1313/1313 [==============================] - 3s 2ms/step - loss: 0.0090 - acc: 0.9973 - val_loss: 0.2426 - val_acc: 0.9724\n",
            "Epoch 51/100\n",
            "1313/1313 [==============================] - 3s 2ms/step - loss: 0.0035 - acc: 0.9989 - val_loss: 0.2574 - val_acc: 0.9709\n",
            "Epoch 52/100\n",
            "1313/1313 [==============================] - 3s 3ms/step - loss: 0.0080 - acc: 0.9975 - val_loss: 0.2413 - val_acc: 0.9722\n",
            "Epoch 53/100\n",
            "1313/1313 [==============================] - 3s 3ms/step - loss: 0.0019 - acc: 0.9995 - val_loss: 0.2162 - val_acc: 0.9743\n",
            "Epoch 54/100\n",
            "1313/1313 [==============================] - 3s 3ms/step - loss: 0.0065 - acc: 0.9980 - val_loss: 0.2936 - val_acc: 0.9687\n",
            "Epoch 55/100\n",
            "1313/1313 [==============================] - 3s 3ms/step - loss: 0.0086 - acc: 0.9973 - val_loss: 0.2477 - val_acc: 0.9705\n",
            "Epoch 56/100\n",
            "1313/1313 [==============================] - 3s 2ms/step - loss: 0.0045 - acc: 0.9985 - val_loss: 0.2608 - val_acc: 0.9731\n",
            "Epoch 57/100\n",
            "1313/1313 [==============================] - 3s 2ms/step - loss: 0.0043 - acc: 0.9985 - val_loss: 0.2873 - val_acc: 0.9711\n",
            "Epoch 58/100\n",
            "1313/1313 [==============================] - 3s 3ms/step - loss: 0.0082 - acc: 0.9975 - val_loss: 0.2528 - val_acc: 0.9737\n",
            "Epoch 59/100\n",
            "1313/1313 [==============================] - 3s 3ms/step - loss: 0.0065 - acc: 0.9983 - val_loss: 0.2498 - val_acc: 0.9723\n",
            "Epoch 60/100\n",
            "1313/1313 [==============================] - 3s 2ms/step - loss: 0.0026 - acc: 0.9993 - val_loss: 0.2333 - val_acc: 0.9749\n",
            "Epoch 61/100\n",
            "1313/1313 [==============================] - 3s 3ms/step - loss: 3.8374e-04 - acc: 0.9999 - val_loss: 0.2936 - val_acc: 0.9708\n",
            "Epoch 62/100\n",
            "1313/1313 [==============================] - 3s 3ms/step - loss: 0.0117 - acc: 0.9968 - val_loss: 0.2483 - val_acc: 0.9734\n",
            "Epoch 63/100\n",
            "1313/1313 [==============================] - 3s 3ms/step - loss: 0.0048 - acc: 0.9985 - val_loss: 0.2498 - val_acc: 0.9721\n",
            "Epoch 64/100\n",
            "1313/1313 [==============================] - 3s 3ms/step - loss: 0.0071 - acc: 0.9981 - val_loss: 0.2736 - val_acc: 0.9702\n",
            "Epoch 65/100\n",
            "1313/1313 [==============================] - 3s 2ms/step - loss: 0.0027 - acc: 0.9992 - val_loss: 0.2954 - val_acc: 0.9714\n",
            "Epoch 66/100\n",
            "1313/1313 [==============================] - 3s 2ms/step - loss: 0.0079 - acc: 0.9979 - val_loss: 0.2484 - val_acc: 0.9741\n",
            "Epoch 67/100\n",
            "1313/1313 [==============================] - 3s 3ms/step - loss: 0.0045 - acc: 0.9987 - val_loss: 0.2982 - val_acc: 0.9709\n",
            "Epoch 68/100\n",
            "1313/1313 [==============================] - 3s 3ms/step - loss: 0.0063 - acc: 0.9984 - val_loss: 0.2647 - val_acc: 0.9746\n",
            "Epoch 69/100\n",
            "1313/1313 [==============================] - 3s 2ms/step - loss: 0.0042 - acc: 0.9988 - val_loss: 0.2858 - val_acc: 0.9727\n",
            "Epoch 70/100\n",
            "1313/1313 [==============================] - 3s 3ms/step - loss: 4.4795e-04 - acc: 0.9999 - val_loss: 0.2522 - val_acc: 0.9753\n",
            "Epoch 71/100\n",
            "1313/1313 [==============================] - 3s 3ms/step - loss: 0.0069 - acc: 0.9979 - val_loss: 0.2819 - val_acc: 0.9734\n",
            "Epoch 72/100\n",
            "1313/1313 [==============================] - 3s 3ms/step - loss: 0.0041 - acc: 0.9988 - val_loss: 0.2638 - val_acc: 0.9745\n",
            "Epoch 73/100\n",
            "1313/1313 [==============================] - 3s 2ms/step - loss: 0.0066 - acc: 0.9982 - val_loss: 0.3163 - val_acc: 0.9716\n",
            "Epoch 74/100\n",
            "1313/1313 [==============================] - 3s 3ms/step - loss: 0.0037 - acc: 0.9987 - val_loss: 0.2756 - val_acc: 0.9752\n",
            "Epoch 75/100\n",
            "1313/1313 [==============================] - 3s 2ms/step - loss: 0.0015 - acc: 0.9996 - val_loss: 0.2658 - val_acc: 0.9763\n",
            "Epoch 76/100\n",
            "1313/1313 [==============================] - 3s 2ms/step - loss: 0.0094 - acc: 0.9975 - val_loss: 0.2971 - val_acc: 0.9733\n",
            "Epoch 77/100\n",
            "1313/1313 [==============================] - 3s 3ms/step - loss: 0.0050 - acc: 0.9985 - val_loss: 0.2812 - val_acc: 0.9735\n",
            "Epoch 78/100\n",
            "1313/1313 [==============================] - 3s 3ms/step - loss: 0.0032 - acc: 0.9991 - val_loss: 0.2845 - val_acc: 0.9737\n",
            "Epoch 79/100\n",
            "1313/1313 [==============================] - 3s 3ms/step - loss: 0.0054 - acc: 0.9985 - val_loss: 0.3219 - val_acc: 0.9724\n",
            "Epoch 80/100\n",
            "1313/1313 [==============================] - 3s 3ms/step - loss: 0.0064 - acc: 0.9981 - val_loss: 0.2868 - val_acc: 0.9737\n",
            "Epoch 81/100\n",
            "1313/1313 [==============================] - 3s 2ms/step - loss: 0.0042 - acc: 0.9988 - val_loss: 0.3491 - val_acc: 0.9681\n",
            "Epoch 82/100\n",
            "1313/1313 [==============================] - 3s 3ms/step - loss: 0.0042 - acc: 0.9987 - val_loss: 0.3230 - val_acc: 0.9727\n",
            "Epoch 83/100\n",
            "1313/1313 [==============================] - 3s 3ms/step - loss: 0.0080 - acc: 0.9980 - val_loss: 0.3080 - val_acc: 0.9726\n",
            "Epoch 84/100\n",
            "1313/1313 [==============================] - 3s 3ms/step - loss: 0.0038 - acc: 0.9989 - val_loss: 0.3009 - val_acc: 0.9741\n",
            "Epoch 85/100\n",
            "1313/1313 [==============================] - 3s 3ms/step - loss: 0.0068 - acc: 0.9982 - val_loss: 0.2881 - val_acc: 0.9746\n",
            "Epoch 86/100\n",
            "1313/1313 [==============================] - 3s 3ms/step - loss: 0.0021 - acc: 0.9993 - val_loss: 0.3079 - val_acc: 0.9746\n",
            "Epoch 87/100\n",
            "1313/1313 [==============================] - 3s 3ms/step - loss: 0.0057 - acc: 0.9986 - val_loss: 0.3161 - val_acc: 0.9741\n",
            "Epoch 88/100\n",
            "1313/1313 [==============================] - 4s 3ms/step - loss: 0.0022 - acc: 0.9992 - val_loss: 0.3036 - val_acc: 0.9749\n",
            "Epoch 89/100\n",
            "1313/1313 [==============================] - 3s 3ms/step - loss: 0.0068 - acc: 0.9984 - val_loss: 0.3653 - val_acc: 0.9706\n",
            "Epoch 90/100\n",
            "1313/1313 [==============================] - 3s 3ms/step - loss: 0.0078 - acc: 0.9983 - val_loss: 0.3330 - val_acc: 0.9725\n",
            "Epoch 91/100\n",
            "1313/1313 [==============================] - 4s 3ms/step - loss: 0.0045 - acc: 0.9989 - val_loss: 0.3105 - val_acc: 0.9738\n",
            "Epoch 92/100\n",
            "1313/1313 [==============================] - 3s 3ms/step - loss: 0.0045 - acc: 0.9987 - val_loss: 0.3291 - val_acc: 0.9727\n",
            "Epoch 93/100\n",
            "1313/1313 [==============================] - 3s 3ms/step - loss: 0.0014 - acc: 0.9995 - val_loss: 0.3396 - val_acc: 0.9730\n",
            "Epoch 94/100\n",
            "1313/1313 [==============================] - 3s 3ms/step - loss: 0.0073 - acc: 0.9981 - val_loss: 0.3310 - val_acc: 0.9722\n",
            "Epoch 95/100\n",
            "1313/1313 [==============================] - 3s 3ms/step - loss: 0.0027 - acc: 0.9993 - val_loss: 0.3564 - val_acc: 0.9721\n",
            "Epoch 96/100\n",
            "1313/1313 [==============================] - 3s 3ms/step - loss: 0.0059 - acc: 0.9986 - val_loss: 0.3211 - val_acc: 0.9750\n",
            "Epoch 97/100\n",
            "1313/1313 [==============================] - 3s 3ms/step - loss: 0.0021 - acc: 0.9993 - val_loss: 0.3204 - val_acc: 0.9745\n",
            "Epoch 98/100\n",
            "1313/1313 [==============================] - 3s 3ms/step - loss: 0.0063 - acc: 0.9982 - val_loss: 0.3522 - val_acc: 0.9730\n",
            "Epoch 99/100\n",
            "1313/1313 [==============================] - 3s 3ms/step - loss: 0.0040 - acc: 0.9991 - val_loss: 0.3812 - val_acc: 0.9703\n",
            "Epoch 100/100\n",
            "1313/1313 [==============================] - 3s 3ms/step - loss: 0.0065 - acc: 0.9985 - val_loss: 0.3525 - val_acc: 0.9745\n"
          ],
          "name": "stdout"
        }
      ]
    },
    {
      "cell_type": "markdown",
      "metadata": {
        "id": "fXPnmIVSKsY-"
      },
      "source": [
        "# evaluation"
      ]
    },
    {
      "cell_type": "code",
      "metadata": {
        "colab": {
          "base_uri": "https://localhost:8080/"
        },
        "id": "woQ5KrW2LB62",
        "outputId": "61f2d222-48db-4759-e6a4-5b1a32a58bc6"
      },
      "source": [
        "hist.history.keys()"
      ],
      "execution_count": 48,
      "outputs": [
        {
          "output_type": "execute_result",
          "data": {
            "text/plain": [
              "dict_keys(['loss', 'acc', 'val_loss', 'val_acc'])"
            ]
          },
          "metadata": {
            "tags": []
          },
          "execution_count": 48
        }
      ]
    },
    {
      "cell_type": "code",
      "metadata": {
        "colab": {
          "base_uri": "https://localhost:8080/",
          "height": 269
        },
        "id": "2-hsl2uxK1tU",
        "outputId": "5fcf9f6e-a2ca-41e4-923a-d8a66173edb4"
      },
      "source": [
        "import matplotlib.pyplot as plt\n",
        "\n",
        "plt.plot(hist.history['loss'])\n",
        "plt.plot(hist.history['val_loss'], 'b-')\n",
        "plt.show()"
      ],
      "execution_count": 49,
      "outputs": [
        {
          "output_type": "display_data",
          "data": {
            "image/png": "[encoded data removed]",
            "text/plain": [
              "<Figure size 432x288 with 1 Axes>"
            ]
          },
          "metadata": {
            "tags": [],
            "needs_background": "light"
          }
        }
      ]
    },
    {
      "cell_type": "code",
      "metadata": {
        "colab": {
          "base_uri": "https://localhost:8080/",
          "height": 265
        },
        "id": "3I6uA_x32IJD",
        "outputId": "6b8683f1-dd40-4357-dccb-375e84174c02"
      },
      "source": [
        "plt.plot(hist.history['acc'])\n",
        "plt.plot(hist.history['val_acc'], 'r-')\n",
        "plt.show()"
      ],
      "execution_count": 50,
      "outputs": [
        {
          "output_type": "display_data",
          "data": {
            "image/png": "[encoded data removed]",
            "text/plain": [
              "<Figure size 432x288 with 1 Axes>"
            ]
          },
          "metadata": {
            "tags": [],
            "needs_background": "light"
          }
        }
      ]
    },
    {
      "cell_type": "markdown",
      "metadata": {
        "id": "sp60e9aYMml3"
      },
      "source": [
        "# service"
      ]
    },
    {
      "cell_type": "code",
      "metadata": {
        "colab": {
          "base_uri": "https://localhost:8080/"
        },
        "id": "HCC7iJJsMWFE",
        "outputId": "3cc59c4a-9a29-4623-f187-fad6bf2c8267"
      },
      "source": [
        "y_test[30]"
      ],
      "execution_count": 51,
      "outputs": [
        {
          "output_type": "execute_result",
          "data": {
            "text/plain": [
              "3"
            ]
          },
          "metadata": {
            "tags": []
          },
          "execution_count": 51
        }
      ]
    },
    {
      "cell_type": "code",
      "metadata": {
        "colab": {
          "base_uri": "https://localhost:8080/"
        },
        "id": "D7HxFnwVkGof",
        "outputId": "5224febb-ce48-4e04-d417-7d2ec4567379"
      },
      "source": [
        "import numpy as np\n",
        "# np.set_printoptions(precision=8)\n",
        "\n",
        "pred = model.predict(x_test[30:31])   # 영역을 지정해야 함. \n",
        "pred"
      ],
      "execution_count": 52,
      "outputs": [
        {
          "output_type": "execute_result",
          "data": {
            "text/plain": [
              "array([[0.0000000e+00, 0.0000000e+00, 0.0000000e+00, 1.0000000e+00,\n",
              "        0.0000000e+00, 4.8193994e-33, 0.0000000e+00, 2.9996076e-35,\n",
              "        1.6062534e-36, 4.3403576e-37]], dtype=float32)"
            ]
          },
          "metadata": {
            "tags": []
          },
          "execution_count": 52
        }
      ]
    },
    {
      "cell_type": "code",
      "metadata": {
        "colab": {
          "base_uri": "https://localhost:8080/"
        },
        "id": "bW2_aNzlnlnE",
        "outputId": "5d0a6649-1bc5-4f0f-a076-1d26871b9cab"
      },
      "source": [
        "np.argmax(pred, axis=1)"
      ],
      "execution_count": 53,
      "outputs": [
        {
          "output_type": "execute_result",
          "data": {
            "text/plain": [
              "array([3])"
            ]
          },
          "metadata": {
            "tags": []
          },
          "execution_count": 53
        }
      ]
    },
    {
      "cell_type": "code",
      "metadata": {
        "colab": {
          "base_uri": "https://localhost:8080/"
        },
        "id": "K-AOlLsAn06F",
        "outputId": "cfe8a676-dfd1-4bfd-c7e1-7cd7014f478b"
      },
      "source": [
        "y_test[30]"
      ],
      "execution_count": 54,
      "outputs": [
        {
          "output_type": "execute_result",
          "data": {
            "text/plain": [
              "3"
            ]
          },
          "metadata": {
            "tags": []
          },
          "execution_count": 54
        }
      ]
    },
    {
      "cell_type": "code",
      "metadata": {
        "colab": {
          "base_uri": "https://localhost:8080/"
        },
        "id": "s3D-RmNGkUmr",
        "outputId": "c67c8756-55ac-413a-d538-2a3d29958954"
      },
      "source": [
        "a = np.arange(6).reshape(2,3) + 10\n",
        "print(a)\n",
        "np.argmax(a, axis=0)"
      ],
      "execution_count": 55,
      "outputs": [
        {
          "output_type": "stream",
          "text": [
            "[[10 11 12]\n",
            " [13 14 15]]\n"
          ],
          "name": "stdout"
        },
        {
          "output_type": "execute_result",
          "data": {
            "text/plain": [
              "array([1, 1, 1])"
            ]
          },
          "metadata": {
            "tags": []
          },
          "execution_count": 55
        }
      ]
    },
    {
      "cell_type": "code",
      "metadata": {
        "colab": {
          "base_uri": "https://localhost:8080/"
        },
        "id": "en_foKuGlmbN",
        "outputId": "b07fafa1-5109-4725-a7fc-6e4b66f2ba33"
      },
      "source": [
        "np.argmax(np.array([[10, 11, 12]]), axis=1)"
      ],
      "execution_count": 56,
      "outputs": [
        {
          "output_type": "execute_result",
          "data": {
            "text/plain": [
              "array([2])"
            ]
          },
          "metadata": {
            "tags": []
          },
          "execution_count": 56
        }
      ]
    },
    {
      "cell_type": "code",
      "metadata": {
        "colab": {
          "base_uri": "https://localhost:8080/"
        },
        "id": "hbrGkxCDna2m",
        "outputId": "f420a0fc-8dff-4683-fc8b-da4ca9409049"
      },
      "source": [
        "model.save('./model_save')    # 폴더 묶음으로 저장할 때 "
      ],
      "execution_count": 57,
      "outputs": [
        {
          "output_type": "stream",
          "text": [
            "INFO:tensorflow:Assets written to: ./model_save/assets\n"
          ],
          "name": "stdout"
        }
      ]
    },
    {
      "cell_type": "code",
      "metadata": {
        "id": "hK47h7vF6evM"
      },
      "source": [
        "model.save('./model_save01.h5')    # 파일 하나로 저장할 때  / h5는 큰 데이터가 들어가는 데이터 포맷임(마치 엑셀같은...)"
      ],
      "execution_count": 58,
      "outputs": []
    },
    {
      "cell_type": "code",
      "metadata": {
        "id": "5fkHGPEN7Ci2"
      },
      "source": [
        "model_load = tf.keras.models.load_model('./model_save01.h5')"
      ],
      "execution_count": 59,
      "outputs": []
    },
    {
      "cell_type": "code",
      "metadata": {
        "colab": {
          "base_uri": "https://localhost:8080/"
        },
        "id": "JsWoqGRt8X83",
        "outputId": "6546f8aa-3df8-4092-9261-ab96c5354258"
      },
      "source": [
        "model_load"
      ],
      "execution_count": 60,
      "outputs": [
        {
          "output_type": "execute_result",
          "data": {
            "text/plain": [
              "<tensorflow.python.keras.engine.sequential.Sequential at 0x7f7213e97690>"
            ]
          },
          "metadata": {
            "tags": []
          },
          "execution_count": 60
        }
      ]
    },
    {
      "cell_type": "code",
      "metadata": {
        "colab": {
          "base_uri": "https://localhost:8080/"
        },
        "id": "9822cYsZ8beM",
        "outputId": "76dd6de0-176b-44d1-a5f1-7990b7434d3c"
      },
      "source": [
        "load_pred = model_load.predict(x_test[30:31])\n",
        "load_pred"
      ],
      "execution_count": 61,
      "outputs": [
        {
          "output_type": "execute_result",
          "data": {
            "text/plain": [
              "array([[0.0000000e+00, 0.0000000e+00, 0.0000000e+00, 1.0000000e+00,\n",
              "        0.0000000e+00, 4.8193994e-33, 0.0000000e+00, 2.9996076e-35,\n",
              "        1.6062534e-36, 4.3403576e-37]], dtype=float32)"
            ]
          },
          "metadata": {
            "tags": []
          },
          "execution_count": 61
        }
      ]
    },
    {
      "cell_type": "code",
      "metadata": {
        "colab": {
          "base_uri": "https://localhost:8080/"
        },
        "id": "KnvTnbg39PFt",
        "outputId": "1a75f3ab-c6cb-499d-f54a-ad129521fdee"
      },
      "source": [
        "load_pred, np.argmax(load_pred)"
      ],
      "execution_count": 62,
      "outputs": [
        {
          "output_type": "execute_result",
          "data": {
            "text/plain": [
              "(array([[0.0000000e+00, 0.0000000e+00, 0.0000000e+00, 1.0000000e+00,\n",
              "         0.0000000e+00, 4.8193994e-33, 0.0000000e+00, 2.9996076e-35,\n",
              "         1.6062534e-36, 4.3403576e-37]], dtype=float32), 3)"
            ]
          },
          "metadata": {
            "tags": []
          },
          "execution_count": 62
        }
      ]
    },
    {
      "cell_type": "markdown",
      "metadata": {
        "id": "8Agynri29oZF"
      },
      "source": [
        "딥러닝의 강점 : 전통적인 머신러닝은 재교육이 안되지만 딥러닝은 저장된 데이터를 불러와서 다시 교육할 수 있다.(기존것은 남아있고 재교육이 되는 것)"
      ]
    },
    {
      "cell_type": "code",
      "metadata": {
        "id": "y-_SArFv9aQ7"
      },
      "source": [
        ""
      ],
      "execution_count": null,
      "outputs": []
    }
  ]
}