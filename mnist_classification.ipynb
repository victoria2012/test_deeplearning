{
  "nbformat": 4,
  "nbformat_minor": 0,
  "metadata": {
    "colab": {
      "name": "mnist_classification.ipynb",
      "provenance": [],
      "collapsed_sections": [],
      "authorship_tag": "ABX9TyMYL1HpBHvs2H1wm1Fbkqap"
    },
    "kernelspec": {
      "name": "python3",
      "display_name": "Python 3"
    },
    "language_info": {
      "name": "python"
    }
  },
  "cells": [
    {
      "cell_type": "code",
      "metadata": {
        "id": "Y1gSydibltWZ"
      },
      "source": [
        "from tensorflow.keras.datasets.mnist import load_data"
      ],
      "execution_count": 1,
      "outputs": []
    },
    {
      "cell_type": "code",
      "metadata": {
        "colab": {
          "base_uri": "https://localhost:8080/"
        },
        "id": "JFTtQHN1mqiP",
        "outputId": "01772051-9bb2-4300-caf1-db57d2d96c57"
      },
      "source": [
        "(x_train, y_train), (x_test, y_test) = load_data(path='mnist.npz')\n",
        "x_train.shape, y_train.shape, x_test.shape, y_test.shape"
      ],
      "execution_count": 2,
      "outputs": [
        {
          "output_type": "execute_result",
          "data": {
            "text/plain": [
              "((60000, 28, 28), (60000,), (10000, 28, 28), (10000,))"
            ]
          },
          "metadata": {
            "tags": []
          },
          "execution_count": 2
        }
      ]
    },
    {
      "cell_type": "code",
      "metadata": {
        "colab": {
          "base_uri": "https://localhost:8080/"
        },
        "id": "Q8S36nSLsHvu",
        "outputId": "2b4e3cdf-2b6f-4c50-d44d-9ee1e24855da"
      },
      "source": [
        "# y_train[4], x_train[4],\n",
        "y_train[50000], x_train[50000]"
      ],
      "execution_count": 3,
      "outputs": [
        {
          "output_type": "execute_result",
          "data": {
            "text/plain": [
              "(3, array([[  0,   0,   0,   0,   0,   0,   0,   0,   0,   0,   0,   0,   0,\n",
              "           0,   0,   0,   0,   0,   0,   0,   0,   0,   0,   0,   0,   0,\n",
              "           0,   0],\n",
              "        [  0,   0,   0,   0,   0,   0,   0,   0,   0,   0,   0,   0,   0,\n",
              "           0,   0,   0,   0,   0,   0,   0,   0,   0,   0,   0,   0,   0,\n",
              "           0,   0],\n",
              "        [  0,   0,   0,   0,   0,   0,   0,   0,   0,   0,   0,   0,   0,\n",
              "           0,   0,   0,   0,   0,   0,   0,   0,   0,   0,   0,   0,   0,\n",
              "           0,   0],\n",
              "        [  0,   0,   0,   0,   0,   0,   0,   0,   0,   0,   0,   0,   0,\n",
              "           0,   0,   0,   0,   0,   0,   0,   0,   0,   0,   0,   0,   0,\n",
              "           0,   0],\n",
              "        [  0,   0,   0,   0,   0,   0,   0,   0,   0,   0,  47, 160, 195,\n",
              "         205,  71,  86,  13,   0,   0,   0,   0,   0,   0,   0,   0,   0,\n",
              "           0,   0],\n",
              "        [  0,   0,   0,   0,   0,   0,   0,   0,   0,  12, 238, 254, 254,\n",
              "         254, 254, 254, 227,  84,   0,   0,   0,   0,   0,   0,   0,   0,\n",
              "           0,   0],\n",
              "        [  0,   0,   0,   0,   0,   0,   0,   0,   0,  13, 196, 176, 127,\n",
              "         176, 207, 236, 245, 222,  23,   0,   0,   0,   0,   0,   0,   0,\n",
              "           0,   0],\n",
              "        [  0,   0,   0,   0,   0,   0,   0,   0,   0,   0,   0,   0,   0,\n",
              "           0,   0,  20, 137, 254,  95,   0,   0,   0,   0,   0,   0,   0,\n",
              "           0,   0],\n",
              "        [  0,   0,   0,   0,   0,   0,   0,   0,   0,   0,   0,   0,   0,\n",
              "           0,   0,   0,  78, 254, 144,   0,   0,   0,   0,   0,   0,   0,\n",
              "           0,   0],\n",
              "        [  0,   0,   0,   0,   0,   0,   0,   0,   0,   0,   0,   0,   0,\n",
              "           0,   0,  17, 200, 254, 170,   0,   0,   0,   0,   0,   0,   0,\n",
              "           0,   0],\n",
              "        [  0,   0,   0,   0,   0,   0,   0,   0,   0,   0,   0,   0,   0,\n",
              "           0,  47, 218, 254, 216,  29,   0,   0,   0,   0,   0,   0,   0,\n",
              "           0,   0],\n",
              "        [  0,   0,   0,   0,   0,   0,   0,   0,   0,   0,   0,   0,   0,\n",
              "          95, 225, 254, 245,  65,   0,   0,   0,   0,   0,   0,   0,   0,\n",
              "           0,   0],\n",
              "        [  0,   0,   0,   0,   0,   0,   0,   0,   0,   0,   0,  12, 128,\n",
              "         252, 254, 236,  40,   0,   0,   0,   0,   0,   0,   0,   0,   0,\n",
              "           0,   0],\n",
              "        [  0,   0,   0,   0,   0,   0,   0,   0,   0,   0,   0, 172, 254,\n",
              "         254, 170,  58,   0,   0,   0,   0,   0,   0,   0,   0,   0,   0,\n",
              "           0,   0],\n",
              "        [  0,   0,   0,   0,   0,   0,   0,   0,   0,   0,   0, 207, 254,\n",
              "         254,  65,   0,   0,   0,   0,   0,   0,   0,   0,   0,   0,   0,\n",
              "           0,   0],\n",
              "        [  0,   0,   0,   0,   0,   0,   0,   0,   0,   0,   0, 137, 254,\n",
              "         254, 251, 146,  26,   0,   0,   0,   0,   0,   0,   0,   0,   0,\n",
              "           0,   0],\n",
              "        [  0,   0,   0,   0,   0,   0,   0,   0,   0,   0,   0,   9, 173,\n",
              "         224, 254, 254, 230,  71,   0,   0,   0,   0,   0,   0,   0,   0,\n",
              "           0,   0],\n",
              "        [  0,   0,   0,   0,   0,   0,   0,   0,   0,   0,   0,   0,   8,\n",
              "          12, 254, 254, 254, 246, 104,   0,   0,   0,   0,   0,   0,   0,\n",
              "           0,   0],\n",
              "        [  0,   0,   0,   0,   0,   0,   0,   0,   0,   0,   0,   0,   0,\n",
              "           0,  46, 189, 254, 254, 224,   0,   0,   0,   0,   0,   0,   0,\n",
              "           0,   0],\n",
              "        [  0,   0,   0,   0,   0,   0,   0,   0,   0,  10,   0,   0,   0,\n",
              "           0,   0,  17, 175, 254, 254,  25,   0,   0,   0,   0,   0,   0,\n",
              "           0,   0],\n",
              "        [  0,   0,   0,   0,   0,   0,   0,   0,  35, 231, 156, 112,  87,\n",
              "         186, 191, 218, 254, 254, 219,   0,   0,   0,   0,   0,   0,   0,\n",
              "           0,   0],\n",
              "        [  0,   0,   0,   0,   0,   0,   0,   0, 120, 255, 254, 254, 254,\n",
              "         254, 255, 254, 254, 242,  67,   0,   0,   0,   0,   0,   0,   0,\n",
              "           0,   0],\n",
              "        [  0,   0,   0,   0,   0,   0,   0,   0, 139, 255, 254, 254, 254,\n",
              "         254, 255, 171,  46,  24,   0,   0,   0,   0,   0,   0,   0,   0,\n",
              "           0,   0],\n",
              "        [  0,   0,   0,   0,   0,   0,   0,   0,   5,  71, 164, 189, 174,\n",
              "         174,  66,   4,   0,   0,   0,   0,   0,   0,   0,   0,   0,   0,\n",
              "           0,   0],\n",
              "        [  0,   0,   0,   0,   0,   0,   0,   0,   0,   0,   0,   0,   0,\n",
              "           0,   0,   0,   0,   0,   0,   0,   0,   0,   0,   0,   0,   0,\n",
              "           0,   0],\n",
              "        [  0,   0,   0,   0,   0,   0,   0,   0,   0,   0,   0,   0,   0,\n",
              "           0,   0,   0,   0,   0,   0,   0,   0,   0,   0,   0,   0,   0,\n",
              "           0,   0],\n",
              "        [  0,   0,   0,   0,   0,   0,   0,   0,   0,   0,   0,   0,   0,\n",
              "           0,   0,   0,   0,   0,   0,   0,   0,   0,   0,   0,   0,   0,\n",
              "           0,   0],\n",
              "        [  0,   0,   0,   0,   0,   0,   0,   0,   0,   0,   0,   0,   0,\n",
              "           0,   0,   0,   0,   0,   0,   0,   0,   0,   0,   0,   0,   0,\n",
              "           0,   0]], dtype=uint8))"
            ]
          },
          "metadata": {
            "tags": []
          },
          "execution_count": 3
        }
      ]
    },
    {
      "cell_type": "code",
      "metadata": {
        "colab": {
          "base_uri": "https://localhost:8080/",
          "height": 283
        },
        "id": "qrio49vTqm33",
        "outputId": "f438076f-783c-4b17-aa71-f70fd8a34560"
      },
      "source": [
        "import matplotlib.pyplot as plt\n",
        "\n",
        "plt.imshow(x_train[50000])\n",
        "print(y_train[50000], type(y_train[50000]))"
      ],
      "execution_count": 4,
      "outputs": [
        {
          "output_type": "stream",
          "text": [
            "3 <class 'numpy.uint8'>\n"
          ],
          "name": "stdout"
        },
        {
          "output_type": "display_data",
          "data": {
            "image/png": "[encoded data removed]",
            "text/plain": [
              "<Figure size 432x288 with 1 Axes>"
            ]
          },
          "metadata": {
            "tags": [],
            "needs_background": "light"
          }
        }
      ]
    },
    {
      "cell_type": "code",
      "metadata": {
        "id": "2y6A7L1AtBRl"
      },
      "source": [
        "# 2차원을 1차원으로 만들어준다. "
      ],
      "execution_count": 5,
      "outputs": []
    },
    {
      "cell_type": "code",
      "metadata": {
        "colab": {
          "base_uri": "https://localhost:8080/"
        },
        "id": "caVkXeUHuWLP",
        "outputId": "a3481cf3-62cc-4ce8-e3f9-38b6c7df4e0d"
      },
      "source": [
        "x_train = x_train.reshape(-1,28*28 )\n",
        "x_train.shape"
      ],
      "execution_count": 6,
      "outputs": [
        {
          "output_type": "execute_result",
          "data": {
            "text/plain": [
              "(60000, 784)"
            ]
          },
          "metadata": {
            "tags": []
          },
          "execution_count": 6
        }
      ]
    },
    {
      "cell_type": "code",
      "metadata": {
        "colab": {
          "base_uri": "https://localhost:8080/"
        },
        "id": "4kel-zXQvEPe",
        "outputId": "c3689f67-28f3-4745-8b94-6b649903c1dd"
      },
      "source": [
        "x_test = x_test.reshape(-1, 28*28)\n",
        "x_test.shape"
      ],
      "execution_count": 7,
      "outputs": [
        {
          "output_type": "execute_result",
          "data": {
            "text/plain": [
              "(10000, 784)"
            ]
          },
          "metadata": {
            "tags": []
          },
          "execution_count": 7
        }
      ]
    },
    {
      "cell_type": "code",
      "metadata": {
        "colab": {
          "base_uri": "https://localhost:8080/"
        },
        "id": "Y2mGADydvPxt",
        "outputId": "55a8ef56-0401-4082-ecf8-1db9674dc3cc"
      },
      "source": [
        "y_train.shape"
      ],
      "execution_count": 8,
      "outputs": [
        {
          "output_type": "execute_result",
          "data": {
            "text/plain": [
              "(60000,)"
            ]
          },
          "metadata": {
            "tags": []
          },
          "execution_count": 8
        }
      ]
    },
    {
      "cell_type": "code",
      "metadata": {
        "colab": {
          "base_uri": "https://localhost:8080/"
        },
        "id": "YSf8V_uVvgrn",
        "outputId": "0b096729-e101-438f-fe6f-3b1874bc3327"
      },
      "source": [
        "y_train[2:10]"
      ],
      "execution_count": 9,
      "outputs": [
        {
          "output_type": "execute_result",
          "data": {
            "text/plain": [
              "array([4, 1, 9, 2, 1, 3, 1, 4], dtype=uint8)"
            ]
          },
          "metadata": {
            "tags": []
          },
          "execution_count": 9
        }
      ]
    },
    {
      "cell_type": "code",
      "metadata": {
        "colab": {
          "base_uri": "https://localhost:8080/"
        },
        "id": "YC-civlsxbm3",
        "outputId": "04703cbe-b9ec-4607-e32e-08e9903c73f9"
      },
      "source": [
        "import numpy as np\n",
        "np.unique(y_train)"
      ],
      "execution_count": 11,
      "outputs": [
        {
          "output_type": "execute_result",
          "data": {
            "text/plain": [
              "array([0, 1, 2, 3, 4, 5, 6, 7, 8, 9], dtype=uint8)"
            ]
          },
          "metadata": {
            "tags": []
          },
          "execution_count": 11
        }
      ]
    },
    {
      "cell_type": "markdown",
      "metadata": {
        "id": "KtznRyEewDVs"
      },
      "source": [
        "# apply model"
      ]
    },
    {
      "cell_type": "code",
      "metadata": {
        "id": "xMY2y0aivrH2"
      },
      "source": [
        "import tensorflow as tf"
      ],
      "execution_count": 10,
      "outputs": []
    },
    {
      "cell_type": "code",
      "metadata": {
        "colab": {
          "base_uri": "https://localhost:8080/"
        },
        "id": "LGzYos8SwRH-",
        "outputId": "dbb9841b-bf7c-4dfc-d8da-23ef4b591b41"
      },
      "source": [
        "model = tf.keras.models.Sequential()\n",
        "\n",
        "model.add(tf.keras.Input(shape=(784,)))   # input layer\n",
        "model.add(tf.keras.layers.Dense(64, activation='relu'))   # hidden layer\n",
        "model.add(tf.keras.layers.Dense(64, activation='relu'))    # hidden layer\n",
        "model.add(tf.keras.layers.Dense(10, activation='softmax'))   # output layer\n",
        "\n",
        "model.compile(optimizer='adam', loss='sparse_categorical_crossentropy', metrics=['acc'])\n"
      ],
      "execution_count": 16,
      "outputs": [
        {
          "output_type": "stream",
          "text": [
            "WARNING:tensorflow:Please add `keras.layers.InputLayer` instead of `keras.Input` to Sequential model. `keras.Input` is intended to be used by Functional model.\n"
          ],
          "name": "stdout"
        }
      ]
    },
    {
      "cell_type": "markdown",
      "metadata": {
        "id": "BvPEuKPN1vyW"
      },
      "source": [
        "* activation : output이 범주형인데 unique값이 3개 이상일 경우 activation은 softmax를 쓰고, 바이너리(이진, 2개)일 경우에는 sigmoid를 쓴다. : output layer\n",
        "* hidden layer에서만 쓰는 activation이 따로 있다. (relu)\n",
        "* regression ---> loss : mse\n",
        "* binary classification ---> loss : binary crossentropy\n",
        "* over 3 classification ---> loss : categorical_crossentropy(sparse_categorical_crossentropy)\n",
        "* activation에서 sigmoid를 쓸 경우 loss율 측정은 binary_crossentropy를 쓰고\n",
        "  activation에서 softmax를 쓸 경우 loss율 측정은 categorical_crossentropy를 쓴다. 이 경우 y를 onehot 인코딩을 해줘야 한다. 만약 onehot 인코딩을 해주지 않았다면 sparse_categorical_crossentropy를 쓰면 된다. "
      ]
    },
    {
      "cell_type": "code",
      "metadata": {
        "colab": {
          "base_uri": "https://localhost:8080/"
        },
        "id": "M7BSYZf7_E_O",
        "outputId": "db95dcc3-9598-4e80-8b32-9256d6954440"
      },
      "source": [
        "hist = model.fit(x_train, y_train, epochs=100, validation_split=0.3)"
      ],
      "execution_count": 18,
      "outputs": [
        {
          "output_type": "stream",
          "text": [
            "Epoch 1/100\n",
            "1313/1313 [==============================] - 3s 3ms/step - loss: 0.2485 - acc: 0.9373 - val_loss: 0.3300 - val_acc: 0.9230\n",
            "Epoch 2/100\n",
            "1313/1313 [==============================] - 3s 3ms/step - loss: 0.2109 - acc: 0.9446 - val_loss: 0.2632 - val_acc: 0.9342\n",
            "Epoch 3/100\n",
            "1313/1313 [==============================] - 3s 3ms/step - loss: 0.1918 - acc: 0.9497 - val_loss: 0.2374 - val_acc: 0.9396\n",
            "Epoch 4/100\n",
            "1313/1313 [==============================] - 3s 3ms/step - loss: 0.1599 - acc: 0.9556 - val_loss: 0.2033 - val_acc: 0.9509\n",
            "Epoch 5/100\n",
            "1313/1313 [==============================] - 3s 3ms/step - loss: 0.1441 - acc: 0.9599 - val_loss: 0.2234 - val_acc: 0.9479\n",
            "Epoch 6/100\n",
            "1313/1313 [==============================] - 3s 3ms/step - loss: 0.1321 - acc: 0.9625 - val_loss: 0.2321 - val_acc: 0.9455\n",
            "Epoch 7/100\n",
            "1313/1313 [==============================] - 3s 3ms/step - loss: 0.1204 - acc: 0.9658 - val_loss: 0.1832 - val_acc: 0.9543\n",
            "Epoch 8/100\n",
            "1313/1313 [==============================] - 3s 3ms/step - loss: 0.1151 - acc: 0.9683 - val_loss: 0.2005 - val_acc: 0.9508\n",
            "Epoch 9/100\n",
            "1313/1313 [==============================] - 3s 3ms/step - loss: 0.1057 - acc: 0.9697 - val_loss: 0.1821 - val_acc: 0.9568\n",
            "Epoch 10/100\n",
            "1313/1313 [==============================] - 3s 3ms/step - loss: 0.1024 - acc: 0.9710 - val_loss: 0.2017 - val_acc: 0.9547\n",
            "Epoch 11/100\n",
            "1313/1313 [==============================] - 4s 3ms/step - loss: 0.0930 - acc: 0.9732 - val_loss: 0.1836 - val_acc: 0.9551\n",
            "Epoch 12/100\n",
            "1313/1313 [==============================] - 4s 3ms/step - loss: 0.0904 - acc: 0.9740 - val_loss: 0.2260 - val_acc: 0.9525\n",
            "Epoch 13/100\n",
            "1313/1313 [==============================] - 3s 3ms/step - loss: 0.0833 - acc: 0.9760 - val_loss: 0.1970 - val_acc: 0.9569\n",
            "Epoch 14/100\n",
            "1313/1313 [==============================] - 3s 3ms/step - loss: 0.0892 - acc: 0.9756 - val_loss: 0.1867 - val_acc: 0.9588\n",
            "Epoch 15/100\n",
            "1313/1313 [==============================] - 3s 3ms/step - loss: 0.0795 - acc: 0.9776 - val_loss: 0.2249 - val_acc: 0.9540\n",
            "Epoch 16/100\n",
            "1313/1313 [==============================] - 3s 3ms/step - loss: 0.0789 - acc: 0.9778 - val_loss: 0.1984 - val_acc: 0.9599\n",
            "Epoch 17/100\n",
            "1313/1313 [==============================] - 3s 3ms/step - loss: 0.0752 - acc: 0.9794 - val_loss: 0.2229 - val_acc: 0.9567\n",
            "Epoch 18/100\n",
            "1313/1313 [==============================] - 3s 3ms/step - loss: 0.0707 - acc: 0.9794 - val_loss: 0.2346 - val_acc: 0.9542\n",
            "Epoch 19/100\n",
            "1313/1313 [==============================] - 3s 3ms/step - loss: 0.0752 - acc: 0.9790 - val_loss: 0.2151 - val_acc: 0.9576\n",
            "Epoch 20/100\n",
            "1313/1313 [==============================] - 3s 3ms/step - loss: 0.0687 - acc: 0.9807 - val_loss: 0.2635 - val_acc: 0.9524\n",
            "Epoch 21/100\n",
            "1313/1313 [==============================] - 3s 3ms/step - loss: 0.0727 - acc: 0.9802 - val_loss: 0.2216 - val_acc: 0.9591\n",
            "Epoch 22/100\n",
            "1313/1313 [==============================] - 4s 3ms/step - loss: 0.0656 - acc: 0.9820 - val_loss: 0.2396 - val_acc: 0.9561\n",
            "Epoch 23/100\n",
            "1313/1313 [==============================] - 4s 3ms/step - loss: 0.0585 - acc: 0.9837 - val_loss: 0.2324 - val_acc: 0.9586\n",
            "Epoch 24/100\n",
            "1313/1313 [==============================] - 3s 3ms/step - loss: 0.0659 - acc: 0.9822 - val_loss: 0.2513 - val_acc: 0.9545\n",
            "Epoch 25/100\n",
            "1313/1313 [==============================] - 3s 3ms/step - loss: 0.0592 - acc: 0.9833 - val_loss: 0.2625 - val_acc: 0.9574\n",
            "Epoch 26/100\n",
            "1313/1313 [==============================] - 3s 3ms/step - loss: 0.0618 - acc: 0.9834 - val_loss: 0.2582 - val_acc: 0.9581\n",
            "Epoch 27/100\n",
            "1313/1313 [==============================] - 4s 3ms/step - loss: 0.0611 - acc: 0.9830 - val_loss: 0.2506 - val_acc: 0.9594\n",
            "Epoch 28/100\n",
            "1313/1313 [==============================] - 3s 3ms/step - loss: 0.0584 - acc: 0.9850 - val_loss: 0.2526 - val_acc: 0.9589\n",
            "Epoch 29/100\n",
            "1313/1313 [==============================] - 3s 3ms/step - loss: 0.0578 - acc: 0.9850 - val_loss: 0.2750 - val_acc: 0.9614\n",
            "Epoch 30/100\n",
            "1313/1313 [==============================] - 3s 3ms/step - loss: 0.0568 - acc: 0.9847 - val_loss: 0.2462 - val_acc: 0.9584\n",
            "Epoch 31/100\n",
            "1313/1313 [==============================] - 3s 3ms/step - loss: 0.0581 - acc: 0.9846 - val_loss: 0.2473 - val_acc: 0.9583\n",
            "Epoch 32/100\n",
            "1313/1313 [==============================] - 3s 3ms/step - loss: 0.0586 - acc: 0.9849 - val_loss: 0.2835 - val_acc: 0.9589\n",
            "Epoch 33/100\n",
            "1313/1313 [==============================] - 3s 2ms/step - loss: 0.0590 - acc: 0.9846 - val_loss: 0.2729 - val_acc: 0.9553\n",
            "Epoch 34/100\n",
            "1313/1313 [==============================] - 3s 3ms/step - loss: 0.0531 - acc: 0.9861 - val_loss: 0.2702 - val_acc: 0.9597\n",
            "Epoch 35/100\n",
            "1313/1313 [==============================] - 3s 3ms/step - loss: 0.0562 - acc: 0.9859 - val_loss: 0.2829 - val_acc: 0.9586\n",
            "Epoch 36/100\n",
            "1313/1313 [==============================] - 3s 2ms/step - loss: 0.0512 - acc: 0.9860 - val_loss: 0.3112 - val_acc: 0.9584\n",
            "Epoch 37/100\n",
            "1313/1313 [==============================] - 3s 3ms/step - loss: 0.0499 - acc: 0.9874 - val_loss: 0.2882 - val_acc: 0.9584\n",
            "Epoch 38/100\n",
            "1313/1313 [==============================] - 4s 3ms/step - loss: 0.0531 - acc: 0.9870 - val_loss: 0.2917 - val_acc: 0.9589\n",
            "Epoch 39/100\n",
            "1313/1313 [==============================] - 3s 3ms/step - loss: 0.0454 - acc: 0.9875 - val_loss: 0.3162 - val_acc: 0.9588\n",
            "Epoch 40/100\n",
            "1313/1313 [==============================] - 4s 3ms/step - loss: 0.0497 - acc: 0.9869 - val_loss: 0.3432 - val_acc: 0.9596\n",
            "Epoch 41/100\n",
            "1313/1313 [==============================] - 3s 3ms/step - loss: 0.0515 - acc: 0.9869 - val_loss: 0.3286 - val_acc: 0.9609\n",
            "Epoch 42/100\n",
            "1313/1313 [==============================] - 3s 3ms/step - loss: 0.0479 - acc: 0.9883 - val_loss: 0.3184 - val_acc: 0.9589\n",
            "Epoch 43/100\n",
            "1313/1313 [==============================] - 4s 3ms/step - loss: 0.0531 - acc: 0.9870 - val_loss: 0.3458 - val_acc: 0.9582\n",
            "Epoch 44/100\n",
            "1313/1313 [==============================] - 4s 3ms/step - loss: 0.0431 - acc: 0.9884 - val_loss: 0.3655 - val_acc: 0.9595\n",
            "Epoch 45/100\n",
            "1313/1313 [==============================] - 4s 3ms/step - loss: 0.0498 - acc: 0.9880 - val_loss: 0.3650 - val_acc: 0.9606\n",
            "Epoch 46/100\n",
            "1313/1313 [==============================] - 4s 3ms/step - loss: 0.0523 - acc: 0.9878 - val_loss: 0.3261 - val_acc: 0.9583\n",
            "Epoch 47/100\n",
            "1313/1313 [==============================] - 3s 3ms/step - loss: 0.0431 - acc: 0.9887 - val_loss: 0.3663 - val_acc: 0.9572\n",
            "Epoch 48/100\n",
            "1313/1313 [==============================] - 3s 3ms/step - loss: 0.0535 - acc: 0.9866 - val_loss: 0.3377 - val_acc: 0.9601\n",
            "Epoch 49/100\n",
            "1313/1313 [==============================] - 4s 3ms/step - loss: 0.0438 - acc: 0.9889 - val_loss: 0.3885 - val_acc: 0.9584\n",
            "Epoch 50/100\n",
            "1313/1313 [==============================] - 3s 3ms/step - loss: 0.0405 - acc: 0.9894 - val_loss: 0.4613 - val_acc: 0.9581\n",
            "Epoch 51/100\n",
            "1313/1313 [==============================] - 4s 3ms/step - loss: 0.0485 - acc: 0.9889 - val_loss: 0.4025 - val_acc: 0.9593\n",
            "Epoch 52/100\n",
            "1313/1313 [==============================] - 3s 3ms/step - loss: 0.0458 - acc: 0.9887 - val_loss: 0.3868 - val_acc: 0.9594\n",
            "Epoch 53/100\n",
            "1313/1313 [==============================] - 3s 3ms/step - loss: 0.0403 - acc: 0.9898 - val_loss: 0.3774 - val_acc: 0.9621\n",
            "Epoch 54/100\n",
            "1313/1313 [==============================] - 3s 3ms/step - loss: 0.0452 - acc: 0.9889 - val_loss: 0.4957 - val_acc: 0.9602\n",
            "Epoch 55/100\n",
            "1313/1313 [==============================] - 3s 3ms/step - loss: 0.0524 - acc: 0.9884 - val_loss: 0.3757 - val_acc: 0.9550\n",
            "Epoch 56/100\n",
            "1313/1313 [==============================] - 3s 3ms/step - loss: 0.0383 - acc: 0.9891 - val_loss: 0.4067 - val_acc: 0.9605\n",
            "Epoch 57/100\n",
            "1313/1313 [==============================] - 3s 3ms/step - loss: 0.0418 - acc: 0.9893 - val_loss: 0.4134 - val_acc: 0.9555\n",
            "Epoch 58/100\n",
            "1313/1313 [==============================] - 3s 3ms/step - loss: 0.0608 - acc: 0.9871 - val_loss: 0.3804 - val_acc: 0.9591\n",
            "Epoch 59/100\n",
            "1313/1313 [==============================] - 3s 3ms/step - loss: 0.0414 - acc: 0.9889 - val_loss: 0.4464 - val_acc: 0.9577\n",
            "Epoch 60/100\n",
            "1313/1313 [==============================] - 3s 3ms/step - loss: 0.0484 - acc: 0.9890 - val_loss: 0.4425 - val_acc: 0.9607\n",
            "Epoch 61/100\n",
            "1313/1313 [==============================] - 4s 3ms/step - loss: 0.0355 - acc: 0.9911 - val_loss: 0.4173 - val_acc: 0.9587\n",
            "Epoch 62/100\n",
            "1313/1313 [==============================] - 4s 3ms/step - loss: 0.0355 - acc: 0.9907 - val_loss: 0.4262 - val_acc: 0.9609\n",
            "Epoch 63/100\n",
            "1313/1313 [==============================] - 4s 3ms/step - loss: 0.0470 - acc: 0.9892 - val_loss: 0.5493 - val_acc: 0.9583\n",
            "Epoch 64/100\n",
            "1313/1313 [==============================] - 4s 3ms/step - loss: 0.0439 - acc: 0.9898 - val_loss: 0.6243 - val_acc: 0.9574\n",
            "Epoch 65/100\n",
            "1313/1313 [==============================] - 3s 3ms/step - loss: 0.0474 - acc: 0.9896 - val_loss: 0.4764 - val_acc: 0.9578\n",
            "Epoch 66/100\n",
            "1313/1313 [==============================] - 4s 3ms/step - loss: 0.0395 - acc: 0.9900 - val_loss: 0.6178 - val_acc: 0.9603\n",
            "Epoch 67/100\n",
            "1313/1313 [==============================] - 3s 3ms/step - loss: 0.0370 - acc: 0.9911 - val_loss: 0.4635 - val_acc: 0.9598\n",
            "Epoch 68/100\n",
            "1313/1313 [==============================] - 3s 3ms/step - loss: 0.0352 - acc: 0.9915 - val_loss: 0.5386 - val_acc: 0.9591\n",
            "Epoch 69/100\n",
            "1313/1313 [==============================] - 3s 3ms/step - loss: 0.0435 - acc: 0.9898 - val_loss: 0.5280 - val_acc: 0.9587\n",
            "Epoch 70/100\n",
            "1313/1313 [==============================] - 3s 3ms/step - loss: 0.0349 - acc: 0.9916 - val_loss: 0.5278 - val_acc: 0.9590\n",
            "Epoch 71/100\n",
            "1313/1313 [==============================] - 3s 3ms/step - loss: 0.0437 - acc: 0.9900 - val_loss: 0.5956 - val_acc: 0.9584\n",
            "Epoch 72/100\n",
            "1313/1313 [==============================] - 3s 3ms/step - loss: 0.0487 - acc: 0.9896 - val_loss: 0.5858 - val_acc: 0.9584\n",
            "Epoch 73/100\n",
            "1313/1313 [==============================] - 3s 3ms/step - loss: 0.0417 - acc: 0.9907 - val_loss: 0.5872 - val_acc: 0.9591\n",
            "Epoch 74/100\n",
            "1313/1313 [==============================] - 4s 3ms/step - loss: 0.0347 - acc: 0.9916 - val_loss: 0.5504 - val_acc: 0.9542\n",
            "Epoch 75/100\n",
            "1313/1313 [==============================] - 4s 3ms/step - loss: 0.0363 - acc: 0.9917 - val_loss: 0.6263 - val_acc: 0.9579\n",
            "Epoch 76/100\n",
            "1313/1313 [==============================] - 4s 3ms/step - loss: 0.0342 - acc: 0.9915 - val_loss: 0.6632 - val_acc: 0.9585\n",
            "Epoch 77/100\n",
            "1313/1313 [==============================] - 4s 3ms/step - loss: 0.0463 - acc: 0.9904 - val_loss: 0.6318 - val_acc: 0.9597\n",
            "Epoch 78/100\n",
            "1313/1313 [==============================] - 4s 3ms/step - loss: 0.0440 - acc: 0.9905 - val_loss: 0.5590 - val_acc: 0.9599\n",
            "Epoch 79/100\n",
            "1313/1313 [==============================] - 4s 3ms/step - loss: 0.0375 - acc: 0.9914 - val_loss: 0.6395 - val_acc: 0.9587\n",
            "Epoch 80/100\n",
            "1313/1313 [==============================] - 4s 3ms/step - loss: 0.0399 - acc: 0.9913 - val_loss: 0.6093 - val_acc: 0.9593\n",
            "Epoch 81/100\n",
            "1313/1313 [==============================] - 4s 3ms/step - loss: 0.0453 - acc: 0.9912 - val_loss: 0.6028 - val_acc: 0.9581\n",
            "Epoch 82/100\n",
            "1313/1313 [==============================] - 4s 3ms/step - loss: 0.0298 - acc: 0.9926 - val_loss: 0.5907 - val_acc: 0.9607\n",
            "Epoch 83/100\n",
            "1313/1313 [==============================] - 4s 3ms/step - loss: 0.0526 - acc: 0.9899 - val_loss: 0.5470 - val_acc: 0.9581\n",
            "Epoch 84/100\n",
            "1313/1313 [==============================] - 4s 3ms/step - loss: 0.0357 - acc: 0.9909 - val_loss: 0.6881 - val_acc: 0.9576\n",
            "Epoch 85/100\n",
            "1313/1313 [==============================] - 4s 3ms/step - loss: 0.0387 - acc: 0.9911 - val_loss: 0.6517 - val_acc: 0.9584\n",
            "Epoch 86/100\n",
            "1313/1313 [==============================] - 4s 3ms/step - loss: 0.0404 - acc: 0.9914 - val_loss: 0.6190 - val_acc: 0.9564\n",
            "Epoch 87/100\n",
            "1313/1313 [==============================] - 4s 3ms/step - loss: 0.0363 - acc: 0.9919 - val_loss: 0.6304 - val_acc: 0.9603\n",
            "Epoch 88/100\n",
            "1313/1313 [==============================] - 4s 3ms/step - loss: 0.0442 - acc: 0.9917 - val_loss: 0.6420 - val_acc: 0.9574\n",
            "Epoch 89/100\n",
            "1313/1313 [==============================] - 4s 3ms/step - loss: 0.0400 - acc: 0.9915 - val_loss: 0.6328 - val_acc: 0.9579\n",
            "Epoch 90/100\n",
            "1313/1313 [==============================] - 4s 3ms/step - loss: 0.0278 - acc: 0.9936 - val_loss: 0.6529 - val_acc: 0.9605\n",
            "Epoch 91/100\n",
            "1313/1313 [==============================] - 4s 3ms/step - loss: 0.0388 - acc: 0.9915 - val_loss: 0.6691 - val_acc: 0.9559\n",
            "Epoch 92/100\n",
            "1313/1313 [==============================] - 4s 3ms/step - loss: 0.0454 - acc: 0.9916 - val_loss: 0.6812 - val_acc: 0.9602\n",
            "Epoch 93/100\n",
            "1313/1313 [==============================] - 4s 3ms/step - loss: 0.0433 - acc: 0.9919 - val_loss: 0.6779 - val_acc: 0.9598\n",
            "Epoch 94/100\n",
            "1313/1313 [==============================] - 4s 3ms/step - loss: 0.0391 - acc: 0.9924 - val_loss: 0.6334 - val_acc: 0.9542\n",
            "Epoch 95/100\n",
            "1313/1313 [==============================] - 4s 3ms/step - loss: 0.0441 - acc: 0.9916 - val_loss: 0.6683 - val_acc: 0.9614\n",
            "Epoch 96/100\n",
            "1313/1313 [==============================] - 3s 3ms/step - loss: 0.0416 - acc: 0.9916 - val_loss: 0.8363 - val_acc: 0.9570\n",
            "Epoch 97/100\n",
            "1313/1313 [==============================] - 4s 3ms/step - loss: 0.0295 - acc: 0.9936 - val_loss: 0.7962 - val_acc: 0.9491\n",
            "Epoch 98/100\n",
            "1313/1313 [==============================] - 3s 3ms/step - loss: 0.0352 - acc: 0.9925 - val_loss: 0.8133 - val_acc: 0.9567\n",
            "Epoch 99/100\n",
            "1313/1313 [==============================] - 3s 3ms/step - loss: 0.0449 - acc: 0.9916 - val_loss: 0.7683 - val_acc: 0.9597\n",
            "Epoch 100/100\n",
            "1313/1313 [==============================] - 4s 3ms/step - loss: 0.0623 - acc: 0.9911 - val_loss: 0.7793 - val_acc: 0.9581\n"
          ],
          "name": "stdout"
        }
      ]
    },
    {
      "cell_type": "markdown",
      "metadata": {
        "id": "fXPnmIVSKsY-"
      },
      "source": [
        "# evaluation"
      ]
    },
    {
      "cell_type": "code",
      "metadata": {
        "colab": {
          "base_uri": "https://localhost:8080/"
        },
        "id": "woQ5KrW2LB62",
        "outputId": "e7c34ebd-ccc1-4438-9696-e12ea7b325de"
      },
      "source": [
        "hist.history.keys()"
      ],
      "execution_count": 20,
      "outputs": [
        {
          "output_type": "execute_result",
          "data": {
            "text/plain": [
              "dict_keys(['loss', 'acc', 'val_loss', 'val_acc'])"
            ]
          },
          "metadata": {
            "tags": []
          },
          "execution_count": 20
        }
      ]
    },
    {
      "cell_type": "code",
      "metadata": {
        "colab": {
          "base_uri": "https://localhost:8080/",
          "height": 265
        },
        "id": "2-hsl2uxK1tU",
        "outputId": "277f5277-caf5-4cfd-d20a-3fd134acbc7f"
      },
      "source": [
        "import matplotlib.pyplot as plt\n",
        "\n",
        "plt.plot(hist.history['loss'])\n",
        "plt.plot(hist.history['val_loss'], 'b-')\n",
        "plt.show()"
      ],
      "execution_count": 27,
      "outputs": [
        {
          "output_type": "display_data",
          "data": {
            "image/png": "[encoded data removed]",
            "text/plain": [
              "<Figure size 432x288 with 1 Axes>"
            ]
          },
          "metadata": {
            "tags": [],
            "needs_background": "light"
          }
        }
      ]
    },
    {
      "cell_type": "code",
      "metadata": {
        "colab": {
          "base_uri": "https://localhost:8080/",
          "height": 265
        },
        "id": "3I6uA_x32IJD",
        "outputId": "c2828c5b-2ed8-44cd-86cc-f2294f490a02"
      },
      "source": [
        "plt.plot(hist.history['acc'])\n",
        "plt.plot(hist.history['val_acc'], 'r-')\n",
        "plt.show()"
      ],
      "execution_count": 28,
      "outputs": [
        {
          "output_type": "display_data",
          "data": {
            "image/png": "[encoded data removed]",
            "text/plain": [
              "<Figure size 432x288 with 1 Axes>"
            ]
          },
          "metadata": {
            "tags": [],
            "needs_background": "light"
          }
        }
      ]
    },
    {
      "cell_type": "markdown",
      "metadata": {
        "id": "sp60e9aYMml3"
      },
      "source": [
        "# service"
      ]
    },
    {
      "cell_type": "code",
      "metadata": {
        "colab": {
          "base_uri": "https://localhost:8080/"
        },
        "id": "HCC7iJJsMWFE",
        "outputId": "fad21f68-959b-4fa2-b670-20be0ebd784d"
      },
      "source": [
        "y_test[30]"
      ],
      "execution_count": 30,
      "outputs": [
        {
          "output_type": "execute_result",
          "data": {
            "text/plain": [
              "3"
            ]
          },
          "metadata": {
            "tags": []
          },
          "execution_count": 30
        }
      ]
    },
    {
      "cell_type": "code",
      "metadata": {
        "colab": {
          "base_uri": "https://localhost:8080/",
          "height": 700
        },
        "id": "oMvwpGmDMtFd",
        "outputId": "1427cc9c-dd44-4e66-bccf-7bd6691750f3"
      },
      "source": [
        "model.predict(x_test[30])"
      ],
      "execution_count": 32,
      "outputs": [
        {
          "output_type": "error",
          "ename": "ValueError",
          "evalue": "ignored",
          "traceback": [
            "\u001b[0;31m---------------------------------------------------------------------------\u001b[0m",
            "\u001b[0;31mValueError\u001b[0m                                Traceback (most recent call last)",
            "\u001b[0;32m<ipython-input-32-95b83e7ca9df>\u001b[0m in \u001b[0;36m<module>\u001b[0;34m()\u001b[0m\n\u001b[0;32m----> 1\u001b[0;31m \u001b[0mmodel\u001b[0m\u001b[0;34m.\u001b[0m\u001b[0mpredict\u001b[0m\u001b[0;34m(\u001b[0m\u001b[0;34m[\u001b[0m\u001b[0mx_test\u001b[0m\u001b[0;34m[\u001b[0m\u001b[0;36m30\u001b[0m\u001b[0;34m,\u001b[0m\u001b[0;34m:\u001b[0m\u001b[0;34m]\u001b[0m\u001b[0;34m]\u001b[0m\u001b[0;34m)\u001b[0m\u001b[0;34m\u001b[0m\u001b[0;34m\u001b[0m\u001b[0m\n\u001b[0m",
            "\u001b[0;32m/usr/local/lib/python3.7/dist-packages/tensorflow/python/keras/engine/training.py\u001b[0m in \u001b[0;36mpredict\u001b[0;34m(self, x, batch_size, verbose, steps, callbacks, max_queue_size, workers, use_multiprocessing)\u001b[0m\n\u001b[1;32m   1725\u001b[0m           \u001b[0;32mfor\u001b[0m \u001b[0mstep\u001b[0m \u001b[0;32min\u001b[0m \u001b[0mdata_handler\u001b[0m\u001b[0;34m.\u001b[0m\u001b[0msteps\u001b[0m\u001b[0;34m(\u001b[0m\u001b[0;34m)\u001b[0m\u001b[0;34m:\u001b[0m\u001b[0;34m\u001b[0m\u001b[0;34m\u001b[0m\u001b[0m\n\u001b[1;32m   1726\u001b[0m             \u001b[0mcallbacks\u001b[0m\u001b[0;34m.\u001b[0m\u001b[0mon_predict_batch_begin\u001b[0m\u001b[0;34m(\u001b[0m\u001b[0mstep\u001b[0m\u001b[0;34m)\u001b[0m\u001b[0;34m\u001b[0m\u001b[0;34m\u001b[0m\u001b[0m\n\u001b[0;32m-> 1727\u001b[0;31m             \u001b[0mtmp_batch_outputs\u001b[0m \u001b[0;34m=\u001b[0m \u001b[0mself\u001b[0m\u001b[0;34m.\u001b[0m\u001b[0mpredict_function\u001b[0m\u001b[0;34m(\u001b[0m\u001b[0miterator\u001b[0m\u001b[0;34m)\u001b[0m\u001b[0;34m\u001b[0m\u001b[0;34m\u001b[0m\u001b[0m\n\u001b[0m\u001b[1;32m   1728\u001b[0m             \u001b[0;32mif\u001b[0m \u001b[0mdata_handler\u001b[0m\u001b[0;34m.\u001b[0m\u001b[0mshould_sync\u001b[0m\u001b[0;34m:\u001b[0m\u001b[0;34m\u001b[0m\u001b[0;34m\u001b[0m\u001b[0m\n\u001b[1;32m   1729\u001b[0m               \u001b[0mcontext\u001b[0m\u001b[0;34m.\u001b[0m\u001b[0masync_wait\u001b[0m\u001b[0;34m(\u001b[0m\u001b[0;34m)\u001b[0m\u001b[0;34m\u001b[0m\u001b[0;34m\u001b[0m\u001b[0m\n",
            "\u001b[0;32m/usr/local/lib/python3.7/dist-packages/tensorflow/python/eager/def_function.py\u001b[0m in \u001b[0;36m__call__\u001b[0;34m(self, *args, **kwds)\u001b[0m\n\u001b[1;32m    887\u001b[0m \u001b[0;34m\u001b[0m\u001b[0m\n\u001b[1;32m    888\u001b[0m       \u001b[0;32mwith\u001b[0m \u001b[0mOptionalXlaContext\u001b[0m\u001b[0;34m(\u001b[0m\u001b[0mself\u001b[0m\u001b[0;34m.\u001b[0m\u001b[0m_jit_compile\u001b[0m\u001b[0;34m)\u001b[0m\u001b[0;34m:\u001b[0m\u001b[0;34m\u001b[0m\u001b[0;34m\u001b[0m\u001b[0m\n\u001b[0;32m--> 889\u001b[0;31m         \u001b[0mresult\u001b[0m \u001b[0;34m=\u001b[0m \u001b[0mself\u001b[0m\u001b[0;34m.\u001b[0m\u001b[0m_call\u001b[0m\u001b[0;34m(\u001b[0m\u001b[0;34m*\u001b[0m\u001b[0margs\u001b[0m\u001b[0;34m,\u001b[0m \u001b[0;34m**\u001b[0m\u001b[0mkwds\u001b[0m\u001b[0;34m)\u001b[0m\u001b[0;34m\u001b[0m\u001b[0;34m\u001b[0m\u001b[0m\n\u001b[0m\u001b[1;32m    890\u001b[0m \u001b[0;34m\u001b[0m\u001b[0m\n\u001b[1;32m    891\u001b[0m       \u001b[0mnew_tracing_count\u001b[0m \u001b[0;34m=\u001b[0m \u001b[0mself\u001b[0m\u001b[0;34m.\u001b[0m\u001b[0mexperimental_get_tracing_count\u001b[0m\u001b[0;34m(\u001b[0m\u001b[0;34m)\u001b[0m\u001b[0;34m\u001b[0m\u001b[0;34m\u001b[0m\u001b[0m\n",
            "\u001b[0;32m/usr/local/lib/python3.7/dist-packages/tensorflow/python/eager/def_function.py\u001b[0m in \u001b[0;36m_call\u001b[0;34m(self, *args, **kwds)\u001b[0m\n\u001b[1;32m    922\u001b[0m       \u001b[0;31m# In this case we have not created variables on the first call. So we can\u001b[0m\u001b[0;34m\u001b[0m\u001b[0;34m\u001b[0m\u001b[0;34m\u001b[0m\u001b[0m\n\u001b[1;32m    923\u001b[0m       \u001b[0;31m# run the first trace but we should fail if variables are created.\u001b[0m\u001b[0;34m\u001b[0m\u001b[0;34m\u001b[0m\u001b[0;34m\u001b[0m\u001b[0m\n\u001b[0;32m--> 924\u001b[0;31m       \u001b[0mresults\u001b[0m \u001b[0;34m=\u001b[0m \u001b[0mself\u001b[0m\u001b[0;34m.\u001b[0m\u001b[0m_stateful_fn\u001b[0m\u001b[0;34m(\u001b[0m\u001b[0;34m*\u001b[0m\u001b[0margs\u001b[0m\u001b[0;34m,\u001b[0m \u001b[0;34m**\u001b[0m\u001b[0mkwds\u001b[0m\u001b[0;34m)\u001b[0m\u001b[0;34m\u001b[0m\u001b[0;34m\u001b[0m\u001b[0m\n\u001b[0m\u001b[1;32m    925\u001b[0m       \u001b[0;32mif\u001b[0m \u001b[0mself\u001b[0m\u001b[0;34m.\u001b[0m\u001b[0m_created_variables\u001b[0m\u001b[0;34m:\u001b[0m\u001b[0;34m\u001b[0m\u001b[0;34m\u001b[0m\u001b[0m\n\u001b[1;32m    926\u001b[0m         raise ValueError(\"Creating variables on a non-first call to a function\"\n",
            "\u001b[0;32m/usr/local/lib/python3.7/dist-packages/tensorflow/python/eager/function.py\u001b[0m in \u001b[0;36m__call__\u001b[0;34m(self, *args, **kwargs)\u001b[0m\n\u001b[1;32m   3020\u001b[0m     \u001b[0;32mwith\u001b[0m \u001b[0mself\u001b[0m\u001b[0;34m.\u001b[0m\u001b[0m_lock\u001b[0m\u001b[0;34m:\u001b[0m\u001b[0;34m\u001b[0m\u001b[0;34m\u001b[0m\u001b[0m\n\u001b[1;32m   3021\u001b[0m       (graph_function,\n\u001b[0;32m-> 3022\u001b[0;31m        filtered_flat_args) = self._maybe_define_function(args, kwargs)\n\u001b[0m\u001b[1;32m   3023\u001b[0m     return graph_function._call_flat(\n\u001b[1;32m   3024\u001b[0m         filtered_flat_args, captured_inputs=graph_function.captured_inputs)  # pylint: disable=protected-access\n",
            "\u001b[0;32m/usr/local/lib/python3.7/dist-packages/tensorflow/python/eager/function.py\u001b[0m in \u001b[0;36m_maybe_define_function\u001b[0;34m(self, args, kwargs)\u001b[0m\n\u001b[1;32m   3439\u001b[0m               call_context_key in self._function_cache.missed):\n\u001b[1;32m   3440\u001b[0m             return self._define_function_with_shape_relaxation(\n\u001b[0;32m-> 3441\u001b[0;31m                 args, kwargs, flat_args, filtered_flat_args, cache_key_context)\n\u001b[0m\u001b[1;32m   3442\u001b[0m \u001b[0;34m\u001b[0m\u001b[0m\n\u001b[1;32m   3443\u001b[0m           \u001b[0mself\u001b[0m\u001b[0;34m.\u001b[0m\u001b[0m_function_cache\u001b[0m\u001b[0;34m.\u001b[0m\u001b[0mmissed\u001b[0m\u001b[0;34m.\u001b[0m\u001b[0madd\u001b[0m\u001b[0;34m(\u001b[0m\u001b[0mcall_context_key\u001b[0m\u001b[0;34m)\u001b[0m\u001b[0;34m\u001b[0m\u001b[0;34m\u001b[0m\u001b[0m\n",
            "\u001b[0;32m/usr/local/lib/python3.7/dist-packages/tensorflow/python/eager/function.py\u001b[0m in \u001b[0;36m_define_function_with_shape_relaxation\u001b[0;34m(self, args, kwargs, flat_args, filtered_flat_args, cache_key_context)\u001b[0m\n\u001b[1;32m   3361\u001b[0m \u001b[0;34m\u001b[0m\u001b[0m\n\u001b[1;32m   3362\u001b[0m     graph_function = self._create_graph_function(\n\u001b[0;32m-> 3363\u001b[0;31m         args, kwargs, override_flat_arg_shapes=relaxed_arg_shapes)\n\u001b[0m\u001b[1;32m   3364\u001b[0m     \u001b[0mself\u001b[0m\u001b[0;34m.\u001b[0m\u001b[0m_function_cache\u001b[0m\u001b[0;34m.\u001b[0m\u001b[0marg_relaxed\u001b[0m\u001b[0;34m[\u001b[0m\u001b[0mrank_only_cache_key\u001b[0m\u001b[0;34m]\u001b[0m \u001b[0;34m=\u001b[0m \u001b[0mgraph_function\u001b[0m\u001b[0;34m\u001b[0m\u001b[0;34m\u001b[0m\u001b[0m\n\u001b[1;32m   3365\u001b[0m \u001b[0;34m\u001b[0m\u001b[0m\n",
            "\u001b[0;32m/usr/local/lib/python3.7/dist-packages/tensorflow/python/eager/function.py\u001b[0m in \u001b[0;36m_create_graph_function\u001b[0;34m(self, args, kwargs, override_flat_arg_shapes)\u001b[0m\n\u001b[1;32m   3287\u001b[0m             \u001b[0marg_names\u001b[0m\u001b[0;34m=\u001b[0m\u001b[0marg_names\u001b[0m\u001b[0;34m,\u001b[0m\u001b[0;34m\u001b[0m\u001b[0;34m\u001b[0m\u001b[0m\n\u001b[1;32m   3288\u001b[0m             \u001b[0moverride_flat_arg_shapes\u001b[0m\u001b[0;34m=\u001b[0m\u001b[0moverride_flat_arg_shapes\u001b[0m\u001b[0;34m,\u001b[0m\u001b[0;34m\u001b[0m\u001b[0;34m\u001b[0m\u001b[0m\n\u001b[0;32m-> 3289\u001b[0;31m             capture_by_value=self._capture_by_value),\n\u001b[0m\u001b[1;32m   3290\u001b[0m         \u001b[0mself\u001b[0m\u001b[0;34m.\u001b[0m\u001b[0m_function_attributes\u001b[0m\u001b[0;34m,\u001b[0m\u001b[0;34m\u001b[0m\u001b[0;34m\u001b[0m\u001b[0m\n\u001b[1;32m   3291\u001b[0m         \u001b[0mfunction_spec\u001b[0m\u001b[0;34m=\u001b[0m\u001b[0mself\u001b[0m\u001b[0;34m.\u001b[0m\u001b[0mfunction_spec\u001b[0m\u001b[0;34m,\u001b[0m\u001b[0;34m\u001b[0m\u001b[0;34m\u001b[0m\u001b[0m\n",
            "\u001b[0;32m/usr/local/lib/python3.7/dist-packages/tensorflow/python/framework/func_graph.py\u001b[0m in \u001b[0;36mfunc_graph_from_py_func\u001b[0;34m(name, python_func, args, kwargs, signature, func_graph, autograph, autograph_options, add_control_dependencies, arg_names, op_return_value, collections, capture_by_value, override_flat_arg_shapes)\u001b[0m\n\u001b[1;32m    997\u001b[0m         \u001b[0m_\u001b[0m\u001b[0;34m,\u001b[0m \u001b[0moriginal_func\u001b[0m \u001b[0;34m=\u001b[0m \u001b[0mtf_decorator\u001b[0m\u001b[0;34m.\u001b[0m\u001b[0munwrap\u001b[0m\u001b[0;34m(\u001b[0m\u001b[0mpython_func\u001b[0m\u001b[0;34m)\u001b[0m\u001b[0;34m\u001b[0m\u001b[0;34m\u001b[0m\u001b[0m\n\u001b[1;32m    998\u001b[0m \u001b[0;34m\u001b[0m\u001b[0m\n\u001b[0;32m--> 999\u001b[0;31m       \u001b[0mfunc_outputs\u001b[0m \u001b[0;34m=\u001b[0m \u001b[0mpython_func\u001b[0m\u001b[0;34m(\u001b[0m\u001b[0;34m*\u001b[0m\u001b[0mfunc_args\u001b[0m\u001b[0;34m,\u001b[0m \u001b[0;34m**\u001b[0m\u001b[0mfunc_kwargs\u001b[0m\u001b[0;34m)\u001b[0m\u001b[0;34m\u001b[0m\u001b[0;34m\u001b[0m\u001b[0m\n\u001b[0m\u001b[1;32m   1000\u001b[0m \u001b[0;34m\u001b[0m\u001b[0m\n\u001b[1;32m   1001\u001b[0m       \u001b[0;31m# invariant: `func_outputs` contains only Tensors, CompositeTensors,\u001b[0m\u001b[0;34m\u001b[0m\u001b[0;34m\u001b[0m\u001b[0;34m\u001b[0m\u001b[0m\n",
            "\u001b[0;32m/usr/local/lib/python3.7/dist-packages/tensorflow/python/eager/def_function.py\u001b[0m in \u001b[0;36mwrapped_fn\u001b[0;34m(*args, **kwds)\u001b[0m\n\u001b[1;32m    670\u001b[0m         \u001b[0;31m# the function a weak reference to itself to avoid a reference cycle.\u001b[0m\u001b[0;34m\u001b[0m\u001b[0;34m\u001b[0m\u001b[0;34m\u001b[0m\u001b[0m\n\u001b[1;32m    671\u001b[0m         \u001b[0;32mwith\u001b[0m \u001b[0mOptionalXlaContext\u001b[0m\u001b[0;34m(\u001b[0m\u001b[0mcompile_with_xla\u001b[0m\u001b[0;34m)\u001b[0m\u001b[0;34m:\u001b[0m\u001b[0;34m\u001b[0m\u001b[0;34m\u001b[0m\u001b[0m\n\u001b[0;32m--> 672\u001b[0;31m           \u001b[0mout\u001b[0m \u001b[0;34m=\u001b[0m \u001b[0mweak_wrapped_fn\u001b[0m\u001b[0;34m(\u001b[0m\u001b[0;34m)\u001b[0m\u001b[0;34m.\u001b[0m\u001b[0m__wrapped__\u001b[0m\u001b[0;34m(\u001b[0m\u001b[0;34m*\u001b[0m\u001b[0margs\u001b[0m\u001b[0;34m,\u001b[0m \u001b[0;34m**\u001b[0m\u001b[0mkwds\u001b[0m\u001b[0;34m)\u001b[0m\u001b[0;34m\u001b[0m\u001b[0;34m\u001b[0m\u001b[0m\n\u001b[0m\u001b[1;32m    673\u001b[0m         \u001b[0;32mreturn\u001b[0m \u001b[0mout\u001b[0m\u001b[0;34m\u001b[0m\u001b[0;34m\u001b[0m\u001b[0m\n\u001b[1;32m    674\u001b[0m \u001b[0;34m\u001b[0m\u001b[0m\n",
            "\u001b[0;32m/usr/local/lib/python3.7/dist-packages/tensorflow/python/framework/func_graph.py\u001b[0m in \u001b[0;36mwrapper\u001b[0;34m(*args, **kwargs)\u001b[0m\n\u001b[1;32m    984\u001b[0m           \u001b[0;32mexcept\u001b[0m \u001b[0mException\u001b[0m \u001b[0;32mas\u001b[0m \u001b[0me\u001b[0m\u001b[0;34m:\u001b[0m  \u001b[0;31m# pylint:disable=broad-except\u001b[0m\u001b[0;34m\u001b[0m\u001b[0;34m\u001b[0m\u001b[0m\n\u001b[1;32m    985\u001b[0m             \u001b[0;32mif\u001b[0m \u001b[0mhasattr\u001b[0m\u001b[0;34m(\u001b[0m\u001b[0me\u001b[0m\u001b[0;34m,\u001b[0m \u001b[0;34m\"ag_error_metadata\"\u001b[0m\u001b[0;34m)\u001b[0m\u001b[0;34m:\u001b[0m\u001b[0;34m\u001b[0m\u001b[0;34m\u001b[0m\u001b[0m\n\u001b[0;32m--> 986\u001b[0;31m               \u001b[0;32mraise\u001b[0m \u001b[0me\u001b[0m\u001b[0;34m.\u001b[0m\u001b[0mag_error_metadata\u001b[0m\u001b[0;34m.\u001b[0m\u001b[0mto_exception\u001b[0m\u001b[0;34m(\u001b[0m\u001b[0me\u001b[0m\u001b[0;34m)\u001b[0m\u001b[0;34m\u001b[0m\u001b[0;34m\u001b[0m\u001b[0m\n\u001b[0m\u001b[1;32m    987\u001b[0m             \u001b[0;32melse\u001b[0m\u001b[0;34m:\u001b[0m\u001b[0;34m\u001b[0m\u001b[0;34m\u001b[0m\u001b[0m\n\u001b[1;32m    988\u001b[0m               \u001b[0;32mraise\u001b[0m\u001b[0;34m\u001b[0m\u001b[0;34m\u001b[0m\u001b[0m\n",
            "\u001b[0;31mValueError\u001b[0m: in user code:\n\n    /usr/local/lib/python3.7/dist-packages/tensorflow/python/keras/engine/training.py:1569 predict_function  *\n        return step_function(self, iterator)\n    /usr/local/lib/python3.7/dist-packages/tensorflow/python/keras/engine/training.py:1559 step_function  **\n        outputs = model.distribute_strategy.run(run_step, args=(data,))\n    /usr/local/lib/python3.7/dist-packages/tensorflow/python/distribute/distribute_lib.py:1285 run\n        return self._extended.call_for_each_replica(fn, args=args, kwargs=kwargs)\n    /usr/local/lib/python3.7/dist-packages/tensorflow/python/distribute/distribute_lib.py:2833 call_for_each_replica\n        return self._call_for_each_replica(fn, args, kwargs)\n    /usr/local/lib/python3.7/dist-packages/tensorflow/python/distribute/distribute_lib.py:3608 _call_for_each_replica\n        return fn(*args, **kwargs)\n    /usr/local/lib/python3.7/dist-packages/tensorflow/python/keras/engine/training.py:1552 run_step  **\n        outputs = model.predict_step(data)\n    /usr/local/lib/python3.7/dist-packages/tensorflow/python/keras/engine/training.py:1525 predict_step\n        return self(x, training=False)\n    /usr/local/lib/python3.7/dist-packages/tensorflow/python/keras/engine/base_layer.py:1013 __call__\n        input_spec.assert_input_compatibility(self.input_spec, inputs, self.name)\n    /usr/local/lib/python3.7/dist-packages/tensorflow/python/keras/engine/input_spec.py:255 assert_input_compatibility\n        ' but received input with shape ' + display_shape(x.shape))\n\n    ValueError: Input 0 of layer sequential_2 is incompatible with the layer: expected axis -1 of input shape to have value 784 but received input with shape (None, 1)\n"
          ]
        }
      ]
    },
    {
      "cell_type": "code",
      "metadata": {
        "id": "fAIQ3qmhM5dt"
      },
      "source": [
        ""
      ],
      "execution_count": null,
      "outputs": []
    }
  ]
}