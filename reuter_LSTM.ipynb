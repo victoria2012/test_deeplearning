{
  "nbformat": 4,
  "nbformat_minor": 0,
  "metadata": {
    "colab": {
      "name": "reuter_LSTM.ipynb",
      "provenance": [],
      "collapsed_sections": [],
      "authorship_tag": "ABX9TyNgzAdYEw45ZY0ee2ZHZant",
      "include_colab_link": true
    },
    "kernelspec": {
      "name": "python3",
      "display_name": "Python 3"
    },
    "language_info": {
      "name": "python"
    }
  },
  "cells": [
    {
      "cell_type": "markdown",
      "metadata": {
        "id": "view-in-github",
        "colab_type": "text"
      },
      "source": [
        "<a href=\"https://colab.research.google.com/github/victoria2012/test_deeplearning/blob/master/reuter_LSTM.ipynb\" target=\"_parent\"><img src=\"https://colab.research.google.com/assets/colab-badge.svg\" alt=\"Open In Colab\"/></a>"
      ]
    },
    {
      "cell_type": "code",
      "metadata": {
        "id": "HEFe52ut3HUd"
      },
      "source": [
        "import tensorflow as tf"
      ],
      "execution_count": 44,
      "outputs": []
    },
    {
      "cell_type": "code",
      "metadata": {
        "colab": {
          "base_uri": "https://localhost:8080/"
        },
        "id": "gb241w7S4JgA",
        "outputId": "286ce354-5a79-4bb9-8edc-0115036022fc"
      },
      "source": [
        "(x_train,y_train),(x_test,y_test) = tf.keras.datasets.reuters.load_data(num_words=10000)\n",
        "x_train.shape,y_train.shape,x_test.shape,y_test.shape"
      ],
      "execution_count": 45,
      "outputs": [
        {
          "output_type": "stream",
          "text": [
            "/usr/local/lib/python3.7/dist-packages/tensorflow/python/keras/datasets/reuters.py:143: VisibleDeprecationWarning: Creating an ndarray from ragged nested sequences (which is a list-or-tuple of lists-or-tuples-or ndarrays with different lengths or shapes) is deprecated. If you meant to do this, you must specify 'dtype=object' when creating the ndarray\n",
            "  x_train, y_train = np.array(xs[:idx]), np.array(labels[:idx])\n",
            "/usr/local/lib/python3.7/dist-packages/tensorflow/python/keras/datasets/reuters.py:144: VisibleDeprecationWarning: Creating an ndarray from ragged nested sequences (which is a list-or-tuple of lists-or-tuples-or ndarrays with different lengths or shapes) is deprecated. If you meant to do this, you must specify 'dtype=object' when creating the ndarray\n",
            "  x_test, y_test = np.array(xs[idx:]), np.array(labels[idx:])\n"
          ],
          "name": "stderr"
        },
        {
          "output_type": "execute_result",
          "data": {
            "text/plain": [
              "((8982,), (8982,), (2246,), (2246,))"
            ]
          },
          "metadata": {
            "tags": []
          },
          "execution_count": 45
        }
      ]
    },
    {
      "cell_type": "code",
      "metadata": {
        "colab": {
          "base_uri": "https://localhost:8080/"
        },
        "id": "tiTza_Jm55Q_",
        "outputId": "fa56b438-1cc6-444f-d2d3-4488e1dc34c2"
      },
      "source": [
        "print(y_train[50], x_train[50])"
      ],
      "execution_count": 46,
      "outputs": [
        {
          "output_type": "stream",
          "text": [
            "4 [1, 1479, 1197, 71, 8, 25, 1479, 1197, 640, 71, 304, 471, 80, 9, 1379, 1901, 4530, 6797, 79, 5, 8144, 71, 175, 80, 58, 4, 1279, 5, 63, 32, 20, 5, 4, 326, 175, 80, 335, 7, 10, 845, 31, 4, 221, 9, 108, 259, 1479, 1197, 640, 8, 16, 600, 69, 68, 11, 15, 6, 8144, 21, 397, 321, 6, 438, 1761, 3072, 79, 5, 8144, 1040, 894, 1051, 617, 80, 4, 617, 80, 23, 1051, 172, 3814, 3206, 8144, 175, 79, 9, 1379, 6, 264, 395, 3814, 3206, 79, 1479, 1197, 9, 25, 323, 8, 4, 8144, 80, 23, 381, 43, 42, 205, 50, 77, 33, 909, 9, 3509, 22, 216, 6, 216, 17, 12]\n"
          ],
          "name": "stdout"
        }
      ]
    },
    {
      "cell_type": "code",
      "metadata": {
        "colab": {
          "base_uri": "https://localhost:8080/"
        },
        "id": "Q7P8-YPx6Rzw",
        "outputId": "3163947a-b63b-4df0-e10a-64e30393619c"
      },
      "source": [
        "len(x_train[50]), len(x_train[400]), len(x_train[200]), len(x_train[600])"
      ],
      "execution_count": 47,
      "outputs": [
        {
          "output_type": "execute_result",
          "data": {
            "text/plain": [
              "(118, 90, 212, 207)"
            ]
          },
          "metadata": {
            "tags": []
          },
          "execution_count": 47
        }
      ]
    },
    {
      "cell_type": "code",
      "metadata": {
        "colab": {
          "base_uri": "https://localhost:8080/"
        },
        "id": "0JwRsSQ6BLrw",
        "outputId": "0baec34c-7f50-41d3-c2df-1f2ca8a576a7"
      },
      "source": [
        "pad_x_train = tf.keras.preprocessing.sequence.pad_sequences(x_train, maxlen=500)\n",
        "len(pad_x_train[50])"
      ],
      "execution_count": 48,
      "outputs": [
        {
          "output_type": "execute_result",
          "data": {
            "text/plain": [
              "500"
            ]
          },
          "metadata": {
            "tags": []
          },
          "execution_count": 48
        }
      ]
    },
    {
      "cell_type": "code",
      "metadata": {
        "id": "fJWZ5sXmECNn"
      },
      "source": [
        "import numpy as np"
      ],
      "execution_count": 49,
      "outputs": []
    },
    {
      "cell_type": "code",
      "metadata": {
        "colab": {
          "base_uri": "https://localhost:8080/"
        },
        "id": "vvHwVh4VEMMH",
        "outputId": "938f0ba7-be22-4551-e632-12f1c6bff4ee"
      },
      "source": [
        "len(np.unique(y_train)), np.unique(y_train).shape"
      ],
      "execution_count": 50,
      "outputs": [
        {
          "output_type": "execute_result",
          "data": {
            "text/plain": [
              "(46, (46,))"
            ]
          },
          "metadata": {
            "tags": []
          },
          "execution_count": 50
        }
      ]
    },
    {
      "cell_type": "markdown",
      "metadata": {
        "id": "dh1Nyi9p7erP"
      },
      "source": [
        "# make model"
      ]
    },
    {
      "cell_type": "code",
      "metadata": {
        "id": "6YC8JL537cxX"
      },
      "source": [
        "model = tf.keras.models.Sequential()"
      ],
      "execution_count": 51,
      "outputs": []
    },
    {
      "cell_type": "code",
      "metadata": {
        "id": "Ea3uhcTP77rO"
      },
      "source": [
        "model.add(tf.keras.layers.Embedding(input_length=500, input_dim=10000, output_dim=24))  # input layer    # 벡터 방식으로 변환시켜줘야 한다. 이 때 input_dim은 사전의 사이즈, output_dim은 차원을 지정 \n",
        "model.add(tf.keras.layers.LSTM(24, return_sequences=True, activation='tanh'))\n",
        "model.add(tf.keras.layers.LSTM(12, activation='tanh'))\n",
        "# model.add(tf.keras.layers.Flatten())  # hidden layer  # dense는 1차원으로 들어와야 한다. 그래서 1차원으로 변형시켜줘야 하는데 이런 역할을 하는 것이 Flatten이다.  \n",
        "model.add(tf.keras.layers.Dense(46, activation='softmax'))  # output layer\n",
        "\n",
        "model.compile(optimizer='adam', loss='sparse_categorical_crossentropy', metrics=['acc'])   #gadget"
      ],
      "execution_count": 52,
      "outputs": []
    },
    {
      "cell_type": "code",
      "metadata": {
        "colab": {
          "base_uri": "https://localhost:8080/"
        },
        "id": "Ah_2DdpfH6cm",
        "outputId": "d8ddabed-230d-4b13-e024-9d484ec1c02d"
      },
      "source": [
        "# hist = model.fit(pad_x_train, y_train, epochs=5, validation_split=0.3, batch_size=128)              # epochs는 default가 1이다. 따라서 아무것도 안쓰면 1번만 실행\n",
        "hist = model.fit(pad_x_train, y_train, epochs=100, validation_split=0.3, batch_size=256) "
      ],
      "execution_count": 53,
      "outputs": [
        {
          "output_type": "stream",
          "text": [
            "Epoch 1/100\n",
            "25/25 [==============================] - 22s 738ms/step - loss: 3.7332 - acc: 0.1675 - val_loss: 3.4466 - val_acc: 0.2215\n",
            "Epoch 2/100\n",
            "25/25 [==============================] - 18s 706ms/step - loss: 3.2134 - acc: 0.2150 - val_loss: 2.9539 - val_acc: 0.2215\n",
            "Epoch 3/100\n",
            "25/25 [==============================] - 18s 708ms/step - loss: 2.8364 - acc: 0.2150 - val_loss: 2.6693 - val_acc: 0.2215\n",
            "Epoch 4/100\n",
            "25/25 [==============================] - 18s 707ms/step - loss: 2.6251 - acc: 0.2150 - val_loss: 2.5196 - val_acc: 0.2215\n",
            "Epoch 5/100\n",
            "25/25 [==============================] - 17s 701ms/step - loss: 2.5121 - acc: 0.2430 - val_loss: 2.4440 - val_acc: 0.3532\n",
            "Epoch 6/100\n",
            "25/25 [==============================] - 18s 708ms/step - loss: 2.4581 - acc: 0.3510 - val_loss: 2.4115 - val_acc: 0.3532\n",
            "Epoch 7/100\n",
            "25/25 [==============================] - 18s 707ms/step - loss: 2.4358 - acc: 0.3510 - val_loss: 2.3967 - val_acc: 0.3532\n",
            "Epoch 8/100\n",
            "25/25 [==============================] - 18s 706ms/step - loss: 2.4253 - acc: 0.3510 - val_loss: 2.3896 - val_acc: 0.3532\n",
            "Epoch 9/100\n",
            "25/25 [==============================] - 17s 702ms/step - loss: 2.4201 - acc: 0.3510 - val_loss: 2.3861 - val_acc: 0.3532\n",
            "Epoch 10/100\n",
            "25/25 [==============================] - 17s 700ms/step - loss: 2.4172 - acc: 0.3510 - val_loss: 2.3841 - val_acc: 0.3532\n",
            "Epoch 11/100\n",
            "25/25 [==============================] - 17s 700ms/step - loss: 2.4154 - acc: 0.3510 - val_loss: 2.3834 - val_acc: 0.3532\n",
            "Epoch 12/100\n",
            "25/25 [==============================] - 18s 703ms/step - loss: 2.4142 - acc: 0.3510 - val_loss: 2.3825 - val_acc: 0.3532\n",
            "Epoch 13/100\n",
            "25/25 [==============================] - 18s 706ms/step - loss: 2.4134 - acc: 0.3510 - val_loss: 2.3821 - val_acc: 0.3532\n",
            "Epoch 14/100\n",
            "25/25 [==============================] - 18s 703ms/step - loss: 2.4130 - acc: 0.3510 - val_loss: 2.3819 - val_acc: 0.3532\n",
            "Epoch 15/100\n",
            "25/25 [==============================] - 17s 698ms/step - loss: 2.4126 - acc: 0.3510 - val_loss: 2.3815 - val_acc: 0.3532\n",
            "Epoch 16/100\n",
            "25/25 [==============================] - 17s 700ms/step - loss: 2.4123 - acc: 0.3510 - val_loss: 2.3821 - val_acc: 0.3532\n",
            "Epoch 17/100\n",
            "25/25 [==============================] - 18s 703ms/step - loss: 2.4122 - acc: 0.3510 - val_loss: 2.3817 - val_acc: 0.3532\n",
            "Epoch 18/100\n",
            "25/25 [==============================] - 18s 704ms/step - loss: 2.4120 - acc: 0.3510 - val_loss: 2.3819 - val_acc: 0.3532\n",
            "Epoch 19/100\n",
            "25/25 [==============================] - 17s 701ms/step - loss: 2.4120 - acc: 0.3510 - val_loss: 2.3817 - val_acc: 0.3532\n",
            "Epoch 20/100\n",
            "25/25 [==============================] - 17s 701ms/step - loss: 2.4119 - acc: 0.3510 - val_loss: 2.3820 - val_acc: 0.3532\n",
            "Epoch 21/100\n",
            "25/25 [==============================] - 18s 707ms/step - loss: 2.4117 - acc: 0.3510 - val_loss: 2.3821 - val_acc: 0.3532\n",
            "Epoch 22/100\n",
            "25/25 [==============================] - 18s 704ms/step - loss: 2.4117 - acc: 0.3510 - val_loss: 2.3823 - val_acc: 0.3532\n",
            "Epoch 23/100\n",
            "25/25 [==============================] - 18s 704ms/step - loss: 2.4117 - acc: 0.3510 - val_loss: 2.3819 - val_acc: 0.3532\n",
            "Epoch 24/100\n",
            "25/25 [==============================] - 18s 709ms/step - loss: 2.4116 - acc: 0.3510 - val_loss: 2.3821 - val_acc: 0.3532\n",
            "Epoch 25/100\n",
            "25/25 [==============================] - 18s 708ms/step - loss: 2.4117 - acc: 0.3510 - val_loss: 2.3821 - val_acc: 0.3532\n",
            "Epoch 26/100\n",
            "25/25 [==============================] - 18s 703ms/step - loss: 2.4119 - acc: 0.3510 - val_loss: 2.3825 - val_acc: 0.3532\n",
            "Epoch 27/100\n",
            "25/25 [==============================] - 17s 702ms/step - loss: 2.4116 - acc: 0.3510 - val_loss: 2.3819 - val_acc: 0.3532\n",
            "Epoch 28/100\n",
            "25/25 [==============================] - 17s 702ms/step - loss: 2.4116 - acc: 0.3510 - val_loss: 2.3822 - val_acc: 0.3532\n",
            "Epoch 29/100\n",
            "25/25 [==============================] - 17s 699ms/step - loss: 2.4123 - acc: 0.3510 - val_loss: 2.3823 - val_acc: 0.3532\n",
            "Epoch 30/100\n",
            "25/25 [==============================] - 17s 701ms/step - loss: 2.4115 - acc: 0.3510 - val_loss: 2.3826 - val_acc: 0.3532\n",
            "Epoch 31/100\n",
            "25/25 [==============================] - 18s 704ms/step - loss: 2.4118 - acc: 0.3510 - val_loss: 2.3821 - val_acc: 0.3532\n",
            "Epoch 32/100\n",
            "25/25 [==============================] - 17s 702ms/step - loss: 2.4117 - acc: 0.3510 - val_loss: 2.3826 - val_acc: 0.3532\n",
            "Epoch 33/100\n",
            "25/25 [==============================] - 17s 700ms/step - loss: 2.4118 - acc: 0.3510 - val_loss: 2.3823 - val_acc: 0.3532\n",
            "Epoch 34/100\n",
            "25/25 [==============================] - 17s 700ms/step - loss: 2.4118 - acc: 0.3510 - val_loss: 2.3821 - val_acc: 0.3532\n",
            "Epoch 35/100\n",
            "25/25 [==============================] - 18s 704ms/step - loss: 2.4116 - acc: 0.3510 - val_loss: 2.3822 - val_acc: 0.3532\n",
            "Epoch 36/100\n",
            "25/25 [==============================] - 18s 706ms/step - loss: 2.4118 - acc: 0.3510 - val_loss: 2.3823 - val_acc: 0.3532\n",
            "Epoch 37/100\n",
            "25/25 [==============================] - 17s 701ms/step - loss: 2.4116 - acc: 0.3510 - val_loss: 2.3825 - val_acc: 0.3532\n",
            "Epoch 38/100\n",
            "25/25 [==============================] - 18s 704ms/step - loss: 2.4118 - acc: 0.3510 - val_loss: 2.3826 - val_acc: 0.3532\n",
            "Epoch 39/100\n",
            "25/25 [==============================] - 17s 699ms/step - loss: 2.4117 - acc: 0.3510 - val_loss: 2.3823 - val_acc: 0.3532\n",
            "Epoch 40/100\n",
            "25/25 [==============================] - 17s 701ms/step - loss: 2.4116 - acc: 0.3510 - val_loss: 2.3825 - val_acc: 0.3532\n",
            "Epoch 41/100\n",
            "25/25 [==============================] - 18s 706ms/step - loss: 2.4116 - acc: 0.3510 - val_loss: 2.3824 - val_acc: 0.3532\n",
            "Epoch 42/100\n",
            "25/25 [==============================] - 18s 705ms/step - loss: 2.4121 - acc: 0.3510 - val_loss: 2.3825 - val_acc: 0.3532\n",
            "Epoch 43/100\n",
            "25/25 [==============================] - 17s 703ms/step - loss: 2.4117 - acc: 0.3510 - val_loss: 2.3820 - val_acc: 0.3532\n",
            "Epoch 44/100\n",
            "25/25 [==============================] - 17s 698ms/step - loss: 2.4117 - acc: 0.3510 - val_loss: 2.3828 - val_acc: 0.3532\n",
            "Epoch 45/100\n",
            "25/25 [==============================] - 18s 705ms/step - loss: 2.4116 - acc: 0.3510 - val_loss: 2.3825 - val_acc: 0.3532\n",
            "Epoch 46/100\n",
            "25/25 [==============================] - 17s 700ms/step - loss: 2.4118 - acc: 0.3510 - val_loss: 2.3826 - val_acc: 0.3532\n",
            "Epoch 47/100\n",
            "25/25 [==============================] - 18s 703ms/step - loss: 2.4116 - acc: 0.3510 - val_loss: 2.3823 - val_acc: 0.3532\n",
            "Epoch 48/100\n",
            "25/25 [==============================] - 18s 706ms/step - loss: 2.4118 - acc: 0.3510 - val_loss: 2.3823 - val_acc: 0.3532\n",
            "Epoch 49/100\n",
            "25/25 [==============================] - 18s 711ms/step - loss: 2.4116 - acc: 0.3510 - val_loss: 2.3824 - val_acc: 0.3532\n",
            "Epoch 50/100\n",
            "25/25 [==============================] - 18s 709ms/step - loss: 2.4117 - acc: 0.3510 - val_loss: 2.3825 - val_acc: 0.3532\n",
            "Epoch 51/100\n",
            "25/25 [==============================] - 18s 707ms/step - loss: 2.4120 - acc: 0.3510 - val_loss: 2.3823 - val_acc: 0.3532\n",
            "Epoch 52/100\n",
            "25/25 [==============================] - 18s 706ms/step - loss: 2.4117 - acc: 0.3510 - val_loss: 2.3825 - val_acc: 0.3532\n",
            "Epoch 53/100\n",
            "25/25 [==============================] - 18s 704ms/step - loss: 2.4118 - acc: 0.3510 - val_loss: 2.3822 - val_acc: 0.3532\n",
            "Epoch 54/100\n",
            "25/25 [==============================] - 17s 699ms/step - loss: 2.4118 - acc: 0.3510 - val_loss: 2.3824 - val_acc: 0.3532\n",
            "Epoch 55/100\n",
            "25/25 [==============================] - 18s 713ms/step - loss: 2.4117 - acc: 0.3510 - val_loss: 2.3826 - val_acc: 0.3532\n",
            "Epoch 56/100\n",
            "25/25 [==============================] - 17s 700ms/step - loss: 2.4120 - acc: 0.3510 - val_loss: 2.3827 - val_acc: 0.3532\n",
            "Epoch 57/100\n",
            "25/25 [==============================] - 18s 704ms/step - loss: 2.4117 - acc: 0.3510 - val_loss: 2.3824 - val_acc: 0.3532\n",
            "Epoch 58/100\n",
            "25/25 [==============================] - 18s 705ms/step - loss: 2.4117 - acc: 0.3510 - val_loss: 2.3825 - val_acc: 0.3532\n",
            "Epoch 59/100\n",
            "25/25 [==============================] - 18s 710ms/step - loss: 2.4117 - acc: 0.3510 - val_loss: 2.3825 - val_acc: 0.3532\n",
            "Epoch 60/100\n",
            "25/25 [==============================] - 18s 709ms/step - loss: 2.4113 - acc: 0.3510 - val_loss: 2.3792 - val_acc: 0.3532\n",
            "Epoch 61/100\n",
            "25/25 [==============================] - 18s 712ms/step - loss: 2.4111 - acc: 0.3510 - val_loss: 2.3820 - val_acc: 0.3532\n",
            "Epoch 62/100\n",
            "25/25 [==============================] - 18s 713ms/step - loss: 2.4117 - acc: 0.3510 - val_loss: 2.3824 - val_acc: 0.3532\n",
            "Epoch 63/100\n",
            "25/25 [==============================] - 18s 707ms/step - loss: 2.4116 - acc: 0.3510 - val_loss: 2.3821 - val_acc: 0.3532\n",
            "Epoch 64/100\n",
            "25/25 [==============================] - 18s 711ms/step - loss: 2.4111 - acc: 0.3510 - val_loss: 2.3820 - val_acc: 0.3532\n",
            "Epoch 65/100\n",
            "25/25 [==============================] - 18s 717ms/step - loss: 2.4109 - acc: 0.3510 - val_loss: 2.3807 - val_acc: 0.3532\n",
            "Epoch 66/100\n",
            "25/25 [==============================] - 18s 719ms/step - loss: 2.3894 - acc: 0.3510 - val_loss: 2.2786 - val_acc: 0.3532\n",
            "Epoch 67/100\n",
            "25/25 [==============================] - 18s 710ms/step - loss: 2.2800 - acc: 0.3518 - val_loss: 2.1997 - val_acc: 0.3536\n",
            "Epoch 68/100\n",
            "25/25 [==============================] - 18s 707ms/step - loss: 2.1225 - acc: 0.3525 - val_loss: 2.1012 - val_acc: 0.3532\n",
            "Epoch 69/100\n",
            "25/25 [==============================] - 18s 706ms/step - loss: 2.0070 - acc: 0.3534 - val_loss: 2.0062 - val_acc: 0.4071\n",
            "Epoch 70/100\n",
            "25/25 [==============================] - 18s 708ms/step - loss: 1.8943 - acc: 0.4473 - val_loss: 1.9359 - val_acc: 0.5035\n",
            "Epoch 71/100\n",
            "25/25 [==============================] - 18s 707ms/step - loss: 1.7927 - acc: 0.5341 - val_loss: 1.8956 - val_acc: 0.5150\n",
            "Epoch 72/100\n",
            "25/25 [==============================] - 18s 704ms/step - loss: 1.7017 - acc: 0.5616 - val_loss: 1.8665 - val_acc: 0.5336\n",
            "Epoch 73/100\n",
            "25/25 [==============================] - 18s 706ms/step - loss: 1.6445 - acc: 0.5626 - val_loss: 1.8399 - val_acc: 0.5195\n",
            "Epoch 74/100\n",
            "25/25 [==============================] - 18s 711ms/step - loss: 1.5767 - acc: 0.5806 - val_loss: 1.7968 - val_acc: 0.5477\n",
            "Epoch 75/100\n",
            "25/25 [==============================] - 18s 711ms/step - loss: 1.5209 - acc: 0.5979 - val_loss: 1.7935 - val_acc: 0.5429\n",
            "Epoch 76/100\n",
            "25/25 [==============================] - 18s 709ms/step - loss: 1.4708 - acc: 0.6087 - val_loss: 1.7657 - val_acc: 0.5510\n",
            "Epoch 77/100\n",
            "25/25 [==============================] - 18s 708ms/step - loss: 1.4268 - acc: 0.6191 - val_loss: 1.7700 - val_acc: 0.5551\n",
            "Epoch 78/100\n",
            "25/25 [==============================] - 18s 712ms/step - loss: 1.3911 - acc: 0.6254 - val_loss: 1.7580 - val_acc: 0.5506\n",
            "Epoch 79/100\n",
            "25/25 [==============================] - 18s 706ms/step - loss: 1.3597 - acc: 0.6308 - val_loss: 1.7416 - val_acc: 0.5577\n",
            "Epoch 80/100\n",
            "25/25 [==============================] - 18s 708ms/step - loss: 1.3221 - acc: 0.6463 - val_loss: 1.7298 - val_acc: 0.5744\n",
            "Epoch 81/100\n",
            "25/25 [==============================] - 17s 701ms/step - loss: 1.2850 - acc: 0.6588 - val_loss: 1.7265 - val_acc: 0.5763\n",
            "Epoch 82/100\n",
            "25/25 [==============================] - 18s 703ms/step - loss: 1.2534 - acc: 0.6741 - val_loss: 1.7330 - val_acc: 0.5677\n",
            "Epoch 83/100\n",
            "25/25 [==============================] - 18s 705ms/step - loss: 1.2251 - acc: 0.6827 - val_loss: 1.7276 - val_acc: 0.5759\n",
            "Epoch 84/100\n",
            "25/25 [==============================] - 18s 705ms/step - loss: 1.1881 - acc: 0.7043 - val_loss: 1.7203 - val_acc: 0.5763\n",
            "Epoch 85/100\n",
            "25/25 [==============================] - 18s 706ms/step - loss: 1.1528 - acc: 0.7175 - val_loss: 1.7192 - val_acc: 0.5807\n",
            "Epoch 86/100\n",
            "25/25 [==============================] - 18s 711ms/step - loss: 1.1181 - acc: 0.7280 - val_loss: 1.7384 - val_acc: 0.5740\n",
            "Epoch 87/100\n",
            "25/25 [==============================] - 18s 711ms/step - loss: 1.0912 - acc: 0.7388 - val_loss: 1.7345 - val_acc: 0.5837\n",
            "Epoch 88/100\n",
            "25/25 [==============================] - 18s 716ms/step - loss: 1.0652 - acc: 0.7466 - val_loss: 1.7003 - val_acc: 0.5870\n",
            "Epoch 89/100\n",
            "25/25 [==============================] - 18s 720ms/step - loss: 1.0322 - acc: 0.7578 - val_loss: 1.7053 - val_acc: 0.5937\n",
            "Epoch 90/100\n",
            "25/25 [==============================] - 18s 714ms/step - loss: 0.9936 - acc: 0.7727 - val_loss: 1.6881 - val_acc: 0.6015\n",
            "Epoch 91/100\n",
            "25/25 [==============================] - 18s 715ms/step - loss: 0.9715 - acc: 0.7775 - val_loss: 1.7029 - val_acc: 0.5926\n",
            "Epoch 92/100\n",
            "25/25 [==============================] - 18s 713ms/step - loss: 0.9377 - acc: 0.7864 - val_loss: 1.6981 - val_acc: 0.6015\n",
            "Epoch 93/100\n",
            "25/25 [==============================] - 18s 711ms/step - loss: 0.9204 - acc: 0.7877 - val_loss: 1.7004 - val_acc: 0.6004\n",
            "Epoch 94/100\n",
            "25/25 [==============================] - 18s 711ms/step - loss: 0.8892 - acc: 0.7940 - val_loss: 1.7046 - val_acc: 0.5989\n",
            "Epoch 95/100\n",
            "25/25 [==============================] - 18s 711ms/step - loss: 0.8793 - acc: 0.7923 - val_loss: 1.7327 - val_acc: 0.5900\n",
            "Epoch 96/100\n",
            "25/25 [==============================] - 18s 715ms/step - loss: 0.8554 - acc: 0.8012 - val_loss: 1.7222 - val_acc: 0.6041\n",
            "Epoch 97/100\n",
            "25/25 [==============================] - 18s 711ms/step - loss: 0.8364 - acc: 0.8034 - val_loss: 1.7642 - val_acc: 0.5944\n",
            "Epoch 98/100\n",
            "25/25 [==============================] - 18s 712ms/step - loss: 0.8161 - acc: 0.8088 - val_loss: 1.7426 - val_acc: 0.6030\n",
            "Epoch 99/100\n",
            "25/25 [==============================] - 18s 712ms/step - loss: 0.8006 - acc: 0.8136 - val_loss: 1.7607 - val_acc: 0.6000\n",
            "Epoch 100/100\n",
            "25/25 [==============================] - 18s 708ms/step - loss: 0.7828 - acc: 0.8179 - val_loss: 1.7394 - val_acc: 0.6041\n"
          ],
          "name": "stdout"
        }
      ]
    },
    {
      "cell_type": "markdown",
      "metadata": {
        "id": "F5s7LEZwRcsX"
      },
      "source": [
        "# Evaluation"
      ]
    },
    {
      "cell_type": "code",
      "metadata": {
        "colab": {
          "base_uri": "https://localhost:8080/"
        },
        "id": "u8D605CjIEio",
        "outputId": "b3766366-b853-4c1a-9db3-233b863f0e7a"
      },
      "source": [
        "# 학습시켰던 데이터\n",
        "model.evaluate(pad_x_train, y_train)"
      ],
      "execution_count": 54,
      "outputs": [
        {
          "output_type": "stream",
          "text": [
            "281/281 [==============================] - 17s 62ms/step - loss: 1.0593 - acc: 0.7555\n"
          ],
          "name": "stdout"
        },
        {
          "output_type": "execute_result",
          "data": {
            "text/plain": [
              "[1.059345006942749, 0.7555110454559326]"
            ]
          },
          "metadata": {
            "tags": []
          },
          "execution_count": 54
        }
      ]
    },
    {
      "cell_type": "markdown",
      "metadata": {
        "id": "k78H74FOR1o4"
      },
      "source": [
        "* LSTM(24), epochs : 1 ---> loss: 2.2707 - acc: 0.3517\n",
        "* LSTM(24), LSTM(12), epochs : 1  ---> loss: 3.1497 - acc: 0.3517\n",
        "* LSTM(24), LSTM(12), epochs : 5  ---> loss: 2.4067 - acc: 0.3517\n",
        "* LSTM(24), LSTM(12), epochs : 5  ---> loss: 1.0593 - acc: 0.7555"
      ]
    },
    {
      "cell_type": "code",
      "metadata": {
        "id": "Gfe6-0bEUqMo"
      },
      "source": [
        "pad_x_test = tf.keras.preprocessing.sequence.pad_sequences(x_test, maxlen=500)"
      ],
      "execution_count": 55,
      "outputs": []
    },
    {
      "cell_type": "code",
      "metadata": {
        "id": "KterhckOXL9Q"
      },
      "source": [
        "def pad_make(x_data):\n",
        "  pad_x = tf.keras.preprocessing.sequence.pad_sequences(x_data, maxlen=500)\n",
        "  return pad_x"
      ],
      "execution_count": 56,
      "outputs": []
    },
    {
      "cell_type": "code",
      "metadata": {
        "id": "s7UW7y4eX682"
      },
      "source": [
        "pad_make_x = pad_make(x_test)"
      ],
      "execution_count": 57,
      "outputs": []
    },
    {
      "cell_type": "code",
      "metadata": {
        "colab": {
          "base_uri": "https://localhost:8080/"
        },
        "id": "efDMU_yDYO9P",
        "outputId": "9b99f82d-c0aa-4266-fce3-0aeaf10e0123"
      },
      "source": [
        "model.evaluate(pad_make_x, y_test)"
      ],
      "execution_count": 58,
      "outputs": [
        {
          "output_type": "stream",
          "text": [
            "71/71 [==============================] - 4s 61ms/step - loss: 1.8810 - acc: 0.5779\n"
          ],
          "name": "stdout"
        },
        {
          "output_type": "execute_result",
          "data": {
            "text/plain": [
              "[1.8810150623321533, 0.5779163241386414]"
            ]
          },
          "metadata": {
            "tags": []
          },
          "execution_count": 58
        }
      ]
    },
    {
      "cell_type": "code",
      "metadata": {
        "colab": {
          "base_uri": "https://localhost:8080/"
        },
        "id": "UUAqmRQLR-Mn",
        "outputId": "e2aac1ec-c7a8-4e4e-c749-5a04e05ba025"
      },
      "source": [
        "model.evaluate(pad_x_test, y_test)                         # acc 보니 학습이 잘되었다고 볼 수 있다. "
      ],
      "execution_count": 59,
      "outputs": [
        {
          "output_type": "stream",
          "text": [
            "71/71 [==============================] - 4s 62ms/step - loss: 1.8810 - acc: 0.5779\n"
          ],
          "name": "stdout"
        },
        {
          "output_type": "execute_result",
          "data": {
            "text/plain": [
              "[1.8810150623321533, 0.5779163241386414]"
            ]
          },
          "metadata": {
            "tags": []
          },
          "execution_count": 59
        }
      ]
    },
    {
      "cell_type": "code",
      "metadata": {
        "id": "qPx4DZTZVBUQ"
      },
      "source": [
        "import matplotlib.pyplot as plt"
      ],
      "execution_count": 60,
      "outputs": []
    },
    {
      "cell_type": "code",
      "metadata": {
        "colab": {
          "base_uri": "https://localhost:8080/",
          "height": 265
        },
        "id": "g6YbHuejVpDv",
        "outputId": "0fb6a917-84dd-4b28-e093-81cd23efce6f"
      },
      "source": [
        "plt.plot(hist.history['loss'])\n",
        "plt.plot(hist.history['val_loss'], 'r-')\n",
        "plt.show()"
      ],
      "execution_count": 64,
      "outputs": [
        {
          "output_type": "display_data",
          "data": {
            "image/png": "[encoded data removed]",
            "text/plain": [
              "<Figure size 432x288 with 1 Axes>"
            ]
          },
          "metadata": {
            "tags": [],
            "needs_background": "light"
          }
        }
      ]
    },
    {
      "cell_type": "code",
      "metadata": {
        "colab": {
          "base_uri": "https://localhost:8080/",
          "height": 265
        },
        "id": "nmCYQgaiWJW_",
        "outputId": "44437ff7-b8f0-4051-a843-a341b5074b2e"
      },
      "source": [
        "plt.plot(hist.history['acc'])\n",
        "plt.plot(hist.history['val_acc'], 'r-')\n",
        "plt.show()"
      ],
      "execution_count": 63,
      "outputs": [
        {
          "output_type": "display_data",
          "data": {
            "image/png": "[encoded data removed]",
            "text/plain": [
              "<Figure size 432x288 with 1 Axes>"
            ]
          },
          "metadata": {
            "tags": [],
            "needs_background": "light"
          }
        }
      ]
    },
    {
      "cell_type": "code",
      "metadata": {
        "id": "kbCs_2NlWXUu"
      },
      "source": [
        "from sklearn.metrics import classification_report"
      ],
      "execution_count": 67,
      "outputs": []
    },
    {
      "cell_type": "code",
      "metadata": {
        "colab": {
          "base_uri": "https://localhost:8080/"
        },
        "id": "dHVLmNZdpbIy",
        "outputId": "48fec89c-15f4-41e0-ecd3-774df3690823"
      },
      "source": [
        "y_train_pred = model.predict(pad_x_train)\n",
        "y_train_pred[0]"
      ],
      "execution_count": 72,
      "outputs": [
        {
          "output_type": "execute_result",
          "data": {
            "text/plain": [
              "array([9.7874319e-05, 5.2679935e-03, 5.6975037e-05, 9.3857163e-01,\n",
              "       4.1382071e-02, 1.2516118e-04, 6.0457653e-05, 8.5596163e-05,\n",
              "       9.7193447e-04, 7.4867850e-05, 2.6299956e-04, 7.3513627e-04,\n",
              "       2.4845218e-04, 6.6188298e-04, 1.0148310e-04, 4.8853479e-05,\n",
              "       5.5034305e-03, 8.3645471e-05, 7.4278003e-05, 1.5922571e-03,\n",
              "       1.2632216e-03, 2.7873769e-04, 6.7897010e-05, 6.7743007e-05,\n",
              "       1.0297619e-04, 1.0042665e-04, 5.3708292e-05, 6.7108223e-05,\n",
              "       7.5089374e-05, 8.3577776e-05, 1.9291362e-04, 1.2768773e-04,\n",
              "       1.6317669e-04, 6.5529232e-05, 2.8366633e-04, 7.1062888e-05,\n",
              "       2.6729258e-04, 4.0577699e-05, 1.3474569e-04, 7.7283759e-05,\n",
              "       6.5212531e-05, 1.2587401e-04, 6.5022374e-05, 7.4253992e-05,\n",
              "       4.1495667e-05, 3.6762915e-05], dtype=float32)"
            ]
          },
          "metadata": {
            "tags": []
          },
          "execution_count": 72
        }
      ]
    },
    {
      "cell_type": "code",
      "metadata": {
        "colab": {
          "base_uri": "https://localhost:8080/"
        },
        "id": "0jjQsAIMqUsX",
        "outputId": "6b654948-9a20-4aca-dad5-69a28644c7e6"
      },
      "source": [
        "import numpy as np\n",
        "y_pred = np.argmax(y_train_pred, axis=1)\n",
        "y_pred.shape"
      ],
      "execution_count": 77,
      "outputs": [
        {
          "output_type": "execute_result",
          "data": {
            "text/plain": [
              "(8982,)"
            ]
          },
          "metadata": {
            "tags": []
          },
          "execution_count": 77
        }
      ]
    },
    {
      "cell_type": "code",
      "metadata": {
        "colab": {
          "base_uri": "https://localhost:8080/"
        },
        "id": "ynxgFWILq3-w",
        "outputId": "7a6b3cda-5520-4408-ddb4-10df78933d1e"
      },
      "source": [
        "len(y_train)"
      ],
      "execution_count": 78,
      "outputs": [
        {
          "output_type": "execute_result",
          "data": {
            "text/plain": [
              "8982"
            ]
          },
          "metadata": {
            "tags": []
          },
          "execution_count": 78
        }
      ]
    },
    {
      "cell_type": "code",
      "metadata": {
        "colab": {
          "base_uri": "https://localhost:8080/"
        },
        "id": "JiziVBtvpp7m",
        "outputId": "7156052b-897a-4ba5-ac80-e64f2371bbc7"
      },
      "source": [
        "print(classification_report(y_train, y_pred))"
      ],
      "execution_count": 79,
      "outputs": [
        {
          "output_type": "stream",
          "text": [
            "              precision    recall  f1-score   support\n",
            "\n",
            "           0       0.00      0.00      0.00        55\n",
            "           1       0.71      0.80      0.75       432\n",
            "           2       0.00      0.00      0.00        74\n",
            "           3       0.93      0.96      0.95      3159\n",
            "           4       0.90      0.92      0.91      1949\n",
            "           5       0.00      0.00      0.00        17\n",
            "           6       0.35      0.35      0.35        48\n",
            "           7       0.00      0.00      0.00        16\n",
            "           8       0.52      0.24      0.33       139\n",
            "           9       0.40      0.71      0.51       101\n",
            "          10       0.42      0.73      0.53       124\n",
            "          11       0.67      0.75      0.71       390\n",
            "          12       0.00      0.00      0.00        49\n",
            "          13       0.52      0.70      0.60       172\n",
            "          14       0.00      0.00      0.00        26\n",
            "          15       0.00      0.00      0.00        20\n",
            "          16       0.53      0.71      0.61       444\n",
            "          17       0.60      0.38      0.47        39\n",
            "          18       0.36      0.39      0.37        66\n",
            "          19       0.77      0.82      0.80       549\n",
            "          20       0.75      0.06      0.10       269\n",
            "          21       0.27      0.64      0.38       100\n",
            "          22       0.00      0.00      0.00        15\n",
            "          23       0.00      0.00      0.00        41\n",
            "          24       0.26      0.71      0.38        62\n",
            "          25       0.11      0.07      0.08        92\n",
            "          26       0.00      0.00      0.00        24\n",
            "          27       0.00      0.00      0.00        15\n",
            "          28       0.64      0.15      0.24        48\n",
            "          29       0.00      0.00      0.00        19\n",
            "          30       0.12      0.60      0.20        45\n",
            "          31       0.00      0.00      0.00        39\n",
            "          32       0.00      0.00      0.00        32\n",
            "          33       0.00      0.00      0.00        11\n",
            "          34       0.36      0.60      0.45        50\n",
            "          35       0.00      0.00      0.00        10\n",
            "          36       0.00      0.00      0.00        49\n",
            "          37       0.00      0.00      0.00        19\n",
            "          38       0.00      0.00      0.00        19\n",
            "          39       0.00      0.00      0.00        24\n",
            "          40       0.00      0.00      0.00        36\n",
            "          41       0.00      0.00      0.00        30\n",
            "          42       0.00      0.00      0.00        13\n",
            "          43       0.00      0.00      0.00        21\n",
            "          44       0.00      0.00      0.00        12\n",
            "          45       0.00      0.00      0.00        18\n",
            "\n",
            "    accuracy                           0.76      8982\n",
            "   macro avg       0.22      0.25      0.21      8982\n",
            "weighted avg       0.73      0.76      0.73      8982\n",
            "\n"
          ],
          "name": "stdout"
        },
        {
          "output_type": "stream",
          "text": [
            "/usr/local/lib/python3.7/dist-packages/sklearn/metrics/_classification.py:1272: UndefinedMetricWarning: Precision and F-score are ill-defined and being set to 0.0 in labels with no predicted samples. Use `zero_division` parameter to control this behavior.\n",
            "  _warn_prf(average, modifier, msg_start, len(result))\n"
          ],
          "name": "stderr"
        }
      ]
    },
    {
      "cell_type": "code",
      "metadata": {
        "id": "WyHIVz6rqDcu"
      },
      "source": [
        "y_test_pred = model.predict(pad_x_test)"
      ],
      "execution_count": 80,
      "outputs": []
    },
    {
      "cell_type": "code",
      "metadata": {
        "id": "T6QOKYD7tC3_"
      },
      "source": [
        "y_pred = np.argmax(y_test_pred, axis=1)"
      ],
      "execution_count": 81,
      "outputs": []
    },
    {
      "cell_type": "code",
      "metadata": {
        "colab": {
          "base_uri": "https://localhost:8080/"
        },
        "id": "75MN81cwtO4O",
        "outputId": "8b093241-5a8a-4d96-fa89-11f7cff382eb"
      },
      "source": [
        "print(classification_report(y_test, y_pred))"
      ],
      "execution_count": 82,
      "outputs": [
        {
          "output_type": "stream",
          "text": [
            "              precision    recall  f1-score   support\n",
            "\n",
            "           0       0.00      0.00      0.00        12\n",
            "           1       0.35      0.46      0.39       105\n",
            "           2       0.00      0.00      0.00        20\n",
            "           3       0.87      0.91      0.89       813\n",
            "           4       0.77      0.76      0.76       474\n",
            "           5       0.00      0.00      0.00         5\n",
            "           6       0.20      0.07      0.11        14\n",
            "           7       0.00      0.00      0.00         3\n",
            "           8       0.03      0.03      0.03        38\n",
            "           9       0.00      0.00      0.00        25\n",
            "          10       0.17      0.27      0.21        30\n",
            "          11       0.18      0.27      0.21        83\n",
            "          12       0.00      0.00      0.00        13\n",
            "          13       0.07      0.16      0.10        37\n",
            "          14       0.00      0.00      0.00         2\n",
            "          15       0.00      0.00      0.00         9\n",
            "          16       0.25      0.36      0.30        99\n",
            "          17       0.00      0.00      0.00        12\n",
            "          18       0.08      0.05      0.06        20\n",
            "          19       0.42      0.48      0.45       133\n",
            "          20       0.20      0.01      0.03        70\n",
            "          21       0.14      0.26      0.18        27\n",
            "          22       0.00      0.00      0.00         7\n",
            "          23       0.00      0.00      0.00        12\n",
            "          24       0.03      0.05      0.04        19\n",
            "          25       0.07      0.03      0.04        31\n",
            "          26       0.00      0.00      0.00         8\n",
            "          27       0.00      0.00      0.00         4\n",
            "          28       0.00      0.00      0.00        10\n",
            "          29       0.00      0.00      0.00         4\n",
            "          30       0.09      0.17      0.11        12\n",
            "          31       0.00      0.00      0.00        13\n",
            "          32       0.00      0.00      0.00        10\n",
            "          33       0.00      0.00      0.00         5\n",
            "          34       0.06      0.14      0.08         7\n",
            "          35       0.00      0.00      0.00         6\n",
            "          36       0.00      0.00      0.00        11\n",
            "          37       0.00      0.00      0.00         2\n",
            "          38       0.00      0.00      0.00         3\n",
            "          39       0.00      0.00      0.00         5\n",
            "          40       0.00      0.00      0.00        10\n",
            "          41       0.00      0.00      0.00         8\n",
            "          42       0.00      0.00      0.00         3\n",
            "          43       0.00      0.00      0.00         6\n",
            "          44       0.00      0.00      0.00         5\n",
            "          45       0.00      0.00      0.00         1\n",
            "\n",
            "    accuracy                           0.58      2246\n",
            "   macro avg       0.09      0.10      0.09      2246\n",
            "weighted avg       0.55      0.58      0.56      2246\n",
            "\n"
          ],
          "name": "stdout"
        },
        {
          "output_type": "stream",
          "text": [
            "/usr/local/lib/python3.7/dist-packages/sklearn/metrics/_classification.py:1272: UndefinedMetricWarning: Precision and F-score are ill-defined and being set to 0.0 in labels with no predicted samples. Use `zero_division` parameter to control this behavior.\n",
            "  _warn_prf(average, modifier, msg_start, len(result))\n"
          ],
          "name": "stderr"
        }
      ]
    },
    {
      "cell_type": "code",
      "metadata": {
        "id": "Ov_chtertV7_"
      },
      "source": [
        ""
      ],
      "execution_count": null,
      "outputs": []
    },
    {
      "cell_type": "code",
      "metadata": {
        "id": "4hCloAd4uOIh"
      },
      "source": [
        ""
      ],
      "execution_count": null,
      "outputs": []
    }
  ]
}