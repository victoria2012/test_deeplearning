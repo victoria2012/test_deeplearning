{
  "nbformat": 4,
  "nbformat_minor": 0,
  "metadata": {
    "colab": {
      "name": "wine_classification.ipynb",
      "provenance": [],
      "collapsed_sections": [],
      "authorship_tag": "ABX9TyMohxfNNB5RhZxwYazhK8va"
    },
    "kernelspec": {
      "name": "python3",
      "display_name": "Python 3"
    },
    "language_info": {
      "name": "python"
    }
  },
  "cells": [
    {
      "cell_type": "code",
      "metadata": {
        "id": "U__OstK8brLl"
      },
      "source": [
        "from sklearn import datasets"
      ],
      "execution_count": 1,
      "outputs": []
    },
    {
      "cell_type": "code",
      "metadata": {
        "colab": {
          "base_uri": "https://localhost:8080/"
        },
        "id": "HBJGS_lvb2zN",
        "outputId": "6f5fd105-d456-4b51-b37a-8db20c8dfdc4"
      },
      "source": [
        "wine = datasets.load_wine()\n",
        "wine"
      ],
      "execution_count": 2,
      "outputs": [
        {
          "output_type": "execute_result",
          "data": {
            "text/plain": [
              "{'DESCR': '.. _wine_dataset:\\n\\nWine recognition dataset\\n------------------------\\n\\n**Data Set Characteristics:**\\n\\n    :Number of Instances: 178 (50 in each of three classes)\\n    :Number of Attributes: 13 numeric, predictive attributes and the class\\n    :Attribute Information:\\n \\t\\t- Alcohol\\n \\t\\t- Malic acid\\n \\t\\t- Ash\\n\\t\\t- Alcalinity of ash  \\n \\t\\t- Magnesium\\n\\t\\t- Total phenols\\n \\t\\t- Flavanoids\\n \\t\\t- Nonflavanoid phenols\\n \\t\\t- Proanthocyanins\\n\\t\\t- Color intensity\\n \\t\\t- Hue\\n \\t\\t- OD280/OD315 of diluted wines\\n \\t\\t- Proline\\n\\n    - class:\\n            - class_0\\n            - class_1\\n            - class_2\\n\\t\\t\\n    :Summary Statistics:\\n    \\n    ============================= ==== ===== ======= =====\\n                                   Min   Max   Mean     SD\\n    ============================= ==== ===== ======= =====\\n    Alcohol:                      11.0  14.8    13.0   0.8\\n    Malic Acid:                   0.74  5.80    2.34  1.12\\n    Ash:                          1.36  3.23    2.36  0.27\\n    Alcalinity of Ash:            10.6  30.0    19.5   3.3\\n    Magnesium:                    70.0 162.0    99.7  14.3\\n    Total Phenols:                0.98  3.88    2.29  0.63\\n    Flavanoids:                   0.34  5.08    2.03  1.00\\n    Nonflavanoid Phenols:         0.13  0.66    0.36  0.12\\n    Proanthocyanins:              0.41  3.58    1.59  0.57\\n    Colour Intensity:              1.3  13.0     5.1   2.3\\n    Hue:                          0.48  1.71    0.96  0.23\\n    OD280/OD315 of diluted wines: 1.27  4.00    2.61  0.71\\n    Proline:                       278  1680     746   315\\n    ============================= ==== ===== ======= =====\\n\\n    :Missing Attribute Values: None\\n    :Class Distribution: class_0 (59), class_1 (71), class_2 (48)\\n    :Creator: R.A. Fisher\\n    :Donor: Michael Marshall (MARSHALL%PLU@io.arc.nasa.gov)\\n    :Date: July, 1988\\n\\nThis is a copy of UCI ML Wine recognition datasets.\\nhttps://archive.ics.uci.edu/ml/machine-learning-databases/wine/wine.data\\n\\nThe data is the results of a chemical analysis of wines grown in the same\\nregion in Italy by three different cultivators. There are thirteen different\\nmeasurements taken for different constituents found in the three types of\\nwine.\\n\\nOriginal Owners: \\n\\nForina, M. et al, PARVUS - \\nAn Extendible Package for Data Exploration, Classification and Correlation. \\nInstitute of Pharmaceutical and Food Analysis and Technologies,\\nVia Brigata Salerno, 16147 Genoa, Italy.\\n\\nCitation:\\n\\nLichman, M. (2013). UCI Machine Learning Repository\\n[https://archive.ics.uci.edu/ml]. Irvine, CA: University of California,\\nSchool of Information and Computer Science. \\n\\n.. topic:: References\\n\\n  (1) S. Aeberhard, D. Coomans and O. de Vel, \\n  Comparison of Classifiers in High Dimensional Settings, \\n  Tech. Rep. no. 92-02, (1992), Dept. of Computer Science and Dept. of  \\n  Mathematics and Statistics, James Cook University of North Queensland. \\n  (Also submitted to Technometrics). \\n\\n  The data was used with many others for comparing various \\n  classifiers. The classes are separable, though only RDA \\n  has achieved 100% correct classification. \\n  (RDA : 100%, QDA 99.4%, LDA 98.9%, 1NN 96.1% (z-transformed data)) \\n  (All results using the leave-one-out technique) \\n\\n  (2) S. Aeberhard, D. Coomans and O. de Vel, \\n  \"THE CLASSIFICATION PERFORMANCE OF RDA\" \\n  Tech. Rep. no. 92-01, (1992), Dept. of Computer Science and Dept. of \\n  Mathematics and Statistics, James Cook University of North Queensland. \\n  (Also submitted to Journal of Chemometrics).\\n',\n",
              " 'data': array([[1.423e+01, 1.710e+00, 2.430e+00, ..., 1.040e+00, 3.920e+00,\n",
              "         1.065e+03],\n",
              "        [1.320e+01, 1.780e+00, 2.140e+00, ..., 1.050e+00, 3.400e+00,\n",
              "         1.050e+03],\n",
              "        [1.316e+01, 2.360e+00, 2.670e+00, ..., 1.030e+00, 3.170e+00,\n",
              "         1.185e+03],\n",
              "        ...,\n",
              "        [1.327e+01, 4.280e+00, 2.260e+00, ..., 5.900e-01, 1.560e+00,\n",
              "         8.350e+02],\n",
              "        [1.317e+01, 2.590e+00, 2.370e+00, ..., 6.000e-01, 1.620e+00,\n",
              "         8.400e+02],\n",
              "        [1.413e+01, 4.100e+00, 2.740e+00, ..., 6.100e-01, 1.600e+00,\n",
              "         5.600e+02]]),\n",
              " 'feature_names': ['alcohol',\n",
              "  'malic_acid',\n",
              "  'ash',\n",
              "  'alcalinity_of_ash',\n",
              "  'magnesium',\n",
              "  'total_phenols',\n",
              "  'flavanoids',\n",
              "  'nonflavanoid_phenols',\n",
              "  'proanthocyanins',\n",
              "  'color_intensity',\n",
              "  'hue',\n",
              "  'od280/od315_of_diluted_wines',\n",
              "  'proline'],\n",
              " 'target': array([0, 0, 0, 0, 0, 0, 0, 0, 0, 0, 0, 0, 0, 0, 0, 0, 0, 0, 0, 0, 0, 0,\n",
              "        0, 0, 0, 0, 0, 0, 0, 0, 0, 0, 0, 0, 0, 0, 0, 0, 0, 0, 0, 0, 0, 0,\n",
              "        0, 0, 0, 0, 0, 0, 0, 0, 0, 0, 0, 0, 0, 0, 0, 1, 1, 1, 1, 1, 1, 1,\n",
              "        1, 1, 1, 1, 1, 1, 1, 1, 1, 1, 1, 1, 1, 1, 1, 1, 1, 1, 1, 1, 1, 1,\n",
              "        1, 1, 1, 1, 1, 1, 1, 1, 1, 1, 1, 1, 1, 1, 1, 1, 1, 1, 1, 1, 1, 1,\n",
              "        1, 1, 1, 1, 1, 1, 1, 1, 1, 1, 1, 1, 1, 1, 1, 1, 1, 1, 1, 1, 2, 2,\n",
              "        2, 2, 2, 2, 2, 2, 2, 2, 2, 2, 2, 2, 2, 2, 2, 2, 2, 2, 2, 2, 2, 2,\n",
              "        2, 2, 2, 2, 2, 2, 2, 2, 2, 2, 2, 2, 2, 2, 2, 2, 2, 2, 2, 2, 2, 2,\n",
              "        2, 2]),\n",
              " 'target_names': array(['class_0', 'class_1', 'class_2'], dtype='<U7')}"
            ]
          },
          "metadata": {
            "tags": []
          },
          "execution_count": 2
        }
      ]
    },
    {
      "cell_type": "code",
      "metadata": {
        "colab": {
          "base_uri": "https://localhost:8080/"
        },
        "id": "8vH3YSkGcH7D",
        "outputId": "db3cadc1-389b-47ba-c0e8-3355907982f5"
      },
      "source": [
        "wine.keys()"
      ],
      "execution_count": 3,
      "outputs": [
        {
          "output_type": "execute_result",
          "data": {
            "text/plain": [
              "dict_keys(['data', 'target', 'target_names', 'DESCR', 'feature_names'])"
            ]
          },
          "metadata": {
            "tags": []
          },
          "execution_count": 3
        }
      ]
    },
    {
      "cell_type": "code",
      "metadata": {
        "colab": {
          "base_uri": "https://localhost:8080/"
        },
        "id": "WbLZnlKQcQ5c",
        "outputId": "300b063b-1f76-484f-f506-f2998d0654eb"
      },
      "source": [
        "x_data = wine['data']\n",
        "x_data.shape, type(x_data)"
      ],
      "execution_count": 4,
      "outputs": [
        {
          "output_type": "execute_result",
          "data": {
            "text/plain": [
              "((178, 13), numpy.ndarray)"
            ]
          },
          "metadata": {
            "tags": []
          },
          "execution_count": 4
        }
      ]
    },
    {
      "cell_type": "code",
      "metadata": {
        "colab": {
          "base_uri": "https://localhost:8080/"
        },
        "id": "m02oKP_LdCHj",
        "outputId": "6ae70842-986e-496f-afb7-53fd6b19a003"
      },
      "source": [
        "y_data = wine['target']\n",
        "y_data"
      ],
      "execution_count": 5,
      "outputs": [
        {
          "output_type": "execute_result",
          "data": {
            "text/plain": [
              "array([0, 0, 0, 0, 0, 0, 0, 0, 0, 0, 0, 0, 0, 0, 0, 0, 0, 0, 0, 0, 0, 0,\n",
              "       0, 0, 0, 0, 0, 0, 0, 0, 0, 0, 0, 0, 0, 0, 0, 0, 0, 0, 0, 0, 0, 0,\n",
              "       0, 0, 0, 0, 0, 0, 0, 0, 0, 0, 0, 0, 0, 0, 0, 1, 1, 1, 1, 1, 1, 1,\n",
              "       1, 1, 1, 1, 1, 1, 1, 1, 1, 1, 1, 1, 1, 1, 1, 1, 1, 1, 1, 1, 1, 1,\n",
              "       1, 1, 1, 1, 1, 1, 1, 1, 1, 1, 1, 1, 1, 1, 1, 1, 1, 1, 1, 1, 1, 1,\n",
              "       1, 1, 1, 1, 1, 1, 1, 1, 1, 1, 1, 1, 1, 1, 1, 1, 1, 1, 1, 1, 2, 2,\n",
              "       2, 2, 2, 2, 2, 2, 2, 2, 2, 2, 2, 2, 2, 2, 2, 2, 2, 2, 2, 2, 2, 2,\n",
              "       2, 2, 2, 2, 2, 2, 2, 2, 2, 2, 2, 2, 2, 2, 2, 2, 2, 2, 2, 2, 2, 2,\n",
              "       2, 2])"
            ]
          },
          "metadata": {
            "tags": []
          },
          "execution_count": 5
        }
      ]
    },
    {
      "cell_type": "code",
      "metadata": {
        "id": "biOguGj7dH88"
      },
      "source": [
        "import pandas as pd"
      ],
      "execution_count": 6,
      "outputs": []
    },
    {
      "cell_type": "code",
      "metadata": {
        "colab": {
          "base_uri": "https://localhost:8080/"
        },
        "id": "XP_-UNa2dLzs",
        "outputId": "d6714af0-b608-4640-c79f-f6568a367300"
      },
      "source": [
        "df_x_data = pd.DataFrame(x_data)\n",
        "df_x_data, df_x_data.info()"
      ],
      "execution_count": 7,
      "outputs": [
        {
          "output_type": "stream",
          "text": [
            "<class 'pandas.core.frame.DataFrame'>\n",
            "RangeIndex: 178 entries, 0 to 177\n",
            "Data columns (total 13 columns):\n",
            " #   Column  Non-Null Count  Dtype  \n",
            "---  ------  --------------  -----  \n",
            " 0   0       178 non-null    float64\n",
            " 1   1       178 non-null    float64\n",
            " 2   2       178 non-null    float64\n",
            " 3   3       178 non-null    float64\n",
            " 4   4       178 non-null    float64\n",
            " 5   5       178 non-null    float64\n",
            " 6   6       178 non-null    float64\n",
            " 7   7       178 non-null    float64\n",
            " 8   8       178 non-null    float64\n",
            " 9   9       178 non-null    float64\n",
            " 10  10      178 non-null    float64\n",
            " 11  11      178 non-null    float64\n",
            " 12  12      178 non-null    float64\n",
            "dtypes: float64(13)\n",
            "memory usage: 18.2 KB\n"
          ],
          "name": "stdout"
        },
        {
          "output_type": "execute_result",
          "data": {
            "text/plain": [
              "(        0     1     2     3      4   ...    8      9     10    11      12\n",
              " 0    14.23  1.71  2.43  15.6  127.0  ...  2.29   5.64  1.04  3.92  1065.0\n",
              " 1    13.20  1.78  2.14  11.2  100.0  ...  1.28   4.38  1.05  3.40  1050.0\n",
              " 2    13.16  2.36  2.67  18.6  101.0  ...  2.81   5.68  1.03  3.17  1185.0\n",
              " 3    14.37  1.95  2.50  16.8  113.0  ...  2.18   7.80  0.86  3.45  1480.0\n",
              " 4    13.24  2.59  2.87  21.0  118.0  ...  1.82   4.32  1.04  2.93   735.0\n",
              " ..     ...   ...   ...   ...    ...  ...   ...    ...   ...   ...     ...\n",
              " 173  13.71  5.65  2.45  20.5   95.0  ...  1.06   7.70  0.64  1.74   740.0\n",
              " 174  13.40  3.91  2.48  23.0  102.0  ...  1.41   7.30  0.70  1.56   750.0\n",
              " 175  13.27  4.28  2.26  20.0  120.0  ...  1.35  10.20  0.59  1.56   835.0\n",
              " 176  13.17  2.59  2.37  20.0  120.0  ...  1.46   9.30  0.60  1.62   840.0\n",
              " 177  14.13  4.10  2.74  24.5   96.0  ...  1.35   9.20  0.61  1.60   560.0\n",
              " \n",
              " [178 rows x 13 columns], None)"
            ]
          },
          "metadata": {
            "tags": []
          },
          "execution_count": 7
        }
      ]
    },
    {
      "cell_type": "code",
      "metadata": {
        "colab": {
          "base_uri": "https://localhost:8080/"
        },
        "id": "V5ysH-cJjchM",
        "outputId": "bf035a73-186d-41b4-dda1-a6cc0a92ea97"
      },
      "source": [
        "df_y_data = pd.DataFrame(y_data)\n",
        "df_y_data, df_y_data.info()"
      ],
      "execution_count": 8,
      "outputs": [
        {
          "output_type": "stream",
          "text": [
            "<class 'pandas.core.frame.DataFrame'>\n",
            "RangeIndex: 178 entries, 0 to 177\n",
            "Data columns (total 1 columns):\n",
            " #   Column  Non-Null Count  Dtype\n",
            "---  ------  --------------  -----\n",
            " 0   0       178 non-null    int64\n",
            "dtypes: int64(1)\n",
            "memory usage: 1.5 KB\n"
          ],
          "name": "stdout"
        },
        {
          "output_type": "execute_result",
          "data": {
            "text/plain": [
              "(     0\n",
              " 0    0\n",
              " 1    0\n",
              " 2    0\n",
              " 3    0\n",
              " 4    0\n",
              " ..  ..\n",
              " 173  2\n",
              " 174  2\n",
              " 175  2\n",
              " 176  2\n",
              " 177  2\n",
              " \n",
              " [178 rows x 1 columns], None)"
            ]
          },
          "metadata": {
            "tags": []
          },
          "execution_count": 8
        }
      ]
    },
    {
      "cell_type": "code",
      "metadata": {
        "id": "XxEUw1FvjltE"
      },
      "source": [
        "import sqlite3"
      ],
      "execution_count": 9,
      "outputs": []
    },
    {
      "cell_type": "code",
      "metadata": {
        "id": "-_FJw_CrkMwU"
      },
      "source": [
        "connect = sqlite3.connect('./db.sqlite3')"
      ],
      "execution_count": 10,
      "outputs": []
    },
    {
      "cell_type": "code",
      "metadata": {
        "id": "HWR6y49QkVv8"
      },
      "source": [
        "df_x_data.to_sql('wine_x', connect, if_exists='append', index=False)"
      ],
      "execution_count": 11,
      "outputs": []
    },
    {
      "cell_type": "code",
      "metadata": {
        "id": "ziVV46cqkzRC"
      },
      "source": [
        "df_y_data.to_sql('wine_y', connect, if_exists='append', index=False)"
      ],
      "execution_count": 12,
      "outputs": []
    },
    {
      "cell_type": "code",
      "metadata": {
        "colab": {
          "base_uri": "https://localhost:8080/"
        },
        "id": "nB3gI-zDk5_M",
        "outputId": "04e3a753-e505-49bc-aafb-1ffbf16c372d"
      },
      "source": [
        "load_wine_x = pd.read_sql_query('select * from wine_x', connect)\n",
        "load_wine_x.info()"
      ],
      "execution_count": 13,
      "outputs": [
        {
          "output_type": "stream",
          "text": [
            "<class 'pandas.core.frame.DataFrame'>\n",
            "RangeIndex: 178 entries, 0 to 177\n",
            "Data columns (total 13 columns):\n",
            " #   Column  Non-Null Count  Dtype  \n",
            "---  ------  --------------  -----  \n",
            " 0   0       178 non-null    float64\n",
            " 1   1       178 non-null    float64\n",
            " 2   2       178 non-null    float64\n",
            " 3   3       178 non-null    float64\n",
            " 4   4       178 non-null    float64\n",
            " 5   5       178 non-null    float64\n",
            " 6   6       178 non-null    float64\n",
            " 7   7       178 non-null    float64\n",
            " 8   8       178 non-null    float64\n",
            " 9   9       178 non-null    float64\n",
            " 10  10      178 non-null    float64\n",
            " 11  11      178 non-null    float64\n",
            " 12  12      178 non-null    float64\n",
            "dtypes: float64(13)\n",
            "memory usage: 18.2 KB\n"
          ],
          "name": "stdout"
        }
      ]
    },
    {
      "cell_type": "code",
      "metadata": {
        "colab": {
          "base_uri": "https://localhost:8080/"
        },
        "id": "wB5PdEDAmWOj",
        "outputId": "a4ba8e78-8688-458e-b796-73525dfaeda3"
      },
      "source": [
        "load_wine_y = pd.read_sql_query('select * from wine_y', connect)\n",
        "load_wine_y.info()"
      ],
      "execution_count": 14,
      "outputs": [
        {
          "output_type": "stream",
          "text": [
            "<class 'pandas.core.frame.DataFrame'>\n",
            "RangeIndex: 178 entries, 0 to 177\n",
            "Data columns (total 1 columns):\n",
            " #   Column  Non-Null Count  Dtype\n",
            "---  ------  --------------  -----\n",
            " 0   0       178 non-null    int64\n",
            "dtypes: int64(1)\n",
            "memory usage: 1.5 KB\n"
          ],
          "name": "stdout"
        }
      ]
    },
    {
      "cell_type": "code",
      "metadata": {
        "colab": {
          "base_uri": "https://localhost:8080/"
        },
        "id": "cBwPioPfmahE",
        "outputId": "3afc60af-627f-4a95-e218-d9dafdc9abbf"
      },
      "source": [
        "x_data = load_wine_x.to_numpy()\n",
        "x_data.shape"
      ],
      "execution_count": 15,
      "outputs": [
        {
          "output_type": "execute_result",
          "data": {
            "text/plain": [
              "(178, 13)"
            ]
          },
          "metadata": {
            "tags": []
          },
          "execution_count": 15
        }
      ]
    },
    {
      "cell_type": "code",
      "metadata": {
        "id": "Ft4ZJ57uw2F8"
      },
      "source": [
        "import numpy as np"
      ],
      "execution_count": 16,
      "outputs": []
    },
    {
      "cell_type": "code",
      "metadata": {
        "colab": {
          "base_uri": "https://localhost:8080/"
        },
        "id": "SabuDyNDnZ2U",
        "outputId": "1823e347-2f73-4cc5-a66f-ddf0ea2878bd"
      },
      "source": [
        "y_data = load_wine_y.to_numpy()\n",
        "np.unique(y_data)"
      ],
      "execution_count": 17,
      "outputs": [
        {
          "output_type": "execute_result",
          "data": {
            "text/plain": [
              "array([0, 1, 2])"
            ]
          },
          "metadata": {
            "tags": []
          },
          "execution_count": 17
        }
      ]
    },
    {
      "cell_type": "markdown",
      "metadata": {
        "id": "Ae3OqenfoBr8"
      },
      "source": [
        "# 교육단계"
      ]
    },
    {
      "cell_type": "code",
      "metadata": {
        "id": "hEo5bvYXoCMM"
      },
      "source": [
        "import tensorflow as tf"
      ],
      "execution_count": 50,
      "outputs": []
    },
    {
      "cell_type": "code",
      "metadata": {
        "id": "v8nOQwt0nyE8"
      },
      "source": [
        "model = tf.keras.Sequential()"
      ],
      "execution_count": 51,
      "outputs": []
    },
    {
      "cell_type": "code",
      "metadata": {
        "colab": {
          "base_uri": "https://localhost:8080/"
        },
        "id": "Xs3rHhXNoPxs",
        "outputId": "d60c47b0-342d-467a-f6bb-8ede6426dbd6"
      },
      "source": [
        "model.add(tf.keras.Input(shape=13,))\n",
        "\n",
        "model.add(tf.keras.layers.Dense(64, activation='relu'))\n",
        "model.add(tf.keras.layers.Dense(36, activation='relu'))\n",
        "model.add(tf.keras.layers.Dense(3, activation='softmax'))\n",
        "\n",
        "model.compile(optimizer='adam', loss='sparse_categorical_crossentropy', metrics=['acc'])"
      ],
      "execution_count": 52,
      "outputs": [
        {
          "output_type": "stream",
          "text": [
            "WARNING:tensorflow:Please add `keras.layers.InputLayer` instead of `keras.Input` to Sequential model. `keras.Input` is intended to be used by Functional model.\n"
          ],
          "name": "stdout"
        }
      ]
    },
    {
      "cell_type": "code",
      "metadata": {
        "colab": {
          "base_uri": "https://localhost:8080/"
        },
        "id": "NZaxyzINpSJc",
        "outputId": "bb0942e5-2f6c-4701-acd3-6ce0cbeb9a98"
      },
      "source": [
        "model.summary()"
      ],
      "execution_count": 53,
      "outputs": [
        {
          "output_type": "stream",
          "text": [
            "Model: \"sequential_3\"\n",
            "_________________________________________________________________\n",
            "Layer (type)                 Output Shape              Param #   \n",
            "=================================================================\n",
            "dense_10 (Dense)             (None, 64)                896       \n",
            "_________________________________________________________________\n",
            "dense_11 (Dense)             (None, 36)                2340      \n",
            "_________________________________________________________________\n",
            "dense_12 (Dense)             (None, 3)                 111       \n",
            "=================================================================\n",
            "Total params: 3,347\n",
            "Trainable params: 3,347\n",
            "Non-trainable params: 0\n",
            "_________________________________________________________________\n"
          ],
          "name": "stdout"
        }
      ]
    },
    {
      "cell_type": "code",
      "metadata": {
        "colab": {
          "base_uri": "https://localhost:8080/"
        },
        "id": "XB6nSA-RpV9z",
        "outputId": "8574468a-88a0-4393-940b-7238a3f2205c"
      },
      "source": [
        "model.fit(x_data, y_data, epochs=500, validation_split=0.3)"
      ],
      "execution_count": 54,
      "outputs": [
        {
          "output_type": "stream",
          "text": [
            "Epoch 1/500\n",
            "4/4 [==============================] - 1s 49ms/step - loss: 88.0895 - acc: 0.5242 - val_loss: 44.9187 - val_acc: 0.1111\n",
            "Epoch 2/500\n",
            "4/4 [==============================] - 0s 10ms/step - loss: 27.8121 - acc: 0.5323 - val_loss: 17.4869 - val_acc: 0.0000e+00\n",
            "Epoch 3/500\n",
            "4/4 [==============================] - 0s 9ms/step - loss: 11.2875 - acc: 0.4758 - val_loss: 28.0420 - val_acc: 0.0000e+00\n",
            "Epoch 4/500\n",
            "4/4 [==============================] - 0s 8ms/step - loss: 19.7956 - acc: 0.4758 - val_loss: 29.3293 - val_acc: 0.0000e+00\n",
            "Epoch 5/500\n",
            "4/4 [==============================] - 0s 9ms/step - loss: 16.6995 - acc: 0.4758 - val_loss: 25.2862 - val_acc: 0.0000e+00\n",
            "Epoch 6/500\n",
            "4/4 [==============================] - 0s 10ms/step - loss: 6.7616 - acc: 0.5081 - val_loss: 19.3403 - val_acc: 0.0926\n",
            "Epoch 7/500\n",
            "4/4 [==============================] - 0s 13ms/step - loss: 3.5058 - acc: 0.6371 - val_loss: 26.2689 - val_acc: 0.1111\n",
            "Epoch 8/500\n",
            "4/4 [==============================] - 0s 10ms/step - loss: 2.9290 - acc: 0.6613 - val_loss: 20.4616 - val_acc: 0.0926\n",
            "Epoch 9/500\n",
            "4/4 [==============================] - 0s 9ms/step - loss: 2.0040 - acc: 0.7177 - val_loss: 21.5534 - val_acc: 0.0926\n",
            "Epoch 10/500\n",
            "4/4 [==============================] - 0s 9ms/step - loss: 1.9496 - acc: 0.7258 - val_loss: 21.1141 - val_acc: 0.0926\n",
            "Epoch 11/500\n",
            "4/4 [==============================] - 0s 8ms/step - loss: 0.4554 - acc: 0.8871 - val_loss: 25.0250 - val_acc: 0.1111\n",
            "Epoch 12/500\n",
            "4/4 [==============================] - 0s 9ms/step - loss: 0.7784 - acc: 0.7984 - val_loss: 22.3460 - val_acc: 0.1111\n",
            "Epoch 13/500\n",
            "4/4 [==============================] - 0s 9ms/step - loss: 0.3494 - acc: 0.9113 - val_loss: 21.3864 - val_acc: 0.0926\n",
            "Epoch 14/500\n",
            "4/4 [==============================] - 0s 9ms/step - loss: 0.6451 - acc: 0.8468 - val_loss: 21.8175 - val_acc: 0.1111\n",
            "Epoch 15/500\n",
            "4/4 [==============================] - 0s 13ms/step - loss: 0.3166 - acc: 0.9113 - val_loss: 23.5334 - val_acc: 0.1111\n",
            "Epoch 16/500\n",
            "4/4 [==============================] - 0s 10ms/step - loss: 0.4590 - acc: 0.9032 - val_loss: 23.5305 - val_acc: 0.1111\n",
            "Epoch 17/500\n",
            "4/4 [==============================] - 0s 9ms/step - loss: 0.3305 - acc: 0.9274 - val_loss: 22.2175 - val_acc: 0.1111\n",
            "Epoch 18/500\n",
            "4/4 [==============================] - 0s 9ms/step - loss: 0.3197 - acc: 0.8790 - val_loss: 21.9743 - val_acc: 0.1111\n",
            "Epoch 19/500\n",
            "4/4 [==============================] - 0s 9ms/step - loss: 0.3193 - acc: 0.8952 - val_loss: 22.5763 - val_acc: 0.1111\n",
            "Epoch 20/500\n",
            "4/4 [==============================] - 0s 9ms/step - loss: 0.2884 - acc: 0.9194 - val_loss: 22.8109 - val_acc: 0.1111\n",
            "Epoch 21/500\n",
            "4/4 [==============================] - 0s 8ms/step - loss: 0.3256 - acc: 0.9113 - val_loss: 22.2631 - val_acc: 0.1111\n",
            "Epoch 22/500\n",
            "4/4 [==============================] - 0s 9ms/step - loss: 0.2850 - acc: 0.8952 - val_loss: 22.3036 - val_acc: 0.1111\n",
            "Epoch 23/500\n",
            "4/4 [==============================] - 0s 10ms/step - loss: 0.2718 - acc: 0.9194 - val_loss: 22.7040 - val_acc: 0.1111\n",
            "Epoch 24/500\n",
            "4/4 [==============================] - 0s 9ms/step - loss: 0.2841 - acc: 0.9113 - val_loss: 22.3723 - val_acc: 0.1111\n",
            "Epoch 25/500\n",
            "4/4 [==============================] - 0s 10ms/step - loss: 0.2682 - acc: 0.9194 - val_loss: 22.1579 - val_acc: 0.1111\n",
            "Epoch 26/500\n",
            "4/4 [==============================] - 0s 12ms/step - loss: 0.2616 - acc: 0.9194 - val_loss: 22.3841 - val_acc: 0.1111\n",
            "Epoch 27/500\n",
            "4/4 [==============================] - 0s 12ms/step - loss: 0.2578 - acc: 0.9194 - val_loss: 22.3705 - val_acc: 0.1111\n",
            "Epoch 28/500\n",
            "4/4 [==============================] - 0s 12ms/step - loss: 0.2498 - acc: 0.9194 - val_loss: 22.0826 - val_acc: 0.1111\n",
            "Epoch 29/500\n",
            "4/4 [==============================] - 0s 13ms/step - loss: 0.2496 - acc: 0.9113 - val_loss: 22.1504 - val_acc: 0.1111\n",
            "Epoch 30/500\n",
            "4/4 [==============================] - 0s 13ms/step - loss: 0.2387 - acc: 0.9274 - val_loss: 22.4263 - val_acc: 0.1111\n",
            "Epoch 31/500\n",
            "4/4 [==============================] - 0s 19ms/step - loss: 0.2609 - acc: 0.9194 - val_loss: 22.3894 - val_acc: 0.1111\n",
            "Epoch 32/500\n",
            "4/4 [==============================] - 0s 13ms/step - loss: 0.2433 - acc: 0.9032 - val_loss: 21.7623 - val_acc: 0.1111\n",
            "Epoch 33/500\n",
            "4/4 [==============================] - 0s 11ms/step - loss: 0.2756 - acc: 0.8629 - val_loss: 22.2146 - val_acc: 0.1111\n",
            "Epoch 34/500\n",
            "4/4 [==============================] - 0s 11ms/step - loss: 0.2810 - acc: 0.9274 - val_loss: 22.6072 - val_acc: 0.1111\n",
            "Epoch 35/500\n",
            "4/4 [==============================] - 0s 12ms/step - loss: 0.2426 - acc: 0.9113 - val_loss: 21.8536 - val_acc: 0.1111\n",
            "Epoch 36/500\n",
            "4/4 [==============================] - 0s 19ms/step - loss: 0.2707 - acc: 0.8871 - val_loss: 22.0383 - val_acc: 0.1111\n",
            "Epoch 37/500\n",
            "4/4 [==============================] - 0s 13ms/step - loss: 0.2273 - acc: 0.9355 - val_loss: 22.0788 - val_acc: 0.1111\n",
            "Epoch 38/500\n",
            "4/4 [==============================] - 0s 16ms/step - loss: 0.2278 - acc: 0.9274 - val_loss: 22.1174 - val_acc: 0.1111\n",
            "Epoch 39/500\n",
            "4/4 [==============================] - 0s 13ms/step - loss: 0.2225 - acc: 0.9355 - val_loss: 21.9247 - val_acc: 0.1111\n",
            "Epoch 40/500\n",
            "4/4 [==============================] - 0s 13ms/step - loss: 0.2328 - acc: 0.9113 - val_loss: 21.9102 - val_acc: 0.1111\n",
            "Epoch 41/500\n",
            "4/4 [==============================] - 0s 17ms/step - loss: 0.2565 - acc: 0.9194 - val_loss: 22.2888 - val_acc: 0.1111\n",
            "Epoch 42/500\n",
            "4/4 [==============================] - 0s 11ms/step - loss: 0.2202 - acc: 0.9274 - val_loss: 21.7074 - val_acc: 0.1111\n",
            "Epoch 43/500\n",
            "4/4 [==============================] - 0s 11ms/step - loss: 0.2309 - acc: 0.9113 - val_loss: 21.9712 - val_acc: 0.1111\n",
            "Epoch 44/500\n",
            "4/4 [==============================] - 0s 13ms/step - loss: 0.2240 - acc: 0.9194 - val_loss: 21.9916 - val_acc: 0.1111\n",
            "Epoch 45/500\n",
            "4/4 [==============================] - 0s 11ms/step - loss: 0.2141 - acc: 0.9194 - val_loss: 21.7766 - val_acc: 0.1111\n",
            "Epoch 46/500\n",
            "4/4 [==============================] - 0s 12ms/step - loss: 0.2539 - acc: 0.8871 - val_loss: 21.5833 - val_acc: 0.1111\n",
            "Epoch 47/500\n",
            "4/4 [==============================] - 0s 11ms/step - loss: 0.1858 - acc: 0.9194 - val_loss: 22.2768 - val_acc: 0.1111\n",
            "Epoch 48/500\n",
            "4/4 [==============================] - 0s 11ms/step - loss: 0.2482 - acc: 0.9194 - val_loss: 21.9953 - val_acc: 0.1111\n",
            "Epoch 49/500\n",
            "4/4 [==============================] - 0s 12ms/step - loss: 0.2246 - acc: 0.9355 - val_loss: 21.5596 - val_acc: 0.1111\n",
            "Epoch 50/500\n",
            "4/4 [==============================] - 0s 14ms/step - loss: 0.2282 - acc: 0.9113 - val_loss: 21.7962 - val_acc: 0.1111\n",
            "Epoch 51/500\n",
            "4/4 [==============================] - 0s 12ms/step - loss: 0.2043 - acc: 0.9355 - val_loss: 21.6658 - val_acc: 0.1111\n",
            "Epoch 52/500\n",
            "4/4 [==============================] - 0s 15ms/step - loss: 0.2107 - acc: 0.9355 - val_loss: 21.7480 - val_acc: 0.1111\n",
            "Epoch 53/500\n",
            "4/4 [==============================] - 0s 13ms/step - loss: 0.2152 - acc: 0.9194 - val_loss: 21.5078 - val_acc: 0.1111\n",
            "Epoch 54/500\n",
            "4/4 [==============================] - 0s 15ms/step - loss: 0.1992 - acc: 0.9194 - val_loss: 21.6189 - val_acc: 0.1111\n",
            "Epoch 55/500\n",
            "4/4 [==============================] - 0s 14ms/step - loss: 0.1939 - acc: 0.9355 - val_loss: 21.7133 - val_acc: 0.1111\n",
            "Epoch 56/500\n",
            "4/4 [==============================] - 0s 13ms/step - loss: 0.2061 - acc: 0.9194 - val_loss: 21.6238 - val_acc: 0.1111\n",
            "Epoch 57/500\n",
            "4/4 [==============================] - 0s 13ms/step - loss: 0.1962 - acc: 0.9113 - val_loss: 21.3574 - val_acc: 0.1111\n",
            "Epoch 58/500\n",
            "4/4 [==============================] - 0s 17ms/step - loss: 0.2105 - acc: 0.9194 - val_loss: 21.9298 - val_acc: 0.1111\n",
            "Epoch 59/500\n",
            "4/4 [==============================] - 0s 18ms/step - loss: 0.2122 - acc: 0.9274 - val_loss: 21.5102 - val_acc: 0.1111\n",
            "Epoch 60/500\n",
            "4/4 [==============================] - 0s 12ms/step - loss: 0.1924 - acc: 0.9274 - val_loss: 21.4772 - val_acc: 0.1111\n",
            "Epoch 61/500\n",
            "4/4 [==============================] - 0s 11ms/step - loss: 0.2099 - acc: 0.9194 - val_loss: 21.6222 - val_acc: 0.1111\n",
            "Epoch 62/500\n",
            "4/4 [==============================] - 0s 12ms/step - loss: 0.1713 - acc: 0.9274 - val_loss: 21.2601 - val_acc: 0.1111\n",
            "Epoch 63/500\n",
            "4/4 [==============================] - 0s 14ms/step - loss: 0.2026 - acc: 0.8952 - val_loss: 21.5318 - val_acc: 0.1111\n",
            "Epoch 64/500\n",
            "4/4 [==============================] - 0s 12ms/step - loss: 0.1883 - acc: 0.9274 - val_loss: 21.6434 - val_acc: 0.1111\n",
            "Epoch 65/500\n",
            "4/4 [==============================] - 0s 13ms/step - loss: 0.2078 - acc: 0.8952 - val_loss: 21.2435 - val_acc: 0.1111\n",
            "Epoch 66/500\n",
            "4/4 [==============================] - 0s 12ms/step - loss: 0.1931 - acc: 0.9355 - val_loss: 21.8218 - val_acc: 0.1111\n",
            "Epoch 67/500\n",
            "4/4 [==============================] - 0s 12ms/step - loss: 0.1805 - acc: 0.9274 - val_loss: 21.2533 - val_acc: 0.1111\n",
            "Epoch 68/500\n",
            "4/4 [==============================] - 0s 12ms/step - loss: 0.2351 - acc: 0.8790 - val_loss: 21.5504 - val_acc: 0.1111\n",
            "Epoch 69/500\n",
            "4/4 [==============================] - 0s 11ms/step - loss: 0.2886 - acc: 0.9032 - val_loss: 21.5441 - val_acc: 0.1111\n",
            "Epoch 70/500\n",
            "4/4 [==============================] - 0s 12ms/step - loss: 0.1786 - acc: 0.8952 - val_loss: 21.1444 - val_acc: 0.1111\n",
            "Epoch 71/500\n",
            "4/4 [==============================] - 0s 12ms/step - loss: 0.1697 - acc: 0.9274 - val_loss: 21.6692 - val_acc: 0.1111\n",
            "Epoch 72/500\n",
            "4/4 [==============================] - 0s 13ms/step - loss: 0.2074 - acc: 0.9274 - val_loss: 21.3092 - val_acc: 0.1111\n",
            "Epoch 73/500\n",
            "4/4 [==============================] - 0s 12ms/step - loss: 0.1749 - acc: 0.9274 - val_loss: 21.5006 - val_acc: 0.1111\n",
            "Epoch 74/500\n",
            "4/4 [==============================] - 0s 13ms/step - loss: 0.1754 - acc: 0.9194 - val_loss: 21.2028 - val_acc: 0.1111\n",
            "Epoch 75/500\n",
            "4/4 [==============================] - 0s 11ms/step - loss: 0.1780 - acc: 0.9274 - val_loss: 21.4099 - val_acc: 0.1111\n",
            "Epoch 76/500\n",
            "4/4 [==============================] - 0s 11ms/step - loss: 0.1729 - acc: 0.9355 - val_loss: 21.5081 - val_acc: 0.1111\n",
            "Epoch 77/500\n",
            "4/4 [==============================] - 0s 12ms/step - loss: 0.1703 - acc: 0.9355 - val_loss: 21.2298 - val_acc: 0.1111\n",
            "Epoch 78/500\n",
            "4/4 [==============================] - 0s 14ms/step - loss: 0.2058 - acc: 0.9032 - val_loss: 21.6193 - val_acc: 0.1111\n",
            "Epoch 79/500\n",
            "4/4 [==============================] - 0s 18ms/step - loss: 0.1737 - acc: 0.9274 - val_loss: 21.5686 - val_acc: 0.1111\n",
            "Epoch 80/500\n",
            "4/4 [==============================] - 0s 14ms/step - loss: 0.1558 - acc: 0.9194 - val_loss: 21.1619 - val_acc: 0.1111\n",
            "Epoch 81/500\n",
            "4/4 [==============================] - 0s 13ms/step - loss: 0.1916 - acc: 0.9194 - val_loss: 21.3106 - val_acc: 0.1111\n",
            "Epoch 82/500\n",
            "4/4 [==============================] - 0s 12ms/step - loss: 0.1760 - acc: 0.9274 - val_loss: 21.3294 - val_acc: 0.1111\n",
            "Epoch 83/500\n",
            "4/4 [==============================] - 0s 12ms/step - loss: 0.1937 - acc: 0.9435 - val_loss: 21.4200 - val_acc: 0.1111\n",
            "Epoch 84/500\n",
            "4/4 [==============================] - 0s 14ms/step - loss: 0.1792 - acc: 0.9274 - val_loss: 21.2477 - val_acc: 0.1111\n",
            "Epoch 85/500\n",
            "4/4 [==============================] - 0s 12ms/step - loss: 0.1954 - acc: 0.9355 - val_loss: 21.4327 - val_acc: 0.1111\n",
            "Epoch 86/500\n",
            "4/4 [==============================] - 0s 14ms/step - loss: 0.1867 - acc: 0.9194 - val_loss: 21.3561 - val_acc: 0.1111\n",
            "Epoch 87/500\n",
            "4/4 [==============================] - 0s 12ms/step - loss: 0.2196 - acc: 0.9194 - val_loss: 21.5218 - val_acc: 0.1111\n",
            "Epoch 88/500\n",
            "4/4 [==============================] - 0s 12ms/step - loss: 0.2235 - acc: 0.8871 - val_loss: 21.3326 - val_acc: 0.1111\n",
            "Epoch 89/500\n",
            "4/4 [==============================] - 0s 13ms/step - loss: 0.1612 - acc: 0.9274 - val_loss: 21.5469 - val_acc: 0.1111\n",
            "Epoch 90/500\n",
            "4/4 [==============================] - 0s 13ms/step - loss: 0.1380 - acc: 0.9355 - val_loss: 21.1777 - val_acc: 0.1111\n",
            "Epoch 91/500\n",
            "4/4 [==============================] - 0s 11ms/step - loss: 0.1856 - acc: 0.9113 - val_loss: 21.7477 - val_acc: 0.1111\n",
            "Epoch 92/500\n",
            "4/4 [==============================] - 0s 11ms/step - loss: 0.2432 - acc: 0.9194 - val_loss: 21.1925 - val_acc: 0.1111\n",
            "Epoch 93/500\n",
            "4/4 [==============================] - 0s 13ms/step - loss: 0.1797 - acc: 0.9274 - val_loss: 21.4856 - val_acc: 0.1111\n",
            "Epoch 94/500\n",
            "4/4 [==============================] - 0s 13ms/step - loss: 0.1582 - acc: 0.9355 - val_loss: 21.4970 - val_acc: 0.1111\n",
            "Epoch 95/500\n",
            "4/4 [==============================] - 0s 18ms/step - loss: 0.1725 - acc: 0.9194 - val_loss: 21.5384 - val_acc: 0.1111\n",
            "Epoch 96/500\n",
            "4/4 [==============================] - 0s 11ms/step - loss: 0.1683 - acc: 0.9355 - val_loss: 21.5464 - val_acc: 0.1111\n",
            "Epoch 97/500\n",
            "4/4 [==============================] - 0s 12ms/step - loss: 0.1557 - acc: 0.9274 - val_loss: 21.2838 - val_acc: 0.1111\n",
            "Epoch 98/500\n",
            "4/4 [==============================] - 0s 19ms/step - loss: 0.1795 - acc: 0.8952 - val_loss: 21.4964 - val_acc: 0.1111\n",
            "Epoch 99/500\n",
            "4/4 [==============================] - 0s 12ms/step - loss: 0.1475 - acc: 0.9355 - val_loss: 21.4035 - val_acc: 0.1111\n",
            "Epoch 100/500\n",
            "4/4 [==============================] - 0s 13ms/step - loss: 0.1673 - acc: 0.9274 - val_loss: 21.9672 - val_acc: 0.1111\n",
            "Epoch 101/500\n",
            "4/4 [==============================] - 0s 14ms/step - loss: 0.2314 - acc: 0.9194 - val_loss: 21.3069 - val_acc: 0.1111\n",
            "Epoch 102/500\n",
            "4/4 [==============================] - 0s 12ms/step - loss: 0.1781 - acc: 0.9113 - val_loss: 22.0357 - val_acc: 0.1111\n",
            "Epoch 103/500\n",
            "4/4 [==============================] - 0s 11ms/step - loss: 0.2647 - acc: 0.9194 - val_loss: 21.2363 - val_acc: 0.1111\n",
            "Epoch 104/500\n",
            "4/4 [==============================] - 0s 12ms/step - loss: 0.2162 - acc: 0.8790 - val_loss: 22.1087 - val_acc: 0.1111\n",
            "Epoch 105/500\n",
            "4/4 [==============================] - 0s 11ms/step - loss: 0.2112 - acc: 0.9032 - val_loss: 21.4087 - val_acc: 0.1111\n",
            "Epoch 106/500\n",
            "4/4 [==============================] - 0s 12ms/step - loss: 0.1993 - acc: 0.8952 - val_loss: 22.0718 - val_acc: 0.1111\n",
            "Epoch 107/500\n",
            "4/4 [==============================] - 0s 14ms/step - loss: 0.2573 - acc: 0.9113 - val_loss: 21.4072 - val_acc: 0.1111\n",
            "Epoch 108/500\n",
            "4/4 [==============================] - 0s 13ms/step - loss: 0.3091 - acc: 0.8710 - val_loss: 22.2220 - val_acc: 0.1111\n",
            "Epoch 109/500\n",
            "4/4 [==============================] - 0s 13ms/step - loss: 0.2545 - acc: 0.9113 - val_loss: 21.4955 - val_acc: 0.1111\n",
            "Epoch 110/500\n",
            "4/4 [==============================] - 0s 12ms/step - loss: 0.3231 - acc: 0.8790 - val_loss: 21.9732 - val_acc: 0.1111\n",
            "Epoch 111/500\n",
            "4/4 [==============================] - 0s 13ms/step - loss: 0.3219 - acc: 0.9032 - val_loss: 21.7197 - val_acc: 0.1111\n",
            "Epoch 112/500\n",
            "4/4 [==============================] - 0s 13ms/step - loss: 0.1993 - acc: 0.9113 - val_loss: 21.8521 - val_acc: 0.1111\n",
            "Epoch 113/500\n",
            "4/4 [==============================] - 0s 12ms/step - loss: 0.1821 - acc: 0.9274 - val_loss: 22.3063 - val_acc: 0.1111\n",
            "Epoch 114/500\n",
            "4/4 [==============================] - 0s 15ms/step - loss: 0.1785 - acc: 0.9355 - val_loss: 21.8370 - val_acc: 0.1111\n",
            "Epoch 115/500\n",
            "4/4 [==============================] - 0s 12ms/step - loss: 0.1460 - acc: 0.9355 - val_loss: 22.2894 - val_acc: 0.1111\n",
            "Epoch 116/500\n",
            "4/4 [==============================] - 0s 13ms/step - loss: 0.1918 - acc: 0.9032 - val_loss: 21.8155 - val_acc: 0.1111\n",
            "Epoch 117/500\n",
            "4/4 [==============================] - 0s 11ms/step - loss: 0.1279 - acc: 0.9597 - val_loss: 22.5263 - val_acc: 0.1111\n",
            "Epoch 118/500\n",
            "4/4 [==============================] - 0s 11ms/step - loss: 0.1772 - acc: 0.9355 - val_loss: 21.8381 - val_acc: 0.1111\n",
            "Epoch 119/500\n",
            "4/4 [==============================] - 0s 16ms/step - loss: 0.1576 - acc: 0.9274 - val_loss: 22.4176 - val_acc: 0.1111\n",
            "Epoch 120/500\n",
            "4/4 [==============================] - 0s 11ms/step - loss: 0.1707 - acc: 0.9355 - val_loss: 21.7391 - val_acc: 0.1111\n",
            "Epoch 121/500\n",
            "4/4 [==============================] - 0s 13ms/step - loss: 0.1938 - acc: 0.9113 - val_loss: 22.9078 - val_acc: 0.1111\n",
            "Epoch 122/500\n",
            "4/4 [==============================] - 0s 14ms/step - loss: 0.2612 - acc: 0.9113 - val_loss: 21.6676 - val_acc: 0.1111\n",
            "Epoch 123/500\n",
            "4/4 [==============================] - 0s 12ms/step - loss: 0.2580 - acc: 0.9032 - val_loss: 22.5915 - val_acc: 0.1111\n",
            "Epoch 124/500\n",
            "4/4 [==============================] - 0s 14ms/step - loss: 0.2431 - acc: 0.9274 - val_loss: 21.8023 - val_acc: 0.1111\n",
            "Epoch 125/500\n",
            "4/4 [==============================] - 0s 13ms/step - loss: 0.2169 - acc: 0.9194 - val_loss: 22.4423 - val_acc: 0.1111\n",
            "Epoch 126/500\n",
            "4/4 [==============================] - 0s 13ms/step - loss: 0.1774 - acc: 0.9274 - val_loss: 22.1615 - val_acc: 0.1111\n",
            "Epoch 127/500\n",
            "4/4 [==============================] - 0s 11ms/step - loss: 0.1551 - acc: 0.9194 - val_loss: 22.0160 - val_acc: 0.1111\n",
            "Epoch 128/500\n",
            "4/4 [==============================] - 0s 9ms/step - loss: 0.1338 - acc: 0.9435 - val_loss: 22.4843 - val_acc: 0.1111\n",
            "Epoch 129/500\n",
            "4/4 [==============================] - 0s 10ms/step - loss: 0.1544 - acc: 0.9435 - val_loss: 21.9855 - val_acc: 0.1111\n",
            "Epoch 130/500\n",
            "4/4 [==============================] - 0s 9ms/step - loss: 0.1621 - acc: 0.9355 - val_loss: 22.2915 - val_acc: 0.1111\n",
            "Epoch 131/500\n",
            "4/4 [==============================] - 0s 10ms/step - loss: 0.1284 - acc: 0.9516 - val_loss: 21.9777 - val_acc: 0.1111\n",
            "Epoch 132/500\n",
            "4/4 [==============================] - 0s 11ms/step - loss: 0.1731 - acc: 0.9355 - val_loss: 22.2912 - val_acc: 0.1111\n",
            "Epoch 133/500\n",
            "4/4 [==============================] - 0s 10ms/step - loss: 0.1477 - acc: 0.9435 - val_loss: 21.9856 - val_acc: 0.1111\n",
            "Epoch 134/500\n",
            "4/4 [==============================] - 0s 9ms/step - loss: 0.1864 - acc: 0.9113 - val_loss: 22.3778 - val_acc: 0.1111\n",
            "Epoch 135/500\n",
            "4/4 [==============================] - 0s 8ms/step - loss: 0.1695 - acc: 0.9194 - val_loss: 22.0602 - val_acc: 0.1111\n",
            "Epoch 136/500\n",
            "4/4 [==============================] - 0s 9ms/step - loss: 0.1317 - acc: 0.9435 - val_loss: 22.6160 - val_acc: 0.1111\n",
            "Epoch 137/500\n",
            "4/4 [==============================] - 0s 10ms/step - loss: 0.1366 - acc: 0.9435 - val_loss: 22.0511 - val_acc: 0.1111\n",
            "Epoch 138/500\n",
            "4/4 [==============================] - 0s 10ms/step - loss: 0.1661 - acc: 0.9194 - val_loss: 22.6566 - val_acc: 0.1111\n",
            "Epoch 139/500\n",
            "4/4 [==============================] - 0s 10ms/step - loss: 0.1641 - acc: 0.9032 - val_loss: 22.0480 - val_acc: 0.1111\n",
            "Epoch 140/500\n",
            "4/4 [==============================] - 0s 10ms/step - loss: 0.1191 - acc: 0.9516 - val_loss: 22.5797 - val_acc: 0.1111\n",
            "Epoch 141/500\n",
            "4/4 [==============================] - 0s 9ms/step - loss: 0.1450 - acc: 0.9435 - val_loss: 21.9700 - val_acc: 0.1111\n",
            "Epoch 142/500\n",
            "4/4 [==============================] - 0s 9ms/step - loss: 0.1604 - acc: 0.9274 - val_loss: 22.5089 - val_acc: 0.1111\n",
            "Epoch 143/500\n",
            "4/4 [==============================] - 0s 12ms/step - loss: 0.1668 - acc: 0.9274 - val_loss: 22.1091 - val_acc: 0.1111\n",
            "Epoch 144/500\n",
            "4/4 [==============================] - 0s 10ms/step - loss: 0.2306 - acc: 0.9032 - val_loss: 22.7334 - val_acc: 0.1111\n",
            "Epoch 145/500\n",
            "4/4 [==============================] - 0s 9ms/step - loss: 0.1943 - acc: 0.9194 - val_loss: 22.0690 - val_acc: 0.1111\n",
            "Epoch 146/500\n",
            "4/4 [==============================] - 0s 10ms/step - loss: 0.2046 - acc: 0.8952 - val_loss: 22.4677 - val_acc: 0.1111\n",
            "Epoch 147/500\n",
            "4/4 [==============================] - 0s 10ms/step - loss: 0.1217 - acc: 0.9516 - val_loss: 22.1848 - val_acc: 0.1111\n",
            "Epoch 148/500\n",
            "4/4 [==============================] - 0s 11ms/step - loss: 0.1528 - acc: 0.9435 - val_loss: 22.2960 - val_acc: 0.1111\n",
            "Epoch 149/500\n",
            "4/4 [==============================] - 0s 9ms/step - loss: 0.1503 - acc: 0.9355 - val_loss: 22.7332 - val_acc: 0.1111\n",
            "Epoch 150/500\n",
            "4/4 [==============================] - 0s 9ms/step - loss: 0.1553 - acc: 0.9274 - val_loss: 22.0712 - val_acc: 0.1111\n",
            "Epoch 151/500\n",
            "4/4 [==============================] - 0s 10ms/step - loss: 0.2565 - acc: 0.8790 - val_loss: 23.3065 - val_acc: 0.1111\n",
            "Epoch 152/500\n",
            "4/4 [==============================] - 0s 9ms/step - loss: 0.3083 - acc: 0.8871 - val_loss: 22.0743 - val_acc: 0.0926\n",
            "Epoch 153/500\n",
            "4/4 [==============================] - 0s 10ms/step - loss: 0.3026 - acc: 0.8790 - val_loss: 23.5144 - val_acc: 0.1111\n",
            "Epoch 154/500\n",
            "4/4 [==============================] - 0s 12ms/step - loss: 0.2379 - acc: 0.9274 - val_loss: 22.2403 - val_acc: 0.1111\n",
            "Epoch 155/500\n",
            "4/4 [==============================] - 0s 14ms/step - loss: 0.1605 - acc: 0.9274 - val_loss: 22.7736 - val_acc: 0.1111\n",
            "Epoch 156/500\n",
            "4/4 [==============================] - 0s 14ms/step - loss: 0.1413 - acc: 0.9516 - val_loss: 22.6307 - val_acc: 0.1111\n",
            "Epoch 157/500\n",
            "4/4 [==============================] - 0s 15ms/step - loss: 0.1474 - acc: 0.9355 - val_loss: 22.4105 - val_acc: 0.1111\n",
            "Epoch 158/500\n",
            "4/4 [==============================] - 0s 13ms/step - loss: 0.1992 - acc: 0.9113 - val_loss: 22.9889 - val_acc: 0.1111\n",
            "Epoch 159/500\n",
            "4/4 [==============================] - 0s 14ms/step - loss: 0.1656 - acc: 0.9435 - val_loss: 22.6298 - val_acc: 0.1111\n",
            "Epoch 160/500\n",
            "4/4 [==============================] - 0s 13ms/step - loss: 0.1253 - acc: 0.9597 - val_loss: 22.4341 - val_acc: 0.1111\n",
            "Epoch 161/500\n",
            "4/4 [==============================] - 0s 14ms/step - loss: 0.1335 - acc: 0.9355 - val_loss: 23.0030 - val_acc: 0.1111\n",
            "Epoch 162/500\n",
            "4/4 [==============================] - 0s 13ms/step - loss: 0.1517 - acc: 0.9355 - val_loss: 22.2569 - val_acc: 0.1111\n",
            "Epoch 163/500\n",
            "4/4 [==============================] - 0s 14ms/step - loss: 0.2304 - acc: 0.8952 - val_loss: 23.4000 - val_acc: 0.1111\n",
            "Epoch 164/500\n",
            "4/4 [==============================] - 0s 11ms/step - loss: 0.1990 - acc: 0.9274 - val_loss: 22.2835 - val_acc: 0.1111\n",
            "Epoch 165/500\n",
            "4/4 [==============================] - 0s 15ms/step - loss: 0.2109 - acc: 0.9113 - val_loss: 23.1646 - val_acc: 0.1111\n",
            "Epoch 166/500\n",
            "4/4 [==============================] - 0s 12ms/step - loss: 0.1927 - acc: 0.9113 - val_loss: 22.5001 - val_acc: 0.1111\n",
            "Epoch 167/500\n",
            "4/4 [==============================] - 0s 13ms/step - loss: 0.2279 - acc: 0.8952 - val_loss: 23.2451 - val_acc: 0.1111\n",
            "Epoch 168/500\n",
            "4/4 [==============================] - 0s 13ms/step - loss: 0.3415 - acc: 0.8871 - val_loss: 22.2797 - val_acc: 0.0926\n",
            "Epoch 169/500\n",
            "4/4 [==============================] - 0s 12ms/step - loss: 0.3525 - acc: 0.8629 - val_loss: 23.4190 - val_acc: 0.1111\n",
            "Epoch 170/500\n",
            "4/4 [==============================] - 0s 16ms/step - loss: 0.2217 - acc: 0.9113 - val_loss: 22.4278 - val_acc: 0.1111\n",
            "Epoch 171/500\n",
            "4/4 [==============================] - 0s 14ms/step - loss: 0.1649 - acc: 0.9113 - val_loss: 23.2902 - val_acc: 0.1111\n",
            "Epoch 172/500\n",
            "4/4 [==============================] - 0s 14ms/step - loss: 0.2113 - acc: 0.9274 - val_loss: 22.6000 - val_acc: 0.1111\n",
            "Epoch 173/500\n",
            "4/4 [==============================] - 0s 18ms/step - loss: 0.1438 - acc: 0.9516 - val_loss: 22.9299 - val_acc: 0.1111\n",
            "Epoch 174/500\n",
            "4/4 [==============================] - 0s 15ms/step - loss: 0.1395 - acc: 0.9274 - val_loss: 22.4793 - val_acc: 0.1111\n",
            "Epoch 175/500\n",
            "4/4 [==============================] - 0s 12ms/step - loss: 0.1496 - acc: 0.9194 - val_loss: 23.6067 - val_acc: 0.1111\n",
            "Epoch 176/500\n",
            "4/4 [==============================] - 0s 13ms/step - loss: 0.1984 - acc: 0.9355 - val_loss: 22.4492 - val_acc: 0.1111\n",
            "Epoch 177/500\n",
            "4/4 [==============================] - 0s 13ms/step - loss: 0.1912 - acc: 0.9032 - val_loss: 23.1109 - val_acc: 0.1111\n",
            "Epoch 178/500\n",
            "4/4 [==============================] - 0s 13ms/step - loss: 0.2017 - acc: 0.9194 - val_loss: 22.4997 - val_acc: 0.1111\n",
            "Epoch 179/500\n",
            "4/4 [==============================] - 0s 13ms/step - loss: 0.1545 - acc: 0.9194 - val_loss: 23.0039 - val_acc: 0.1111\n",
            "Epoch 180/500\n",
            "4/4 [==============================] - 0s 11ms/step - loss: 0.1356 - acc: 0.9677 - val_loss: 22.7180 - val_acc: 0.1111\n",
            "Epoch 181/500\n",
            "4/4 [==============================] - 0s 13ms/step - loss: 0.1522 - acc: 0.9435 - val_loss: 22.8532 - val_acc: 0.1111\n",
            "Epoch 182/500\n",
            "4/4 [==============================] - 0s 15ms/step - loss: 0.1458 - acc: 0.9435 - val_loss: 22.5491 - val_acc: 0.1111\n",
            "Epoch 183/500\n",
            "4/4 [==============================] - 0s 15ms/step - loss: 0.2183 - acc: 0.9113 - val_loss: 23.1870 - val_acc: 0.1111\n",
            "Epoch 184/500\n",
            "4/4 [==============================] - 0s 16ms/step - loss: 0.1743 - acc: 0.9194 - val_loss: 22.5879 - val_acc: 0.1111\n",
            "Epoch 185/500\n",
            "4/4 [==============================] - 0s 12ms/step - loss: 0.2094 - acc: 0.9113 - val_loss: 23.2739 - val_acc: 0.1111\n",
            "Epoch 186/500\n",
            "4/4 [==============================] - 0s 12ms/step - loss: 0.2012 - acc: 0.9194 - val_loss: 22.5629 - val_acc: 0.1111\n",
            "Epoch 187/500\n",
            "4/4 [==============================] - 0s 12ms/step - loss: 0.1318 - acc: 0.9355 - val_loss: 22.9632 - val_acc: 0.1111\n",
            "Epoch 188/500\n",
            "4/4 [==============================] - 0s 18ms/step - loss: 0.1200 - acc: 0.9597 - val_loss: 22.6164 - val_acc: 0.1111\n",
            "Epoch 189/500\n",
            "4/4 [==============================] - 0s 13ms/step - loss: 0.1812 - acc: 0.9274 - val_loss: 23.3753 - val_acc: 0.1111\n",
            "Epoch 190/500\n",
            "4/4 [==============================] - 0s 16ms/step - loss: 0.1580 - acc: 0.9435 - val_loss: 22.4254 - val_acc: 0.1111\n",
            "Epoch 191/500\n",
            "4/4 [==============================] - 0s 13ms/step - loss: 0.1680 - acc: 0.9516 - val_loss: 23.2273 - val_acc: 0.1111\n",
            "Epoch 192/500\n",
            "4/4 [==============================] - 0s 12ms/step - loss: 0.1692 - acc: 0.9113 - val_loss: 22.7857 - val_acc: 0.1111\n",
            "Epoch 193/500\n",
            "4/4 [==============================] - 0s 14ms/step - loss: 0.1325 - acc: 0.9435 - val_loss: 22.7859 - val_acc: 0.1111\n",
            "Epoch 194/500\n",
            "4/4 [==============================] - 0s 12ms/step - loss: 0.1194 - acc: 0.9516 - val_loss: 22.6508 - val_acc: 0.1111\n",
            "Epoch 195/500\n",
            "4/4 [==============================] - 0s 14ms/step - loss: 0.1279 - acc: 0.9516 - val_loss: 22.6849 - val_acc: 0.1111\n",
            "Epoch 196/500\n",
            "4/4 [==============================] - 0s 16ms/step - loss: 0.1207 - acc: 0.9597 - val_loss: 22.7846 - val_acc: 0.1111\n",
            "Epoch 197/500\n",
            "4/4 [==============================] - 0s 13ms/step - loss: 0.1118 - acc: 0.9597 - val_loss: 22.6760 - val_acc: 0.1111\n",
            "Epoch 198/500\n",
            "4/4 [==============================] - 0s 12ms/step - loss: 0.1139 - acc: 0.9516 - val_loss: 22.8497 - val_acc: 0.1111\n",
            "Epoch 199/500\n",
            "4/4 [==============================] - 0s 13ms/step - loss: 0.1493 - acc: 0.9597 - val_loss: 22.6349 - val_acc: 0.1111\n",
            "Epoch 200/500\n",
            "4/4 [==============================] - 0s 14ms/step - loss: 0.2225 - acc: 0.9113 - val_loss: 23.2259 - val_acc: 0.1111\n",
            "Epoch 201/500\n",
            "4/4 [==============================] - 0s 13ms/step - loss: 0.2458 - acc: 0.9194 - val_loss: 22.5024 - val_acc: 0.1111\n",
            "Epoch 202/500\n",
            "4/4 [==============================] - 0s 12ms/step - loss: 0.2163 - acc: 0.9032 - val_loss: 23.5023 - val_acc: 0.1111\n",
            "Epoch 203/500\n",
            "4/4 [==============================] - 0s 15ms/step - loss: 0.2484 - acc: 0.8952 - val_loss: 22.5074 - val_acc: 0.1111\n",
            "Epoch 204/500\n",
            "4/4 [==============================] - 0s 13ms/step - loss: 0.3535 - acc: 0.8871 - val_loss: 23.7548 - val_acc: 0.1111\n",
            "Epoch 205/500\n",
            "4/4 [==============================] - 0s 13ms/step - loss: 0.1661 - acc: 0.9516 - val_loss: 22.6044 - val_acc: 0.1111\n",
            "Epoch 206/500\n",
            "4/4 [==============================] - 0s 14ms/step - loss: 0.1773 - acc: 0.9355 - val_loss: 23.3055 - val_acc: 0.1111\n",
            "Epoch 207/500\n",
            "4/4 [==============================] - 0s 11ms/step - loss: 0.1315 - acc: 0.9435 - val_loss: 22.8491 - val_acc: 0.1111\n",
            "Epoch 208/500\n",
            "4/4 [==============================] - 0s 14ms/step - loss: 0.1289 - acc: 0.9516 - val_loss: 23.3147 - val_acc: 0.1111\n",
            "Epoch 209/500\n",
            "4/4 [==============================] - 0s 14ms/step - loss: 0.1425 - acc: 0.9516 - val_loss: 22.8767 - val_acc: 0.1111\n",
            "Epoch 210/500\n",
            "4/4 [==============================] - 0s 14ms/step - loss: 0.1427 - acc: 0.9435 - val_loss: 22.9283 - val_acc: 0.1111\n",
            "Epoch 211/500\n",
            "4/4 [==============================] - 0s 13ms/step - loss: 0.1185 - acc: 0.9516 - val_loss: 22.8638 - val_acc: 0.1111\n",
            "Epoch 212/500\n",
            "4/4 [==============================] - 0s 12ms/step - loss: 0.1022 - acc: 0.9597 - val_loss: 23.1521 - val_acc: 0.1111\n",
            "Epoch 213/500\n",
            "4/4 [==============================] - 0s 14ms/step - loss: 0.1249 - acc: 0.9597 - val_loss: 22.6956 - val_acc: 0.1111\n",
            "Epoch 214/500\n",
            "4/4 [==============================] - 0s 13ms/step - loss: 0.1908 - acc: 0.9194 - val_loss: 23.2083 - val_acc: 0.1111\n",
            "Epoch 215/500\n",
            "4/4 [==============================] - 0s 14ms/step - loss: 0.1476 - acc: 0.9435 - val_loss: 23.1025 - val_acc: 0.1111\n",
            "Epoch 216/500\n",
            "4/4 [==============================] - 0s 13ms/step - loss: 0.1359 - acc: 0.9597 - val_loss: 22.8059 - val_acc: 0.1111\n",
            "Epoch 217/500\n",
            "4/4 [==============================] - 0s 15ms/step - loss: 0.1427 - acc: 0.9516 - val_loss: 23.1882 - val_acc: 0.1111\n",
            "Epoch 218/500\n",
            "4/4 [==============================] - 0s 13ms/step - loss: 0.1158 - acc: 0.9516 - val_loss: 22.7635 - val_acc: 0.1111\n",
            "Epoch 219/500\n",
            "4/4 [==============================] - 0s 19ms/step - loss: 0.2279 - acc: 0.9274 - val_loss: 23.4922 - val_acc: 0.1111\n",
            "Epoch 220/500\n",
            "4/4 [==============================] - 0s 13ms/step - loss: 0.1392 - acc: 0.9435 - val_loss: 22.8583 - val_acc: 0.1111\n",
            "Epoch 221/500\n",
            "4/4 [==============================] - 0s 12ms/step - loss: 0.1048 - acc: 0.9677 - val_loss: 23.3020 - val_acc: 0.1111\n",
            "Epoch 222/500\n",
            "4/4 [==============================] - 0s 15ms/step - loss: 0.1117 - acc: 0.9597 - val_loss: 22.7855 - val_acc: 0.1111\n",
            "Epoch 223/500\n",
            "4/4 [==============================] - 0s 13ms/step - loss: 0.1322 - acc: 0.9435 - val_loss: 23.2608 - val_acc: 0.1111\n",
            "Epoch 224/500\n",
            "4/4 [==============================] - 0s 13ms/step - loss: 0.1082 - acc: 0.9758 - val_loss: 22.8300 - val_acc: 0.1111\n",
            "Epoch 225/500\n",
            "4/4 [==============================] - 0s 14ms/step - loss: 0.1507 - acc: 0.9274 - val_loss: 23.1843 - val_acc: 0.1111\n",
            "Epoch 226/500\n",
            "4/4 [==============================] - 0s 13ms/step - loss: 0.1183 - acc: 0.9597 - val_loss: 23.1208 - val_acc: 0.1111\n",
            "Epoch 227/500\n",
            "4/4 [==============================] - 0s 13ms/step - loss: 0.1323 - acc: 0.9516 - val_loss: 22.8034 - val_acc: 0.1111\n",
            "Epoch 228/500\n",
            "4/4 [==============================] - 0s 13ms/step - loss: 0.1603 - acc: 0.9194 - val_loss: 23.7321 - val_acc: 0.1111\n",
            "Epoch 229/500\n",
            "4/4 [==============================] - 0s 13ms/step - loss: 0.2189 - acc: 0.9274 - val_loss: 22.7453 - val_acc: 0.1111\n",
            "Epoch 230/500\n",
            "4/4 [==============================] - 0s 15ms/step - loss: 0.1775 - acc: 0.9194 - val_loss: 24.1227 - val_acc: 0.1111\n",
            "Epoch 231/500\n",
            "4/4 [==============================] - 0s 13ms/step - loss: 0.2208 - acc: 0.9113 - val_loss: 22.7973 - val_acc: 0.1111\n",
            "Epoch 232/500\n",
            "4/4 [==============================] - 0s 13ms/step - loss: 0.1985 - acc: 0.9194 - val_loss: 23.6276 - val_acc: 0.1111\n",
            "Epoch 233/500\n",
            "4/4 [==============================] - 0s 14ms/step - loss: 0.1823 - acc: 0.9274 - val_loss: 22.9089 - val_acc: 0.1111\n",
            "Epoch 234/500\n",
            "4/4 [==============================] - 0s 13ms/step - loss: 0.1924 - acc: 0.8871 - val_loss: 23.3485 - val_acc: 0.1111\n",
            "Epoch 235/500\n",
            "4/4 [==============================] - 0s 11ms/step - loss: 0.1371 - acc: 0.9597 - val_loss: 23.0399 - val_acc: 0.1111\n",
            "Epoch 236/500\n",
            "4/4 [==============================] - 0s 13ms/step - loss: 0.0942 - acc: 0.9677 - val_loss: 23.6487 - val_acc: 0.1111\n",
            "Epoch 237/500\n",
            "4/4 [==============================] - 0s 12ms/step - loss: 0.1251 - acc: 0.9597 - val_loss: 23.0142 - val_acc: 0.1111\n",
            "Epoch 238/500\n",
            "4/4 [==============================] - 0s 13ms/step - loss: 0.1210 - acc: 0.9516 - val_loss: 23.5063 - val_acc: 0.1111\n",
            "Epoch 239/500\n",
            "4/4 [==============================] - 0s 12ms/step - loss: 0.1239 - acc: 0.9597 - val_loss: 23.0078 - val_acc: 0.1111\n",
            "Epoch 240/500\n",
            "4/4 [==============================] - 0s 13ms/step - loss: 0.1644 - acc: 0.9435 - val_loss: 23.3756 - val_acc: 0.1111\n",
            "Epoch 241/500\n",
            "4/4 [==============================] - 0s 16ms/step - loss: 0.1056 - acc: 0.9597 - val_loss: 23.1459 - val_acc: 0.1111\n",
            "Epoch 242/500\n",
            "4/4 [==============================] - 0s 13ms/step - loss: 0.1118 - acc: 0.9597 - val_loss: 23.3176 - val_acc: 0.1111\n",
            "Epoch 243/500\n",
            "4/4 [==============================] - 0s 12ms/step - loss: 0.1057 - acc: 0.9677 - val_loss: 23.1028 - val_acc: 0.1111\n",
            "Epoch 244/500\n",
            "4/4 [==============================] - 0s 12ms/step - loss: 0.1417 - acc: 0.9435 - val_loss: 23.3592 - val_acc: 0.1111\n",
            "Epoch 245/500\n",
            "4/4 [==============================] - 0s 15ms/step - loss: 0.1509 - acc: 0.9355 - val_loss: 23.4411 - val_acc: 0.1111\n",
            "Epoch 246/500\n",
            "4/4 [==============================] - 0s 13ms/step - loss: 0.1591 - acc: 0.9435 - val_loss: 23.1200 - val_acc: 0.1111\n",
            "Epoch 247/500\n",
            "4/4 [==============================] - 0s 16ms/step - loss: 0.1720 - acc: 0.9274 - val_loss: 23.8807 - val_acc: 0.1111\n",
            "Epoch 248/500\n",
            "4/4 [==============================] - 0s 13ms/step - loss: 0.2047 - acc: 0.9194 - val_loss: 23.0054 - val_acc: 0.1111\n",
            "Epoch 249/500\n",
            "4/4 [==============================] - 0s 14ms/step - loss: 0.1207 - acc: 0.9435 - val_loss: 24.2574 - val_acc: 0.1111\n",
            "Epoch 250/500\n",
            "4/4 [==============================] - 0s 14ms/step - loss: 0.2305 - acc: 0.9113 - val_loss: 22.9995 - val_acc: 0.1111\n",
            "Epoch 251/500\n",
            "4/4 [==============================] - 0s 13ms/step - loss: 0.1628 - acc: 0.9355 - val_loss: 23.7382 - val_acc: 0.1111\n",
            "Epoch 252/500\n",
            "4/4 [==============================] - 0s 13ms/step - loss: 0.1862 - acc: 0.9194 - val_loss: 23.5683 - val_acc: 0.1111\n",
            "Epoch 253/500\n",
            "4/4 [==============================] - 0s 13ms/step - loss: 0.1351 - acc: 0.9516 - val_loss: 23.3187 - val_acc: 0.1111\n",
            "Epoch 254/500\n",
            "4/4 [==============================] - 0s 14ms/step - loss: 0.1037 - acc: 0.9597 - val_loss: 23.4282 - val_acc: 0.1111\n",
            "Epoch 255/500\n",
            "4/4 [==============================] - 0s 14ms/step - loss: 0.1342 - acc: 0.9597 - val_loss: 23.1191 - val_acc: 0.1111\n",
            "Epoch 256/500\n",
            "4/4 [==============================] - 0s 13ms/step - loss: 0.1418 - acc: 0.9355 - val_loss: 23.6649 - val_acc: 0.1111\n",
            "Epoch 257/500\n",
            "4/4 [==============================] - 0s 13ms/step - loss: 0.1271 - acc: 0.9516 - val_loss: 23.2220 - val_acc: 0.1111\n",
            "Epoch 258/500\n",
            "4/4 [==============================] - 0s 19ms/step - loss: 0.1213 - acc: 0.9758 - val_loss: 23.4739 - val_acc: 0.1111\n",
            "Epoch 259/500\n",
            "4/4 [==============================] - 0s 14ms/step - loss: 0.1337 - acc: 0.9516 - val_loss: 23.4479 - val_acc: 0.1111\n",
            "Epoch 260/500\n",
            "4/4 [==============================] - 0s 17ms/step - loss: 0.1251 - acc: 0.9677 - val_loss: 23.3798 - val_acc: 0.1111\n",
            "Epoch 261/500\n",
            "4/4 [==============================] - 0s 16ms/step - loss: 0.1008 - acc: 0.9597 - val_loss: 23.3336 - val_acc: 0.1111\n",
            "Epoch 262/500\n",
            "4/4 [==============================] - 0s 15ms/step - loss: 0.1073 - acc: 0.9597 - val_loss: 23.5531 - val_acc: 0.1111\n",
            "Epoch 263/500\n",
            "4/4 [==============================] - 0s 15ms/step - loss: 0.1057 - acc: 0.9758 - val_loss: 23.3584 - val_acc: 0.1111\n",
            "Epoch 264/500\n",
            "4/4 [==============================] - 0s 13ms/step - loss: 0.1072 - acc: 0.9597 - val_loss: 23.4649 - val_acc: 0.1111\n",
            "Epoch 265/500\n",
            "4/4 [==============================] - 0s 13ms/step - loss: 0.1189 - acc: 0.9597 - val_loss: 23.1721 - val_acc: 0.1111\n",
            "Epoch 266/500\n",
            "4/4 [==============================] - 0s 16ms/step - loss: 0.1496 - acc: 0.9274 - val_loss: 24.0132 - val_acc: 0.1111\n",
            "Epoch 267/500\n",
            "4/4 [==============================] - 0s 15ms/step - loss: 0.1573 - acc: 0.9597 - val_loss: 23.2103 - val_acc: 0.1111\n",
            "Epoch 268/500\n",
            "4/4 [==============================] - 0s 16ms/step - loss: 0.1166 - acc: 0.9516 - val_loss: 23.4713 - val_acc: 0.1111\n",
            "Epoch 269/500\n",
            "4/4 [==============================] - 0s 13ms/step - loss: 0.1008 - acc: 0.9758 - val_loss: 23.4554 - val_acc: 0.1111\n",
            "Epoch 270/500\n",
            "4/4 [==============================] - 0s 14ms/step - loss: 0.1098 - acc: 0.9677 - val_loss: 23.3176 - val_acc: 0.1111\n",
            "Epoch 271/500\n",
            "4/4 [==============================] - 0s 14ms/step - loss: 0.1338 - acc: 0.9435 - val_loss: 23.7195 - val_acc: 0.1111\n",
            "Epoch 272/500\n",
            "4/4 [==============================] - 0s 13ms/step - loss: 0.1398 - acc: 0.9355 - val_loss: 23.6044 - val_acc: 0.1111\n",
            "Epoch 273/500\n",
            "4/4 [==============================] - 0s 14ms/step - loss: 0.1238 - acc: 0.9516 - val_loss: 23.3157 - val_acc: 0.1111\n",
            "Epoch 274/500\n",
            "4/4 [==============================] - 0s 13ms/step - loss: 0.1191 - acc: 0.9435 - val_loss: 23.6524 - val_acc: 0.1111\n",
            "Epoch 275/500\n",
            "4/4 [==============================] - 0s 15ms/step - loss: 0.1013 - acc: 0.9677 - val_loss: 23.2708 - val_acc: 0.1111\n",
            "Epoch 276/500\n",
            "4/4 [==============================] - 0s 15ms/step - loss: 0.1109 - acc: 0.9435 - val_loss: 23.7140 - val_acc: 0.1111\n",
            "Epoch 277/500\n",
            "4/4 [==============================] - 0s 15ms/step - loss: 0.1137 - acc: 0.9677 - val_loss: 23.2920 - val_acc: 0.1111\n",
            "Epoch 278/500\n",
            "4/4 [==============================] - 0s 13ms/step - loss: 0.1511 - acc: 0.9435 - val_loss: 23.8772 - val_acc: 0.1111\n",
            "Epoch 279/500\n",
            "4/4 [==============================] - 0s 13ms/step - loss: 0.1322 - acc: 0.9516 - val_loss: 23.3137 - val_acc: 0.1111\n",
            "Epoch 280/500\n",
            "4/4 [==============================] - 0s 15ms/step - loss: 0.1191 - acc: 0.9435 - val_loss: 23.5295 - val_acc: 0.1111\n",
            "Epoch 281/500\n",
            "4/4 [==============================] - 0s 14ms/step - loss: 0.1131 - acc: 0.9597 - val_loss: 23.4659 - val_acc: 0.1111\n",
            "Epoch 282/500\n",
            "4/4 [==============================] - 0s 12ms/step - loss: 0.1031 - acc: 0.9677 - val_loss: 23.5454 - val_acc: 0.1111\n",
            "Epoch 283/500\n",
            "4/4 [==============================] - 0s 20ms/step - loss: 0.1107 - acc: 0.9677 - val_loss: 23.5292 - val_acc: 0.1111\n",
            "Epoch 284/500\n",
            "4/4 [==============================] - 0s 14ms/step - loss: 0.1156 - acc: 0.9677 - val_loss: 23.3897 - val_acc: 0.1111\n",
            "Epoch 285/500\n",
            "4/4 [==============================] - 0s 14ms/step - loss: 0.1468 - acc: 0.9435 - val_loss: 23.8304 - val_acc: 0.1111\n",
            "Epoch 286/500\n",
            "4/4 [==============================] - 0s 14ms/step - loss: 0.0979 - acc: 0.9516 - val_loss: 23.3852 - val_acc: 0.1111\n",
            "Epoch 287/500\n",
            "4/4 [==============================] - 0s 13ms/step - loss: 0.1598 - acc: 0.9435 - val_loss: 23.5881 - val_acc: 0.1111\n",
            "Epoch 288/500\n",
            "4/4 [==============================] - 0s 14ms/step - loss: 0.1364 - acc: 0.9194 - val_loss: 23.8109 - val_acc: 0.1111\n",
            "Epoch 289/500\n",
            "4/4 [==============================] - 0s 15ms/step - loss: 0.1498 - acc: 0.9516 - val_loss: 23.3443 - val_acc: 0.1111\n",
            "Epoch 290/500\n",
            "4/4 [==============================] - 0s 13ms/step - loss: 0.1234 - acc: 0.9355 - val_loss: 24.3042 - val_acc: 0.1111\n",
            "Epoch 291/500\n",
            "4/4 [==============================] - 0s 15ms/step - loss: 0.1712 - acc: 0.9597 - val_loss: 23.3505 - val_acc: 0.1111\n",
            "Epoch 292/500\n",
            "4/4 [==============================] - 0s 14ms/step - loss: 0.1456 - acc: 0.9113 - val_loss: 25.2982 - val_acc: 0.1111\n",
            "Epoch 293/500\n",
            "4/4 [==============================] - 0s 13ms/step - loss: 0.3571 - acc: 0.8548 - val_loss: 23.5393 - val_acc: 0.0926\n",
            "Epoch 294/500\n",
            "4/4 [==============================] - 0s 14ms/step - loss: 0.3942 - acc: 0.8629 - val_loss: 26.2457 - val_acc: 0.1111\n",
            "Epoch 295/500\n",
            "4/4 [==============================] - 0s 16ms/step - loss: 0.4796 - acc: 0.8952 - val_loss: 23.4475 - val_acc: 0.0926\n",
            "Epoch 296/500\n",
            "4/4 [==============================] - 0s 15ms/step - loss: 0.4293 - acc: 0.8629 - val_loss: 24.3166 - val_acc: 0.1111\n",
            "Epoch 297/500\n",
            "4/4 [==============================] - 0s 17ms/step - loss: 0.4386 - acc: 0.8790 - val_loss: 23.9550 - val_acc: 0.1111\n",
            "Epoch 298/500\n",
            "4/4 [==============================] - 0s 13ms/step - loss: 0.2617 - acc: 0.9194 - val_loss: 23.9968 - val_acc: 0.1111\n",
            "Epoch 299/500\n",
            "4/4 [==============================] - 0s 15ms/step - loss: 0.1356 - acc: 0.9274 - val_loss: 23.6447 - val_acc: 0.1111\n",
            "Epoch 300/500\n",
            "4/4 [==============================] - 0s 13ms/step - loss: 0.1256 - acc: 0.9355 - val_loss: 24.7169 - val_acc: 0.1111\n",
            "Epoch 301/500\n",
            "4/4 [==============================] - 0s 14ms/step - loss: 0.1590 - acc: 0.9516 - val_loss: 23.6936 - val_acc: 0.1111\n",
            "Epoch 302/500\n",
            "4/4 [==============================] - 0s 12ms/step - loss: 0.1387 - acc: 0.9435 - val_loss: 24.1227 - val_acc: 0.1111\n",
            "Epoch 303/500\n",
            "4/4 [==============================] - 0s 15ms/step - loss: 0.1511 - acc: 0.9435 - val_loss: 23.8965 - val_acc: 0.1111\n",
            "Epoch 304/500\n",
            "4/4 [==============================] - 0s 15ms/step - loss: 0.1406 - acc: 0.9597 - val_loss: 24.0299 - val_acc: 0.1111\n",
            "Epoch 305/500\n",
            "4/4 [==============================] - 0s 12ms/step - loss: 0.1177 - acc: 0.9677 - val_loss: 23.7355 - val_acc: 0.1111\n",
            "Epoch 306/500\n",
            "4/4 [==============================] - 0s 14ms/step - loss: 0.1259 - acc: 0.9516 - val_loss: 23.7459 - val_acc: 0.1111\n",
            "Epoch 307/500\n",
            "4/4 [==============================] - 0s 14ms/step - loss: 0.1216 - acc: 0.9597 - val_loss: 23.7725 - val_acc: 0.1111\n",
            "Epoch 308/500\n",
            "4/4 [==============================] - 0s 14ms/step - loss: 0.1292 - acc: 0.9597 - val_loss: 23.8597 - val_acc: 0.1111\n",
            "Epoch 309/500\n",
            "4/4 [==============================] - 0s 15ms/step - loss: 0.1100 - acc: 0.9597 - val_loss: 23.6322 - val_acc: 0.1111\n",
            "Epoch 310/500\n",
            "4/4 [==============================] - 0s 13ms/step - loss: 0.1115 - acc: 0.9597 - val_loss: 23.6761 - val_acc: 0.1111\n",
            "Epoch 311/500\n",
            "4/4 [==============================] - 0s 15ms/step - loss: 0.1299 - acc: 0.9516 - val_loss: 23.4234 - val_acc: 0.1111\n",
            "Epoch 312/500\n",
            "4/4 [==============================] - 0s 15ms/step - loss: 0.1386 - acc: 0.9516 - val_loss: 23.6813 - val_acc: 0.1111\n",
            "Epoch 313/500\n",
            "4/4 [==============================] - 0s 16ms/step - loss: 0.1265 - acc: 0.9516 - val_loss: 23.5849 - val_acc: 0.1111\n",
            "Epoch 314/500\n",
            "4/4 [==============================] - 0s 15ms/step - loss: 0.1002 - acc: 0.9677 - val_loss: 23.6324 - val_acc: 0.1111\n",
            "Epoch 315/500\n",
            "4/4 [==============================] - 0s 17ms/step - loss: 0.1146 - acc: 0.9597 - val_loss: 23.5858 - val_acc: 0.1111\n",
            "Epoch 316/500\n",
            "4/4 [==============================] - 0s 13ms/step - loss: 0.1062 - acc: 0.9758 - val_loss: 23.3732 - val_acc: 0.1111\n",
            "Epoch 317/500\n",
            "4/4 [==============================] - 0s 13ms/step - loss: 0.1121 - acc: 0.9516 - val_loss: 23.5813 - val_acc: 0.1111\n",
            "Epoch 318/500\n",
            "4/4 [==============================] - 0s 17ms/step - loss: 0.1126 - acc: 0.9758 - val_loss: 23.5084 - val_acc: 0.1111\n",
            "Epoch 319/500\n",
            "4/4 [==============================] - 0s 13ms/step - loss: 0.1295 - acc: 0.9516 - val_loss: 23.8757 - val_acc: 0.1111\n",
            "Epoch 320/500\n",
            "4/4 [==============================] - 0s 14ms/step - loss: 0.1829 - acc: 0.9274 - val_loss: 23.2878 - val_acc: 0.1111\n",
            "Epoch 321/500\n",
            "4/4 [==============================] - 0s 14ms/step - loss: 0.1144 - acc: 0.9677 - val_loss: 23.4708 - val_acc: 0.1111\n",
            "Epoch 322/500\n",
            "4/4 [==============================] - 0s 14ms/step - loss: 0.0987 - acc: 0.9677 - val_loss: 23.3341 - val_acc: 0.1111\n",
            "Epoch 323/500\n",
            "4/4 [==============================] - 0s 15ms/step - loss: 0.0957 - acc: 0.9677 - val_loss: 23.5208 - val_acc: 0.1111\n",
            "Epoch 324/500\n",
            "4/4 [==============================] - 0s 15ms/step - loss: 0.1140 - acc: 0.9758 - val_loss: 23.5207 - val_acc: 0.1111\n",
            "Epoch 325/500\n",
            "4/4 [==============================] - 0s 14ms/step - loss: 0.1070 - acc: 0.9677 - val_loss: 23.1933 - val_acc: 0.1111\n",
            "Epoch 326/500\n",
            "4/4 [==============================] - 0s 14ms/step - loss: 0.1291 - acc: 0.9516 - val_loss: 23.3896 - val_acc: 0.1111\n",
            "Epoch 327/500\n",
            "4/4 [==============================] - 0s 15ms/step - loss: 0.1332 - acc: 0.9516 - val_loss: 23.5311 - val_acc: 0.1111\n",
            "Epoch 328/500\n",
            "4/4 [==============================] - 0s 15ms/step - loss: 0.1431 - acc: 0.9516 - val_loss: 23.1808 - val_acc: 0.1111\n",
            "Epoch 329/500\n",
            "4/4 [==============================] - 0s 13ms/step - loss: 0.2193 - acc: 0.8952 - val_loss: 24.3842 - val_acc: 0.1111\n",
            "Epoch 330/500\n",
            "4/4 [==============================] - 0s 15ms/step - loss: 0.4301 - acc: 0.8710 - val_loss: 23.2780 - val_acc: 0.0926\n",
            "Epoch 331/500\n",
            "4/4 [==============================] - 0s 15ms/step - loss: 0.6971 - acc: 0.8468 - val_loss: 24.3606 - val_acc: 0.1111\n",
            "Epoch 332/500\n",
            "4/4 [==============================] - 0s 16ms/step - loss: 1.0037 - acc: 0.8306 - val_loss: 23.6043 - val_acc: 0.1111\n",
            "Epoch 333/500\n",
            "4/4 [==============================] - 0s 19ms/step - loss: 0.6777 - acc: 0.8629 - val_loss: 23.6994 - val_acc: 0.1111\n",
            "Epoch 334/500\n",
            "4/4 [==============================] - 0s 15ms/step - loss: 0.5580 - acc: 0.8306 - val_loss: 24.1181 - val_acc: 0.1111\n",
            "Epoch 335/500\n",
            "4/4 [==============================] - 0s 13ms/step - loss: 0.3854 - acc: 0.8871 - val_loss: 22.9688 - val_acc: 0.0926\n",
            "Epoch 336/500\n",
            "4/4 [==============================] - 0s 13ms/step - loss: 0.6197 - acc: 0.8548 - val_loss: 24.2677 - val_acc: 0.1111\n",
            "Epoch 337/500\n",
            "4/4 [==============================] - 0s 14ms/step - loss: 0.2698 - acc: 0.9032 - val_loss: 23.1685 - val_acc: 0.1111\n",
            "Epoch 338/500\n",
            "4/4 [==============================] - 0s 18ms/step - loss: 0.2653 - acc: 0.8871 - val_loss: 23.7592 - val_acc: 0.1111\n",
            "Epoch 339/500\n",
            "4/4 [==============================] - 0s 13ms/step - loss: 0.1443 - acc: 0.9677 - val_loss: 23.5637 - val_acc: 0.1111\n",
            "Epoch 340/500\n",
            "4/4 [==============================] - 0s 14ms/step - loss: 0.1139 - acc: 0.9516 - val_loss: 23.2435 - val_acc: 0.1111\n",
            "Epoch 341/500\n",
            "4/4 [==============================] - 0s 13ms/step - loss: 0.1421 - acc: 0.9435 - val_loss: 23.3380 - val_acc: 0.1111\n",
            "Epoch 342/500\n",
            "4/4 [==============================] - 0s 16ms/step - loss: 0.1503 - acc: 0.9435 - val_loss: 23.5158 - val_acc: 0.1111\n",
            "Epoch 343/500\n",
            "4/4 [==============================] - 0s 14ms/step - loss: 0.1246 - acc: 0.9516 - val_loss: 23.1765 - val_acc: 0.1111\n",
            "Epoch 344/500\n",
            "4/4 [==============================] - 0s 14ms/step - loss: 0.1264 - acc: 0.9597 - val_loss: 23.0789 - val_acc: 0.1111\n",
            "Epoch 345/500\n",
            "4/4 [==============================] - 0s 14ms/step - loss: 0.1226 - acc: 0.9597 - val_loss: 23.2588 - val_acc: 0.1111\n",
            "Epoch 346/500\n",
            "4/4 [==============================] - 0s 14ms/step - loss: 0.1090 - acc: 0.9597 - val_loss: 23.2376 - val_acc: 0.1111\n",
            "Epoch 347/500\n",
            "4/4 [==============================] - 0s 14ms/step - loss: 0.1079 - acc: 0.9677 - val_loss: 23.1331 - val_acc: 0.1111\n",
            "Epoch 348/500\n",
            "4/4 [==============================] - 0s 14ms/step - loss: 0.1136 - acc: 0.9516 - val_loss: 23.2845 - val_acc: 0.1111\n",
            "Epoch 349/500\n",
            "4/4 [==============================] - 0s 14ms/step - loss: 0.1186 - acc: 0.9597 - val_loss: 23.0903 - val_acc: 0.1111\n",
            "Epoch 350/500\n",
            "4/4 [==============================] - 0s 14ms/step - loss: 0.1118 - acc: 0.9516 - val_loss: 23.0281 - val_acc: 0.1111\n",
            "Epoch 351/500\n",
            "4/4 [==============================] - 0s 18ms/step - loss: 0.1076 - acc: 0.9758 - val_loss: 22.8920 - val_acc: 0.1111\n",
            "Epoch 352/500\n",
            "4/4 [==============================] - 0s 14ms/step - loss: 0.1161 - acc: 0.9597 - val_loss: 22.9751 - val_acc: 0.1111\n",
            "Epoch 353/500\n",
            "4/4 [==============================] - 0s 13ms/step - loss: 0.1095 - acc: 0.9677 - val_loss: 22.8231 - val_acc: 0.1111\n",
            "Epoch 354/500\n",
            "4/4 [==============================] - 0s 19ms/step - loss: 0.1871 - acc: 0.9032 - val_loss: 23.4554 - val_acc: 0.1111\n",
            "Epoch 355/500\n",
            "4/4 [==============================] - 0s 16ms/step - loss: 0.1667 - acc: 0.9435 - val_loss: 22.7717 - val_acc: 0.1111\n",
            "Epoch 356/500\n",
            "4/4 [==============================] - 0s 16ms/step - loss: 0.1068 - acc: 0.9435 - val_loss: 22.8119 - val_acc: 0.1111\n",
            "Epoch 357/500\n",
            "4/4 [==============================] - 0s 14ms/step - loss: 0.0941 - acc: 0.9758 - val_loss: 23.0294 - val_acc: 0.1111\n",
            "Epoch 358/500\n",
            "4/4 [==============================] - 0s 12ms/step - loss: 0.1219 - acc: 0.9597 - val_loss: 23.0359 - val_acc: 0.1111\n",
            "Epoch 359/500\n",
            "4/4 [==============================] - 0s 14ms/step - loss: 0.1362 - acc: 0.9597 - val_loss: 22.6603 - val_acc: 0.1111\n",
            "Epoch 360/500\n",
            "4/4 [==============================] - 0s 14ms/step - loss: 0.1787 - acc: 0.9274 - val_loss: 23.2020 - val_acc: 0.1111\n",
            "Epoch 361/500\n",
            "4/4 [==============================] - 0s 15ms/step - loss: 0.1759 - acc: 0.9435 - val_loss: 22.5643 - val_acc: 0.1111\n",
            "Epoch 362/500\n",
            "4/4 [==============================] - 0s 15ms/step - loss: 0.2591 - acc: 0.8952 - val_loss: 23.3079 - val_acc: 0.1111\n",
            "Epoch 363/500\n",
            "4/4 [==============================] - 0s 15ms/step - loss: 0.1773 - acc: 0.9516 - val_loss: 22.6940 - val_acc: 0.1111\n",
            "Epoch 364/500\n",
            "4/4 [==============================] - 0s 13ms/step - loss: 0.1323 - acc: 0.9274 - val_loss: 23.3494 - val_acc: 0.1111\n",
            "Epoch 365/500\n",
            "4/4 [==============================] - 0s 15ms/step - loss: 0.1270 - acc: 0.9597 - val_loss: 22.8959 - val_acc: 0.1111\n",
            "Epoch 366/500\n",
            "4/4 [==============================] - 0s 14ms/step - loss: 0.1060 - acc: 0.9597 - val_loss: 22.8525 - val_acc: 0.1111\n",
            "Epoch 367/500\n",
            "4/4 [==============================] - 0s 17ms/step - loss: 0.0935 - acc: 0.9677 - val_loss: 23.0385 - val_acc: 0.1111\n",
            "Epoch 368/500\n",
            "4/4 [==============================] - 0s 12ms/step - loss: 0.1047 - acc: 0.9758 - val_loss: 22.7066 - val_acc: 0.1111\n",
            "Epoch 369/500\n",
            "4/4 [==============================] - 0s 17ms/step - loss: 0.1565 - acc: 0.9194 - val_loss: 23.3360 - val_acc: 0.1111\n",
            "Epoch 370/500\n",
            "4/4 [==============================] - 0s 14ms/step - loss: 0.2052 - acc: 0.9516 - val_loss: 22.6202 - val_acc: 0.1111\n",
            "Epoch 371/500\n",
            "4/4 [==============================] - 0s 13ms/step - loss: 0.1175 - acc: 0.9516 - val_loss: 22.8594 - val_acc: 0.1111\n",
            "Epoch 372/500\n",
            "4/4 [==============================] - 0s 14ms/step - loss: 0.0986 - acc: 0.9516 - val_loss: 23.0136 - val_acc: 0.1111\n",
            "Epoch 373/500\n",
            "4/4 [==============================] - 0s 16ms/step - loss: 0.1045 - acc: 0.9597 - val_loss: 22.7756 - val_acc: 0.1111\n",
            "Epoch 374/500\n",
            "4/4 [==============================] - 0s 17ms/step - loss: 0.1045 - acc: 0.9758 - val_loss: 22.8384 - val_acc: 0.1111\n",
            "Epoch 375/500\n",
            "4/4 [==============================] - 0s 14ms/step - loss: 0.1329 - acc: 0.9355 - val_loss: 22.9049 - val_acc: 0.1111\n",
            "Epoch 376/500\n",
            "4/4 [==============================] - 0s 15ms/step - loss: 0.1122 - acc: 0.9758 - val_loss: 22.9546 - val_acc: 0.1111\n",
            "Epoch 377/500\n",
            "4/4 [==============================] - 0s 15ms/step - loss: 0.1053 - acc: 0.9597 - val_loss: 22.5753 - val_acc: 0.1111\n",
            "Epoch 378/500\n",
            "4/4 [==============================] - 0s 14ms/step - loss: 0.1304 - acc: 0.9435 - val_loss: 23.1421 - val_acc: 0.1111\n",
            "Epoch 379/500\n",
            "4/4 [==============================] - 0s 14ms/step - loss: 0.1603 - acc: 0.9435 - val_loss: 22.8544 - val_acc: 0.1111\n",
            "Epoch 380/500\n",
            "4/4 [==============================] - 0s 14ms/step - loss: 0.1365 - acc: 0.9597 - val_loss: 22.6235 - val_acc: 0.1111\n",
            "Epoch 381/500\n",
            "4/4 [==============================] - 0s 13ms/step - loss: 0.1077 - acc: 0.9435 - val_loss: 23.1235 - val_acc: 0.1111\n",
            "Epoch 382/500\n",
            "4/4 [==============================] - 0s 14ms/step - loss: 0.1196 - acc: 0.9758 - val_loss: 22.6663 - val_acc: 0.1111\n",
            "Epoch 383/500\n",
            "4/4 [==============================] - 0s 14ms/step - loss: 0.1430 - acc: 0.9274 - val_loss: 23.0961 - val_acc: 0.1111\n",
            "Epoch 384/500\n",
            "4/4 [==============================] - 0s 13ms/step - loss: 0.1269 - acc: 0.9435 - val_loss: 22.8348 - val_acc: 0.1111\n",
            "Epoch 385/500\n",
            "4/4 [==============================] - 0s 18ms/step - loss: 0.1013 - acc: 0.9597 - val_loss: 22.7799 - val_acc: 0.1111\n",
            "Epoch 386/500\n",
            "4/4 [==============================] - 0s 15ms/step - loss: 0.0961 - acc: 0.9597 - val_loss: 22.8906 - val_acc: 0.1111\n",
            "Epoch 387/500\n",
            "4/4 [==============================] - 0s 20ms/step - loss: 0.1220 - acc: 0.9758 - val_loss: 22.6870 - val_acc: 0.1111\n",
            "Epoch 388/500\n",
            "4/4 [==============================] - 0s 12ms/step - loss: 0.1026 - acc: 0.9355 - val_loss: 23.1471 - val_acc: 0.1111\n",
            "Epoch 389/500\n",
            "4/4 [==============================] - 0s 16ms/step - loss: 0.1512 - acc: 0.9597 - val_loss: 22.6410 - val_acc: 0.1111\n",
            "Epoch 390/500\n",
            "4/4 [==============================] - 0s 13ms/step - loss: 0.1469 - acc: 0.9355 - val_loss: 23.3292 - val_acc: 0.1111\n",
            "Epoch 391/500\n",
            "4/4 [==============================] - 0s 15ms/step - loss: 0.0839 - acc: 0.9677 - val_loss: 22.5535 - val_acc: 0.1111\n",
            "Epoch 392/500\n",
            "4/4 [==============================] - 0s 13ms/step - loss: 0.1123 - acc: 0.9677 - val_loss: 23.2854 - val_acc: 0.1111\n",
            "Epoch 393/500\n",
            "4/4 [==============================] - 0s 12ms/step - loss: 0.1066 - acc: 0.9677 - val_loss: 22.6559 - val_acc: 0.1111\n",
            "Epoch 394/500\n",
            "4/4 [==============================] - 0s 16ms/step - loss: 0.0970 - acc: 0.9597 - val_loss: 22.9524 - val_acc: 0.1111\n",
            "Epoch 395/500\n",
            "4/4 [==============================] - 0s 16ms/step - loss: 0.1034 - acc: 0.9758 - val_loss: 22.6434 - val_acc: 0.1111\n",
            "Epoch 396/500\n",
            "4/4 [==============================] - 0s 15ms/step - loss: 0.1321 - acc: 0.9355 - val_loss: 23.1117 - val_acc: 0.1111\n",
            "Epoch 397/500\n",
            "4/4 [==============================] - 0s 15ms/step - loss: 0.1108 - acc: 0.9677 - val_loss: 22.6222 - val_acc: 0.1111\n",
            "Epoch 398/500\n",
            "4/4 [==============================] - 0s 13ms/step - loss: 0.1221 - acc: 0.9355 - val_loss: 23.2697 - val_acc: 0.1111\n",
            "Epoch 399/500\n",
            "4/4 [==============================] - 0s 14ms/step - loss: 0.1336 - acc: 0.9597 - val_loss: 22.5971 - val_acc: 0.1111\n",
            "Epoch 400/500\n",
            "4/4 [==============================] - 0s 13ms/step - loss: 0.1473 - acc: 0.9355 - val_loss: 23.5644 - val_acc: 0.1111\n",
            "Epoch 401/500\n",
            "4/4 [==============================] - 0s 13ms/step - loss: 0.1166 - acc: 0.9677 - val_loss: 22.7911 - val_acc: 0.1111\n",
            "Epoch 402/500\n",
            "4/4 [==============================] - 0s 14ms/step - loss: 0.1242 - acc: 0.9435 - val_loss: 23.4126 - val_acc: 0.1111\n",
            "Epoch 403/500\n",
            "4/4 [==============================] - 0s 20ms/step - loss: 0.1157 - acc: 0.9435 - val_loss: 22.7714 - val_acc: 0.1111\n",
            "Epoch 404/500\n",
            "4/4 [==============================] - 0s 16ms/step - loss: 0.1025 - acc: 0.9758 - val_loss: 23.2145 - val_acc: 0.1111\n",
            "Epoch 405/500\n",
            "4/4 [==============================] - 0s 15ms/step - loss: 0.0968 - acc: 0.9758 - val_loss: 22.8985 - val_acc: 0.1111\n",
            "Epoch 406/500\n",
            "4/4 [==============================] - 0s 13ms/step - loss: 0.0865 - acc: 0.9758 - val_loss: 23.0441 - val_acc: 0.1111\n",
            "Epoch 407/500\n",
            "4/4 [==============================] - 0s 13ms/step - loss: 0.0923 - acc: 0.9839 - val_loss: 23.0963 - val_acc: 0.1111\n",
            "Epoch 408/500\n",
            "4/4 [==============================] - 0s 15ms/step - loss: 0.0880 - acc: 0.9758 - val_loss: 22.9003 - val_acc: 0.1111\n",
            "Epoch 409/500\n",
            "4/4 [==============================] - 0s 16ms/step - loss: 0.0935 - acc: 0.9597 - val_loss: 23.1993 - val_acc: 0.1111\n",
            "Epoch 410/500\n",
            "4/4 [==============================] - 0s 16ms/step - loss: 0.1080 - acc: 0.9435 - val_loss: 23.1260 - val_acc: 0.1111\n",
            "Epoch 411/500\n",
            "4/4 [==============================] - 0s 13ms/step - loss: 0.1130 - acc: 0.9677 - val_loss: 22.7842 - val_acc: 0.1111\n",
            "Epoch 412/500\n",
            "4/4 [==============================] - 0s 15ms/step - loss: 0.1128 - acc: 0.9597 - val_loss: 23.4000 - val_acc: 0.1111\n",
            "Epoch 413/500\n",
            "4/4 [==============================] - 0s 13ms/step - loss: 0.1088 - acc: 0.9677 - val_loss: 22.7554 - val_acc: 0.1111\n",
            "Epoch 414/500\n",
            "4/4 [==============================] - 0s 16ms/step - loss: 0.1766 - acc: 0.9194 - val_loss: 23.4285 - val_acc: 0.1111\n",
            "Epoch 415/500\n",
            "4/4 [==============================] - 0s 18ms/step - loss: 0.1102 - acc: 0.9435 - val_loss: 23.1443 - val_acc: 0.1111\n",
            "Epoch 416/500\n",
            "4/4 [==============================] - 0s 14ms/step - loss: 0.1154 - acc: 0.9677 - val_loss: 23.3544 - val_acc: 0.1111\n",
            "Epoch 417/500\n",
            "4/4 [==============================] - 0s 15ms/step - loss: 0.0883 - acc: 0.9597 - val_loss: 23.1959 - val_acc: 0.1111\n",
            "Epoch 418/500\n",
            "4/4 [==============================] - 0s 14ms/step - loss: 0.0893 - acc: 0.9677 - val_loss: 23.6052 - val_acc: 0.1111\n",
            "Epoch 419/500\n",
            "4/4 [==============================] - 0s 14ms/step - loss: 0.0845 - acc: 0.9839 - val_loss: 23.1814 - val_acc: 0.1111\n",
            "Epoch 420/500\n",
            "4/4 [==============================] - 0s 15ms/step - loss: 0.0926 - acc: 0.9677 - val_loss: 23.5272 - val_acc: 0.1111\n",
            "Epoch 421/500\n",
            "4/4 [==============================] - 0s 15ms/step - loss: 0.1336 - acc: 0.9597 - val_loss: 22.8701 - val_acc: 0.1111\n",
            "Epoch 422/500\n",
            "4/4 [==============================] - 0s 13ms/step - loss: 0.1030 - acc: 0.9435 - val_loss: 23.4018 - val_acc: 0.1111\n",
            "Epoch 423/500\n",
            "4/4 [==============================] - 0s 19ms/step - loss: 0.1165 - acc: 0.9677 - val_loss: 22.8822 - val_acc: 0.1111\n",
            "Epoch 424/500\n",
            "4/4 [==============================] - 0s 14ms/step - loss: 0.0996 - acc: 0.9355 - val_loss: 23.6344 - val_acc: 0.1111\n",
            "Epoch 425/500\n",
            "4/4 [==============================] - 0s 14ms/step - loss: 0.0990 - acc: 0.9758 - val_loss: 22.9401 - val_acc: 0.1111\n",
            "Epoch 426/500\n",
            "4/4 [==============================] - 0s 13ms/step - loss: 0.1426 - acc: 0.9355 - val_loss: 23.9520 - val_acc: 0.1111\n",
            "Epoch 427/500\n",
            "4/4 [==============================] - 0s 15ms/step - loss: 0.1292 - acc: 0.9435 - val_loss: 23.1695 - val_acc: 0.1111\n",
            "Epoch 428/500\n",
            "4/4 [==============================] - 0s 20ms/step - loss: 0.1820 - acc: 0.9355 - val_loss: 23.3348 - val_acc: 0.1111\n",
            "Epoch 429/500\n",
            "4/4 [==============================] - 0s 17ms/step - loss: 0.1555 - acc: 0.9194 - val_loss: 23.3582 - val_acc: 0.1111\n",
            "Epoch 430/500\n",
            "4/4 [==============================] - 0s 14ms/step - loss: 0.1807 - acc: 0.9355 - val_loss: 22.8922 - val_acc: 0.1111\n",
            "Epoch 431/500\n",
            "4/4 [==============================] - 0s 16ms/step - loss: 0.1794 - acc: 0.9194 - val_loss: 23.9570 - val_acc: 0.1111\n",
            "Epoch 432/500\n",
            "4/4 [==============================] - 0s 15ms/step - loss: 0.1294 - acc: 0.9597 - val_loss: 22.9627 - val_acc: 0.1111\n",
            "Epoch 433/500\n",
            "4/4 [==============================] - 0s 17ms/step - loss: 0.1563 - acc: 0.9194 - val_loss: 24.6522 - val_acc: 0.1111\n",
            "Epoch 434/500\n",
            "4/4 [==============================] - 0s 13ms/step - loss: 0.1654 - acc: 0.9274 - val_loss: 22.8452 - val_acc: 0.0926\n",
            "Epoch 435/500\n",
            "4/4 [==============================] - 0s 15ms/step - loss: 0.2285 - acc: 0.9032 - val_loss: 24.8117 - val_acc: 0.1111\n",
            "Epoch 436/500\n",
            "4/4 [==============================] - 0s 14ms/step - loss: 0.2553 - acc: 0.9194 - val_loss: 22.9794 - val_acc: 0.1111\n",
            "Epoch 437/500\n",
            "4/4 [==============================] - 0s 14ms/step - loss: 0.1673 - acc: 0.9516 - val_loss: 23.8507 - val_acc: 0.1111\n",
            "Epoch 438/500\n",
            "4/4 [==============================] - 0s 16ms/step - loss: 0.1522 - acc: 0.9435 - val_loss: 23.3858 - val_acc: 0.1111\n",
            "Epoch 439/500\n",
            "4/4 [==============================] - 0s 14ms/step - loss: 0.1162 - acc: 0.9677 - val_loss: 23.7112 - val_acc: 0.1111\n",
            "Epoch 440/500\n",
            "4/4 [==============================] - 0s 15ms/step - loss: 0.0613 - acc: 0.9839 - val_loss: 22.8955 - val_acc: 0.1111\n",
            "Epoch 441/500\n",
            "4/4 [==============================] - 0s 14ms/step - loss: 0.1986 - acc: 0.9194 - val_loss: 24.0132 - val_acc: 0.1111\n",
            "Epoch 442/500\n",
            "4/4 [==============================] - 0s 16ms/step - loss: 0.1002 - acc: 0.9677 - val_loss: 23.0541 - val_acc: 0.1111\n",
            "Epoch 443/500\n",
            "4/4 [==============================] - 0s 16ms/step - loss: 0.1226 - acc: 0.9516 - val_loss: 24.0349 - val_acc: 0.1111\n",
            "Epoch 444/500\n",
            "4/4 [==============================] - 0s 13ms/step - loss: 0.1380 - acc: 0.9516 - val_loss: 23.1683 - val_acc: 0.1111\n",
            "Epoch 445/500\n",
            "4/4 [==============================] - 0s 14ms/step - loss: 0.1296 - acc: 0.9677 - val_loss: 23.4324 - val_acc: 0.1111\n",
            "Epoch 446/500\n",
            "4/4 [==============================] - 0s 15ms/step - loss: 0.1145 - acc: 0.9355 - val_loss: 23.3625 - val_acc: 0.1111\n",
            "Epoch 447/500\n",
            "4/4 [==============================] - 0s 20ms/step - loss: 0.0952 - acc: 0.9758 - val_loss: 23.1775 - val_acc: 0.1111\n",
            "Epoch 448/500\n",
            "4/4 [==============================] - 0s 16ms/step - loss: 0.1233 - acc: 0.9355 - val_loss: 23.6297 - val_acc: 0.1111\n",
            "Epoch 449/500\n",
            "4/4 [==============================] - 0s 15ms/step - loss: 0.0994 - acc: 0.9839 - val_loss: 22.9401 - val_acc: 0.1111\n",
            "Epoch 450/500\n",
            "4/4 [==============================] - 0s 15ms/step - loss: 0.1284 - acc: 0.9435 - val_loss: 23.6238 - val_acc: 0.1111\n",
            "Epoch 451/500\n",
            "4/4 [==============================] - 0s 14ms/step - loss: 0.1732 - acc: 0.9355 - val_loss: 23.3320 - val_acc: 0.1111\n",
            "Epoch 452/500\n",
            "4/4 [==============================] - 0s 15ms/step - loss: 0.1135 - acc: 0.9597 - val_loss: 23.2497 - val_acc: 0.1111\n",
            "Epoch 453/500\n",
            "4/4 [==============================] - 0s 13ms/step - loss: 0.1197 - acc: 0.9516 - val_loss: 23.5210 - val_acc: 0.1111\n",
            "Epoch 454/500\n",
            "4/4 [==============================] - 0s 15ms/step - loss: 0.0908 - acc: 0.9758 - val_loss: 23.0503 - val_acc: 0.1111\n",
            "Epoch 455/500\n",
            "4/4 [==============================] - 0s 13ms/step - loss: 0.1057 - acc: 0.9355 - val_loss: 23.8890 - val_acc: 0.1111\n",
            "Epoch 456/500\n",
            "4/4 [==============================] - 0s 13ms/step - loss: 0.1478 - acc: 0.9274 - val_loss: 22.7271 - val_acc: 0.1111\n",
            "Epoch 457/500\n",
            "4/4 [==============================] - 0s 18ms/step - loss: 0.1430 - acc: 0.9355 - val_loss: 23.8116 - val_acc: 0.1111\n",
            "Epoch 458/500\n",
            "4/4 [==============================] - 0s 14ms/step - loss: 0.1397 - acc: 0.9597 - val_loss: 22.7251 - val_acc: 0.1111\n",
            "Epoch 459/500\n",
            "4/4 [==============================] - 0s 15ms/step - loss: 0.1309 - acc: 0.9516 - val_loss: 23.5237 - val_acc: 0.1111\n",
            "Epoch 460/500\n",
            "4/4 [==============================] - 0s 14ms/step - loss: 0.0873 - acc: 0.9677 - val_loss: 22.7880 - val_acc: 0.1111\n",
            "Epoch 461/500\n",
            "4/4 [==============================] - 0s 17ms/step - loss: 0.1045 - acc: 0.9516 - val_loss: 24.2939 - val_acc: 0.1111\n",
            "Epoch 462/500\n",
            "4/4 [==============================] - 0s 18ms/step - loss: 0.1805 - acc: 0.9274 - val_loss: 22.8714 - val_acc: 0.1111\n",
            "Epoch 463/500\n",
            "4/4 [==============================] - 0s 15ms/step - loss: 0.1306 - acc: 0.9435 - val_loss: 23.8546 - val_acc: 0.1111\n",
            "Epoch 464/500\n",
            "4/4 [==============================] - 0s 13ms/step - loss: 0.1184 - acc: 0.9677 - val_loss: 22.9326 - val_acc: 0.1111\n",
            "Epoch 465/500\n",
            "4/4 [==============================] - 0s 18ms/step - loss: 0.1473 - acc: 0.9516 - val_loss: 23.2812 - val_acc: 0.1111\n",
            "Epoch 466/500\n",
            "4/4 [==============================] - 0s 18ms/step - loss: 0.0904 - acc: 0.9516 - val_loss: 22.7908 - val_acc: 0.1111\n",
            "Epoch 467/500\n",
            "4/4 [==============================] - 0s 14ms/step - loss: 0.2752 - acc: 0.8871 - val_loss: 22.7266 - val_acc: 0.1111\n",
            "Epoch 468/500\n",
            "4/4 [==============================] - 0s 15ms/step - loss: 0.1516 - acc: 0.9274 - val_loss: 23.0679 - val_acc: 0.1111\n",
            "Epoch 469/500\n",
            "4/4 [==============================] - 0s 14ms/step - loss: 0.2015 - acc: 0.9435 - val_loss: 22.7514 - val_acc: 0.1111\n",
            "Epoch 470/500\n",
            "4/4 [==============================] - 0s 17ms/step - loss: 0.2574 - acc: 0.8871 - val_loss: 23.9754 - val_acc: 0.1111\n",
            "Epoch 471/500\n",
            "4/4 [==============================] - 0s 16ms/step - loss: 0.1217 - acc: 0.9677 - val_loss: 22.9429 - val_acc: 0.1111\n",
            "Epoch 472/500\n",
            "4/4 [==============================] - 0s 15ms/step - loss: 0.1507 - acc: 0.9355 - val_loss: 24.5729 - val_acc: 0.1111\n",
            "Epoch 473/500\n",
            "4/4 [==============================] - 0s 13ms/step - loss: 0.1513 - acc: 0.9355 - val_loss: 22.8511 - val_acc: 0.1111\n",
            "Epoch 474/500\n",
            "4/4 [==============================] - 0s 16ms/step - loss: 0.1190 - acc: 0.9435 - val_loss: 24.1421 - val_acc: 0.1111\n",
            "Epoch 475/500\n",
            "4/4 [==============================] - 0s 14ms/step - loss: 0.1284 - acc: 0.9677 - val_loss: 22.7238 - val_acc: 0.1111\n",
            "Epoch 476/500\n",
            "4/4 [==============================] - 0s 13ms/step - loss: 0.1671 - acc: 0.9274 - val_loss: 24.0004 - val_acc: 0.1111\n",
            "Epoch 477/500\n",
            "4/4 [==============================] - 0s 13ms/step - loss: 0.1287 - acc: 0.9597 - val_loss: 23.0066 - val_acc: 0.1111\n",
            "Epoch 478/500\n",
            "4/4 [==============================] - 0s 16ms/step - loss: 0.1525 - acc: 0.9516 - val_loss: 23.4313 - val_acc: 0.1111\n",
            "Epoch 479/500\n",
            "4/4 [==============================] - 0s 16ms/step - loss: 0.1107 - acc: 0.9516 - val_loss: 22.9600 - val_acc: 0.1111\n",
            "Epoch 480/500\n",
            "4/4 [==============================] - 0s 14ms/step - loss: 0.1025 - acc: 0.9677 - val_loss: 23.4529 - val_acc: 0.1111\n",
            "Epoch 481/500\n",
            "4/4 [==============================] - 0s 15ms/step - loss: 0.1056 - acc: 0.9597 - val_loss: 23.0562 - val_acc: 0.1111\n",
            "Epoch 482/500\n",
            "4/4 [==============================] - 0s 14ms/step - loss: 0.1335 - acc: 0.9435 - val_loss: 23.1963 - val_acc: 0.1111\n",
            "Epoch 483/500\n",
            "4/4 [==============================] - 0s 13ms/step - loss: 0.0949 - acc: 0.9516 - val_loss: 23.0667 - val_acc: 0.1111\n",
            "Epoch 484/500\n",
            "4/4 [==============================] - 0s 12ms/step - loss: 0.1045 - acc: 0.9677 - val_loss: 23.1125 - val_acc: 0.1111\n",
            "Epoch 485/500\n",
            "4/4 [==============================] - 0s 12ms/step - loss: 0.1124 - acc: 0.9516 - val_loss: 23.3626 - val_acc: 0.1111\n",
            "Epoch 486/500\n",
            "4/4 [==============================] - 0s 11ms/step - loss: 0.1123 - acc: 0.9677 - val_loss: 23.1211 - val_acc: 0.1111\n",
            "Epoch 487/500\n",
            "4/4 [==============================] - 0s 11ms/step - loss: 0.1261 - acc: 0.9758 - val_loss: 22.9302 - val_acc: 0.1111\n",
            "Epoch 488/500\n",
            "4/4 [==============================] - 0s 12ms/step - loss: 0.0967 - acc: 0.9516 - val_loss: 23.2112 - val_acc: 0.1111\n",
            "Epoch 489/500\n",
            "4/4 [==============================] - 0s 10ms/step - loss: 0.1019 - acc: 0.9516 - val_loss: 23.1375 - val_acc: 0.1111\n",
            "Epoch 490/500\n",
            "4/4 [==============================] - 0s 11ms/step - loss: 0.1025 - acc: 0.9758 - val_loss: 22.8641 - val_acc: 0.1111\n",
            "Epoch 491/500\n",
            "4/4 [==============================] - 0s 13ms/step - loss: 0.1538 - acc: 0.9516 - val_loss: 23.2745 - val_acc: 0.1111\n",
            "Epoch 492/500\n",
            "4/4 [==============================] - 0s 12ms/step - loss: 0.0703 - acc: 0.9839 - val_loss: 22.7327 - val_acc: 0.1111\n",
            "Epoch 493/500\n",
            "4/4 [==============================] - 0s 12ms/step - loss: 0.1116 - acc: 0.9516 - val_loss: 23.2708 - val_acc: 0.1111\n",
            "Epoch 494/500\n",
            "4/4 [==============================] - 0s 12ms/step - loss: 0.0927 - acc: 0.9758 - val_loss: 22.8425 - val_acc: 0.1111\n",
            "Epoch 495/500\n",
            "4/4 [==============================] - 0s 11ms/step - loss: 0.0986 - acc: 0.9597 - val_loss: 23.1908 - val_acc: 0.1111\n",
            "Epoch 496/500\n",
            "4/4 [==============================] - 0s 10ms/step - loss: 0.1041 - acc: 0.9435 - val_loss: 23.2221 - val_acc: 0.1111\n",
            "Epoch 497/500\n",
            "4/4 [==============================] - 0s 11ms/step - loss: 0.0922 - acc: 0.9839 - val_loss: 23.1020 - val_acc: 0.1111\n",
            "Epoch 498/500\n",
            "4/4 [==============================] - 0s 13ms/step - loss: 0.0914 - acc: 0.9758 - val_loss: 23.0827 - val_acc: 0.1111\n",
            "Epoch 499/500\n",
            "4/4 [==============================] - 0s 19ms/step - loss: 0.0845 - acc: 0.9758 - val_loss: 22.8367 - val_acc: 0.1111\n",
            "Epoch 500/500\n",
            "4/4 [==============================] - 0s 12ms/step - loss: 0.0900 - acc: 0.9677 - val_loss: 22.9039 - val_acc: 0.1111\n"
          ],
          "name": "stdout"
        },
        {
          "output_type": "execute_result",
          "data": {
            "text/plain": [
              "<tensorflow.python.keras.callbacks.History at 0x7fd1d80ccc10>"
            ]
          },
          "metadata": {
            "tags": []
          },
          "execution_count": 54
        }
      ]
    },
    {
      "cell_type": "markdown",
      "metadata": {
        "id": "BS74_j0zqB40"
      },
      "source": [
        "# evaluation"
      ]
    },
    {
      "cell_type": "code",
      "metadata": {
        "colab": {
          "base_uri": "https://localhost:8080/"
        },
        "id": "0-ySQexAp23C",
        "outputId": "b4651dd8-d492-4a70-c9d8-6335dd411fef"
      },
      "source": [
        "model.evaluate(x_data, y_data)"
      ],
      "execution_count": 55,
      "outputs": [
        {
          "output_type": "stream",
          "text": [
            "6/6 [==============================] - 0s 2ms/step - loss: 7.0011 - acc: 0.7191\n"
          ],
          "name": "stdout"
        },
        {
          "output_type": "execute_result",
          "data": {
            "text/plain": [
              "[7.001112461090088, 0.7191011309623718]"
            ]
          },
          "metadata": {
            "tags": []
          },
          "execution_count": 55
        }
      ]
    },
    {
      "cell_type": "markdown",
      "metadata": {
        "id": "ocTIFEM-qM_l"
      },
      "source": [
        "* dense : 64, dense1 : 24, epochs : 50 --> loss: 8.3743 - acc: 0.6629 [8.374309539794922, 0.6629213690757751]\n",
        "* dense : 64, dense1 : 24, epochs : 100 --> loss: 7.7834 - acc: 0.6910 [7.783389091491699, 0.6910112500190735]   val_loss: 25.3287 - val_acc: 0.1111\n",
        "* dense : 48, dense1 : 24, epochs : 500 --> loss: 22.7629 - acc: 0.7079   [22.76287841796875, 0.7078651785850525]   acc: 0.9677 - val_loss: 74.8429 - val_acc: 0.1111\n",
        "* dense : 64, dense1 : 48, epochs : 500 --> loss: 11.5153 - acc: 0.7191   [11.515317916870117, 0.7191011309623718]   acc: 0.9516 - val_loss: 37.7901 - val_acc: 0.1111\n",
        "* dense : 64, dense1 : 48, epochs : 1000 --> loss: 13.2306 - acc: 0.7135   [13.230615615844727, 0.7134831547737122]    acc: 0.9839 - val_loss: 43.4997 - val_acc: 0.1111\n",
        "* dense : 64, dense1 : 36, epochs : 500 --> loss: 7.0011 - acc: 0.7191  [7.001112461090088, 0.7191011309623718]   acc: 0.9677 - val_loss: 22.9039 - val_acc: 0.1111\n",
        "\n",
        "* dense : 64, dense1 : 24, epochs : 500 --> loss: 6.9521 - acc: 0.7191  [6.952107906341553, 0.7191011309623718]  val_loss: 22.7861 - val_acc: 0.1111\n",
        "* dense : 64, dense1 : 24, dense2 : 64 epochs : 100 --> loss: 2.0083 - acc: 0.7022   [2.008345365524292, 0.7022472023963928]     acc: 0.9839 - val_loss: 6.3024 - val_acc: 0.\n",
        "* dense : 64, dense1 : 24, dense2 : 64 dense3 : 24 epochs : 100 --> loss: 1.6846 - acc: 0.5506   [1.6846214532852173, 0.550561785697937]    acc: 0.7500 - val_loss: 4.4220 - val_acc: 0.0926"
      ]
    },
    {
      "cell_type": "code",
      "metadata": {
        "colab": {
          "base_uri": "https://localhost:8080/"
        },
        "id": "O4TscYglqHhr",
        "outputId": "7c4ac233-37ed-4d2a-a436-2741e2e414c2"
      },
      "source": [
        "x_data[38]"
      ],
      "execution_count": 56,
      "outputs": [
        {
          "output_type": "execute_result",
          "data": {
            "text/plain": [
              "array([1.307e+01, 1.500e+00, 2.100e+00, 1.550e+01, 9.800e+01, 2.400e+00,\n",
              "       2.640e+00, 2.800e-01, 1.370e+00, 3.700e+00, 1.180e+00, 2.690e+00,\n",
              "       1.020e+03])"
            ]
          },
          "metadata": {
            "tags": []
          },
          "execution_count": 56
        }
      ]
    },
    {
      "cell_type": "code",
      "metadata": {
        "colab": {
          "base_uri": "https://localhost:8080/"
        },
        "id": "ALntionStw89",
        "outputId": "1676e63c-2972-4ed1-9a89-48e65b679299"
      },
      "source": [
        "y_data[38]"
      ],
      "execution_count": 57,
      "outputs": [
        {
          "output_type": "execute_result",
          "data": {
            "text/plain": [
              "array([0])"
            ]
          },
          "metadata": {
            "tags": []
          },
          "execution_count": 57
        }
      ]
    },
    {
      "cell_type": "code",
      "metadata": {
        "colab": {
          "base_uri": "https://localhost:8080/"
        },
        "id": "uFrXZTmUuadb",
        "outputId": "1d50f035-5227-4644-ac2e-a9c90866df70"
      },
      "source": [
        "pred = model.predict([[1.307e+01, 1.500e+00, 2.100e+00, 1.550e+01, 9.800e+01, 2.400e+00,\n",
        "       2.640e+00, 2.800e-01, 1.370e+00, 3.700e+00, 1.180e+00, 2.690e+00,\n",
        "       1.020e+03]])\n",
        "pred"
      ],
      "execution_count": 58,
      "outputs": [
        {
          "output_type": "execute_result",
          "data": {
            "text/plain": [
              "array([[9.9747258e-01, 2.5273964e-03, 5.4945900e-16]], dtype=float32)"
            ]
          },
          "metadata": {
            "tags": []
          },
          "execution_count": 58
        }
      ]
    },
    {
      "cell_type": "code",
      "metadata": {
        "colab": {
          "base_uri": "https://localhost:8080/"
        },
        "id": "O4fbVsrIu5vy",
        "outputId": "8705814c-311b-40d3-ea13-37367377259e"
      },
      "source": [
        "np.argmax(pred)"
      ],
      "execution_count": 59,
      "outputs": [
        {
          "output_type": "execute_result",
          "data": {
            "text/plain": [
              "0"
            ]
          },
          "metadata": {
            "tags": []
          },
          "execution_count": 59
        }
      ]
    },
    {
      "cell_type": "code",
      "metadata": {
        "id": "Td50a5Z3u6VE"
      },
      "source": [
        ""
      ],
      "execution_count": 59,
      "outputs": []
    }
  ]
}